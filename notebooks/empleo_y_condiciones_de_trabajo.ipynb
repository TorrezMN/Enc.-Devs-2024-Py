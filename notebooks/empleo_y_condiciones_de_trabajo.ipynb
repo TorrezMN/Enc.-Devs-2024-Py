{
 "cells": [
  {
   "cell_type": "code",
   "execution_count": null,
   "id": "5c2ff166-cc00-4e4e-b37a-b7a1083e45e6",
   "metadata": {},
   "outputs": [],
   "source": [
    "#######################\n",
    "# CONFIG ZONE\n",
    "#######################\n",
    "\n",
    "# Importing Libs\n",
    "import pandas as pd\n",
    "import seaborn as sns\n",
    "\n",
    "import matplotlib.pyplot as plt\n",
    "\n",
    "from collections import Counter\n",
    "import numpy as np\n",
    "\n",
    "# My Tools\n",
    "import milanesas.eda_helper as eh\n",
    "from tools.helpers import (\n",
    "    get_column_uniques,\n",
    "    get_column_uniques_count,\n",
    "    plot_grouped_by_category_barh_charts,\n",
    "    barh_chart_unique_values,\n",
    "    print_unique_normalized_values_by_group,\n",
    "    make_horizontal_grouped_chart,\n",
    "    make_vertical_grouped_chart,\n",
    "    grouped_grid_pie_chart,\n",
    "    grouped_grid_barh_chart,\n",
    "    create_grouped_dataframe_list,\n",
    "    uniques_count_to_dataframe,\n",
    "    barh_chart_normal_count,\n",
    ")\n",
    "\n",
    "\n",
    "%matplotlib inline\n",
    "\n",
    "# Reseting figure size params.\n",
    "plt.rcParams[\"figure.figsize\"] = [12, 7]\n",
    "# Setting seaborn as default plotting lib.\n",
    "sns.set()\n",
    "sns.set_palette(\"pastel\")"
   ]
  },
  {
   "cell_type": "code",
   "execution_count": 1,
   "id": "aa6eaee3-fcdf-4ce6-9bdf-0a1a8300fc67",
   "metadata": {},
   "outputs": [],
   "source": [
    "df = pd.read_csv(\"../data/data_fixed.csv\")"
   ]
  },
  {
   "cell_type": "code",
   "execution_count": 2,
   "id": "113215ba-4071-470d-b840-17149351a601",
   "metadata": {},
   "outputs": [
    {
     "data": {
      "text/plain": [
       "Index(['work_mode', 'employment_mode', 'role', 'prog_skills_in_role',\n",
       "       'code_for_job', 'IT_exp', 'prof_prog_exp', 'first_code',\n",
       "       'assigned_seniority', 'self_assessed_seniority', 'formal_edu', 'majors',\n",
       "       'formal_edu_importance', 'gender', 'age', 'monthly_salary',\n",
       "       'pro_languages', 'web_frameworks', 'other_tools', 'databases',\n",
       "       'platforms', 'fav_language', 'least_fav_language', 'fav_framework',\n",
       "       'least_fav_framework', 'tools', 'use_AI_tools', 'AI_replace_dev',\n",
       "       'layoffs_23_24', 'working_now', 'unemployed_duration', 'same_role',\n",
       "       'current_vs_prev_salary'],\n",
       "      dtype='object')"
      ]
     },
     "execution_count": 2,
     "metadata": {},
     "output_type": "execute_result"
    }
   ],
   "source": [
    "df = df.drop(\"Unnamed: 0\", axis=1)\n",
    "df.columns"
   ]
  },
  {
   "cell_type": "code",
   "execution_count": 3,
   "id": "4b8812d3-36df-4956-978b-ea417e7d7bfc",
   "metadata": {},
   "outputs": [],
   "source": [
    "df = df.dropna()"
   ]
  },
  {
   "cell_type": "markdown",
   "id": "131d9b0f-65a2-4127-860e-08ea156ec212",
   "metadata": {},
   "source": [
    "### 2. **Employment and Work Conditions**\n",
    "   - Modalidad de trabajo\n",
    "   - Modalidad de empleo\n",
    "   - Puesto / rol\n",
    "   - ¿Utilizás habilidades de programación en alguno de los siguientes roles/puestos?\n",
    "   - ¿Codificás por trabajo?\n",
    "   - ¿Qué nivel te asignaron en tu trabajo?\n",
    "   - ¿Cuál considerás que es tu nivel en tu puesto?"
   ]
  },
  {
   "cell_type": "markdown",
   "id": "6d0c997e-ad52-4b50-89bd-46ad4dfe2877",
   "metadata": {},
   "source": [
    "\n",
    "## Modalidad de trabajo\n"
   ]
  },
  {
   "cell_type": "code",
   "execution_count": 4,
   "id": "32220b5e-7e75-4479-9fbd-13dcb412b4fe",
   "metadata": {},
   "outputs": [
    {
     "data": {
      "text/plain": [
       "Index(['work_mode', 'employment_mode', 'role', 'prog_skills_in_role',\n",
       "       'code_for_job', 'IT_exp', 'prof_prog_exp', 'first_code',\n",
       "       'assigned_seniority', 'self_assessed_seniority', 'formal_edu', 'majors',\n",
       "       'formal_edu_importance', 'gender', 'age', 'monthly_salary',\n",
       "       'pro_languages', 'web_frameworks', 'other_tools', 'databases',\n",
       "       'platforms', 'fav_language', 'least_fav_language', 'fav_framework',\n",
       "       'least_fav_framework', 'tools', 'use_AI_tools', 'AI_replace_dev',\n",
       "       'layoffs_23_24', 'working_now', 'unemployed_duration', 'same_role',\n",
       "       'current_vs_prev_salary'],\n",
       "      dtype='object')"
      ]
     },
     "execution_count": 4,
     "metadata": {},
     "output_type": "execute_result"
    }
   ],
   "source": [
    "df.columns"
   ]
  },
  {
   "cell_type": "code",
   "execution_count": 5,
   "id": "806d5d6b-922f-4491-a84b-d84c7cd725b7",
   "metadata": {},
   "outputs": [
    {
     "data": {
      "text/plain": [
       "['remote', 'none', 'Hibrído', 'onsite']"
      ]
     },
     "execution_count": 5,
     "metadata": {},
     "output_type": "execute_result"
    }
   ],
   "source": [
    "get_column_uniques(df, \"work_mode\")"
   ]
  },
  {
   "cell_type": "code",
   "execution_count": 6,
   "id": "955a725e-527c-401c-9593-dc461c6a44a7",
   "metadata": {},
   "outputs": [
    {
     "name": "stdout",
     "output_type": "stream",
     "text": [
      "4\n",
      "1\n",
      "1\n",
      "1\n"
     ]
    }
   ],
   "source": [
    "for k, v in enumerate(get_column_uniques_count(df, \"work_mode\")):\n",
    "    print(v)"
   ]
  },
  {
   "cell_type": "code",
   "execution_count": 7,
   "id": "0194b6a1-efb1-4a90-a013-dae79398ac11",
   "metadata": {},
   "outputs": [
    {
     "data": {
      "image/png": "[encoded data removed]",
      "text/plain": [
       "<Figure size 900x600 with 1 Axes>"
      ]
     },
     "metadata": {},
     "output_type": "display_data"
    }
   ],
   "source": [
    "barh_chart_normal_count(\n",
    "    df, \"work_mode\", title=\"Work mode total count\", xlabel=\"count\", ylabel=\"Work Mode\"\n",
    ")"
   ]
  },
  {
   "cell_type": "markdown",
   "id": "2ad0351f-dd3f-490a-b9a6-e208f76a683d",
   "metadata": {},
   "source": [
    "## Modalidad de empleo\n"
   ]
  },
  {
   "cell_type": "code",
   "execution_count": 8,
   "id": "27040d49-90ef-47f8-80ee-8ffe1c52d119",
   "metadata": {},
   "outputs": [
    {
     "data": {
      "text/plain": [
       "Index(['work_mode', 'employment_mode', 'role', 'prog_skills_in_role',\n",
       "       'code_for_job', 'IT_exp', 'prof_prog_exp', 'first_code',\n",
       "       'assigned_seniority', 'self_assessed_seniority', 'formal_edu', 'majors',\n",
       "       'formal_edu_importance', 'gender', 'age', 'monthly_salary',\n",
       "       'pro_languages', 'web_frameworks', 'other_tools', 'databases',\n",
       "       'platforms', 'fav_language', 'least_fav_language', 'fav_framework',\n",
       "       'least_fav_framework', 'tools', 'use_AI_tools', 'AI_replace_dev',\n",
       "       'layoffs_23_24', 'working_now', 'unemployed_duration', 'same_role',\n",
       "       'current_vs_prev_salary'],\n",
       "      dtype='object')"
      ]
     },
     "execution_count": 8,
     "metadata": {},
     "output_type": "execute_result"
    }
   ],
   "source": [
    "df.columns"
   ]
  },
  {
   "cell_type": "markdown",
   "id": "d60da9da-1b05-4d3f-86f3-468e0aafe137",
   "metadata": {},
   "source": [
    "## Puesto / rol\n"
   ]
  },
  {
   "cell_type": "code",
   "execution_count": 10,
   "id": "98515567-74b9-4098-a325-5b12dd5d0921",
   "metadata": {},
   "outputs": [
    {
     "data": {
      "text/plain": [
       "Index(['work_mode', 'employment_mode', 'role', 'prog_skills_in_role',\n",
       "       'code_for_job', 'IT_exp', 'prof_prog_exp', 'first_code',\n",
       "       'assigned_seniority', 'self_assessed_seniority', 'formal_edu', 'majors',\n",
       "       'formal_edu_importance', 'gender', 'age', 'monthly_salary',\n",
       "       'pro_languages', 'web_frameworks', 'other_tools', 'databases',\n",
       "       'platforms', 'fav_language', 'least_fav_language', 'fav_framework',\n",
       "       'least_fav_framework', 'tools', 'use_AI_tools', 'AI_replace_dev',\n",
       "       'layoffs_23_24', 'working_now', 'unemployed_duration', 'same_role',\n",
       "       'current_vs_prev_salary'],\n",
       "      dtype='object')"
      ]
     },
     "execution_count": 10,
     "metadata": {},
     "output_type": "execute_result"
    }
   ],
   "source": [
    "df.columns"
   ]
  },
  {
   "cell_type": "code",
   "execution_count": 17,
   "id": "7fbdaf8f-6bc2-4922-a8f8-a6364d7e7268",
   "metadata": {},
   "outputs": [],
   "source": [
    "# Assuming get_column_uniques_count returns a Series object\n",
    "role_counts = get_column_uniques_count(df, \"role\")\n",
    "\n",
    "role_counts_df = uniques_count_to_dataframe(role_counts, 10)"
   ]
  },
  {
   "cell_type": "code",
   "execution_count": 18,
   "id": "b1917808-b797-48be-a982-7dd2f2721756",
   "metadata": {},
   "outputs": [
    {
     "data": {
      "text/html": [
       "<div>\n",
       "<style scoped>\n",
       "    .dataframe tbody tr th:only-of-type {\n",
       "        vertical-align: middle;\n",
       "    }\n",
       "\n",
       "    .dataframe tbody tr th {\n",
       "        vertical-align: top;\n",
       "    }\n",
       "\n",
       "    .dataframe thead th {\n",
       "        text-align: right;\n",
       "    }\n",
       "</style>\n",
       "<table border=\"1\" class=\"dataframe\">\n",
       "  <thead>\n",
       "    <tr style=\"text-align: right;\">\n",
       "      <th></th>\n",
       "      <th>role</th>\n",
       "      <th>count</th>\n",
       "    </tr>\n",
       "  </thead>\n",
       "  <tbody>\n",
       "    <tr>\n",
       "      <th>0</th>\n",
       "      <td>backend_dev</td>\n",
       "      <td>2</td>\n",
       "    </tr>\n",
       "    <tr>\n",
       "      <th>1</th>\n",
       "      <td>mobile_dev</td>\n",
       "      <td>2</td>\n",
       "    </tr>\n",
       "    <tr>\n",
       "      <th>2</th>\n",
       "      <td>backend_arch</td>\n",
       "      <td>1</td>\n",
       "    </tr>\n",
       "    <tr>\n",
       "      <th>3</th>\n",
       "      <td>db_admin</td>\n",
       "      <td>1</td>\n",
       "    </tr>\n",
       "    <tr>\n",
       "      <th>4</th>\n",
       "      <td>data_eng</td>\n",
       "      <td>1</td>\n",
       "    </tr>\n",
       "    <tr>\n",
       "      <th>5</th>\n",
       "      <td>quality_analyst</td>\n",
       "      <td>1</td>\n",
       "    </tr>\n",
       "    <tr>\n",
       "      <th>6</th>\n",
       "      <td>frontend_dev</td>\n",
       "      <td>1</td>\n",
       "    </tr>\n",
       "  </tbody>\n",
       "</table>\n",
       "</div>"
      ],
      "text/plain": [
       "               role  count\n",
       "0       backend_dev      2\n",
       "1        mobile_dev      2\n",
       "2      backend_arch      1\n",
       "3          db_admin      1\n",
       "4          data_eng      1\n",
       "5  quality_analyst       1\n",
       "6      frontend_dev      1"
      ]
     },
     "execution_count": 18,
     "metadata": {},
     "output_type": "execute_result"
    }
   ],
   "source": [
    "role_counts_df"
   ]
  },
  {
   "cell_type": "markdown",
   "id": "d59c2525-8293-420f-ad4b-a43d6e952ff4",
   "metadata": {},
   "source": [
    "## ¿Utilizás habilidades de programación en alguno de los siguientes roles/puestos?\n"
   ]
  },
  {
   "cell_type": "code",
   "execution_count": 19,
   "id": "e057bc22-cdc0-4aaa-bd05-2c84f59efc81",
   "metadata": {},
   "outputs": [
    {
     "data": {
      "text/plain": [
       "Index(['work_mode', 'employment_mode', 'role', 'prog_skills_in_role',\n",
       "       'code_for_job', 'IT_exp', 'prof_prog_exp', 'first_code',\n",
       "       'assigned_seniority', 'self_assessed_seniority', 'formal_edu', 'majors',\n",
       "       'formal_edu_importance', 'gender', 'age', 'monthly_salary',\n",
       "       'pro_languages', 'web_frameworks', 'other_tools', 'databases',\n",
       "       'platforms', 'fav_language', 'least_fav_language', 'fav_framework',\n",
       "       'least_fav_framework', 'tools', 'use_AI_tools', 'AI_replace_dev',\n",
       "       'layoffs_23_24', 'working_now', 'unemployed_duration', 'same_role',\n",
       "       'current_vs_prev_salary'],\n",
       "      dtype='object')"
      ]
     },
     "execution_count": 19,
     "metadata": {},
     "output_type": "execute_result"
    }
   ],
   "source": [
    "df.columns"
   ]
  },
  {
   "cell_type": "code",
   "execution_count": 20,
   "id": "112f2e5f-0b89-455e-8f02-75792d2eb99f",
   "metadata": {},
   "outputs": [
    {
     "data": {
      "text/plain": [
       "['devops_dataops',\n",
       " 'scientific_researcher',\n",
       " 'sys_admin',\n",
       " 'designer',\n",
       " 'educator']"
      ]
     },
     "execution_count": 20,
     "metadata": {},
     "output_type": "execute_result"
    }
   ],
   "source": [
    "get_column_uniques(df, \"prog_skills_in_role\")"
   ]
  },
  {
   "cell_type": "code",
   "execution_count": 21,
   "id": "74b4531d-2422-4ee8-b407-f2fa739e9d50",
   "metadata": {},
   "outputs": [],
   "source": [
    "# Get column uniques.\n",
    "prog_in_rol_uniques = get_column_uniques(df, \"prog_skills_in_role\")"
   ]
  },
  {
   "cell_type": "code",
   "execution_count": 22,
   "id": "3e1eb8ab-6287-4834-8de8-cf2bae9b2be1",
   "metadata": {},
   "outputs": [
    {
     "data": {
      "text/plain": [
       "['devops_dataops',\n",
       " 'scientific_researcher',\n",
       " 'sys_admin',\n",
       " 'designer',\n",
       " 'educator']"
      ]
     },
     "execution_count": 22,
     "metadata": {},
     "output_type": "execute_result"
    }
   ],
   "source": [
    "prog_in_rol_uniques"
   ]
  },
  {
   "cell_type": "code",
   "execution_count": 32,
   "id": "dc845671-89ee-439f-b1af-2ca4c5d38ddc",
   "metadata": {},
   "outputs": [],
   "source": [
    "# Obtenemos el conteo total por categoria.\n",
    "prog_in_role_count = get_column_uniques_count(df, \"prog_skills_in_role\")\n",
    "prog_in_role_df = uniques_count_to_dataframe(prog_in_role_count, 10)"
   ]
  },
  {
   "cell_type": "code",
   "execution_count": 33,
   "id": "97a7cf7a-bea5-44e7-8343-2eb8d4827e67",
   "metadata": {},
   "outputs": [
    {
     "data": {
      "text/plain": [
       "Index(['role', 'count'], dtype='object')"
      ]
     },
     "execution_count": 33,
     "metadata": {},
     "output_type": "execute_result"
    }
   ],
   "source": [
    "prog_in_role_df.columns"
   ]
  },
  {
   "cell_type": "code",
   "execution_count": null,
   "id": "a37ab0af-2e2a-4de3-a367-d8aa0d6ed960",
   "metadata": {},
   "outputs": [],
   "source": []
  },
  {
   "cell_type": "code",
   "execution_count": null,
   "id": "6f3ee1ef-0454-446e-8171-5bf7a277ff3f",
   "metadata": {},
   "outputs": [],
   "source": []
  },
  {
   "cell_type": "markdown",
   "id": "e660371f-bd20-437f-87ac-7a4adec60ac3",
   "metadata": {},
   "source": [
    "## ¿Codificás por trabajo?\n"
   ]
  },
  {
   "cell_type": "code",
   "execution_count": 35,
   "id": "27dbd1d0-9a6a-4774-baaa-311907bef516",
   "metadata": {},
   "outputs": [
    {
     "data": {
      "text/plain": [
       "Index(['work_mode', 'employment_mode', 'role', 'prog_skills_in_role',\n",
       "       'code_for_job', 'IT_exp', 'prof_prog_exp', 'first_code',\n",
       "       'assigned_seniority', 'self_assessed_seniority', 'formal_edu', 'majors',\n",
       "       'formal_edu_importance', 'gender', 'age', 'monthly_salary',\n",
       "       'pro_languages', 'web_frameworks', 'other_tools', 'databases',\n",
       "       'platforms', 'fav_language', 'least_fav_language', 'fav_framework',\n",
       "       'least_fav_framework', 'tools', 'use_AI_tools', 'AI_replace_dev',\n",
       "       'layoffs_23_24', 'working_now', 'unemployed_duration', 'same_role',\n",
       "       'current_vs_prev_salary'],\n",
       "      dtype='object')"
      ]
     },
     "execution_count": 35,
     "metadata": {},
     "output_type": "execute_result"
    }
   ],
   "source": [
    "df.columns"
   ]
  },
  {
   "cell_type": "code",
   "execution_count": 36,
   "id": "79021f40-5d06-429e-b816-56eb5c39074a",
   "metadata": {},
   "outputs": [
    {
     "data": {
      "text/plain": [
       "['Yes', 'No']"
      ]
     },
     "execution_count": 36,
     "metadata": {},
     "output_type": "execute_result"
    }
   ],
   "source": [
    "# Unique values in column.\n",
    "get_column_uniques(df, \"code_for_job\")"
   ]
  },
  {
   "cell_type": "code",
   "execution_count": 38,
   "id": "728cc928-db2b-4f9d-91b0-3545a16ea96f",
   "metadata": {},
   "outputs": [
    {
     "data": {
      "text/plain": [
       "code_for_job\n",
       "Yes    5\n",
       "No     2\n",
       "Name: count, dtype: int64"
      ]
     },
     "execution_count": 38,
     "metadata": {},
     "output_type": "execute_result"
    }
   ],
   "source": [
    "get_column_uniques_count(df, \"code_for_job\")"
   ]
  },
  {
   "cell_type": "code",
   "execution_count": null,
   "id": "f8b10f28-1a11-413b-9be3-594f5bb8624f",
   "metadata": {},
   "outputs": [],
   "source": []
  },
  {
   "cell_type": "markdown",
   "id": "c12e8d5d-8e08-4b60-aeb0-a6bba27249cb",
   "metadata": {},
   "source": [
    "## ¿Qué nivel te asignaron en tu trabajo?\n"
   ]
  },
  {
   "cell_type": "code",
   "execution_count": 39,
   "id": "54bcdc17-4643-478a-8110-949ae81e9dfc",
   "metadata": {},
   "outputs": [
    {
     "data": {
      "text/plain": [
       "Index(['work_mode', 'employment_mode', 'role', 'prog_skills_in_role',\n",
       "       'code_for_job', 'IT_exp', 'prof_prog_exp', 'first_code',\n",
       "       'assigned_seniority', 'self_assessed_seniority', 'formal_edu', 'majors',\n",
       "       'formal_edu_importance', 'gender', 'age', 'monthly_salary',\n",
       "       'pro_languages', 'web_frameworks', 'other_tools', 'databases',\n",
       "       'platforms', 'fav_language', 'least_fav_language', 'fav_framework',\n",
       "       'least_fav_framework', 'tools', 'use_AI_tools', 'AI_replace_dev',\n",
       "       'layoffs_23_24', 'working_now', 'unemployed_duration', 'same_role',\n",
       "       'current_vs_prev_salary'],\n",
       "      dtype='object')"
      ]
     },
     "execution_count": 39,
     "metadata": {},
     "output_type": "execute_result"
    }
   ],
   "source": [
    "df.columns"
   ]
  },
  {
   "cell_type": "code",
   "execution_count": 40,
   "id": "7905ddee-47a0-432d-ad62-24fabf2297c5",
   "metadata": {},
   "outputs": [
    {
     "data": {
      "text/plain": [
       "['Senior', 'Principal', 'No aplica a mi lugar de trabajo', 'Junior']"
      ]
     },
     "execution_count": 40,
     "metadata": {},
     "output_type": "execute_result"
    }
   ],
   "source": [
    "# Get unique values in column.\n",
    "get_column_uniques(df, \"assigned_seniority\")"
   ]
  },
  {
   "cell_type": "code",
   "execution_count": 41,
   "id": "69f258c8-e5e9-4f41-8270-d7899d04fd8b",
   "metadata": {},
   "outputs": [
    {
     "data": {
      "text/plain": [
       "assigned_seniority\n",
       "Senior                             3\n",
       "No aplica a mi lugar de trabajo    2\n",
       "Principal                          1\n",
       "Junior                             1\n",
       "Name: count, dtype: int64"
      ]
     },
     "execution_count": 41,
     "metadata": {},
     "output_type": "execute_result"
    }
   ],
   "source": [
    "get_column_uniques_count(df, \"assigned_seniority\")"
   ]
  },
  {
   "cell_type": "markdown",
   "id": "6d125121-435d-4650-987a-73692bdab6f4",
   "metadata": {},
   "source": [
    "## ¿Cuál considerás que es tu nivel en tu puesto?\n"
   ]
  },
  {
   "cell_type": "code",
   "execution_count": 43,
   "id": "b443e43d-0fdf-443c-93dd-cea0a84dabe6",
   "metadata": {},
   "outputs": [
    {
     "data": {
      "text/plain": [
       "['Senior', 'Principal', 'Mid-senior', 'Junior']"
      ]
     },
     "execution_count": 43,
     "metadata": {},
     "output_type": "execute_result"
    }
   ],
   "source": [
    "# Obtener los valores unicos de la columna.\n",
    "get_column_uniques(df, \"self_assessed_seniority\")"
   ]
  },
  {
   "cell_type": "code",
   "execution_count": 44,
   "id": "4cc04c41-0b9d-4654-b9de-ab727f377e4c",
   "metadata": {},
   "outputs": [],
   "source": [
    "# Obtener el conteo total de la columns."
   ]
  },
  {
   "cell_type": "code",
   "execution_count": 45,
   "id": "01fdb433-8c1a-4f31-8cb7-4cb9dfcef46f",
   "metadata": {},
   "outputs": [
    {
     "data": {
      "text/plain": [
       "self_assessed_seniority\n",
       "Senior        2\n",
       "Mid-senior    2\n",
       "Junior        2\n",
       "Principal     1\n",
       "Name: count, dtype: int64"
      ]
     },
     "execution_count": 45,
     "metadata": {},
     "output_type": "execute_result"
    }
   ],
   "source": [
    "get_column_uniques_count(df, \"self_assessed_seniority\")"
   ]
  },
  {
   "cell_type": "code",
   "execution_count": null,
   "id": "c6cfdcd8-c153-4a65-bc5c-f0d72783a550",
   "metadata": {},
   "outputs": [],
   "source": []
  }
 ],
 "metadata": {
  "kernelspec": {
   "display_name": "Python 3 (ipykernel)",
   "language": "python",
   "name": "python3"
  },
  "language_info": {
   "codemirror_mode": {
    "name": "ipython",
    "version": 3
   },
   "file_extension": ".py",
   "mimetype": "text/x-python",
   "name": "python",
   "nbconvert_exporter": "python",
   "pygments_lexer": "ipython3",
   "version": "3.8.10"
  }
 },
 "nbformat": 4,
 "nbformat_minor": 5
}
