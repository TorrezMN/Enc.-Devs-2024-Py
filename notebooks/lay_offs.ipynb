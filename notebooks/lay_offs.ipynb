{
 "cells": [
  {
   "cell_type": "code",
   "execution_count": null,
   "id": "5c2ff166-cc00-4e4e-b37a-b7a1083e45e6",
   "metadata": {},
   "outputs": [],
   "source": [
    "#######################\n",
    "# CONFIG ZONE\n",
    "#######################\n",
    "\n",
    "# Importing Libs\n",
    "import pandas as pd\n",
    "import seaborn as sns\n",
    "\n",
    "import matplotlib.pyplot as plt\n",
    "\n",
    "from collections import Counter\n",
    "import numpy as np\n",
    "\n",
    "# My Tools\n",
    "import milanesas.eda_helper as eh\n",
    "from tools.helpers import (\n",
    "    get_column_uniques,\n",
    "    get_column_uniques_count,\n",
    "    plot_grouped_by_category_barh_charts,\n",
    "    barh_chart_unique_values,\n",
    "    print_unique_normalized_values_by_group,\n",
    "    make_vertical_grouped_chart,\n",
    "    md_table,\n",
    "    md_group_table,\n",
    ")\n",
    "\n",
    "\n",
    "%matplotlib inline\n",
    "\n",
    "# Reseting figure size params.\n",
    "plt.rcParams[\"figure.figsize\"] = [12, 7]\n",
    "# Setting seaborn as default plotting lib.\n",
    "sns.set()\n",
    "sns.set_palette(\"pastel\")"
   ]
  },
  {
   "cell_type": "code",
   "execution_count": 1,
   "id": "aa6eaee3-fcdf-4ce6-9bdf-0a1a8300fc67",
   "metadata": {},
   "outputs": [],
   "source": [
    "df = pd.read_csv(\"../data/data_fixed.csv\")"
   ]
  },
  {
   "cell_type": "code",
   "execution_count": 1,
   "id": "113215ba-4071-470d-b840-17149351a601",
   "metadata": {
    "scrolled": true
   },
   "outputs": [
    {
     "ename": "NameError",
     "evalue": "name 'df' is not defined",
     "output_type": "error",
     "traceback": [
      "\u001b[0;31m---------------------------------------------------------------------------\u001b[0m",
      "\u001b[0;31mNameError\u001b[0m                                 Traceback (most recent call last)",
      "Cell \u001b[0;32mIn[1], line 1\u001b[0m\n\u001b[0;32m----> 1\u001b[0m df \u001b[38;5;241m=\u001b[39m \u001b[43mdf\u001b[49m\u001b[38;5;241m.\u001b[39mdrop(\u001b[38;5;124m\"\u001b[39m\u001b[38;5;124mUnnamed: 0\u001b[39m\u001b[38;5;124m\"\u001b[39m, axis\u001b[38;5;241m=\u001b[39m\u001b[38;5;241m1\u001b[39m)\n",
      "\u001b[0;31mNameError\u001b[0m: name 'df' is not defined"
     ]
    }
   ],
   "source": [
    "df = df.drop(\"Unnamed: 0\", axis=1)"
   ]
  },
  {
   "cell_type": "markdown",
   "id": "2e1dea73-70d9-42b0-9a47-001379900364",
   "metadata": {},
   "source": [
    "### 7. **Impact of Lay-offs**\n",
    "   - ¿Fuiste afectado por recortes de personal (lay-offs) en el 2023 o en lo que va del 2024?\n",
    "   - ¿Estás trabajando actualmente luego del recorte?\n",
    "   - Si estás trabajando ahora, ¿cuánto tiempo después del recorte volviste a trabajar?\n",
    "   - Si estás trabajando ahora, ¿lo hacés en el mismo rol que trabajabas antes del recorte?\n",
    "   - Si estás trabajando ahora, tu remuneración en tu puesto actual versus la que percibías antes del recorte es:\n"
   ]
  },
  {
   "cell_type": "code",
   "execution_count": null,
   "id": "c7d69a18-a48d-4709-8466-4dc41a288f26",
   "metadata": {},
   "outputs": [],
   "source": []
  }
 ],
 "metadata": {
  "kernelspec": {
   "display_name": "Python 3 (ipykernel)",
   "language": "python",
   "name": "python3"
  },
  "language_info": {
   "codemirror_mode": {
    "name": "ipython",
    "version": 3
   },
   "file_extension": ".py",
   "mimetype": "text/x-python",
   "name": "python",
   "nbconvert_exporter": "python",
   "pygments_lexer": "ipython3",
   "version": "3.8.10"
  }
 },
 "nbformat": 4,
 "nbformat_minor": 5
}
