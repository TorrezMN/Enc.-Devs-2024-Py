{
 "cells": [
  {
   "cell_type": "code",
   "execution_count": null,
   "id": "5c2ff166-cc00-4e4e-b37a-b7a1083e45e6",
   "metadata": {},
   "outputs": [],
   "source": [
    "#######################\n",
    "# CONFIG ZONE\n",
    "#######################\n",
    "\n",
    "# Importing Libs\n",
    "import pandas as pd\n",
    "import seaborn as sns\n",
    "\n",
    "import matplotlib.pyplot as plt\n",
    "\n",
    "from collections import Counter\n",
    "import numpy as np\n",
    "\n",
    "# My Tools\n",
    "import milanesas.eda_helper as eh\n",
    "from tools.helpers import (\n",
    "    get_column_uniques,\n",
    "    get_column_uniques_count,\n",
    "    plot_grouped_by_category_barh_charts,\n",
    "    barh_chart_unique_values,\n",
    "    print_unique_normalized_values_by_group,\n",
    "    make_vertical_grouped_chart,\n",
    ")\n",
    "\n",
    "\n",
    "%matplotlib inline\n",
    "\n",
    "# Reseting figure size params.\n",
    "plt.rcParams[\"figure.figsize\"] = [12, 7]\n",
    "# Setting seaborn as default plotting lib.\n",
    "sns.set()\n",
    "sns.set_palette(\"pastel\")"
   ]
  },
  {
   "cell_type": "code",
   "execution_count": 1,
   "id": "aa6eaee3-fcdf-4ce6-9bdf-0a1a8300fc67",
   "metadata": {},
   "outputs": [],
   "source": [
    "df = pd.read_csv(\"../data/data_fixed.csv\")"
   ]
  },
  {
   "cell_type": "code",
   "execution_count": 2,
   "id": "113215ba-4071-470d-b840-17149351a601",
   "metadata": {},
   "outputs": [
    {
     "data": {
      "text/plain": [
       "Index(['work_mode', 'employment_mode', 'role', 'prog_skills_in_role',\n",
       "       'code_for_job', 'IT_exp', 'prof_prog_exp', 'first_code',\n",
       "       'assigned_seniority', 'self_assessed_seniority', 'formal_edu', 'majors',\n",
       "       'formal_edu_importance', 'gender', 'age', 'monthly_salary',\n",
       "       'pro_languages', 'web_frameworks', 'other_tools', 'databases',\n",
       "       'platforms', 'fav_language', 'least_fav_language', 'fav_framework',\n",
       "       'least_fav_framework', 'tools', 'use_AI_tools', 'AI_replace_dev',\n",
       "       'layoffs_23_24', 'working_now', 'unemployed_duration', 'same_role',\n",
       "       'current_vs_prev_salary'],\n",
       "      dtype='object')"
      ]
     },
     "execution_count": 2,
     "metadata": {},
     "output_type": "execute_result"
    }
   ],
   "source": [
    "df = df.drop(\"Unnamed: 0\", axis=1)\n",
    "df.columns"
   ]
  },
  {
   "cell_type": "markdown",
   "id": "2e1dea73-70d9-42b0-9a47-001379900364",
   "metadata": {},
   "source": [
    "### 7. **Impact of Lay-offs**\n",
    "   - ¿Fuiste afectado por recortes de personal (lay-offs) en el 2023 o en lo que va del 2024?\n",
    "   - ¿Estás trabajando actualmente luego del recorte?\n",
    "   - Si estás trabajando ahora, ¿cuánto tiempo después del recorte volviste a trabajar?\n",
    "   - Si estás trabajando ahora, ¿lo hacés en el mismo rol que trabajabas antes del recorte?\n",
    "   - Si estás trabajando ahora, tu remuneración en tu puesto actual versus la que percibías antes del recorte es:\n"
   ]
  },
  {
   "cell_type": "code",
   "execution_count": null,
   "id": "c7d69a18-a48d-4709-8466-4dc41a288f26",
   "metadata": {},
   "outputs": [],
   "source": []
  }
 ],
 "metadata": {
  "kernelspec": {
   "display_name": "Python 3 (ipykernel)",
   "language": "python",
   "name": "python3"
  },
  "language_info": {
   "codemirror_mode": {
    "name": "ipython",
    "version": 3
   },
   "file_extension": ".py",
   "mimetype": "text/x-python",
   "name": "python",
   "nbconvert_exporter": "python",
   "pygments_lexer": "ipython3",
   "version": "3.8.10"
  }
 },
 "nbformat": 4,
 "nbformat_minor": 5
}
