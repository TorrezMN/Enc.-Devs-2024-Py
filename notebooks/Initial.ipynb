{
 "cells": [
  {
   "cell_type": "code",
   "execution_count": null,
   "id": "6db396f4-e36b-4378-8e31-ea2cababa324",
   "metadata": {},
   "outputs": [],
   "source": [
    "#######################\n",
    "# CONFIG ZONE\n",
    "#######################\n",
    "\n",
    "# Importing Libs\n",
    "import pandas as pd\n",
    "import seaborn as sns\n",
    "\n",
    "import matplotlib.pyplot as plt\n",
    "\n",
    "from collections import Counter\n",
    "import numpy as np\n",
    "\n",
    "# My Tools\n",
    "import milanesas.eda_helper as eh\n",
    "\n",
    "\n",
    "%matplotlib inline\n",
    "\n",
    "# Reseting figure size params.\n",
    "plt.rcParams[\"figure.figsize\"] = [12, 7]\n",
    "# Setting seaborn as default plotting lib.\n",
    "sns.set()\n",
    "sns.set_palette(\"pastel\")"
   ]
  },
  {
   "cell_type": "code",
   "execution_count": 1,
   "id": "e4618c7c-5eae-46ff-a817-9384691bbd79",
   "metadata": {},
   "outputs": [],
   "source": [
    "df = pd.read_excel(\"../data/enc_devs_2024.xlsx\")"
   ]
  },
  {
   "cell_type": "code",
   "execution_count": 2,
   "id": "9f6f22f3-829a-417e-9875-c53ec96dafbf",
   "metadata": {},
   "outputs": [],
   "source": [
    "def append_to_file(file_path, text):\n",
    "    \"\"\"\n",
    "    Appends the given text to the specified file.\n",
    "\n",
    "    Parameters:\n",
    "    file_path (str): The path to the file where the text will be appended.\n",
    "    text (str): The text to append to the file.\n",
    "    \"\"\"\n",
    "    try:\n",
    "        with open(file_path, \"a\") as file:\n",
    "            file.write(text + \"\\n\")\n",
    "    except Exception as e:\n",
    "        print(f\"An error occurred: {e}\")"
   ]
  },
  {
   "cell_type": "code",
   "execution_count": 3,
   "id": "66ffdba5-7d35-4fd1-9246-b39775a7a4bb",
   "metadata": {},
   "outputs": [],
   "source": [
    "for k, v in enumerate(df.columns):\n",
    "    append_to_file(\"preguntas_iniciales.txt\", f\"{k} - {v}\")"
   ]
  },
  {
   "cell_type": "markdown",
   "id": "171993ca-f671-4f5a-936b-5d18b38c1d5e",
   "metadata": {},
   "source": [
    "## Renaming columns.\n",
    "\n"
   ]
  },
  {
   "cell_type": "code",
   "execution_count": 4,
   "id": "00c76d46-e0e6-4b79-93d3-62e9ad22d6c2",
   "metadata": {},
   "outputs": [],
   "source": [
    "new_cols = {\n",
    "    \"Marca temporal\": \"timestamp\",\n",
    "    \"Modalidad de trabajo\": \"work_mode\",\n",
    "    \"Modalidad de empleo \": \"employment_mode\",\n",
    "    \"Puesto / rol\": \"role\",\n",
    "    \"¿Utilizás habilidades de programación en alguno de los siguientes roles/puestos?\": \"prog_skills_in_role\",\n",
    "    \"¿Codificás por trabajo?\": \"code_for_job\",\n",
    "    \"Experiencia en TI\": \"IT_exp\",\n",
    "    \"Experiencia programando profesionalmente \": \"prof_prog_exp\",\n",
    "    \"Primera línea de código en una máquina\": \"first_code\",\n",
    "    \"¿Qué nivel te asignaron en tu trabajo?\": \"assigned_seniority\",\n",
    "    \"¿Cuál considerás que es tu nivel en tu puesto?\": \"self_assessed_seniority\",\n",
    "    \"Educación Formal\": \"formal_edu\",\n",
    "    \"Carreras o especialidades\": \"majors\",\n",
    "    \"Importancia educación formal\": \"formal_edu_importance\",\n",
    "    \"Género\": \"gender\",\n",
    "    \"Edad actual \": \"age\",\n",
    "    \"Salario mensual\": \"monthly_salary\",\n",
    "    \"Programación, scripting y lenguajes de marcado que usás en tu profesión\": \"pro_languages\",\n",
    "    \"Librerías o web frameworks\": \"web_frameworks\",\n",
    "    \"Otros frameworks, librerías y herramientas\": \"other_tools\",\n",
    "    \"Base de datos\": \"databases\",\n",
    "    \"Plataformas\": \"platforms\",\n",
    "    \"Lenguaje favorito\": \"fav_language\",\n",
    "    \"Lenguaje más odiado o menos favorito\": \"least_fav_language\",\n",
    "    \"Framework favorito\": \"fav_framework\",\n",
    "    \"Framework más odiado o menos favorito\": \"least_fav_framework\",\n",
    "    \"Herramientas\": \"tools\",\n",
    "    \"¿Usás regularmente* alguna de estas herramientas de I.A. para ayudarte en tu proceso de desarrollo?\": \"use_AI_tools\",\n",
    "    \" ¿Creés que la inteligencia artificial reemplazará al desarrollador?\": \"AI_replace_dev\",\n",
    "    \"¿Fuiste afectado por recortes de personal (lay-offs) en el 2023 o en lo que va del 2024?\": \"layoffs_23_24\",\n",
    "    \"¿Estás trabajando actualmente luego del recorte?\": \"working_now\",\n",
    "    \"Si estás trabajando ahora, ¿cuánto tiempo después del recorte volviste a trabajar?\": \"unemployed_duration\",\n",
    "    \"Si estás trabajando ahora, ¿lo hacés en el mismo rol que trabajabas antes del recorte?\": \"same_role\",\n",
    "    \"Si estás trabajando ahora, tu remuneración en tu puesto actual versus la que percibías antes del recorte es:\": \"current_vs_prev_salary\",\n",
    "}"
   ]
  },
  {
   "cell_type": "code",
   "execution_count": 5,
   "id": "7490b57e-0570-4073-ab25-d9a7d606c2e5",
   "metadata": {},
   "outputs": [],
   "source": [
    "df = df.drop(\"Marca temporal\", axis=1)"
   ]
  },
  {
   "cell_type": "code",
   "execution_count": 6,
   "id": "963c760a-4ab0-4e79-b992-16ebc9b8a927",
   "metadata": {},
   "outputs": [
    {
     "data": {
      "text/plain": [
       "Index(['Modalidad de trabajo', 'Modalidad de empleo ', 'Puesto / rol',\n",
       "       '¿Utilizás habilidades de programación en alguno de los siguientes roles/puestos?',\n",
       "       '¿Codificás por trabajo?', 'Experiencia en TI',\n",
       "       'Experiencia programando profesionalmente ',\n",
       "       'Primera línea de código en una máquina',\n",
       "       '¿Qué nivel te asignaron en tu trabajo?',\n",
       "       '¿Cuál considerás que es tu nivel en tu puesto?', 'Educación Formal',\n",
       "       'Carreras o especialidades', 'Importancia educación formal', 'Género',\n",
       "       'Edad actual ', 'Salario mensual',\n",
       "       'Programación, scripting y lenguajes de marcado que usás en tu profesión',\n",
       "       'Librerías o web frameworks',\n",
       "       'Otros frameworks, librerías y herramientas', 'Base de datos',\n",
       "       'Plataformas', 'Lenguaje favorito',\n",
       "       'Lenguaje más odiado o menos favorito', 'Framework favorito',\n",
       "       'Framework más odiado o menos favorito', 'Herramientas',\n",
       "       '¿Usás regularmente* alguna de estas herramientas de I.A. para ayudarte en tu proceso de desarrollo?',\n",
       "       ' ¿Creés que la inteligencia artificial reemplazará al desarrollador?',\n",
       "       '¿Fuiste afectado por recortes de personal (lay-offs) en el 2023 o en lo que va del 2024?',\n",
       "       '¿Estás trabajando actualmente luego del recorte?',\n",
       "       'Si estás trabajando ahora, ¿cuánto tiempo después del recorte volviste a trabajar?',\n",
       "       'Si estás trabajando ahora, ¿lo hacés en el mismo rol que trabajabas antes del recorte?',\n",
       "       'Si estás trabajando ahora, tu remuneración en tu puesto actual versus la que percibías antes del recorte es:'],\n",
       "      dtype='object')"
      ]
     },
     "execution_count": 6,
     "metadata": {},
     "output_type": "execute_result"
    }
   ],
   "source": [
    "df.columns"
   ]
  },
  {
   "cell_type": "markdown",
   "id": "cdd812ee-9c4a-4695-b093-e7e4c3be15a7",
   "metadata": {},
   "source": [
    "# New column "
   ]
  },
  {
   "cell_type": "code",
   "execution_count": 7,
   "id": "11b80fc8-bbf0-4bda-a38d-dba8ef4f4fb4",
   "metadata": {},
   "outputs": [],
   "source": [
    "df.rename(columns=new_cols, inplace=True)"
   ]
  },
  {
   "cell_type": "code",
   "execution_count": 8,
   "id": "639cf181-7b5e-46f7-a677-cc1f67963d69",
   "metadata": {},
   "outputs": [
    {
     "data": {
      "text/plain": [
       "Index(['work_mode', 'employment_mode', 'role', 'prog_skills_in_role',\n",
       "       'code_for_job', 'IT_exp', 'prof_prog_exp', 'first_code',\n",
       "       'assigned_seniority', 'self_assessed_seniority', 'formal_edu', 'majors',\n",
       "       'formal_edu_importance', 'gender', 'age', 'monthly_salary',\n",
       "       'pro_languages', 'web_frameworks', 'other_tools', 'databases',\n",
       "       'platforms', 'fav_language', 'least_fav_language', 'fav_framework',\n",
       "       'least_fav_framework', 'tools', 'use_AI_tools', 'AI_replace_dev',\n",
       "       'layoffs_23_24', 'working_now', 'unemployed_duration', 'same_role',\n",
       "       'current_vs_prev_salary'],\n",
       "      dtype='object')"
      ]
     },
     "execution_count": 8,
     "metadata": {},
     "output_type": "execute_result"
    }
   ],
   "source": [
    "df.columns"
   ]
  },
  {
   "cell_type": "code",
   "execution_count": 9,
   "id": "c67a8849-a6fb-4b9d-ac2c-ca61e97010ef",
   "metadata": {},
   "outputs": [
    {
     "name": "stdout",
     "output_type": "stream",
     "text": [
      "Index(['Remoto', 'Presencial', 'Hibrído', 'Ninguna de las anteriores'], dtype='object', name='work_mode')\n",
      "\n",
      "\n",
      "\n",
      "\n",
      "\n",
      "Index(['Empleador local (Paraguay)', 'Empleador del exterior', 'Freelance',\n",
      "       'Empleador local con clientes del exterior'],\n",
      "      dtype='object', name='employment_mode')\n",
      "\n",
      "\n",
      "\n",
      "\n",
      "\n",
      "Index(['Desarrollador full-stack', 'Desarrollador back-end',\n",
      "       'Aplicaciones de escritorio o empresariales', 'Desarrollador mobile',\n",
      "       'Desarrollador front-end', 'Project Leader',\n",
      "       'Desarrollador back-end, Desarrollador front-end, Desarrollador full-stack',\n",
      "       'Desarrollador back-end, Desarrollador front-end, Desarrollador full-stack, Desarrollador mobile',\n",
      "       'QA o testing', 'Desarrollador full-stack, Project Leader',\n",
      "       ...\n",
      "       'Desarrollador back-end, Desarrollador full-stack, Project Leader',\n",
      "       'Desarrollador back-end, Desarrollador full-stack, Administrador de base de datos',\n",
      "       'Arquitecto de soluciones', 'technical leader ',\n",
      "       'Desarrollador back-end, QA o testing, Data Analyst', 'Data Scientist',\n",
      "       'Desarrollador back-end, Desarrollador front-end, Desarrollador full-stack, Desarrollador de sistemas embebidos, Administrador de base de datos, Project Leader, Data Analyst, Data Engineer, UX/UI',\n",
      "       'Desarrollador back-end, Desarrollador front-end, Desarrollador de sistemas embebidos, Aplicaciones de escritorio o empresariales, Project Leader',\n",
      "       'Desarrollador back-end, Desarrollador front-end, Desarrollador full-stack, Desarrollador mobile, Administrador de base de datos',\n",
      "       'Desarrollador back-end, Analista'],\n",
      "      dtype='object', name='role', length=158)\n",
      "\n",
      "\n",
      "\n",
      "\n",
      "\n",
      "Index(['Administrador de sistemas', 'DevOps/DataOps',\n",
      "       'Administrador de sistemas, DevOps/DataOps', 'Diseñador',\n",
      "       'Administrador de sistemas, Educador',\n",
      "       'Administrador de sistemas, Diseñador', 'Educador',\n",
      "       'Investigador científico',\n",
      "       'Administrador de sistemas, DevOps/DataOps, Investigador científico',\n",
      "       'DevOps/DataOps, Investigador científico',\n",
      "       'Administrador de sistemas, Investigador científico, Educador',\n",
      "       'Administrador de sistemas, Investigador científico',\n",
      "       'Administrador de sistemas, DevOps/DataOps, Diseñador',\n",
      "       'DevOps/DataOps, Diseñador',\n",
      "       'Administrador de sistemas, DevOps/DataOps, Educador',\n",
      "       'Investigador científico, Educador', 'DevOps/DataOps, Educador',\n",
      "       'Investigador científico, Diseñador, Educador',\n",
      "       'Administrador de sistemas, DevOps/DataOps, Investigador científico, Diseñador, Educador',\n",
      "       'Administrador de sistemas, Investigador científico, Diseñador',\n",
      "       'Administrador de sistemas, DevOps/DataOps, Investigador científico, Diseñador'],\n",
      "      dtype='object', name='prog_skills_in_role')\n",
      "\n",
      "\n",
      "\n",
      "\n",
      "\n",
      "Index(['Sí', 'No'], dtype='object', name='code_for_job')\n",
      "\n",
      "\n",
      "\n",
      "\n",
      "\n",
      "Index(['6 a 9 años', '10 a 12 años', '3 a 5 años', '13 a 17 años',\n",
      "       '18 a 25 años', '1 a 2 años', 'Más de 26 años', 'Menos de 1 año'],\n",
      "      dtype='object', name='IT_exp')\n",
      "\n",
      "\n",
      "\n",
      "\n",
      "\n",
      "Index(['6 a 9 años', '3 a 5 años', '1 a 2 años', '10 a 12 años',\n",
      "       '13 a 17 años', 'Menos de 1 año', '18 a 25 años', 'más de 26 años'],\n",
      "      dtype='object', name='prof_prog_exp')\n",
      "\n",
      "\n",
      "\n",
      "\n",
      "\n",
      "Index(['Menos de 10 años', '16 a 17 años', '14 a 15 años', '10 a 11 años',\n",
      "       '12 a 13 años', '18 a 19 años', '20 a 21 años', '22 a 23 años',\n",
      "       '24 a 25 años', 'más de 30 años', '26 a 27 años', '28 a 29 años'],\n",
      "      dtype='object', name='first_code')\n",
      "\n",
      "\n",
      "\n",
      "\n",
      "\n",
      "Index(['Senior', 'Mid-senior', 'Junior', 'No aplica a mi lugar de trabajo',\n",
      "       'Principal', 'Staff', 'Trainee'],\n",
      "      dtype='object', name='assigned_seniority')\n",
      "\n",
      "\n",
      "\n",
      "\n",
      "\n",
      "Index(['Senior', 'Mid-senior', 'Junior', 'Principal', 'Staff', 'Desconozco',\n",
      "       'Trainee'],\n",
      "      dtype='object', name='self_assessed_seniority')\n",
      "\n",
      "\n",
      "\n",
      "\n",
      "\n",
      "Index(['Título de Grado (licenciatura, ingeniería, etc.)', 'Educación Media',\n",
      "       'Máster', 'Doctorado'],\n",
      "      dtype='object', name='formal_edu')\n",
      "\n",
      "\n",
      "\n",
      "\n",
      "\n",
      "Index(['Ingeniería en Informática', 'Análisis de Sistemas',\n",
      "       'Programación, Análisis de Sistemas',\n",
      "       'Programación, Análisis de Sistemas, Ingeniería en Informática',\n",
      "       'Programación, Ingeniería en Informática',\n",
      "       'Análisis de Sistemas, Ingeniería en Informática', 'Programación',\n",
      "       'Ninguna', 'Ingeniería en Informática, Otras', 'Otras',\n",
      "       'Ingeniería en Electrónica',\n",
      "       'Programación, Análisis de Sistemas, Otras',\n",
      "       'Programación, Análisis de Sistemas, Diseño Gráfico',\n",
      "       'Programación, Otras',\n",
      "       'Programación, Análisis de Sistemas, Matemáticas', 'Otras ingenerías',\n",
      "       'Análisis de Sistemas, Ingeniería en Informática, Otras',\n",
      "       'Programación, Diseño Gráfico, Otras',\n",
      "       'Programación, Ingeniería en Informática, Otras',\n",
      "       'Programación, Análisis de Sistemas, Ingeniería en Informática, Matemáticas, Otras',\n",
      "       'Programación, Análisis de Sistemas, Ingeniería en Informática, Matemáticas',\n",
      "       'Programación, Análisis de Sistemas, Ingeniería en Informática, Otras',\n",
      "       'Programación, Análisis de Sistemas, Ingeniería Civil',\n",
      "       'Programación, Ingeniería en Electrónica, Matemáticas',\n",
      "       'Ingeniería Eléctrica',\n",
      "       'Programación, Análisis de Sistemas, Ingeniería en Informática, Ingeniería Eléctrica',\n",
      "       'Programación, Ingeniería en Electrónica, Otras',\n",
      "       'Programación, Análisis de Sistemas, Matemáticas, Otras',\n",
      "       'Programación, Análisis de Sistemas, Ingeniería en Informática, Diseño Gráfico',\n",
      "       'Análisis de Sistemas, Ingeniería en Informática, Otras ingenerías',\n",
      "       'Otras ingenerías, Otras',\n",
      "       'Programación, Análisis de Sistemas, Ingeniería en Electrónica, Otras ingenerías, Otras',\n",
      "       'Diseño Gráfico', 'Ingeniería en Informática, Matemáticas',\n",
      "       'Matemáticas, Ninguna', 'Análisis de Sistemas, Ingeniería Civil',\n",
      "       'Programación, Otras ingenerías',\n",
      "       'Programación, Análisis de Sistemas, Ingeniería en Informática, Ingeniería en Electrónica, Diseño Gráfico',\n",
      "       'Programación, Análisis de Sistemas, Ingeniería en Informática, Otras ingenerías',\n",
      "       'Programación, Análisis de Sistemas, Ingeniería en Electrónica'],\n",
      "      dtype='object', name='majors')\n",
      "\n",
      "\n",
      "\n",
      "\n",
      "\n",
      "Index(['Muy importante', 'Más o menos importante', 'Bastante importante',\n",
      "       'No importa, no es necesario', 'Crítico'],\n",
      "      dtype='object', name='formal_edu_importance')\n",
      "\n",
      "\n",
      "\n",
      "\n",
      "\n",
      "Index(['Hombre', 'Mujer', 'Prefiero no compartir'], dtype='object', name='gender')\n",
      "\n",
      "\n",
      "\n",
      "\n",
      "\n",
      "Index(['30 a 34 años', '25 a 29 años', '35 a 39 años', '20 a 24 años',\n",
      "       '40 a 44 años', '45 a 49 años', '50 a 54 años', '15 a 19 años',\n",
      "       'Más de 60 años', '55 a 59 años'],\n",
      "      dtype='object', name='age')\n",
      "\n",
      "\n",
      "\n",
      "\n",
      "\n",
      "Index(['Entre 9.000.001 a 12.000.000 gs', 'Entre 5.000.001 a 7.000.000 gs',\n",
      "       'Entre 7.000.001 a 9.000.000 gs', 'Entre 3.500.001 a 5.000.000 gs',\n",
      "       'Entre 12.000.001 a 15.000.000 gs', 'Entre 15.000.001 a 18.000.000 gs',\n",
      "       'Entre 2.550.308 gs a 3.500.000 gs', 'Entre 18.000.001 a 21.000.000 gs',\n",
      "       'más de 50.000.000 gs', 'Entre 24.000.001 a 27.000.000 gs',\n",
      "       '33.000.001 gs a 40.000.000 gs', '27.000.001 gs a 33.000.000',\n",
      "       'Menos del salario mínimo ( 2.550.307 gs)',\n",
      "       '40.000.001 gs a 50.000.000 gs', 'Entre 21.000.001 a 24.000.000 gs',\n",
      "       'Salario mínimo 2.550.307 gs'],\n",
      "      dtype='object', name='monthly_salary')\n",
      "\n",
      "\n",
      "\n",
      "\n",
      "\n",
      "Index(['Python, SQL', 'JavaScript, PHP, HTML/CSS, SQL',\n",
      "       'JavaScript, TypeScript, Java, HTML/CSS, SQL',\n",
      "       'JavaScript, Java, HTML/CSS, SQL', 'JavaScript, TypeScript, HTML/CSS',\n",
      "       'SQL',\n",
      "       'JavaScript, TypeScript, Java, HTML/CSS, SQL, Bash/Shell/PowerShell',\n",
      "       'JavaScript, TypeScript', 'JavaScript, TypeScript, PHP, HTML/CSS, SQL',\n",
      "       'JavaScript, PHP, HTML/CSS, SQL, Bash/Shell/PowerShell',\n",
      "       ...\n",
      "       'JavaScript, TypeScript, Ruby', 'TypeScript, Python, SQL',\n",
      "       'JavaScript, TypeScript, PHP, Python',\n",
      "       'JavaScript, Java, HTML/CSS, SQL, Bash/Shell/PowerShell, Swift',\n",
      "       'Python, Java, Bash/Shell/PowerShell, Genexus ',\n",
      "       'JavaScript, PHP, Java, SQL', 'Python, Java, Genexus',\n",
      "       'Python, C++, SQL', 'JavaScript, C#',\n",
      "       'JavaScript, HTML/CSS, SQL, Bash/Shell/PowerShell, Oracle Forms, Oracle APEX'],\n",
      "      dtype='object', name='pro_languages', length=278)\n",
      "\n",
      "\n",
      "\n",
      "\n",
      "\n",
      "Index(['React.js', 'Spring', 'JQuery', 'React.js, Django', 'React.js, Express',\n",
      "       'JQuery, Laravel', 'Angular, Spring', 'Laravel', 'React.js, Spring',\n",
      "       'ASP.NET',\n",
      "       ...\n",
      "       'Angular, ASP.NET Core', 'React.js, Angular.js, Express, Django',\n",
      "       'JQuery, Laravel, CakePHP', 'Django, Flask, Laravel',\n",
      "       'React.js, Angular, Angular.js, Vue.js, Spring', 'Angular, Django',\n",
      "       'Vue.js, Django', 'Spring, Django', 'ASP.NET, ASP.NET Core, Flask',\n",
      "       'React.js, ASP.NET, Express'],\n",
      "      dtype='object', name='web_frameworks', length=142)\n",
      "\n",
      "\n",
      "\n",
      "\n",
      "\n",
      "Index(['Node.js', 'Node.js, React Native', 'Node.js, Flutter', 'Flutter',\n",
      "       '.NET, NET Core', 'Pandas', '.NET', 'React Native',\n",
      "       'Node.js, React Native, Flutter', 'Ansible', 'Unity 3D',\n",
      "       '.NET, NET Core, Flutter', 'Node.js, .NET', 'Pandas, Torch/PyTorch',\n",
      "       'Node.js, Pandas, Hadoop', 'Node.js, TensorFlow', '.NET, Flutter',\n",
      "       'Pandas, TensorFlow, Keras, Torch/PyTorch', 'Node.js, Cordova',\n",
      "       'Node.js, Ansible', '.NET, NET Core, Xamarin', 'Node.js, Pandas',\n",
      "       '.NET, Unity 3D', 'Flutter, Cordova',\n",
      "       'Pandas, TensorFlow, Ansible, Keras, Torch/PyTorch',\n",
      "       'Node.js, TensorFlow, Unity 3D, Cordova, Unreal Engine',\n",
      "       '.NET, Pandas, Hadoop', 'React Native, Torch/PyTorch',\n",
      "       'Node.js, NET Core', 'Node.js, Ansible, Puppet',\n",
      "       '.NET, Flutter, Cordova', 'Pandas, Flutter',\n",
      "       'Node.js, Pandas, React Native, Cordova', '.NET, NET Core, Pandas',\n",
      "       'Node.js, .NET, Pandas', 'Chef', 'Hadoop',\n",
      "       'TensorFlow, Flutter, Keras, Torch/PyTorch, Hadoop',\n",
      "       'Node.js, Pandas, TensorFlow, Hadoop, Puppet',\n",
      "       'Node.js, .NET, NET Core', '.NET, NET Core, TensorFlow',\n",
      "       'Node.js, Pandas, TensorFlow, Puppet, Chef',\n",
      "       'Node.js, .NET, NET Core, React Native, Flutter', 'Pandas, TensorFlow',\n",
      "       'NET Core', 'Node.js, Flutter, Cordova',\n",
      "       'Node.js, Pandas, TensorFlow, React Native, Torch/PyTorch',\n",
      "       'Node.js, Pandas, TensorFlow, Flutter, Keras',\n",
      "       'Node.js, Ansible, Puppet, Chef', 'TensorFlow',\n",
      "       'NET Core, TensorFlow, Torch/PyTorch',\n",
      "       'Pandas, Ansible, Torch/PyTorch, Hadoop', '.NET, React Native',\n",
      "       'Pandas, Hadoop', 'Node.js, Pandas, Torch/PyTorch',\n",
      "       'Node.js, Pandas, React Native, Flutter, Cordova', 'Cordova',\n",
      "       'Node.js, .NET, NET Core, Pandas', 'Node.js, Keras',\n",
      "       'Node.js, .NET, NET Core, Flutter', 'Pandas, TensorFlow, Torch/PyTorch',\n",
      "       '.NET, NET Core, Pandas, TensorFlow, Keras, Torch/PyTorch'],\n",
      "      dtype='object', name='other_tools')\n",
      "\n",
      "\n",
      "\n",
      "\n",
      "\n",
      "Index(['PostgreSQL', 'Oracle', 'MySQL', 'PostgreSQL, Oracle',\n",
      "       'MySQL, PostgreSQL', 'Microsoft SQL Server', 'PostgreSQL, MongoDB',\n",
      "       'MySQL, PostgreSQL, Microsoft SQL Server', 'MySQL, MariaDB, PostgreSQL',\n",
      "       'MySQL, MariaDB',\n",
      "       ...\n",
      "       'MariaDB, PostgreSQL, Microsoft SQL Server, SQLite, MongoDB',\n",
      "       'PostgreSQL, Microsoft SQL Server, SQLite, IBM DB2',\n",
      "       'MySQL, MariaDB, PostgreSQL, Microsoft SQL Server, SQLite, MongoDB, Firebase',\n",
      "       'Firebase',\n",
      "       'MySQL, PostgreSQL, Microsoft SQL Server, SQLite, Firebase, Cassandra',\n",
      "       'MySQL, Firebase', 'PostgreSQL, SQLite, MongoDB', 'DynamoDB',\n",
      "       'PostgreSQL, SQLite, Redis',\n",
      "       'MySQL, PostgreSQL, MongoDB, Redis, DynamoDB'],\n",
      "      dtype='object', name='databases', length=141)\n",
      "\n",
      "\n",
      "\n",
      "\n",
      "\n",
      "Index(['Microsoft Windows', 'GNU/Linux, Microsoft Windows',\n",
      "       'GNU/Linux, Microsoft Windows, Docker', 'GNU/Linux', 'MacOS',\n",
      "       'GNU/Linux, Docker, AWS', 'GNU/Linux, Microsoft Windows, AWS',\n",
      "       'GNU/Linux, Microsoft Windows, Docker, AWS',\n",
      "       'GNU/Linux, Microsoft Windows, MacOS', 'GNU/Linux, Docker',\n",
      "       ...\n",
      "       'Raspberry Pi',\n",
      "       'GNU/Linux, Microsoft Windows, Docker, AWS, Android, iOS',\n",
      "       'GNU/Linux, Microsoft Windows, Docker, Azure, Android, iOS, Kubernetes',\n",
      "       'GNU/Linux, Microsoft Windows, MacOS, Docker, AWS, Android, WordPress, iOS',\n",
      "       'MacOS, Docker, AWS, Android, iOS', 'GNU/Linux, Android',\n",
      "       'MacOS, Docker, AWS, iOS',\n",
      "       'GNU/Linux, Microsoft Windows, MacOS, Docker, Android',\n",
      "       'GNU/Linux, Microsoft Windows, Microsoft Azure',\n",
      "       'Microsoft Windows, MacOS, Docker, AWS'],\n",
      "      dtype='object', name='platforms', length=144)\n",
      "\n",
      "\n",
      "\n",
      "\n",
      "\n",
      "Index(['Java', 'Python', 'JavaScript', 'TypeScript', 'SQL', 'PHP', 'C#',\n",
      "       'Dart', 'Ruby', 'Oracle form', 'Otro', 'Fox Pro', 'Go', 'C++', 'Kotlin',\n",
      "       'Bash/Shell/PowerShell', 'Rust', 'Genexus', 'C', 'Scala', 'COBOL',\n",
      "       'Swift', 'RPG', 'R'],\n",
      "      dtype='object', name='fav_language')\n",
      "\n",
      "\n",
      "\n",
      "\n",
      "\n",
      "Index(['Java', 'PHP', 'JavaScript', 'Assembly', 'Genexus', 'Python', 'C#',\n",
      "       'Oracle Forms', 'C', 'Fox Pro', 'HTML/CSS', 'C++', 'COBOL', 'VBA',\n",
      "       'RPG', 'TypeScript', 'Objective-C', 'Ruby', 'Bash/Shell/PowerShell',\n",
      "       'Kotlin', 'SQL', 'Dart', 'R', 'Perl', 'Spring'],\n",
      "      dtype='object', name='least_fav_language')\n",
      "\n",
      "\n",
      "\n",
      "\n",
      "\n",
      "Index(['Spring', 'React.js', 'Django', 'Laravel', 'ASP.NET Core', 'Vue.js',\n",
      "       'Angular', 'Flask', 'Express', 'Ruby on Rails', 'JQuery', 'ASP.NET',\n",
      "       'Angular.js', 'CodeIgniter'],\n",
      "      dtype='object', name='fav_framework')\n",
      "\n",
      "\n",
      "\n",
      "\n",
      "\n",
      "Index(['JQuery', 'Spring', 'Angular', 'Laravel', 'ASP.NET', 'Angular.js',\n",
      "       'ASP.NET Core', 'React.js', 'CodeIgniter', 'Django', 'CakePHP',\n",
      "       'Ruby on Rails', 'Vue.js', 'Flask', 'Express', 'Gastby'],\n",
      "      dtype='object', name='least_fav_framework')\n",
      "\n",
      "\n",
      "\n",
      "\n",
      "\n",
      "Index(['GitHub', 'GitLab', 'Microsoft Team', 'Google Suite (Docs, Meet, etc)',\n",
      "       'Google Suite (Docs, Meet, etc), GitHub', 'Discord, GitHub', 'Discord',\n",
      "       'Microsoft Team, Microsoft Azure', 'Slack, Jira, Confluence, GitHub',\n",
      "       'GitLab, GitHub',\n",
      "       ...\n",
      "       'GitHub, Trello, Microsoft Team, Notion',\n",
      "       'Jira, Microsoft Azure, GitHub, Trello, Discord, Microsoft Team, Google Suite (Docs, Meet, etc), Confluence',\n",
      "       'Confluence, GitLab, Jira, Slack, GitHub',\n",
      "       'Microsoft Team, Jira, Slack, Trello, Confluence',\n",
      "       'Jira, Notion, Slack, GitLab, Google Suite (Docs, Meet, etc)',\n",
      "       'Google Suite (Docs, Meet, etc), Trello',\n",
      "       'Microsoft Team, Jira, Confluence',\n",
      "       'GitLab, Slack, Google Suite (Docs, Meet, etc)',\n",
      "       'Google Suite (Docs, Meet, etc), Slack, Trello, GitHub, Discord',\n",
      "       'GitHub, Slack, Microsoft Team'],\n",
      "      dtype='object', name='tools', length=302)\n",
      "\n",
      "\n",
      "\n",
      "\n",
      "\n",
      "Index(['ChatGPT', 'ChatGPT, Github Copilot', 'Github Copilot, ChatGPT',\n",
      "       'Google Bard, ChatGPT', 'ChatGPT, Bing AI', 'Github Copilot',\n",
      "       'ChatGPT, Google Bard', 'Bing AI, ChatGPT',\n",
      "       'ChatGPT, Github Copilot, Google Bard', 'Bing AI', 'Codeium',\n",
      "       'Notion AI', 'Google Bard', 'Bing AI, ChatGPT, Github Copilot',\n",
      "       'Github Copilot, Bing AI', 'ChatGPT, Google Bard, Bing AI',\n",
      "       'ChatGPT, Bing AI, Google Bard', 'Bing AI, Github Copilot, ChatGPT',\n",
      "       'Notion AI, Github Copilot, ChatGPT',\n",
      "       'Github Copilot, ChatGPT, Google Bard', 'Notion AI, ChatGPT, Bing AI',\n",
      "       'WolframAlpha, ChatGPT', 'Google Bard, ChatGPT, Bing AI',\n",
      "       'Github Copilot, WolframAlpha',\n",
      "       'Github Copilot, Notion AI, Google Bard, ChatGPT',\n",
      "       'Bing AI, Google Bard, ChatGPT, WolframAlpha, Notion AI',\n",
      "       'Bing AI, AWS CodeWhisperer, ChatGPT', 'ChatGPT, Codeium', 'Claude',\n",
      "       'ChatGPT, Notion AI, Github Copilot',\n",
      "       'ChatGPT, Bing AI, Github Copilot', 'WolframAlpha, ChatGPT, Claude Ai',\n",
      "       'WolframAlpha, Github Copilot', 'Codium AI',\n",
      "       'Google Bard, Bing AI, ChatGPT, Claude.ai',\n",
      "       'ChatGPT, Google Bard, Bing AI, Github Copilot',\n",
      "       'Bing AI, Github Copilot',\n",
      "       'Bing AI, ChatGPT, AWS CodeWhisperer, Google Bard',\n",
      "       'Google Bard, Github Copilot, ChatGPT, Notion AI',\n",
      "       'Google Bard, Google Geminis', 'Google Bard, ChatGPT, Notion AI',\n",
      "       'ChatGPT, Github Copilot, Notion AI, Bing AI',\n",
      "       'ChatGPT, Google Bard, Github Copilot', 'AiDE',\n",
      "       'ChatGPT, Genesis, Copilot',\n",
      "       'ChatGPT, Google Bard, Github Copilot, Bing AI',\n",
      "       'Bing AI, ChatGPT, Notion AI', 'ChatGPT, Google Bard, CODEGEEX',\n",
      "       'ChatGPT, Claude.ai', 'ChatGPT, Unity Muse',\n",
      "       'ChatGPT, Github Copilot, TabNine',\n",
      "       'Github Copilot, IntelliJ Assistant ',\n",
      "       'ChatGPT, AWS CodeWhisperer, Github Copilot, Notion AI, Bing AI, Google Bard',\n",
      "       'Microsoft Copilot', 'Google Bard, Bing AI, ChatGPT',\n",
      "       'Github Copilot, Notion AI, ChatGPT',\n",
      "       'Github Copilot, Notion AI, AWS CodeWhisperer',\n",
      "       'Google Bard, ChatGPT, Notion AI, Bing AI, Github Copilot',\n",
      "       'Github Copilot, AWS CodeWhisperer, ChatGPT, Google Bard', 'Talkai'],\n",
      "      dtype='object', name='use_AI_tools')\n",
      "\n",
      "\n",
      "\n",
      "\n",
      "\n",
      "Index(['No', 'Puede ser, pero dentro de muchos años (más de 10)', 'Sí'], dtype='object', name='AI_replace_dev')\n",
      "\n",
      "\n",
      "\n",
      "\n",
      "\n",
      "Index(['No', 'Sí'], dtype='object', name='layoffs_23_24')\n",
      "\n",
      "\n",
      "\n",
      "\n",
      "\n",
      "Index(['Sí', 'No'], dtype='object', name='working_now')\n",
      "\n",
      "\n",
      "\n",
      "\n",
      "\n",
      "Index(['menos de 3 meses', '3 a 5 meses', '6 meses o más'], dtype='object', name='unemployed_duration')\n",
      "\n",
      "\n",
      "\n",
      "\n",
      "\n",
      "Index(['Sí', 'No'], dtype='object', name='same_role')\n",
      "\n",
      "\n",
      "\n",
      "\n",
      "\n",
      "Index(['menor', 'mayor', 'casi igual'], dtype='object', name='current_vs_prev_salary')\n",
      "\n",
      "\n",
      "\n",
      "\n",
      "\n"
     ]
    }
   ],
   "source": [
    "for i in df.columns:\n",
    "    print(df[i].value_counts().keys())\n",
    "    print(\"\\n\" * 4)"
   ]
  },
  {
   "cell_type": "markdown",
   "id": "779a3084-862b-45ff-8695-1dd746f3fa81",
   "metadata": {},
   "source": [
    "## Replace column values.\n",
    "-- Long names or column contents will be replaced."
   ]
  },
  {
   "cell_type": "code",
   "execution_count": 10,
   "id": "49421701-0db5-41d7-b1e2-501b3fddbbda",
   "metadata": {},
   "outputs": [
    {
     "name": "stdout",
     "output_type": "stream",
     "text": [
      "Columna ----->  work_mode\n",
      "Index(['Remoto', 'Presencial', 'Hibrído', 'Ninguna de las anteriores'], dtype='object', name='work_mode')\n",
      "\n",
      "\n",
      "\n",
      "\n",
      "\n",
      "Columna ----->  employment_mode\n",
      "Index(['Empleador local (Paraguay)', 'Empleador del exterior', 'Freelance',\n",
      "       'Empleador local con clientes del exterior'],\n",
      "      dtype='object', name='employment_mode')\n",
      "\n",
      "\n",
      "\n",
      "\n",
      "\n",
      "Columna ----->  role\n",
      "Index(['Desarrollador full-stack', 'Desarrollador back-end',\n",
      "       'Aplicaciones de escritorio o empresariales', 'Desarrollador mobile',\n",
      "       'Desarrollador front-end', 'Project Leader',\n",
      "       'Desarrollador back-end, Desarrollador front-end, Desarrollador full-stack',\n",
      "       'Desarrollador back-end, Desarrollador front-end, Desarrollador full-stack, Desarrollador mobile',\n",
      "       'QA o testing', 'Desarrollador full-stack, Project Leader',\n",
      "       ...\n",
      "       'Desarrollador back-end, Desarrollador full-stack, Project Leader',\n",
      "       'Desarrollador back-end, Desarrollador full-stack, Administrador de base de datos',\n",
      "       'Arquitecto de soluciones', 'technical leader ',\n",
      "       'Desarrollador back-end, QA o testing, Data Analyst', 'Data Scientist',\n",
      "       'Desarrollador back-end, Desarrollador front-end, Desarrollador full-stack, Desarrollador de sistemas embebidos, Administrador de base de datos, Project Leader, Data Analyst, Data Engineer, UX/UI',\n",
      "       'Desarrollador back-end, Desarrollador front-end, Desarrollador de sistemas embebidos, Aplicaciones de escritorio o empresariales, Project Leader',\n",
      "       'Desarrollador back-end, Desarrollador front-end, Desarrollador full-stack, Desarrollador mobile, Administrador de base de datos',\n",
      "       'Desarrollador back-end, Analista'],\n",
      "      dtype='object', name='role', length=158)\n",
      "\n",
      "\n",
      "\n",
      "\n",
      "\n",
      "Columna ----->  prog_skills_in_role\n",
      "Index(['Administrador de sistemas', 'DevOps/DataOps',\n",
      "       'Administrador de sistemas, DevOps/DataOps', 'Diseñador',\n",
      "       'Administrador de sistemas, Educador',\n",
      "       'Administrador de sistemas, Diseñador', 'Educador',\n",
      "       'Investigador científico',\n",
      "       'Administrador de sistemas, DevOps/DataOps, Investigador científico',\n",
      "       'DevOps/DataOps, Investigador científico',\n",
      "       'Administrador de sistemas, Investigador científico, Educador',\n",
      "       'Administrador de sistemas, Investigador científico',\n",
      "       'Administrador de sistemas, DevOps/DataOps, Diseñador',\n",
      "       'DevOps/DataOps, Diseñador',\n",
      "       'Administrador de sistemas, DevOps/DataOps, Educador',\n",
      "       'Investigador científico, Educador', 'DevOps/DataOps, Educador',\n",
      "       'Investigador científico, Diseñador, Educador',\n",
      "       'Administrador de sistemas, DevOps/DataOps, Investigador científico, Diseñador, Educador',\n",
      "       'Administrador de sistemas, Investigador científico, Diseñador',\n",
      "       'Administrador de sistemas, DevOps/DataOps, Investigador científico, Diseñador'],\n",
      "      dtype='object', name='prog_skills_in_role')\n",
      "\n",
      "\n",
      "\n",
      "\n",
      "\n",
      "Columna ----->  code_for_job\n",
      "Index(['Sí', 'No'], dtype='object', name='code_for_job')\n",
      "\n",
      "\n",
      "\n",
      "\n",
      "\n",
      "Columna ----->  IT_exp\n",
      "Index(['6 a 9 años', '10 a 12 años', '3 a 5 años', '13 a 17 años',\n",
      "       '18 a 25 años', '1 a 2 años', 'Más de 26 años', 'Menos de 1 año'],\n",
      "      dtype='object', name='IT_exp')\n",
      "\n",
      "\n",
      "\n",
      "\n",
      "\n",
      "Columna ----->  prof_prog_exp\n",
      "Index(['6 a 9 años', '3 a 5 años', '1 a 2 años', '10 a 12 años',\n",
      "       '13 a 17 años', 'Menos de 1 año', '18 a 25 años', 'más de 26 años'],\n",
      "      dtype='object', name='prof_prog_exp')\n",
      "\n",
      "\n",
      "\n",
      "\n",
      "\n",
      "Columna ----->  first_code\n",
      "Index(['Menos de 10 años', '16 a 17 años', '14 a 15 años', '10 a 11 años',\n",
      "       '12 a 13 años', '18 a 19 años', '20 a 21 años', '22 a 23 años',\n",
      "       '24 a 25 años', 'más de 30 años', '26 a 27 años', '28 a 29 años'],\n",
      "      dtype='object', name='first_code')\n",
      "\n",
      "\n",
      "\n",
      "\n",
      "\n",
      "Columna ----->  assigned_seniority\n",
      "Index(['Senior', 'Mid-senior', 'Junior', 'No aplica a mi lugar de trabajo',\n",
      "       'Principal', 'Staff', 'Trainee'],\n",
      "      dtype='object', name='assigned_seniority')\n",
      "\n",
      "\n",
      "\n",
      "\n",
      "\n",
      "Columna ----->  self_assessed_seniority\n",
      "Index(['Senior', 'Mid-senior', 'Junior', 'Principal', 'Staff', 'Desconozco',\n",
      "       'Trainee'],\n",
      "      dtype='object', name='self_assessed_seniority')\n",
      "\n",
      "\n",
      "\n",
      "\n",
      "\n",
      "Columna ----->  formal_edu\n",
      "Index(['Título de Grado (licenciatura, ingeniería, etc.)', 'Educación Media',\n",
      "       'Máster', 'Doctorado'],\n",
      "      dtype='object', name='formal_edu')\n",
      "\n",
      "\n",
      "\n",
      "\n",
      "\n",
      "Columna ----->  majors\n",
      "Index(['Ingeniería en Informática', 'Análisis de Sistemas',\n",
      "       'Programación, Análisis de Sistemas',\n",
      "       'Programación, Análisis de Sistemas, Ingeniería en Informática',\n",
      "       'Programación, Ingeniería en Informática',\n",
      "       'Análisis de Sistemas, Ingeniería en Informática', 'Programación',\n",
      "       'Ninguna', 'Ingeniería en Informática, Otras', 'Otras',\n",
      "       'Ingeniería en Electrónica',\n",
      "       'Programación, Análisis de Sistemas, Otras',\n",
      "       'Programación, Análisis de Sistemas, Diseño Gráfico',\n",
      "       'Programación, Otras',\n",
      "       'Programación, Análisis de Sistemas, Matemáticas', 'Otras ingenerías',\n",
      "       'Análisis de Sistemas, Ingeniería en Informática, Otras',\n",
      "       'Programación, Diseño Gráfico, Otras',\n",
      "       'Programación, Ingeniería en Informática, Otras',\n",
      "       'Programación, Análisis de Sistemas, Ingeniería en Informática, Matemáticas, Otras',\n",
      "       'Programación, Análisis de Sistemas, Ingeniería en Informática, Matemáticas',\n",
      "       'Programación, Análisis de Sistemas, Ingeniería en Informática, Otras',\n",
      "       'Programación, Análisis de Sistemas, Ingeniería Civil',\n",
      "       'Programación, Ingeniería en Electrónica, Matemáticas',\n",
      "       'Ingeniería Eléctrica',\n",
      "       'Programación, Análisis de Sistemas, Ingeniería en Informática, Ingeniería Eléctrica',\n",
      "       'Programación, Ingeniería en Electrónica, Otras',\n",
      "       'Programación, Análisis de Sistemas, Matemáticas, Otras',\n",
      "       'Programación, Análisis de Sistemas, Ingeniería en Informática, Diseño Gráfico',\n",
      "       'Análisis de Sistemas, Ingeniería en Informática, Otras ingenerías',\n",
      "       'Otras ingenerías, Otras',\n",
      "       'Programación, Análisis de Sistemas, Ingeniería en Electrónica, Otras ingenerías, Otras',\n",
      "       'Diseño Gráfico', 'Ingeniería en Informática, Matemáticas',\n",
      "       'Matemáticas, Ninguna', 'Análisis de Sistemas, Ingeniería Civil',\n",
      "       'Programación, Otras ingenerías',\n",
      "       'Programación, Análisis de Sistemas, Ingeniería en Informática, Ingeniería en Electrónica, Diseño Gráfico',\n",
      "       'Programación, Análisis de Sistemas, Ingeniería en Informática, Otras ingenerías',\n",
      "       'Programación, Análisis de Sistemas, Ingeniería en Electrónica'],\n",
      "      dtype='object', name='majors')\n",
      "\n",
      "\n",
      "\n",
      "\n",
      "\n",
      "Columna ----->  formal_edu_importance\n",
      "Index(['Muy importante', 'Más o menos importante', 'Bastante importante',\n",
      "       'No importa, no es necesario', 'Crítico'],\n",
      "      dtype='object', name='formal_edu_importance')\n",
      "\n",
      "\n",
      "\n",
      "\n",
      "\n",
      "Columna ----->  gender\n",
      "Index(['Hombre', 'Mujer', 'Prefiero no compartir'], dtype='object', name='gender')\n",
      "\n",
      "\n",
      "\n",
      "\n",
      "\n",
      "Columna ----->  age\n",
      "Index(['30 a 34 años', '25 a 29 años', '35 a 39 años', '20 a 24 años',\n",
      "       '40 a 44 años', '45 a 49 años', '50 a 54 años', '15 a 19 años',\n",
      "       'Más de 60 años', '55 a 59 años'],\n",
      "      dtype='object', name='age')\n",
      "\n",
      "\n",
      "\n",
      "\n",
      "\n",
      "Columna ----->  monthly_salary\n",
      "Index(['Entre 9.000.001 a 12.000.000 gs', 'Entre 5.000.001 a 7.000.000 gs',\n",
      "       'Entre 7.000.001 a 9.000.000 gs', 'Entre 3.500.001 a 5.000.000 gs',\n",
      "       'Entre 12.000.001 a 15.000.000 gs', 'Entre 15.000.001 a 18.000.000 gs',\n",
      "       'Entre 2.550.308 gs a 3.500.000 gs', 'Entre 18.000.001 a 21.000.000 gs',\n",
      "       'más de 50.000.000 gs', 'Entre 24.000.001 a 27.000.000 gs',\n",
      "       '33.000.001 gs a 40.000.000 gs', '27.000.001 gs a 33.000.000',\n",
      "       'Menos del salario mínimo ( 2.550.307 gs)',\n",
      "       '40.000.001 gs a 50.000.000 gs', 'Entre 21.000.001 a 24.000.000 gs',\n",
      "       'Salario mínimo 2.550.307 gs'],\n",
      "      dtype='object', name='monthly_salary')\n",
      "\n",
      "\n",
      "\n",
      "\n",
      "\n",
      "Columna ----->  pro_languages\n",
      "Index(['Python, SQL', 'JavaScript, PHP, HTML/CSS, SQL',\n",
      "       'JavaScript, TypeScript, Java, HTML/CSS, SQL',\n",
      "       'JavaScript, Java, HTML/CSS, SQL', 'JavaScript, TypeScript, HTML/CSS',\n",
      "       'SQL',\n",
      "       'JavaScript, TypeScript, Java, HTML/CSS, SQL, Bash/Shell/PowerShell',\n",
      "       'JavaScript, TypeScript', 'JavaScript, TypeScript, PHP, HTML/CSS, SQL',\n",
      "       'JavaScript, PHP, HTML/CSS, SQL, Bash/Shell/PowerShell',\n",
      "       ...\n",
      "       'JavaScript, TypeScript, Ruby', 'TypeScript, Python, SQL',\n",
      "       'JavaScript, TypeScript, PHP, Python',\n",
      "       'JavaScript, Java, HTML/CSS, SQL, Bash/Shell/PowerShell, Swift',\n",
      "       'Python, Java, Bash/Shell/PowerShell, Genexus ',\n",
      "       'JavaScript, PHP, Java, SQL', 'Python, Java, Genexus',\n",
      "       'Python, C++, SQL', 'JavaScript, C#',\n",
      "       'JavaScript, HTML/CSS, SQL, Bash/Shell/PowerShell, Oracle Forms, Oracle APEX'],\n",
      "      dtype='object', name='pro_languages', length=278)\n",
      "\n",
      "\n",
      "\n",
      "\n",
      "\n",
      "Columna ----->  web_frameworks\n",
      "Index(['React.js', 'Spring', 'JQuery', 'React.js, Django', 'React.js, Express',\n",
      "       'JQuery, Laravel', 'Angular, Spring', 'Laravel', 'React.js, Spring',\n",
      "       'ASP.NET',\n",
      "       ...\n",
      "       'Angular, ASP.NET Core', 'React.js, Angular.js, Express, Django',\n",
      "       'JQuery, Laravel, CakePHP', 'Django, Flask, Laravel',\n",
      "       'React.js, Angular, Angular.js, Vue.js, Spring', 'Angular, Django',\n",
      "       'Vue.js, Django', 'Spring, Django', 'ASP.NET, ASP.NET Core, Flask',\n",
      "       'React.js, ASP.NET, Express'],\n",
      "      dtype='object', name='web_frameworks', length=142)\n",
      "\n",
      "\n",
      "\n",
      "\n",
      "\n",
      "Columna ----->  other_tools\n",
      "Index(['Node.js', 'Node.js, React Native', 'Node.js, Flutter', 'Flutter',\n",
      "       '.NET, NET Core', 'Pandas', '.NET', 'React Native',\n",
      "       'Node.js, React Native, Flutter', 'Ansible', 'Unity 3D',\n",
      "       '.NET, NET Core, Flutter', 'Node.js, .NET', 'Pandas, Torch/PyTorch',\n",
      "       'Node.js, Pandas, Hadoop', 'Node.js, TensorFlow', '.NET, Flutter',\n",
      "       'Pandas, TensorFlow, Keras, Torch/PyTorch', 'Node.js, Cordova',\n",
      "       'Node.js, Ansible', '.NET, NET Core, Xamarin', 'Node.js, Pandas',\n",
      "       '.NET, Unity 3D', 'Flutter, Cordova',\n",
      "       'Pandas, TensorFlow, Ansible, Keras, Torch/PyTorch',\n",
      "       'Node.js, TensorFlow, Unity 3D, Cordova, Unreal Engine',\n",
      "       '.NET, Pandas, Hadoop', 'React Native, Torch/PyTorch',\n",
      "       'Node.js, NET Core', 'Node.js, Ansible, Puppet',\n",
      "       '.NET, Flutter, Cordova', 'Pandas, Flutter',\n",
      "       'Node.js, Pandas, React Native, Cordova', '.NET, NET Core, Pandas',\n",
      "       'Node.js, .NET, Pandas', 'Chef', 'Hadoop',\n",
      "       'TensorFlow, Flutter, Keras, Torch/PyTorch, Hadoop',\n",
      "       'Node.js, Pandas, TensorFlow, Hadoop, Puppet',\n",
      "       'Node.js, .NET, NET Core', '.NET, NET Core, TensorFlow',\n",
      "       'Node.js, Pandas, TensorFlow, Puppet, Chef',\n",
      "       'Node.js, .NET, NET Core, React Native, Flutter', 'Pandas, TensorFlow',\n",
      "       'NET Core', 'Node.js, Flutter, Cordova',\n",
      "       'Node.js, Pandas, TensorFlow, React Native, Torch/PyTorch',\n",
      "       'Node.js, Pandas, TensorFlow, Flutter, Keras',\n",
      "       'Node.js, Ansible, Puppet, Chef', 'TensorFlow',\n",
      "       'NET Core, TensorFlow, Torch/PyTorch',\n",
      "       'Pandas, Ansible, Torch/PyTorch, Hadoop', '.NET, React Native',\n",
      "       'Pandas, Hadoop', 'Node.js, Pandas, Torch/PyTorch',\n",
      "       'Node.js, Pandas, React Native, Flutter, Cordova', 'Cordova',\n",
      "       'Node.js, .NET, NET Core, Pandas', 'Node.js, Keras',\n",
      "       'Node.js, .NET, NET Core, Flutter', 'Pandas, TensorFlow, Torch/PyTorch',\n",
      "       '.NET, NET Core, Pandas, TensorFlow, Keras, Torch/PyTorch'],\n",
      "      dtype='object', name='other_tools')\n",
      "\n",
      "\n",
      "\n",
      "\n",
      "\n",
      "Columna ----->  databases\n",
      "Index(['PostgreSQL', 'Oracle', 'MySQL', 'PostgreSQL, Oracle',\n",
      "       'MySQL, PostgreSQL', 'Microsoft SQL Server', 'PostgreSQL, MongoDB',\n",
      "       'MySQL, PostgreSQL, Microsoft SQL Server', 'MySQL, MariaDB, PostgreSQL',\n",
      "       'MySQL, MariaDB',\n",
      "       ...\n",
      "       'MariaDB, PostgreSQL, Microsoft SQL Server, SQLite, MongoDB',\n",
      "       'PostgreSQL, Microsoft SQL Server, SQLite, IBM DB2',\n",
      "       'MySQL, MariaDB, PostgreSQL, Microsoft SQL Server, SQLite, MongoDB, Firebase',\n",
      "       'Firebase',\n",
      "       'MySQL, PostgreSQL, Microsoft SQL Server, SQLite, Firebase, Cassandra',\n",
      "       'MySQL, Firebase', 'PostgreSQL, SQLite, MongoDB', 'DynamoDB',\n",
      "       'PostgreSQL, SQLite, Redis',\n",
      "       'MySQL, PostgreSQL, MongoDB, Redis, DynamoDB'],\n",
      "      dtype='object', name='databases', length=141)\n",
      "\n",
      "\n",
      "\n",
      "\n",
      "\n",
      "Columna ----->  platforms\n",
      "Index(['Microsoft Windows', 'GNU/Linux, Microsoft Windows',\n",
      "       'GNU/Linux, Microsoft Windows, Docker', 'GNU/Linux', 'MacOS',\n",
      "       'GNU/Linux, Docker, AWS', 'GNU/Linux, Microsoft Windows, AWS',\n",
      "       'GNU/Linux, Microsoft Windows, Docker, AWS',\n",
      "       'GNU/Linux, Microsoft Windows, MacOS', 'GNU/Linux, Docker',\n",
      "       ...\n",
      "       'Raspberry Pi',\n",
      "       'GNU/Linux, Microsoft Windows, Docker, AWS, Android, iOS',\n",
      "       'GNU/Linux, Microsoft Windows, Docker, Azure, Android, iOS, Kubernetes',\n",
      "       'GNU/Linux, Microsoft Windows, MacOS, Docker, AWS, Android, WordPress, iOS',\n",
      "       'MacOS, Docker, AWS, Android, iOS', 'GNU/Linux, Android',\n",
      "       'MacOS, Docker, AWS, iOS',\n",
      "       'GNU/Linux, Microsoft Windows, MacOS, Docker, Android',\n",
      "       'GNU/Linux, Microsoft Windows, Microsoft Azure',\n",
      "       'Microsoft Windows, MacOS, Docker, AWS'],\n",
      "      dtype='object', name='platforms', length=144)\n",
      "\n",
      "\n",
      "\n",
      "\n",
      "\n",
      "Columna ----->  fav_language\n",
      "Index(['Java', 'Python', 'JavaScript', 'TypeScript', 'SQL', 'PHP', 'C#',\n",
      "       'Dart', 'Ruby', 'Oracle form', 'Otro', 'Fox Pro', 'Go', 'C++', 'Kotlin',\n",
      "       'Bash/Shell/PowerShell', 'Rust', 'Genexus', 'C', 'Scala', 'COBOL',\n",
      "       'Swift', 'RPG', 'R'],\n",
      "      dtype='object', name='fav_language')\n",
      "\n",
      "\n",
      "\n",
      "\n",
      "\n",
      "Columna ----->  least_fav_language\n",
      "Index(['Java', 'PHP', 'JavaScript', 'Assembly', 'Genexus', 'Python', 'C#',\n",
      "       'Oracle Forms', 'C', 'Fox Pro', 'HTML/CSS', 'C++', 'COBOL', 'VBA',\n",
      "       'RPG', 'TypeScript', 'Objective-C', 'Ruby', 'Bash/Shell/PowerShell',\n",
      "       'Kotlin', 'SQL', 'Dart', 'R', 'Perl', 'Spring'],\n",
      "      dtype='object', name='least_fav_language')\n",
      "\n",
      "\n",
      "\n",
      "\n",
      "\n",
      "Columna ----->  fav_framework\n",
      "Index(['Spring', 'React.js', 'Django', 'Laravel', 'ASP.NET Core', 'Vue.js',\n",
      "       'Angular', 'Flask', 'Express', 'Ruby on Rails', 'JQuery', 'ASP.NET',\n",
      "       'Angular.js', 'CodeIgniter'],\n",
      "      dtype='object', name='fav_framework')\n",
      "\n",
      "\n",
      "\n",
      "\n",
      "\n",
      "Columna ----->  least_fav_framework\n",
      "Index(['JQuery', 'Spring', 'Angular', 'Laravel', 'ASP.NET', 'Angular.js',\n",
      "       'ASP.NET Core', 'React.js', 'CodeIgniter', 'Django', 'CakePHP',\n",
      "       'Ruby on Rails', 'Vue.js', 'Flask', 'Express', 'Gastby'],\n",
      "      dtype='object', name='least_fav_framework')\n",
      "\n",
      "\n",
      "\n",
      "\n",
      "\n",
      "Columna ----->  tools\n",
      "Index(['GitHub', 'GitLab', 'Microsoft Team', 'Google Suite (Docs, Meet, etc)',\n",
      "       'Google Suite (Docs, Meet, etc), GitHub', 'Discord, GitHub', 'Discord',\n",
      "       'Microsoft Team, Microsoft Azure', 'Slack, Jira, Confluence, GitHub',\n",
      "       'GitLab, GitHub',\n",
      "       ...\n",
      "       'GitHub, Trello, Microsoft Team, Notion',\n",
      "       'Jira, Microsoft Azure, GitHub, Trello, Discord, Microsoft Team, Google Suite (Docs, Meet, etc), Confluence',\n",
      "       'Confluence, GitLab, Jira, Slack, GitHub',\n",
      "       'Microsoft Team, Jira, Slack, Trello, Confluence',\n",
      "       'Jira, Notion, Slack, GitLab, Google Suite (Docs, Meet, etc)',\n",
      "       'Google Suite (Docs, Meet, etc), Trello',\n",
      "       'Microsoft Team, Jira, Confluence',\n",
      "       'GitLab, Slack, Google Suite (Docs, Meet, etc)',\n",
      "       'Google Suite (Docs, Meet, etc), Slack, Trello, GitHub, Discord',\n",
      "       'GitHub, Slack, Microsoft Team'],\n",
      "      dtype='object', name='tools', length=302)\n",
      "\n",
      "\n",
      "\n",
      "\n",
      "\n",
      "Columna ----->  use_AI_tools\n",
      "Index(['ChatGPT', 'ChatGPT, Github Copilot', 'Github Copilot, ChatGPT',\n",
      "       'Google Bard, ChatGPT', 'ChatGPT, Bing AI', 'Github Copilot',\n",
      "       'ChatGPT, Google Bard', 'Bing AI, ChatGPT',\n",
      "       'ChatGPT, Github Copilot, Google Bard', 'Bing AI', 'Codeium',\n",
      "       'Notion AI', 'Google Bard', 'Bing AI, ChatGPT, Github Copilot',\n",
      "       'Github Copilot, Bing AI', 'ChatGPT, Google Bard, Bing AI',\n",
      "       'ChatGPT, Bing AI, Google Bard', 'Bing AI, Github Copilot, ChatGPT',\n",
      "       'Notion AI, Github Copilot, ChatGPT',\n",
      "       'Github Copilot, ChatGPT, Google Bard', 'Notion AI, ChatGPT, Bing AI',\n",
      "       'WolframAlpha, ChatGPT', 'Google Bard, ChatGPT, Bing AI',\n",
      "       'Github Copilot, WolframAlpha',\n",
      "       'Github Copilot, Notion AI, Google Bard, ChatGPT',\n",
      "       'Bing AI, Google Bard, ChatGPT, WolframAlpha, Notion AI',\n",
      "       'Bing AI, AWS CodeWhisperer, ChatGPT', 'ChatGPT, Codeium', 'Claude',\n",
      "       'ChatGPT, Notion AI, Github Copilot',\n",
      "       'ChatGPT, Bing AI, Github Copilot', 'WolframAlpha, ChatGPT, Claude Ai',\n",
      "       'WolframAlpha, Github Copilot', 'Codium AI',\n",
      "       'Google Bard, Bing AI, ChatGPT, Claude.ai',\n",
      "       'ChatGPT, Google Bard, Bing AI, Github Copilot',\n",
      "       'Bing AI, Github Copilot',\n",
      "       'Bing AI, ChatGPT, AWS CodeWhisperer, Google Bard',\n",
      "       'Google Bard, Github Copilot, ChatGPT, Notion AI',\n",
      "       'Google Bard, Google Geminis', 'Google Bard, ChatGPT, Notion AI',\n",
      "       'ChatGPT, Github Copilot, Notion AI, Bing AI',\n",
      "       'ChatGPT, Google Bard, Github Copilot', 'AiDE',\n",
      "       'ChatGPT, Genesis, Copilot',\n",
      "       'ChatGPT, Google Bard, Github Copilot, Bing AI',\n",
      "       'Bing AI, ChatGPT, Notion AI', 'ChatGPT, Google Bard, CODEGEEX',\n",
      "       'ChatGPT, Claude.ai', 'ChatGPT, Unity Muse',\n",
      "       'ChatGPT, Github Copilot, TabNine',\n",
      "       'Github Copilot, IntelliJ Assistant ',\n",
      "       'ChatGPT, AWS CodeWhisperer, Github Copilot, Notion AI, Bing AI, Google Bard',\n",
      "       'Microsoft Copilot', 'Google Bard, Bing AI, ChatGPT',\n",
      "       'Github Copilot, Notion AI, ChatGPT',\n",
      "       'Github Copilot, Notion AI, AWS CodeWhisperer',\n",
      "       'Google Bard, ChatGPT, Notion AI, Bing AI, Github Copilot',\n",
      "       'Github Copilot, AWS CodeWhisperer, ChatGPT, Google Bard', 'Talkai'],\n",
      "      dtype='object', name='use_AI_tools')\n",
      "\n",
      "\n",
      "\n",
      "\n",
      "\n",
      "Columna ----->  AI_replace_dev\n",
      "Index(['No', 'Puede ser, pero dentro de muchos años (más de 10)', 'Sí'], dtype='object', name='AI_replace_dev')\n",
      "\n",
      "\n",
      "\n",
      "\n",
      "\n",
      "Columna ----->  layoffs_23_24\n",
      "Index(['No', 'Sí'], dtype='object', name='layoffs_23_24')\n",
      "\n",
      "\n",
      "\n",
      "\n",
      "\n",
      "Columna ----->  working_now\n",
      "Index(['Sí', 'No'], dtype='object', name='working_now')\n",
      "\n",
      "\n",
      "\n",
      "\n",
      "\n",
      "Columna ----->  unemployed_duration\n",
      "Index(['menos de 3 meses', '3 a 5 meses', '6 meses o más'], dtype='object', name='unemployed_duration')\n",
      "\n",
      "\n",
      "\n",
      "\n",
      "\n",
      "Columna ----->  same_role\n",
      "Index(['Sí', 'No'], dtype='object', name='same_role')\n",
      "\n",
      "\n",
      "\n",
      "\n",
      "\n",
      "Columna ----->  current_vs_prev_salary\n",
      "Index(['menor', 'mayor', 'casi igual'], dtype='object', name='current_vs_prev_salary')\n",
      "\n",
      "\n",
      "\n",
      "\n",
      "\n"
     ]
    }
   ],
   "source": [
    "for i in df.columns:\n",
    "    print(\"Columna -----> \", i)\n",
    "    print(df[i].value_counts().keys())\n",
    "\n",
    "    print(\"\\n\" * 4)"
   ]
  },
  {
   "cell_type": "markdown",
   "id": "1a4f4202-ce70-465b-942a-1b1e213fc4a3",
   "metadata": {},
   "source": [
    "## work_mode\n",
    "\n",
    "\n"
   ]
  },
  {
   "cell_type": "code",
   "execution_count": 11,
   "id": "ace7c291-0f48-4000-98a8-44872827e0d3",
   "metadata": {},
   "outputs": [
    {
     "data": {
      "text/plain": [
       "Index(['work_mode', 'employment_mode', 'role', 'prog_skills_in_role',\n",
       "       'code_for_job', 'IT_exp', 'prof_prog_exp', 'first_code',\n",
       "       'assigned_seniority', 'self_assessed_seniority', 'formal_edu', 'majors',\n",
       "       'formal_edu_importance', 'gender', 'age', 'monthly_salary',\n",
       "       'pro_languages', 'web_frameworks', 'other_tools', 'databases',\n",
       "       'platforms', 'fav_language', 'least_fav_language', 'fav_framework',\n",
       "       'least_fav_framework', 'tools', 'use_AI_tools', 'AI_replace_dev',\n",
       "       'layoffs_23_24', 'working_now', 'unemployed_duration', 'same_role',\n",
       "       'current_vs_prev_salary'],\n",
       "      dtype='object')"
      ]
     },
     "execution_count": 11,
     "metadata": {},
     "output_type": "execute_result"
    }
   ],
   "source": [
    "df.columns"
   ]
  },
  {
   "cell_type": "code",
   "execution_count": 12,
   "id": "ac42a934-20fb-47ca-85da-c37b587cd4f3",
   "metadata": {},
   "outputs": [
    {
     "name": "stdout",
     "output_type": "stream",
     "text": [
      "Remoto\n",
      "Presencial\n",
      "Hibrído\n",
      "Ninguna de las anteriores\n"
     ]
    }
   ],
   "source": [
    "for i in df[\"work_mode\"].value_counts().keys():\n",
    "    print(i)"
   ]
  },
  {
   "cell_type": "code",
   "execution_count": 13,
   "id": "87dd70ab-7641-4539-b152-ada54c818208",
   "metadata": {},
   "outputs": [],
   "source": [
    "eh.replace_column_content(\n",
    "    df,\n",
    "    \"work_mode\",\n",
    "    {\n",
    "        \"Remoto\": \"remote\",\n",
    "        \"Presencial\": \"onsite\",\n",
    "        \"Híbrido\": \"hybrid\",\n",
    "        \"Ninguna de las anteriores\": \"none\",\n",
    "    },\n",
    ")"
   ]
  },
  {
   "cell_type": "code",
   "execution_count": 14,
   "id": "9307a7c0-db77-4da1-895a-8b1825f576d7",
   "metadata": {},
   "outputs": [
    {
     "data": {
      "text/plain": [
       "Index(['remote', 'onsite', 'Hibrído', 'none'], dtype='object', name='work_mode')"
      ]
     },
     "execution_count": 14,
     "metadata": {},
     "output_type": "execute_result"
    }
   ],
   "source": [
    "df[\"work_mode\"].value_counts().keys()"
   ]
  },
  {
   "cell_type": "markdown",
   "id": "bf3214c1-c78a-4670-819a-8c0d8d150acf",
   "metadata": {},
   "source": [
    "## employment_mode"
   ]
  },
  {
   "cell_type": "code",
   "execution_count": 15,
   "id": "b844483c-f864-492a-b9ab-4262ea399ed5",
   "metadata": {},
   "outputs": [
    {
     "data": {
      "text/plain": [
       "Index(['work_mode', 'employment_mode', 'role', 'prog_skills_in_role',\n",
       "       'code_for_job', 'IT_exp', 'prof_prog_exp', 'first_code',\n",
       "       'assigned_seniority', 'self_assessed_seniority', 'formal_edu', 'majors',\n",
       "       'formal_edu_importance', 'gender', 'age', 'monthly_salary',\n",
       "       'pro_languages', 'web_frameworks', 'other_tools', 'databases',\n",
       "       'platforms', 'fav_language', 'least_fav_language', 'fav_framework',\n",
       "       'least_fav_framework', 'tools', 'use_AI_tools', 'AI_replace_dev',\n",
       "       'layoffs_23_24', 'working_now', 'unemployed_duration', 'same_role',\n",
       "       'current_vs_prev_salary'],\n",
       "      dtype='object')"
      ]
     },
     "execution_count": 15,
     "metadata": {},
     "output_type": "execute_result"
    }
   ],
   "source": [
    "df.columns"
   ]
  },
  {
   "cell_type": "code",
   "execution_count": 16,
   "id": "b14a5216-a878-4a15-9c30-10d3064099c7",
   "metadata": {},
   "outputs": [
    {
     "data": {
      "text/plain": [
       "Index(['Empleador local (Paraguay)', 'Empleador del exterior', 'Freelance',\n",
       "       'Empleador local con clientes del exterior'],\n",
       "      dtype='object', name='employment_mode')"
      ]
     },
     "execution_count": 16,
     "metadata": {},
     "output_type": "execute_result"
    }
   ],
   "source": [
    "df[\"employment_mode\"].value_counts().keys()"
   ]
  },
  {
   "cell_type": "code",
   "execution_count": 17,
   "id": "a7880e8f-b4ec-4d49-a07b-09b31ec1ce29",
   "metadata": {},
   "outputs": [],
   "source": [
    "eh.replace_column_content(\n",
    "    df,\n",
    "    \"employment_mode\",\n",
    "    {\n",
    "        \"Empleador local (Paraguay)\": \"local_employer\",\n",
    "        \"Empleador del exterior\": \"foreign_employer\",\n",
    "        \"Freelance\": \"freelance\",\n",
    "        \"Empleador local con clientes del exterior\": \"local_with_foreign_clients\",\n",
    "    },\n",
    ")"
   ]
  },
  {
   "cell_type": "markdown",
   "id": "a4643d12-ea46-4982-ba2f-31a8758f18da",
   "metadata": {},
   "source": [
    "## role\n"
   ]
  },
  {
   "cell_type": "code",
   "execution_count": 18,
   "id": "83a953fb-c6b7-4466-819f-80e8e8ef8266",
   "metadata": {},
   "outputs": [
    {
     "data": {
      "text/plain": [
       "Index(['work_mode', 'employment_mode', 'role', 'prog_skills_in_role',\n",
       "       'code_for_job', 'IT_exp', 'prof_prog_exp', 'first_code',\n",
       "       'assigned_seniority', 'self_assessed_seniority', 'formal_edu', 'majors',\n",
       "       'formal_edu_importance', 'gender', 'age', 'monthly_salary',\n",
       "       'pro_languages', 'web_frameworks', 'other_tools', 'databases',\n",
       "       'platforms', 'fav_language', 'least_fav_language', 'fav_framework',\n",
       "       'least_fav_framework', 'tools', 'use_AI_tools', 'AI_replace_dev',\n",
       "       'layoffs_23_24', 'working_now', 'unemployed_duration', 'same_role',\n",
       "       'current_vs_prev_salary'],\n",
       "      dtype='object')"
      ]
     },
     "execution_count": 18,
     "metadata": {},
     "output_type": "execute_result"
    }
   ],
   "source": [
    "df.columns"
   ]
  },
  {
   "cell_type": "code",
   "execution_count": 19,
   "id": "e6d17901-326d-4c6a-ae1e-9e33f5e52042",
   "metadata": {},
   "outputs": [],
   "source": [
    "from collections import Counter"
   ]
  },
  {
   "cell_type": "code",
   "execution_count": 20,
   "id": "6247e28a-a49f-4ac1-bcc0-7c4c63bc7f57",
   "metadata": {},
   "outputs": [],
   "source": [
    "uniques = {}\n",
    "\n",
    "for i in df[\"role\"].str.split(\",\"):\n",
    "    for j in i:\n",
    "        uniques[j.lstrip()] = None"
   ]
  },
  {
   "cell_type": "code",
   "execution_count": 21,
   "id": "00d69908-26f0-4e2f-a061-46b935cc524f",
   "metadata": {},
   "outputs": [
    {
     "name": "stdout",
     "output_type": "stream",
     "text": [
      "Data Engineer\n",
      "Aplicaciones de escritorio o empresariales\n",
      "QA o testing\n",
      "Data Analyst\n",
      "Backend Architect\n",
      "Administrador de base de datos\n",
      "Project Leader\n",
      "Desarrollador full-stack\n",
      "Dev/Ops\n",
      "Desarrollador back-end\n",
      "Desarrollador front-end\n",
      "SRE\n",
      "Análisis y QA tester\n",
      "Data Scientist\n",
      "Especialista Inteligencia Artificial\n",
      "Analista Digital\n",
      "Desarrollador mobile\n",
      "Coordinador de Sistemas\n",
      "Ti\n",
      "Desarrollador de videojuegos\n",
      "Vendedor\n",
      "Support Analyst\n",
      "Arquitecto de Sistemas\n",
      "UX/UI\n",
      "Analista de sistemas\n",
      "Machine Learning Engineer\n",
      "Desarrollador de sistemas embebidos\n",
      "technical leader \n",
      "Arquitecto de soluciones\n",
      "Software Architect\n",
      "Analista TI\n",
      "Referente de comunidad\n",
      "Lider Técnico\n",
      "DBA\n",
      "API Rest\n",
      "Desarrollador de Tableau\n",
      "CRM\n",
      "Desarrollador Cloud\n",
      "Desarrollador de Plataforma\n",
      "team lead \n",
      "Ingeniero Junior Electricista\n",
      "Analista de Calidad \n",
      "Auditor Informatico\n",
      "Platform Engineer \n",
      "Analista / QA\n",
      "Analista\n"
     ]
    }
   ],
   "source": [
    "for i in uniques.keys():\n",
    "    print(i)"
   ]
  },
  {
   "cell_type": "code",
   "execution_count": 22,
   "id": "76f8de13-d3d8-4c16-8229-693b3e9b7847",
   "metadata": {},
   "outputs": [],
   "source": [
    "roles = {\n",
    "    \"Data Engineer\": \"data_eng\",\n",
    "    \"Aplicaciones de escritorio o empresariales\": \"desktop_apps\",\n",
    "    \"QA o testing\": \"qa_testing\",\n",
    "    \"Data Analyst\": \"data_analyst\",\n",
    "    \"Backend Architect\": \"backend_arch\",\n",
    "    \"Administrador de base de datos\": \"db_admin\",\n",
    "    \"Project Leader\": \"proj_lead\",\n",
    "    \"Desarrollador full-stack\": \"full_stack_dev\",\n",
    "    \"Dev/Ops\": \"dev_ops\",\n",
    "    \"Desarrollador back-end\": \"backend_dev\",\n",
    "    \"Desarrollador front-end\": \"frontend_dev\",\n",
    "    \"SRE\": \"sre\",\n",
    "    \"Análisis y QA tester\": \"qa_tester\",\n",
    "    \"Data Scientist\": \"data_sci\",\n",
    "    \"Especialista Inteligencia Artificial\": \"ai_specialist\",\n",
    "    \"Analista Digital\": \"digital_analyst\",\n",
    "    \"Desarrollador mobile\": \"mobile_dev\",\n",
    "    \"Coordinador de Sistemas\": \"sys_coord\",\n",
    "    \"Ti\": \"it\",\n",
    "    \"Desarrollador de videojuegos\": \"game_dev\",\n",
    "    \"Vendedor\": \"sales\",\n",
    "    \"Support Analyst\": \"support_analyst\",\n",
    "    \"Arquitecto de Sistemas\": \"sys_arch\",\n",
    "    \"UX/UI\": \"ux_ui\",\n",
    "    \"Analista de sistemas\": \"sys_analyst\",\n",
    "    \"Machine Learning Engineer\": \"ml_eng\",\n",
    "    \"Desarrollador de sistemas embebidos\": \"embedded_sys_dev\",\n",
    "    \"technical leader\": \"tech_lead\",\n",
    "    \"Arquitecto de soluciones\": \"solution_arch\",\n",
    "    \"Software Architect\": \"software_arch\",\n",
    "    \"Analista TI\": \"it_analyst\",\n",
    "    \"Referente de comunidad\": \"community_lead\",\n",
    "    \"Lider Técnico\": \"tech_lead\",\n",
    "    \"DBA\": \"dba\",\n",
    "    \"API Rest\": \"api_rest\",\n",
    "    \"Desarrollador de Tableau\": \"tableau_dev\",\n",
    "    \"CRM\": \"crm\",\n",
    "    \"Desarrollador Cloud\": \"cloud_dev\",\n",
    "    \"Desarrollador de Plataforma\": \"platform_dev\",\n",
    "    \"team lead\": \"team_lead\",\n",
    "    \"Ingeniero Junior Electricista\": \"jr_electrical_eng\",\n",
    "    \"Analista de Calidad\": \"quality_analyst\",\n",
    "    \"Auditor Informatico\": \"it_auditor\",\n",
    "    \"Platform Engineer\": \"platform_eng\",\n",
    "    \"Analista / QA\": \"analyst_qa\",\n",
    "    \"Analista\": \"analyst\",\n",
    "}"
   ]
  },
  {
   "cell_type": "code",
   "execution_count": 23,
   "id": "b4cf7b97-6448-4171-98b0-5fcefbc07f67",
   "metadata": {},
   "outputs": [],
   "source": [
    "eh.replace_column_content(df, \"role\", roles)"
   ]
  },
  {
   "cell_type": "code",
   "execution_count": 24,
   "id": "1d3005df-2df1-47e9-ba3a-39b0a4a85a0b",
   "metadata": {},
   "outputs": [
    {
     "data": {
      "text/plain": [
       "Index(['full_stack_dev', 'backend_dev', 'desktop_apps', 'mobile_dev',\n",
       "       'frontend_dev', 'proj_lead',\n",
       "       'backend_dev, frontend_dev, full_stack_dev',\n",
       "       'backend_dev, frontend_dev, full_stack_dev, mobile_dev', 'qa_testing',\n",
       "       'full_stack_dev, proj_lead',\n",
       "       ...\n",
       "       'backend_dev, full_stack_dev, proj_lead',\n",
       "       'backend_dev, full_stack_dev, db_admin', 'solution_arch', 'tech_lead ',\n",
       "       'backend_dev, qa_testing, data_analyst', 'data_sci',\n",
       "       'backend_dev, frontend_dev, full_stack_dev, embedded_sys_dev, db_admin, proj_lead, data_analyst, data_eng, ux_ui',\n",
       "       'backend_dev, frontend_dev, embedded_sys_dev, desktop_apps, proj_lead',\n",
       "       'backend_dev, frontend_dev, full_stack_dev, mobile_dev, db_admin',\n",
       "       'backend_dev, analyst'],\n",
       "      dtype='object', name='role', length=158)"
      ]
     },
     "execution_count": 24,
     "metadata": {},
     "output_type": "execute_result"
    }
   ],
   "source": [
    "df[\"role\"].value_counts().keys()"
   ]
  },
  {
   "cell_type": "markdown",
   "id": "f7adce46-876b-45b7-8173-7b8560d02f93",
   "metadata": {},
   "source": [
    "## prog_skills_in_role"
   ]
  },
  {
   "cell_type": "code",
   "execution_count": 25,
   "id": "467a9ae9-8d81-41f4-a800-2beb7b267690",
   "metadata": {},
   "outputs": [
    {
     "data": {
      "text/plain": [
       "Index(['work_mode', 'employment_mode', 'role', 'prog_skills_in_role',\n",
       "       'code_for_job', 'IT_exp', 'prof_prog_exp', 'first_code',\n",
       "       'assigned_seniority', 'self_assessed_seniority', 'formal_edu', 'majors',\n",
       "       'formal_edu_importance', 'gender', 'age', 'monthly_salary',\n",
       "       'pro_languages', 'web_frameworks', 'other_tools', 'databases',\n",
       "       'platforms', 'fav_language', 'least_fav_language', 'fav_framework',\n",
       "       'least_fav_framework', 'tools', 'use_AI_tools', 'AI_replace_dev',\n",
       "       'layoffs_23_24', 'working_now', 'unemployed_duration', 'same_role',\n",
       "       'current_vs_prev_salary'],\n",
       "      dtype='object')"
      ]
     },
     "execution_count": 25,
     "metadata": {},
     "output_type": "execute_result"
    }
   ],
   "source": [
    "df.columns"
   ]
  },
  {
   "cell_type": "code",
   "execution_count": 26,
   "id": "64a33d5a-f7cd-4d6a-b4f5-81a5379fd1d3",
   "metadata": {},
   "outputs": [
    {
     "data": {
      "text/plain": [
       "Index(['Administrador de sistemas', 'DevOps/DataOps',\n",
       "       'Administrador de sistemas, DevOps/DataOps', 'Diseñador',\n",
       "       'Administrador de sistemas, Educador',\n",
       "       'Administrador de sistemas, Diseñador', 'Educador',\n",
       "       'Investigador científico',\n",
       "       'Administrador de sistemas, DevOps/DataOps, Investigador científico',\n",
       "       'DevOps/DataOps, Investigador científico',\n",
       "       'Administrador de sistemas, Investigador científico, Educador',\n",
       "       'Administrador de sistemas, Investigador científico',\n",
       "       'Administrador de sistemas, DevOps/DataOps, Diseñador',\n",
       "       'DevOps/DataOps, Diseñador',\n",
       "       'Administrador de sistemas, DevOps/DataOps, Educador',\n",
       "       'Investigador científico, Educador', 'DevOps/DataOps, Educador',\n",
       "       'Investigador científico, Diseñador, Educador',\n",
       "       'Administrador de sistemas, DevOps/DataOps, Investigador científico, Diseñador, Educador',\n",
       "       'Administrador de sistemas, Investigador científico, Diseñador',\n",
       "       'Administrador de sistemas, DevOps/DataOps, Investigador científico, Diseñador'],\n",
       "      dtype='object', name='prog_skills_in_role')"
      ]
     },
     "execution_count": 26,
     "metadata": {},
     "output_type": "execute_result"
    }
   ],
   "source": [
    "df[\"prog_skills_in_role\"].value_counts().keys()"
   ]
  },
  {
   "cell_type": "code",
   "execution_count": 27,
   "id": "436abea7-6639-4b61-aa4d-0e7f6b8dc9cc",
   "metadata": {},
   "outputs": [
    {
     "name": "stdout",
     "output_type": "stream",
     "text": [
      "Investigador científico\n",
      "Diseñador\n",
      "Educador\n",
      "Administrador de sistemas\n",
      "DevOps/DataOps\n",
      "Investigador científico\n",
      "Diseñador\n",
      "Administrador de sistemas\n",
      "DevOps/DataOps\n",
      "Investigador científico\n",
      "Administrador de sistemas\n",
      "Investigador científico\n",
      "Diseñador\n",
      "Administrador de sistemas\n",
      "Administrador de sistemas\n",
      "Educador\n",
      "DevOps/DataOps\n",
      "DevOps/DataOps\n",
      "Investigador científico\n",
      "Administrador de sistemas\n",
      "Diseñador\n",
      "Administrador de sistemas\n",
      "DevOps/DataOps\n",
      "Educador\n",
      "Administrador de sistemas\n",
      "DevOps/DataOps\n",
      "Diseñador\n",
      "DevOps/DataOps\n",
      "Diseñador\n",
      "DevOps/DataOps\n",
      "Educador\n",
      "Administrador de sistemas\n",
      "DevOps/DataOps\n",
      "Investigador científico\n",
      "Diseñador\n",
      "Educador\n",
      "Investigador científico\n",
      "Educador\n",
      "Educador\n",
      "Administrador de sistemas\n",
      "Investigador científico\n",
      "Administrador de sistemas\n",
      "Investigador científico\n",
      "Educador\n",
      "Administrador de sistemas\n",
      "DevOps/DataOps\n",
      "Diseñador\n",
      "Investigador científico\n"
     ]
    }
   ],
   "source": [
    "for i in eh.get_column_uniques(df, \"prog_skills_in_role\"):\n",
    "    for j in i.split(\",\"):\n",
    "        print(j.lstrip())"
   ]
  },
  {
   "cell_type": "code",
   "execution_count": 28,
   "id": "c7e293b2-729a-4016-ba64-11d1c4120f3d",
   "metadata": {},
   "outputs": [],
   "source": [
    "unique_roles = {\n",
    "    \"Diseñador\": \"designer\",\n",
    "    \"Administrador de sistemas\": \"sys_admin\",\n",
    "    \"Investigador científico\": \"scientific_researcher\",\n",
    "    \"Educador\": \"educator\",\n",
    "    \"DevOps/DataOps\": \"devops_dataops\",\n",
    "}\n",
    "\n",
    "\n",
    "eh.replace_column_content(df, \"prog_skills_in_role\", unique_roles)"
   ]
  },
  {
   "cell_type": "code",
   "execution_count": 29,
   "id": "67fec621-ea16-4ead-bc98-c1e06f57676a",
   "metadata": {},
   "outputs": [
    {
     "data": {
      "text/plain": [
       "['sys_admin, devops_dataops, scientific_researcher, designer',\n",
       " 'sys_admin, designer',\n",
       " 'sys_admin',\n",
       " 'devops_dataops',\n",
       " 'sys_admin, scientific_researcher',\n",
       " 'scientific_researcher, designer, educator',\n",
       " 'sys_admin, devops_dataops, scientific_researcher, designer, educator',\n",
       " 'devops_dataops, educator',\n",
       " 'devops_dataops, designer',\n",
       " 'scientific_researcher',\n",
       " 'sys_admin, scientific_researcher, educator',\n",
       " 'sys_admin, devops_dataops, designer',\n",
       " 'scientific_researcher, educator',\n",
       " 'sys_admin, devops_dataops, scientific_researcher',\n",
       " 'sys_admin, educator',\n",
       " 'sys_admin, scientific_researcher, designer',\n",
       " 'designer',\n",
       " 'devops_dataops, scientific_researcher',\n",
       " 'educator',\n",
       " 'sys_admin, devops_dataops',\n",
       " 'sys_admin, devops_dataops, educator']"
      ]
     },
     "execution_count": 29,
     "metadata": {},
     "output_type": "execute_result"
    }
   ],
   "source": [
    "eh.get_column_uniques(df, \"prog_skills_in_role\")"
   ]
  },
  {
   "cell_type": "markdown",
   "id": "634b72ca-b8d4-4fee-abdc-6f78fbc0ed21",
   "metadata": {},
   "source": [
    "## majors"
   ]
  },
  {
   "cell_type": "code",
   "execution_count": 30,
   "id": "8823a2ce-2212-4df5-a070-180b335ab6ee",
   "metadata": {},
   "outputs": [
    {
     "data": {
      "text/plain": [
       "Index(['work_mode', 'employment_mode', 'role', 'prog_skills_in_role',\n",
       "       'code_for_job', 'IT_exp', 'prof_prog_exp', 'first_code',\n",
       "       'assigned_seniority', 'self_assessed_seniority', 'formal_edu', 'majors',\n",
       "       'formal_edu_importance', 'gender', 'age', 'monthly_salary',\n",
       "       'pro_languages', 'web_frameworks', 'other_tools', 'databases',\n",
       "       'platforms', 'fav_language', 'least_fav_language', 'fav_framework',\n",
       "       'least_fav_framework', 'tools', 'use_AI_tools', 'AI_replace_dev',\n",
       "       'layoffs_23_24', 'working_now', 'unemployed_duration', 'same_role',\n",
       "       'current_vs_prev_salary'],\n",
       "      dtype='object')"
      ]
     },
     "execution_count": 30,
     "metadata": {},
     "output_type": "execute_result"
    }
   ],
   "source": [
    "df.columns"
   ]
  },
  {
   "cell_type": "code",
   "execution_count": 31,
   "id": "40b4e4c7-2976-4652-8c0c-b4dc887fe8a8",
   "metadata": {},
   "outputs": [
    {
     "data": {
      "text/plain": [
       "dict_keys(['Programación', 'Análisis de Sistemas', 'Ingeniería Civil', 'Ingeniería en Electrónica', 'Matemáticas', 'Otras', 'Ingeniería en Informática', 'Ingeniería Eléctrica', 'Diseño Gráfico', 'Otras ingenerías', 'Ninguna'])"
      ]
     },
     "execution_count": 31,
     "metadata": {},
     "output_type": "execute_result"
    }
   ],
   "source": [
    "carr = []\n",
    "for i in eh.get_column_uniques(df, \"majors\"):\n",
    "    for j in i.split(\",\"):\n",
    "        carr.append(j.lstrip())\n",
    "\n",
    "Counter(carr).keys()"
   ]
  },
  {
   "cell_type": "code",
   "execution_count": 32,
   "id": "75ad501a-f4b1-4788-9fd6-25fcf8f089ad",
   "metadata": {},
   "outputs": [],
   "source": [
    "majors_translation = {\n",
    "    \"Programación\": \"programming\",\n",
    "    \"Ingeniería en Electrónica\": \"electronic_engineering\",\n",
    "    \"Matemáticas\": \"mathematics\",\n",
    "    \"Análisis de Sistemas\": \"systems_analysis\",\n",
    "    \"Otras\": \"other\",\n",
    "    \"Ingeniería en Informática\": \"computer_engineering\",\n",
    "    \"Diseño Gráfico\": \"graphic_design\",\n",
    "    \"Ninguna\": \"none\",\n",
    "    \"Otras ingenerías\": \"other_engineering\",\n",
    "    \"Ingeniería Eléctrica\": \"electrical_engineering\",\n",
    "    \"Ingeniería Civil\": \"civil_engineering\",\n",
    "}\n",
    "\n",
    "eh.replace_column_content(df, \"majors\", majors_translation)"
   ]
  },
  {
   "cell_type": "code",
   "execution_count": 33,
   "id": "2229fd2f-8070-4001-8fbf-9e8a35f10b1c",
   "metadata": {},
   "outputs": [
    {
     "data": {
      "text/plain": [
       "['programming, systems_analysis, computer_engineering, other',\n",
       " 'other ingenerías, other',\n",
       " 'systems_analysis, computer_engineering, other ingenerías',\n",
       " 'programming',\n",
       " 'systems_analysis, computer_engineering, other',\n",
       " 'graphic_design',\n",
       " 'programming, systems_analysis, electronic_engineering, other ingenerías, other',\n",
       " 'programming, systems_analysis, other',\n",
       " 'computer_engineering',\n",
       " 'electronic_engineering',\n",
       " 'systems_analysis, computer_engineering',\n",
       " 'electrical_engineering',\n",
       " 'none',\n",
       " 'programming, systems_analysis, civil_engineering',\n",
       " 'programming, electronic_engineering, other',\n",
       " 'programming, systems_analysis, computer_engineering, graphic_design',\n",
       " 'systems_analysis, civil_engineering',\n",
       " 'systems_analysis',\n",
       " 'computer_engineering, other',\n",
       " 'other ingenerías',\n",
       " 'programming, systems_analysis, graphic_design',\n",
       " 'programming, computer_engineering',\n",
       " 'programming, systems_analysis, computer_engineering, mathematics, other',\n",
       " 'computer_engineering, mathematics',\n",
       " 'programming, systems_analysis, electronic_engineering',\n",
       " 'programming, systems_analysis',\n",
       " 'programming, systems_analysis, computer_engineering',\n",
       " 'programming, electronic_engineering, mathematics',\n",
       " 'other',\n",
       " 'programming, systems_analysis, mathematics, other',\n",
       " 'programming, other',\n",
       " 'programming, graphic_design, other',\n",
       " 'mathematics, none',\n",
       " 'programming, other ingenerías',\n",
       " 'programming, systems_analysis, computer_engineering, electrical_engineering',\n",
       " 'programming, systems_analysis, mathematics',\n",
       " 'programming, systems_analysis, computer_engineering, other ingenerías',\n",
       " 'programming, systems_analysis, computer_engineering, electronic_engineering, graphic_design',\n",
       " 'programming, systems_analysis, computer_engineering, mathematics',\n",
       " 'programming, computer_engineering, other']"
      ]
     },
     "execution_count": 33,
     "metadata": {},
     "output_type": "execute_result"
    }
   ],
   "source": [
    "eh.get_column_uniques(df, \"majors\")"
   ]
  },
  {
   "cell_type": "markdown",
   "id": "538d104c-1fea-4019-93c3-e201f49eb1d4",
   "metadata": {},
   "source": [
    "## monthly_salary"
   ]
  },
  {
   "cell_type": "code",
   "execution_count": 34,
   "id": "871374ac-f2d5-4267-8dd5-f13ad03746a7",
   "metadata": {},
   "outputs": [
    {
     "data": {
      "text/plain": [
       "Index(['work_mode', 'employment_mode', 'role', 'prog_skills_in_role',\n",
       "       'code_for_job', 'IT_exp', 'prof_prog_exp', 'first_code',\n",
       "       'assigned_seniority', 'self_assessed_seniority', 'formal_edu', 'majors',\n",
       "       'formal_edu_importance', 'gender', 'age', 'monthly_salary',\n",
       "       'pro_languages', 'web_frameworks', 'other_tools', 'databases',\n",
       "       'platforms', 'fav_language', 'least_fav_language', 'fav_framework',\n",
       "       'least_fav_framework', 'tools', 'use_AI_tools', 'AI_replace_dev',\n",
       "       'layoffs_23_24', 'working_now', 'unemployed_duration', 'same_role',\n",
       "       'current_vs_prev_salary'],\n",
       "      dtype='object')"
      ]
     },
     "execution_count": 34,
     "metadata": {},
     "output_type": "execute_result"
    }
   ],
   "source": [
    "df.columns"
   ]
  },
  {
   "cell_type": "code",
   "execution_count": 35,
   "id": "770c03ad-4a50-4ff6-9107-40f2d1a4afd5",
   "metadata": {},
   "outputs": [
    {
     "data": {
      "text/plain": [
       "Index(['Entre 9.000.001 a 12.000.000 gs', 'Entre 5.000.001 a 7.000.000 gs',\n",
       "       'Entre 7.000.001 a 9.000.000 gs', 'Entre 3.500.001 a 5.000.000 gs',\n",
       "       'Entre 12.000.001 a 15.000.000 gs', 'Entre 15.000.001 a 18.000.000 gs',\n",
       "       'Entre 2.550.308 gs a 3.500.000 gs', 'Entre 18.000.001 a 21.000.000 gs',\n",
       "       'más de 50.000.000 gs', 'Entre 24.000.001 a 27.000.000 gs',\n",
       "       '33.000.001 gs a 40.000.000 gs', '27.000.001 gs a 33.000.000',\n",
       "       'Menos del salario mínimo ( 2.550.307 gs)',\n",
       "       '40.000.001 gs a 50.000.000 gs', 'Entre 21.000.001 a 24.000.000 gs',\n",
       "       'Salario mínimo 2.550.307 gs'],\n",
       "      dtype='object', name='monthly_salary')"
      ]
     },
     "execution_count": 35,
     "metadata": {},
     "output_type": "execute_result"
    }
   ],
   "source": [
    "df[\"monthly_salary\"].value_counts().keys()"
   ]
  },
  {
   "cell_type": "code",
   "execution_count": 36,
   "id": "571b2ec6-1655-4e83-b731-cf3fb8154516",
   "metadata": {},
   "outputs": [],
   "source": [
    "# Strip extra spaces from the column\n",
    "df[\"monthly_salary\"] = df[\"monthly_salary\"].str.strip()\n",
    "\n",
    "\n",
    "salary_ranges = {\n",
    "    \"Entre 9.000.001 a 12.000.000 gs\": \"9M_12M\",\n",
    "    \"Entre 5.000.001 a 7.000.000 gs\": \"5M_7M\",\n",
    "    \"Entre 7.000.001 a 9.000.000 gs\": \"7M_9M\",\n",
    "    \"Entre 3.500.001 a 5.000.000 gs\": \"3.5M_5M\",\n",
    "    \"Entre 12.000.001 a 15.000.000 gs\": \"12M_15M\",\n",
    "    \"Entre 15.000.001 a 18.000.000 gs\": \"15M_18M\",\n",
    "    \"Entre 2.550.308 gs a 3.500.000 gs\": \"2.55M_3.5M\",\n",
    "    \"Entre 18.000.001 a 21.000.000 gs\": \"18M_21M\",\n",
    "    \"más de 50.000.000 gs\": \"50M+\",\n",
    "    \"Entre 24.000.001 a 27.000.000 gs\": \"24M_27M\",\n",
    "    \"33.000.001 gs a 40.000.000 gs\": \"33M_40M\",\n",
    "    \"27.000.001 gs a 33.000.000\": \"27M_33M\",\n",
    "    \"Menos del salario mínimo ( 2.550.307 gs)\": \"<min_wage\",\n",
    "    \"40.000.001 gs a 50.000.000 gs\": \"40M_50M\",\n",
    "    \"Entre 21.000.001 a 24.000.000 gs\": \"21M_24M\",\n",
    "    \"Salario mínimo 2.550.307 gs\": \"min_wage\",\n",
    "}\n",
    "# Apply the replacement\n",
    "eh.replace_column_content(df, \"monthly_salary\", salary_ranges)"
   ]
  },
  {
   "cell_type": "code",
   "execution_count": 37,
   "id": "72280865-d94a-49a8-9492-22b968773bdb",
   "metadata": {},
   "outputs": [
    {
     "data": {
      "text/plain": [
       "Index(['9M_12M', '5M_7M', '7M_9M', '3.5M_5M', '12M_15M', '15M_18M',\n",
       "       '2.55M_3.5M', '18M_21M', '50M+', '24M_27M', '33M_40M', '27M_33M',\n",
       "       'Menos del salario mínimo ( 2.550.307 gs)', '40M_50M', '21M_24M',\n",
       "       'min_wage'],\n",
       "      dtype='object', name='monthly_salary')"
      ]
     },
     "execution_count": 37,
     "metadata": {},
     "output_type": "execute_result"
    }
   ],
   "source": [
    "df[\"monthly_salary\"].value_counts().keys()"
   ]
  },
  {
   "cell_type": "code",
   "execution_count": 38,
   "id": "6e2cf2d8-726a-49df-9c70-676ef1e86620",
   "metadata": {},
   "outputs": [],
   "source": [
    "df[\"monthly_salary\"].replace(\n",
    "    \"Menos del salario mínimo ( 2.550.307 gs)\", \"<min_wage\", inplace=True\n",
    ")"
   ]
  },
  {
   "cell_type": "code",
   "execution_count": 39,
   "id": "d5d032e9-0194-4ec9-94c8-52c423ac0f1b",
   "metadata": {},
   "outputs": [
    {
     "data": {
      "text/plain": [
       "Index(['9M_12M', '5M_7M', '7M_9M', '3.5M_5M', '12M_15M', '15M_18M',\n",
       "       '2.55M_3.5M', '18M_21M', '50M+', '24M_27M', '33M_40M', '27M_33M',\n",
       "       '<min_wage', '40M_50M', '21M_24M', 'min_wage'],\n",
       "      dtype='object', name='monthly_salary')"
      ]
     },
     "execution_count": 39,
     "metadata": {},
     "output_type": "execute_result"
    }
   ],
   "source": [
    "df[\"monthly_salary\"].value_counts().keys()"
   ]
  },
  {
   "cell_type": "code",
   "execution_count": 40,
   "id": "9eb19770-5fed-45e8-b3df-617bb752b3b1",
   "metadata": {},
   "outputs": [
    {
     "name": "stdout",
     "output_type": "stream",
     "text": [
      "monthly_salary\n",
      "9M_12M        57\n",
      "5M_7M         52\n",
      "7M_9M         51\n",
      "3.5M_5M       39\n",
      "12M_15M       35\n",
      "15M_18M       32\n",
      "2.55M_3.5M    30\n",
      "18M_21M       17\n",
      "50M+          17\n",
      "24M_27M       14\n",
      "33M_40M       12\n",
      "27M_33M       10\n",
      "<min_wage      9\n",
      "40M_50M        8\n",
      "21M_24M        8\n",
      "min_wage       3\n",
      "Name: count, dtype: int64\n",
      "============================================================\n",
      "33M_40M\n",
      "15M_18M\n",
      "min_wage\n",
      "40M_50M\n",
      "24M_27M\n",
      "12M_15M\n",
      "21M_24M\n",
      "3.5M_5M\n",
      "<min_wage\n",
      "7M_9M\n",
      "9M_12M\n",
      "50M+\n",
      "2.55M_3.5M\n",
      "5M_7M\n",
      "27M_33M\n",
      "18M_21M\n"
     ]
    }
   ],
   "source": [
    "print(df[\"monthly_salary\"].value_counts())\n",
    "print(\"============================================================\")\n",
    "for i in eh.get_column_uniques(df, \"monthly_salary\"):\n",
    "    print(i)"
   ]
  },
  {
   "cell_type": "code",
   "execution_count": null,
   "id": "509d2257-0229-4fdf-b6b0-2eb587a781a1",
   "metadata": {},
   "outputs": [],
   "source": []
  },
  {
   "cell_type": "markdown",
   "id": "6db94dae-ed4b-4000-ae37-4915def5d58e",
   "metadata": {},
   "source": [
    "# TESTING REPLACEMENT\n",
    "--- column names and values"
   ]
  },
  {
   "cell_type": "code",
   "execution_count": 41,
   "id": "16dc16d3-0e59-4fa2-96fe-30321c46b991",
   "metadata": {},
   "outputs": [
    {
     "name": "stdout",
     "output_type": "stream",
     "text": [
      "COLUMNA ---->  work_mode\n",
      "['remote', 'onsite', 'none', 'Hibrído']\n",
      "\n",
      "\n",
      "\n",
      "\n",
      "COLUMNA ---->  employment_mode\n",
      "['freelance', 'foreign_employer', 'Empleador local (Paraguay)', 'local_with_foreign_clients']\n",
      "\n",
      "\n",
      "\n",
      "\n",
      "COLUMNA ---->  role\n",
      "['backend_dev, frontend_dev, desktop_apps, db_admin, data_eng, data_sci, ai_specialist', 'full_stack_dev, qa_testing, proj_lead, dev_ops, ux_ui, ai_specialist', 'full_stack_dev, mobile_dev', 'backend_dev, proj_lead, dev_ops', 'db_admin', 'full_stack_dev, embedded_sys_dev, proj_lead, dev_ops, ux_ui', 'frontend_dev', 'backend_dev, frontend_dev, full_stack_dev, mobile_dev, db_admin', 'game_dev', 'backend_dev, proj_lead', 'frontend_dev, proj_lead', 'backend_dev, db_admin, proj_lead', 'backend_dev, cloud_dev', 'desktop_apps, qa_testing, db_admin, proj_lead', 'backend_dev, full_stack_dev, desktop_apps, db_admin, proj_lead, dev_ops', 'backend_dev, mobile_dev, desktop_apps', 'backend_dev, full_stack_dev, desktop_apps, db_admin', 'backend_dev, embedded_sys_dev, desktop_apps, proj_lead', 'full_stack_dev, desktop_apps, db_admin', 'qa_testing, db_admin', 'backend_dev, frontend_dev, full_stack_dev, desktop_apps, db_admin, dev_ops, sre', 'backend_dev, frontend_dev, mobile_dev', 'mobile_dev, desktop_apps, db_admin', 'full_stack_dev, mobile_dev, db_admin, proj_lead, dev_ops', 'full_stack_dev, mobile_dev, db_admin', 'full_stack_dev, mobile_dev, dev_ops', 'backend_dev, frontend_dev, full_stack_dev, mobile_dev', 'backend_dev, platform_eng ', 'frontend_dev, data_analyst, ux_ui', 'proj_lead', 'data_analyst', 'full_stack_dev, proj_lead', 'backend_dev, frontend_dev, full_stack_dev, dev_ops', 'backend_dev, dev_ops', 'backend_dev, qa_testing', 'backend_dev, full_stack_dev, desktop_apps, data_analyst, ai_specialist', 'backend_arch', 'desktop_apps, qa_testing, db_admin', 'backend_dev, frontend_dev, full_stack_dev, desktop_apps, db_admin, data_analyst, data_eng, data_sci, dev_ops, ux_ui', 'ux_ui', 'backend_dev, frontend_dev, full_stack_dev, crm', 'backend_dev, dev_ops, sys_arch', 'full_stack_dev, desktop_apps', 'backend_dev, frontend_dev', 'support_analyst', 'full_stack_dev', 'backend_dev, frontend_dev, dev_ops, ai_specialist', 'frontend_dev, full_stack_dev, proj_lead', 'backend_dev, desktop_apps, qa_testing, db_admin, proj_lead', 'data_eng, ai_specialist', 'backend_dev, frontend_dev, full_stack_dev, desktop_apps, db_admin, data_analyst, data_eng, data_sci, ai_specialist', 'tech_lead', 'full_stack_dev, embedded_sys_dev, proj_lead, dev_ops', 'tableau_dev', 'quality_analyst ', 'db_admin, data_analyst', 'full_stack_dev, qa_testing', 'qa_testing, ux_ui', 'backend_dev, frontend_dev, mobile_dev, desktop_apps', 'qa_testing', 'backend_dev, frontend_dev, full_stack_dev, embedded_sys_dev, db_admin, proj_lead, data_analyst, data_eng, ux_ui', 'tech_lead ', 'backend_dev, analyst', 'full_stack_dev, db_admin, dev_ops', 'data_sci, ml_eng', 'backend_dev, full_stack_dev, mobile_dev, embedded_sys_dev', 'mobile_dev, community_lead', 'it_auditor', 'frontend_dev, full_stack_dev, mobile_dev', 'backend_dev, full_stack_dev, db_admin', 'frontend_dev, full_stack_dev, data_eng', 'backend_dev, frontend_dev, full_stack_dev, mobile_dev, db_admin, proj_lead, data_analyst', 'backend_dev, frontend_dev, full_stack_dev, desktop_apps, db_admin', 'backend_dev, frontend_dev, qa_testing', 'backend_dev, data_analyst', 'full_stack_dev, db_admin, ai_specialist, sales', 'data_analyst, data_eng, data_sci', 'software_arch', 'backend_dev, full_stack_dev', 'jr_electrical_eng', 'frontend_dev, game_dev', 'full_stack_dev, db_admin, data_analyst', 'desktop_apps', 'proj_lead, data_analyst', 'full_stack_dev, game_dev', 'full_stack_dev, data_analyst, data_eng', 'full_stack_dev, embedded_sys_dev, data_eng, dev_ops', 'backend_dev, desktop_apps', 'digital_analyst', 'backend_dev, team_lead ', 'desktop_apps, db_admin, proj_lead', 'backend_dev, frontend_dev, full_stack_dev, qa_testing, proj_lead', 'data_analyst, data_sci', 'frontend_dev, ux_ui', 'data_analyst, data_eng, data_sci, ai_specialist', 'sys_analyst', 'desktop_apps, db_admin', 'it', 'frontend_dev, mobile_dev', 'full_stack_dev, data_analyst', 'data_sci', 'proj_lead, data_analyst, data_eng, data_sci', 'backend_dev, full_stack_dev, desktop_apps, qa_testing, dev_ops', 'qa_tester', 'backend_dev, frontend_dev, embedded_sys_dev, desktop_apps, db_admin, data_analyst', 'full_stack_dev, embedded_sys_dev, desktop_apps, proj_lead, data_analyst, ux_ui, dba', 'it_analyst', 'full_stack_dev, mobile_dev, desktop_apps, db_admin', 'data_eng', 'backend_dev, db_admin', 'full_stack_dev, data_eng', 'backend_dev, data_eng, dev_ops', 'full_stack_dev, dev_ops', 'data_analyst, data_eng', 'backend_dev, frontend_dev, full_stack_dev, ux_ui', 'backend_dev, frontend_dev, full_stack_dev, db_admin', 'full_stack_dev, ux_ui', 'backend_dev, qa_testing, data_analyst', 'backend_dev, frontend_dev, desktop_apps, qa_testing, db_admin', 'analyst_qa', 'full_stack_dev, db_admin, proj_lead, data_eng, data_sci, dev_ops, ai_specialist', 'backend_dev, frontend_dev, embedded_sys_dev, desktop_apps, proj_lead', 'backend_dev, embedded_sys_dev', 'backend_dev, frontend_dev, full_stack_dev, proj_lead', 'solution_arch', 'embedded_sys_dev', 'mobile_dev', 'frontend_dev, full_stack_dev, qa_testing, db_admin, ux_ui', 'backend_dev, frontend_dev, full_stack_dev, mobile_dev, proj_lead', 'backend_dev, mobile_dev', 'full_stack_dev, db_admin', 'backend_dev, frontend_dev, proj_lead', 'frontend_dev, data_eng, data_sci', 'backend_dev, full_stack_dev, platform_dev', 'backend_dev, frontend_dev, embedded_sys_dev, desktop_apps', 'frontend_dev, mobile_dev, proj_lead', 'frontend_dev, mobile_dev, qa_testing', 'backend_dev, full_stack_dev, desktop_apps, dev_ops', 'frontend_dev, full_stack_dev', 'dev_ops', 'db_admin, proj_lead, data_analyst, data_eng, data_sci, ai_specialist', 'db_admin, dev_ops', 'desktop_apps, qa_testing, data_analyst', 'mobile_dev, proj_lead', 'backend_dev, frontend_dev, full_stack_dev', 'desktop_apps, proj_lead, sys_analyst', 'backend_dev, data_eng', 'backend_dev, frontend_dev, qa_testing, data_analyst', 'backend_dev', 'backend_dev, frontend_dev, full_stack_dev, db_admin, ux_ui', 'backend_dev, frontend_dev, full_stack_dev, data_analyst', 'backend_dev, frontend_dev, desktop_apps', 'backend_dev, frontend_dev, full_stack_dev, db_admin, proj_lead', 'backend_dev, frontend_dev, full_stack_dev, mobile_dev, qa_testing', 'backend_dev, db_admin, dev_ops', 'full_stack_dev, qa_testing, db_admin, proj_lead, data_analyst, data_eng, api_rest', 'sys_coord', 'backend_dev, full_stack_dev, proj_lead']\n",
      "\n",
      "\n",
      "\n",
      "\n",
      "COLUMNA ---->  prog_skills_in_role\n",
      "['sys_admin, devops_dataops, scientific_researcher, designer', 'sys_admin, designer', 'sys_admin', 'devops_dataops', 'sys_admin, scientific_researcher', 'scientific_researcher, designer, educator', 'sys_admin, devops_dataops, scientific_researcher, designer, educator', 'devops_dataops, educator', 'devops_dataops, designer', 'scientific_researcher', 'sys_admin, scientific_researcher, educator', 'sys_admin, devops_dataops, designer', 'scientific_researcher, educator', 'sys_admin, devops_dataops, scientific_researcher', 'sys_admin, educator', 'sys_admin, scientific_researcher, designer', 'designer', 'devops_dataops, scientific_researcher', 'educator', 'sys_admin, devops_dataops', 'sys_admin, devops_dataops, educator']\n",
      "\n",
      "\n",
      "\n",
      "\n",
      "COLUMNA ---->  code_for_job\n",
      "['No', 'Sí']\n",
      "\n",
      "\n",
      "\n",
      "\n",
      "COLUMNA ---->  IT_exp\n",
      "['18 a 25 años', '10 a 12 años', '1 a 2 años', '13 a 17 años', '6 a 9 años', 'Menos de 1 año', '3 a 5 años', 'Más de 26 años']\n",
      "\n",
      "\n",
      "\n",
      "\n",
      "COLUMNA ---->  prof_prog_exp\n",
      "['18 a 25 años', '10 a 12 años', 'más de 26 años', '1 a 2 años', '6 a 9 años', '13 a 17 años', 'Menos de 1 año', '3 a 5 años']\n",
      "\n",
      "\n",
      "\n",
      "\n",
      "COLUMNA ---->  first_code\n",
      "['14 a 15 años', 'más de 30 años', '16 a 17 años', '24 a 25 años', 'Menos de 10 años', '20 a 21 años', '28 a 29 años', '22 a 23 años', '26 a 27 años', '18 a 19 años', '10 a 11 años', '12 a 13 años']\n",
      "\n",
      "\n",
      "\n",
      "\n",
      "COLUMNA ---->  assigned_seniority\n",
      "['Principal', 'No aplica a mi lugar de trabajo', 'Junior', 'Senior', 'Trainee', 'Mid-senior', 'Staff']\n",
      "\n",
      "\n",
      "\n",
      "\n",
      "COLUMNA ---->  self_assessed_seniority\n",
      "['Desconozco', 'Mid-senior', 'Principal', 'Trainee', 'Senior', 'Junior', 'Staff']\n",
      "\n",
      "\n",
      "\n",
      "\n",
      "COLUMNA ---->  formal_edu\n",
      "['Educación Media', 'Título de Grado (licenciatura, ingeniería, etc.)', 'Doctorado', 'Máster']\n",
      "\n",
      "\n",
      "\n",
      "\n",
      "COLUMNA ---->  majors\n",
      "['programming, systems_analysis, computer_engineering, other', 'other ingenerías, other', 'systems_analysis, computer_engineering, other ingenerías', 'programming', 'systems_analysis, computer_engineering, other', 'graphic_design', 'programming, systems_analysis, electronic_engineering, other ingenerías, other', 'programming, systems_analysis, other', 'computer_engineering', 'electronic_engineering', 'systems_analysis, computer_engineering', 'electrical_engineering', 'none', 'programming, systems_analysis, civil_engineering', 'programming, electronic_engineering, other', 'programming, systems_analysis, computer_engineering, graphic_design', 'systems_analysis, civil_engineering', 'systems_analysis', 'computer_engineering, other', 'other ingenerías', 'programming, systems_analysis, graphic_design', 'programming, computer_engineering', 'programming, systems_analysis, computer_engineering, mathematics, other', 'computer_engineering, mathematics', 'programming, systems_analysis, electronic_engineering', 'programming, systems_analysis', 'programming, systems_analysis, computer_engineering', 'programming, electronic_engineering, mathematics', 'other', 'programming, systems_analysis, mathematics, other', 'programming, other', 'programming, graphic_design, other', 'mathematics, none', 'programming, other ingenerías', 'programming, systems_analysis, computer_engineering, electrical_engineering', 'programming, systems_analysis, mathematics', 'programming, systems_analysis, computer_engineering, other ingenerías', 'programming, systems_analysis, computer_engineering, electronic_engineering, graphic_design', 'programming, systems_analysis, computer_engineering, mathematics', 'programming, computer_engineering, other']\n",
      "\n",
      "\n",
      "\n",
      "\n",
      "COLUMNA ---->  formal_edu_importance\n",
      "['Más o menos importante', 'Muy importante', 'Bastante importante', 'Crítico', 'No importa, no es necesario']\n",
      "\n",
      "\n",
      "\n",
      "\n",
      "COLUMNA ---->  gender\n",
      "['Hombre', 'Mujer', 'Prefiero no compartir']\n",
      "\n",
      "\n",
      "\n",
      "\n",
      "COLUMNA ---->  age\n",
      "['45 a 49 años', '30 a 34 años', '25 a 29 años', '35 a 39 años', '20 a 24 años', '15 a 19 años', '55 a 59 años', 'Más de 60 años', '40 a 44 años', '50 a 54 años']\n",
      "\n",
      "\n",
      "\n",
      "\n",
      "COLUMNA ---->  monthly_salary\n",
      "['33M_40M', '15M_18M', 'min_wage', '40M_50M', '24M_27M', '12M_15M', '21M_24M', '3.5M_5M', '<min_wage', '7M_9M', '9M_12M', '50M+', '2.55M_3.5M', '5M_7M', '27M_33M', '18M_21M']\n",
      "\n",
      "\n",
      "\n",
      "\n",
      "COLUMNA ---->  pro_languages\n",
      "['PHP, C#, SQL, LUA', 'JavaScript, TypeScript, Python, Java, Kotlin, C#, Go, HTML/CSS, SQL, Bash/Shell/PowerShell, Swift, Objective-C', 'Java, Kotlin, Swift', 'JavaScript, TypeScript, Python, HTML/CSS, SQL, Bash/Shell/PowerShell', 'Python, HTML/CSS, SQL, Bash/Shell/PowerShell, React', 'JavaScript, TypeScript', 'JavaScript, Python, HTML/CSS, SQL', 'TypeScript, Python, Java, HTML/CSS, SQL, Scala', 'Java, SQL, Bash/Shell/PowerShell', 'PHP, Python, HTML/CSS, SQL, Oracle Forms, Oracle Apex', 'JavaScript, Java, HTML/CSS', 'JavaScript, TypeScript, PHP, Python, Ruby, Java, C++, Go, HTML/CSS, SQL, Bash/Shell/PowerShell, VBA, Oracle Forms, Fox Pro', 'JavaScript, TypeScript, Python, HTML/CSS, SQL, Dart', 'JavaScript, PHP, HTML/CSS, SQL, LUA', 'JavaScript, PHP, Python, Java, C, C#, HTML/CSS, SQL, Bash/Shell/PowerShell, VBA', 'SQL, Oracle Forms, Vb .net', 'Python', 'JavaScript, TypeScript, Java, C#, SQL', 'Python, C++, Bash/Shell/PowerShell', 'Python, HTML/CSS, XML', 'JavaScript, TypeScript, Python, Java, C, HTML/CSS, SQL, Bash/Shell/PowerShell', 'Python, C++, SQL, VBA, Genexus, Fox Pro', 'Java, HTML/CSS, SQL', 'Dart', 'JavaScript, Python, Ruby, HTML/CSS, Bash/Shell/PowerShell', 'JavaScript, Java, C#, SQL', 'JavaScript, TypeScript, Python, Java, C#, HTML/CSS, SQL, Bash/Shell/PowerShell', 'JavaScript, PHP, Python, C#, C++, HTML/CSS, SQL', 'JavaScript, TypeScript, Python, HTML/CSS, Dart', 'JavaScript, HTML/CSS, SQL, Oracle Forms, Oracle Apex', 'Java, Kotlin, Swift, Dart', 'SQL, VBA', 'JavaScript, Java, C, C++, HTML/CSS, SQL, Bash/Shell/PowerShell', 'Python, C, SQL, R, Fox Pro', 'Python, Kotlin, Oracle Forms, Fox Pro', 'JavaScript, TypeScript, HTML/CSS, Bash/Shell/PowerShell', 'SQL, Bash/Shell/PowerShell, Yammel', 'JavaScript, PHP, Python, HTML/CSS, SQL', 'JavaScript, Python, Java, HTML/CSS, SQL, R', 'Java, Kotlin, C#, SQL, Oracle Forms, Genexus', 'JavaScript, TypeScript, PHP, Python, HTML/CSS', 'JavaScript, TypeScript, Java, Kotlin, Swift', 'JavaScript, Java, HTML/CSS, Genexus', 'SQL, Delphi', 'JavaScript, PHP, Python, SQL, Bash/Shell/PowerShell, Dart', 'JavaScript, C#, HTML/CSS, SQL', 'Python, SQL, Bash/Shell/PowerShell, Scala', 'JavaScript, Python, SQL', 'JavaScript, PHP, Kotlin, HTML/CSS, SQL', 'JavaScript, Python, Java, SQL, Bash/Shell/PowerShell', 'JavaScript, TypeScript, Python, HTML/CSS', 'JavaScript, Python, Kotlin, HTML/CSS, SQL', 'JavaScript, Python, Java, C#, HTML/CSS, SQL, VBA', 'JavaScript, TypeScript, Python, Ruby, HTML/CSS, SQL', 'JavaScript, TypeScript, PHP, Python, Java, SQL', 'JavaScript, TypeScript, HTML/CSS, SQL, Bash/Shell/PowerShell', 'JavaScript, Python, Oracle Forms, ORACLE APEX, ORACLE PLSQL', 'JavaScript, Python, Java, Bash/Shell/PowerShell', 'JavaScript, TypeScript, C#, SQL', 'JavaScript, Python, HTML/CSS, SQL, Bash/Shell/PowerShell', 'JavaScript, Python, Java, HTML/CSS, SQL, Dart, Oracle Forms, Genexus', 'JavaScript, PHP, Bash/Shell/PowerShell', 'JavaScript, Python, Java, Oracle Forms', 'TypeScript, Python, SQL, Bash/Shell/PowerShell', 'PHP, Python, Java, SQL, Fox Pro', 'TypeScript, HTML/CSS', 'JavaScript, Java, HTML/CSS, SQL', 'Python, SQL, R, Scala', 'PHP, SQL', 'JavaScript, PHP, Java, SQL, Dart', 'Java, SQL, Abap', 'JavaScript, Dart', 'JavaScript, TypeScript, Python, Ruby, Java, C, C++, SQL, Bash/Shell/PowerShell, Objective-C, Perl', 'JavaScript, Java, HTML/CSS, SQL, Oracle Forms, PLSQL', 'JavaScript, PHP, SQL, COBOL, Visual básic net ', 'JavaScript, TypeScript, PHP, HTML/CSS, SQL, Dart', 'JavaScript, PHP, Java, SQL, Oracle Forms', 'JavaScript, Python, Java, HTML/CSS, SQL, Bash/Shell/PowerShell', 'TypeScript, PHP, Java, HTML/CSS, VBA, Fox Pro', 'JavaScript, PHP, Java, SQL', 'Ruby, SQL, Bash/Shell/PowerShell', 'JavaScript, TypeScript, Kotlin, Swift', 'JavaScript, TypeScript, Python, Java, HTML/CSS, SQL, Bash/Shell/PowerShell', 'JavaScript, TypeScript, PHP, Java, C#, HTML/CSS, SQL', 'JavaScript, HTML/CSS, SQL, PL/SQL', 'JavaScript, TypeScript, C#, HTML/CSS, SQL, Dart', 'JavaScript, TypeScript, Python', 'Java, SQL, Xquery', 'JavaScript, TypeScript, PHP, Java, HTML/CSS, SQL, Bash/Shell/PowerShell', 'Python, SQL, R, VBA', 'Java', 'JavaScript, Python, HTML/CSS', 'JavaScript, TypeScript, PHP, Python, HTML/CSS, SQL', 'JavaScript, TypeScript, Java, HTML/CSS, SQL', 'Java, C, C#, Go, Bash/Shell/PowerShell, Objective-C', 'JavaScript, PHP, Python, Java, C#, C++, HTML/CSS, SQL, Bash/Shell/PowerShell', 'JavaScript, PHP, SQL', 'Python, Java, Bash/Shell/PowerShell, Scala, Groovy', 'Java, Oracle Forms', 'JavaScript, PHP, Python, Java, HTML/CSS, SQL, Bash/Shell/PowerShell, Dart, VBA, Oracle Forms', 'Python, Go, Dart', 'JavaScript, TypeScript, HTML/CSS', 'JavaScript, Ruby, SQL, Bash/Shell/PowerShell', 'JavaScript, Java, HTML/CSS, SQL, Bash/Shell/PowerShell', 'JavaScript, Python, C', 'JavaScript, PHP, HTML/CSS, SQL, Dart', 'JavaScript, TypeScript, Python, HTML/CSS, SQL', 'JavaScript, Python, Java, HTML/CSS, SQL, Fox Pro', 'Python, SQL', 'PHP, Java, SQL', 'Python, Java, HTML/CSS', 'PHP, Python, C++, HTML/CSS, COBOL', 'JavaScript, Python, SQL, Bash/Shell/PowerShell', 'JavaScript, PHP, Python, HTML/CSS, SQL, Google AppSheets', 'JavaScript, TypeScript, Python, Java, C++, HTML/CSS, SQL', 'JavaScript, Python, Java, Go, HTML/CSS, SQL, Bash/Shell/PowerShell', 'JavaScript, TypeScript, C#, HTML/CSS, SQL, Bash/Shell/PowerShell', 'JavaScript, TypeScript, Java, C#, HTML/CSS, SQL', 'JavaScript, TypeScript, PHP, Java, HTML/CSS, SQL', 'JavaScript, PHP, Java, HTML/CSS, SQL, Bash/Shell/PowerShell', 'Python, Java, C#, HTML/CSS, SQL, Oracle Forms, Fox Pro, COBOL, RPG, ', 'C#', 'Java, Dart', 'Python, C++, SQL', 'JavaScript, Python', 'JavaScript, TypeScript, Ruby, SQL', 'PHP, HTML/CSS, SQL', 'Python, Ruby, Go, Bash/Shell/PowerShell', 'SQL, X++', 'JavaScript, C, C++, SQL, Bash/Shell/PowerShell, Dart, Pascal', 'JavaScript, Python, Java, C#, SQL', 'JavaScript, TypeScript, Go, HTML/CSS, Bash/Shell/PowerShell', 'JavaScript, Python, Java, HTML/CSS, SQL, Bash/Shell/PowerShell, Oracle Forms', 'JavaScript, Ruby, Java, HTML/CSS, SQL', 'JavaScript, TypeScript, Java, Dart', 'JavaScript, Python, C#, HTML/CSS, SQL', 'JavaScript, HTML/CSS, SQL', 'JavaScript, TypeScript, Java, HTML/CSS, SQL, Bash/Shell/PowerShell, Oracle Forms, Fox Pro', 'VBA, Power builder', 'JavaScript, TypeScript, PHP, Python, Java, C, C++, Go, HTML/CSS, SQL, Bash/Shell/PowerShell, VBA, Oracle Forms', 'JavaScript, TypeScript, PHP, HTML/CSS, Bash/Shell/PowerShell', 'TypeScript, Java, HTML/CSS, SQL', 'JavaScript, Java', 'Java, C#, SQL', 'Java, C#, SQL, Bash/Shell/PowerShell, Fox Pro', 'JavaScript, TypeScript, Ruby, HTML/CSS', 'JavaScript, TypeScript, Python, Java, HTML/CSS, SQL, Swift, Dart', 'Lenguaje o comandos scripteado en python ', 'JavaScript, Java, Kotlin, HTML/CSS, Swift, Dart', 'JavaScript, Python, C++, HTML/CSS', 'JavaScript, TypeScript, Terraform', 'JavaScript, TypeScript, C#, VBA', 'Python, Ruby, SQL, Bash/Shell/PowerShell', 'TypeScript, Python, C#, HTML/CSS, SQL, Bash/Shell/PowerShell', 'Java, SQL, Bash/Shell/PowerShell, Oracle Forms', 'Python, Java, HTML/CSS, SQL', 'Fox Pro', 'JavaScript, PHP, HTML/CSS', 'JavaScript, TypeScript, PHP, Dart', 'PHP, SQL, ', 'Python, HTML/CSS, SQL, Oracle Forms', 'JavaScript, TypeScript, Python, Java, HTML/CSS, Bash/Shell/PowerShell', 'JavaScript, TypeScript, PHP, C#, HTML/CSS, SQL, Dart, Powerbuilder', 'Java, Kotlin, SQL, Bash/Shell/PowerShell, Swift', 'SQL, Genexus, Fox Pro, COBOL', 'TypeScript, HTML/CSS, Dart', 'JavaScript, TypeScript, PHP, Python', 'Python, Kotlin, SQL, Dart', 'JavaScript, TypeScript, PHP, HTML/CSS, SQL, Bash/Shell/PowerShell, Assembly, Rust', 'C#, SQL', 'Kotlin', 'JavaScript, TypeScript, PHP, Python, Java, HTML/CSS, SQL, Bash/Shell/PowerShell', 'JavaScript, SQL', 'JavaScript, PHP, HTML/CSS, SQL', 'JavaScript, PHP, C#', 'Java, SQL', 'JavaScript, Ruby, HTML/CSS, SQL', 'C#, SQL, VBA', 'JavaScript, TypeScript, Python, Go, HTML/CSS, SQL, Bash/Shell/PowerShell, v', 'Python, SQL, PSQL', 'TypeScript', 'JavaScript, TypeScript, Ruby', 'Python, R', 'Java, SQL, Oracle Forms', 'JavaScript, TypeScript, Python, SQL', 'JavaScript, TypeScript, Java, Scala, Groovy', 'JavaScript, Python, Java, C#, SQL, Bash/Shell/PowerShell', 'JavaScript, TypeScript, PHP, Java, Kotlin, HTML/CSS, SQL, Bash/Shell/PowerShell', 'TypeScript, Dart', 'JavaScript, C++, HTML/CSS, SQL, R', 'Python, SQL, R', 'JavaScript, Java, HTML/CSS, SQL, Scala', 'Python, Genexus', 'PHP, HTML/CSS, SQL, Bash/Shell/PowerShell, VBA', 'JavaScript, TypeScript, SQL', 'JavaScript, TypeScript, Python, SQL, Bash/Shell/PowerShell', 'Swift', 'JavaScript, TypeScript, Python, Java, C#, SQL, Bash/Shell/PowerShell', 'Python, SQL, Bash/Shell/PowerShell', 'Java, HTML/CSS, SQL, Genexus, Power Builder', 'JavaScript, TypeScript, Python, C, C#, C++, Go, SQL, Assembly, R, Rust, Perl', 'Oracle Forms', 'JavaScript, TypeScript, Java, HTML/CSS', 'JavaScript, Python, Java, C#, HTML/CSS', 'JavaScript, TypeScript, PHP, Python, Kotlin, HTML/CSS, SQL, Bash/Shell/PowerShell, Swift, Dart', 'Python, Java, Bash/Shell/PowerShell, Genexus ', 'JavaScript, C#, HTML/CSS, SQL, Bash/Shell/PowerShell, Dart', 'JavaScript, TypeScript, Python, Java, SQL', 'JavaScript, TypeScript, PHP, Java, HTML/CSS, SQL, Bash/Shell/PowerShell, Fox Pro, COBOL', 'JavaScript, HTML/CSS', 'Python, C, HTML/CSS, SQL, R', 'JavaScript, SQL, Pascal/Delphi', 'JavaScript, PHP, Python, Java, C, C#, C++, HTML/CSS, SQL, Bash/Shell/PowerShell, Perl, VBA, Oracle Forms, Fox Pro', 'JavaScript, TypeScript, Python, HTML/CSS, SQL, Bash/Shell/PowerShell, Swift', 'Python, HTML/CSS', 'JavaScript, TypeScript, Kotlin, SQL, Dart, Oracle Forms', 'SQL, Oracle Forms', 'SQL', 'JavaScript, Python, Java, HTML/CSS, SQL', 'JavaScript, Python, Java, C#, SQL, PL/SQL', 'JavaScript, TypeScript, Java, Kotlin, HTML/CSS, SQL, Bash/Shell/PowerShell', 'JavaScript, HTML/CSS, SQL, Oracle Forms, Oracle APEX', 'Java, HTML/CSS, SQL, Bash/Shell/PowerShell, Oracle Forms', 'JavaScript, PHP, Python, Java, HTML/CSS, SQL', 'JavaScript, C#, HTML/CSS, SQL, R', 'JavaScript, HTML/CSS, SQL, Bash/Shell/PowerShell, Dart', 'Java, HTML/CSS, SQL, Oracle Forms', 'JavaScript, TypeScript, Python, HTML/CSS, SQL, Bash/Shell/PowerShell, Elixir ', 'Python, C++', 'JavaScript, C#', 'JavaScript, Bash/Shell/PowerShell', 'JavaScript, TypeScript, PHP, Python, Ruby, Java, Kotlin, C, HTML/CSS, SQL, Bash/Shell/PowerShell, Fox Pro, COBOL', 'JavaScript, Java, SQL', 'Python, SQL, M', 'PHP, SQL, Dart', 'JavaScript, TypeScript, PHP, HTML/CSS, SQL, RPG', 'JavaScript, HTML/CSS, SQL, Bash/Shell/PowerShell, Oracle Forms, Oracle APEX', 'JavaScript, TypeScript, HTML/CSS, SQL', 'PHP, Oracle Forms', 'C#, HTML/CSS, SQL, Dart', 'Python, SQL, VBA, Yaml', 'JavaScript, Python, Java, HTML/CSS, SQL, Genexus, RPG', 'JavaScript, TypeScript, Java, Go, HTML/CSS, SQL, Bash/Shell/PowerShell', 'JavaScript, TypeScript, Java, HTML/CSS, SQL, Bash/Shell/PowerShell', 'TypeScript, Python, Bash/Shell/PowerShell, Scala', 'JavaScript, PHP, SQL, Fox Pro', 'JavaScript, PHP, Python, HTML/CSS, SQL, Bash/Shell/PowerShell', 'TypeScript, Python, Java, HTML/CSS, SQL, Bash/Shell/PowerShell', 'Java, Kotlin, C#, HTML/CSS, SQL', 'JavaScript, Python, Java, SQL', 'JavaScript, PHP, HTML/CSS, SQL, Bash/Shell/PowerShell, Dart', 'PHP, Java, HTML/CSS, SQL', 'JavaScript, PHP, HTML/CSS, SQL, Bash/Shell/PowerShell', 'JavaScript, TypeScript, Java', 'JavaScript, TypeScript, Python, Java', 'Java, SQL, Fox Pro', 'JavaScript', 'JavaScript, PHP, Java, HTML/CSS, SQL', 'TypeScript, Python, SQL', 'JavaScript, Java, SQL, Bash/Shell/PowerShell', 'JavaScript, TypeScript, PHP, Java, HTML/CSS, Swift, Dart', 'JavaScript, Java, HTML/CSS, Bash/Shell/PowerShell', 'JavaScript, SQL, PL/SQL', 'TypeScript, Java, HTML/CSS, SQL, Dart', 'JavaScript, TypeScript, Python, Java, C++, Go, SQL, Bash/Shell/PowerShell, Rust', 'Java, HTML/CSS', 'JavaScript, TypeScript, PHP, HTML/CSS, SQL', 'JavaScript, Ruby, C++, HTML/CSS, SQL', 'Python, Java, Genexus', 'JavaScript, TypeScript, PHP, HTML/CSS', 'JavaScript, PHP, Java, Kotlin, HTML/CSS, SQL, Bash/Shell/PowerShell, ', 'C#, SQL, Oracle Forms', 'JavaScript, Java, Scala', 'JavaScript, TypeScript, PHP, Java, HTML/CSS, SQL, Bash/Shell/PowerShell, Dart', 'JavaScript, Ruby, Java, HTML/CSS, SQL, Bash/Shell/PowerShell', 'JavaScript, Java, HTML/CSS, SQL, Bash/Shell/PowerShell, Swift', 'SQL, RPG, Abap', 'Python, SQL, Oracle Forms']\n",
      "\n",
      "\n",
      "\n",
      "\n",
      "COLUMNA ---->  web_frameworks\n",
      "['Angular, Angular.js, JQuery, Spring, Django', 'React.js, Angular, JQuery, Express, Spring, Laravel, Symfony, CodeIgniter', 'ASP.NET, ASP.NET Core, Spring', 'ASP.NET, ASP.NET Core, Spring, Django, Flask', 'JQuery, Spring', 'Angular', 'React.js, Express', 'Angular, Angular.js, JQuery, Spring', 'React.js, ASP.NET, Express', 'JQuery, Django, Laravel', 'Angular, Spring', 'React.js, JQuery, ASP.NET, ASP.NET Core, Vue.js, Spring, Django, Flask', 'React.js, Express, Django, Flask', 'CakePHP', 'JQuery, Vue.js, Spring, Laravel, CakePHP', 'ASP.NET, ASP.NET Core, Vue.js', 'React.js, Angular.js, Spring', 'Angular.js, Spring', 'Spring, CodeIgniter', 'JQuery, Spring, Django', 'Angular, Angular.js', 'JQuery, Vue.js, Laravel', 'Angular, Django', 'React.js, Django, Flask', 'JQuery, Vue.js, Laravel, Symfony', 'React.js, Express, Spring, Laravel', 'React.js, Express, Vue.js, Flask', 'React.js, Ruby on Rails', 'JQuery, Ruby on Rails', 'Django, Flask', 'React.js, Angular, Express', 'React.js, Angular.js, Laravel', 'Angular, Express', 'React.js, Angular, Angular.js, Vue.js, Spring', 'React.js, Angular.js, JQuery, Vue.js, Django, Flask, Laravel, Ruby on Rails', 'React.js, JQuery, Express, Laravel, CodeIgniter', 'Laravel, CodeIgniter', 'Vue.js, Spring', 'JQuery, Laravel, CakePHP', 'Express, Vue.js', 'Angular, Angular.js, Spring', 'JQuery, Express, Vue.js, Laravel', 'Angular, JQuery, Express, Vue.js, Spring', 'Angular.js, Spring, Django', 'Spring, Django', 'JQuery, Laravel', 'Django, CakePHP', 'Angular.js, JQuery, Spring', 'JQuery, Vue.js, Laravel, CodeIgniter', 'Spring', 'Spring, Laravel', 'React.js, Flask, Laravel', 'React.js, Django', 'Express, Spring', 'Django, Flask, Laravel', 'JQuery, ASP.NET, ASP.NET Core, Spring', 'Angular.js, JQuery, ASP.NET, ASP.NET Core, Flask', 'React.js, Angular.js, JQuery, Django', 'React.js, Angular, Angular.js, Spring', 'Vue.js, Laravel', 'React.js, ASP.NET Core', 'ASP.NET, Spring, Django', 'ASP.NET', 'Angular, ASP.NET, ASP.NET Core', 'ASP.NET, Express, ASP.NET Core, Vue.js', 'React.js, Express, Spring, Django, Flask, Laravel', 'React.js, Express, Symfony', 'Spring, Django, Flask, Ruby on Rails', 'Vue.js, Django', 'React.js, Angular, Spring', 'JQuery, ASP.NET, ASP.NET Core, Vue.js', 'Angular.js, JQuery, Vue.js, Laravel', 'Angular, Angular.js, JQuery', 'Spring, Django, Flask, Laravel', 'Django', 'React.js, Angular, Angular.js, JQuery, Express, Vue.js, Spring, Flask', 'ASP.NET Core', 'React.js, JQuery, Express', 'React.js, Angular.js, JQuery, Vue.js, Spring, Django, CodeIgniter', 'React.js, Express, Vue.js, Django', 'React.js, Angular, Angular.js, JQuery, Vue.js, Django, Flask', 'React.js, ASP.NET, Django, Laravel', 'Angular, Laravel', 'React.js, JQuery, Express, Laravel, CakePHP', 'JQuery, ASP.NET, ASP.NET Core', 'React.js, Angular.js, Express, Django', 'React.js, Spring', 'JQuery, ASP.NET', 'React.js, Express, Django', 'JQuery, Flask, Ruby on Rails', 'React.js, Express, Flask', 'Spring, Symfony', 'React.js, Angular, JQuery, Laravel, Symfony', 'React.js, Gatsby', 'Flask', 'JQuery', 'React.js, Express, Ruby on Rails', 'Angular, Vue.js, Django, Laravel', 'Express', 'React.js, ASP.NET, ASP.NET Core', 'ASP.NET, ASP.NET Core, Flask', 'Symfony', 'React.js, Angular, Angular.js, Express, Django, Flask', 'ASP.NET Core, Spring', 'React.js, JQuery', 'React.js, Angular.js, Django', 'React.js, JQuery, Vue.js, Spring, Laravel, CodeIgniter', 'Vue.js', 'React.js, Angular.js, ASP.NET', 'JQuery, Django', 'Express, Django', 'React.js, Angular, Angular.js, Django, Flask, Laravel', 'ASP.NET, ASP.NET Core', 'Ruby on Rails', 'React.js', 'Angular, JQuery, Vue.js, Django, Laravel, Ruby on Rails, Gatsby', 'JQuery, Express', 'Angular, JQuery, ASP.NET, ASP.NET Core, Django', 'Laravel', 'Vue.js, Ruby on Rails', 'Angular.js, JQuery', 'React.js, Angular, Angular.js, JQuery, Spring', 'Angular.js, JQuery, ASP.NET, ASP.NET Core, Spring', 'React.js, JQuery, Express, Vue.js, Ruby on Rails', 'React.js, Angular', 'React.js, JQuery, Express, Django', 'React.js, Angular, Angular.js, JQuery, ASP.NET, ASP.NET Core, Spring', 'React.js, Angular, Flask', 'Angular, Angular.js, ASP.NET, ASP.NET Core', 'React.js, ASP.NET, ASP.NET Core, Vue.js, Spring, Laravel', 'JQuery, Laravel, Ruby on Rails', 'Angular, ASP.NET Core', 'Angular, Angular.js, JQuery, Vue.js, Spring, Django, Laravel, Symfony, CodeIgniter', 'React.js, JQuery, Spring', 'Angular, JQuery, Spring', 'JQuery, Laravel, CodeIgniter', 'React.js, Angular, Angular.js, JQuery, Django, Laravel', 'React.js, Angular, Angular.js', 'React.js, Express, Spring, Django, Flask', 'React.js, Angular, JQuery, ASP.NET, Express, Vue.js, Spring, Django, Flask, Laravel', 'React.js, Express, Laravel', 'React.js, Laravel']\n",
      "\n",
      "\n",
      "\n",
      "\n",
      "COLUMNA ---->  other_tools\n",
      "['.NET, NET Core, Xamarin', 'Node.js, NET Core', 'Node.js, Flutter', 'Node.js, Pandas, TensorFlow, React Native, Torch/PyTorch', 'Node.js, Pandas', 'NET Core, TensorFlow, Torch/PyTorch', 'Node.js, Ansible', 'Cordova', 'React Native', 'Node.js, TensorFlow', 'Node.js, .NET, NET Core, React Native, Flutter', 'Node.js, .NET, Pandas', 'Pandas, Ansible, Torch/PyTorch, Hadoop', 'Unity 3D', 'Node.js, .NET', 'Pandas, TensorFlow, Torch/PyTorch', 'Node.js, Pandas, TensorFlow, Puppet, Chef', 'Hadoop', 'Node.js, Cordova', 'Node.js, Ansible, Puppet', '.NET, Pandas, Hadoop', '.NET, NET Core, Pandas', 'Pandas, TensorFlow', 'Pandas, TensorFlow, Keras, Torch/PyTorch', 'Node.js, Flutter, Cordova', '.NET, NET Core, Flutter', 'Node.js, Pandas, React Native, Flutter, Cordova', 'Node.js, Pandas, Torch/PyTorch', 'Pandas, Torch/PyTorch', 'Node.js, .NET, NET Core, Flutter', 'Chef', '.NET, NET Core', 'Node.js, .NET, NET Core', 'Node.js, Pandas, Hadoop', 'Pandas, Flutter', 'Node.js, TensorFlow, Unity 3D, Cordova, Unreal Engine', '.NET, Unity 3D', '.NET, Flutter, Cordova', 'TensorFlow, Flutter, Keras, Torch/PyTorch, Hadoop', 'Node.js, React Native', '.NET, NET Core, Pandas, TensorFlow, Keras, Torch/PyTorch', 'Pandas, TensorFlow, Ansible, Keras, Torch/PyTorch', 'Flutter', 'Ansible', 'Node.js, Keras', 'Node.js', 'Flutter, Cordova', 'Node.js, Pandas, TensorFlow, Flutter, Keras', 'Node.js, .NET, NET Core, Pandas', 'Node.js, Ansible, Puppet, Chef', 'Node.js, Pandas, TensorFlow, Hadoop, Puppet', 'Pandas', '.NET, NET Core, TensorFlow', '.NET, React Native', 'TensorFlow', 'Node.js, Pandas, React Native, Cordova', 'NET Core', 'Node.js, React Native, Flutter', '.NET, Flutter', 'React Native, Torch/PyTorch', 'Pandas, Hadoop', '.NET']\n",
      "\n",
      "\n",
      "\n",
      "\n",
      "COLUMNA ---->  databases\n",
      "['Microsoft SQL Server, Oracle, IBM DB2', 'MySQL, PostgreSQL, SQLite, Elasticsearch', 'PostgreSQL, Microsoft SQL Server', 'PostgreSQL', 'PostgreSQL, MongoDB, Redis', 'MariaDB, PostgreSQL, Microsoft SQL Server', 'MySQL, PostgreSQL, Redis', 'MySQL, MariaDB, PostgreSQL, SQLite, MongoDB, Firebase', 'PostgreSQL, MongoDB, Redis, Oracle', 'MySQL, PostgreSQL, MongoDB, Redis', 'MySQL, MariaDB, MongoDB, Firebase', 'PostgreSQL, SQLite, MongoDB, Redis, Firebase, Couchbase', 'MySQL, MariaDB, PostgreSQL, Microsoft SQL Server, Redis, Oracle, Firebase, Elasticsearch', 'MySQL, PostgreSQL, SQLite, Firebase', 'PostgreSQL, Microsoft SQL Server, SQLite, MongoDB, Elasticsearch', 'PostgreSQL, Redis, Oracle, Elasticsearch', 'MySQL, MariaDB, PostgreSQL, Microsoft SQL Server, SQLite, MongoDB, Redis, Oracle, IBM DB2, Elasticsearch', 'MySQL, MariaDB, PostgreSQL, Microsoft SQL Server, SQLite, MongoDB, Redis, Oracle, Firebase, IBM DB2, Elasticsearch', 'MySQL, MariaDB, PostgreSQL, Oracle, DynamoDB', 'PostgreSQL, Redis, IBM DB2', 'MySQL, MariaDB, PostgreSQL, SQLite, MongoDB', 'MongoDB', 'MySQL, Microsoft SQL Server', 'MySQL, MariaDB, PostgreSQL, Microsoft SQL Server, SQLite, MongoDB, Oracle, DynamoDB', 'PostgreSQL, SQLite, MongoDB, Redis, Oracle, Firebase', 'PostgreSQL, Oracle, Firebase, Elasticsearch', 'PostgreSQL, Microsoft SQL Server, SQLite, MongoDB, Redis', 'MariaDB, PostgreSQL', 'MySQL, Microsoft SQL Server, Oracle', 'Oracle', 'MySQL, PostgreSQL, SQLite, MongoDB, Firebase', 'MySQL, PostgreSQL, IBM DB2', 'MySQL, MariaDB, Microsoft SQL Server', 'MariaDB, PostgreSQL, Microsoft SQL Server, SQLite, MongoDB', 'SQLite, Oracle', 'MySQL, MariaDB, SQLite, MongoDB, Oracle', 'MySQL, MariaDB, PostgreSQL, Microsoft SQL Server, SQLite, MongoDB, Firebase', 'MySQL, MariaDB, SQLite', 'PostgreSQL, Redis', 'MySQL, PostgreSQL, MongoDB, Oracle', 'MySQL, PostgreSQL, Oracle', 'MySQL, Oracle', 'MySQL, PostgreSQL, SQLite, MongoDB, Redis', 'PostgreSQL, IBM DB2', 'MySQL, Microsoft SQL Server, IBM DB2', 'MySQL, PostgreSQL, SQLite, MongoDB', 'PostgreSQL, SQLite, IBM DB2', 'MySQL, MariaDB, MongoDB', 'MySQL, MongoDB', 'MySQL, PostgreSQL, SQLite, MongoDB, Firebase, Cassandra', 'PostgreSQL, Microsoft SQL Server, Oracle', 'MySQL, MariaDB, PostgreSQL, SQLite, MongoDB, Elasticsearch', 'MySQL, MariaDB, PostgreSQL, SQLite, Firebase', 'MySQL, Microsoft SQL Server, SQLite', 'PostgreSQL, Microsoft SQL Server, SQLite, IBM DB2', 'MySQL, MariaDB, PostgreSQL, Microsoft SQL Server', 'MariaDB', 'DynamoDB', 'MySQL, MariaDB, PostgreSQL, Microsoft SQL Server, Redis', 'PostgreSQL, MongoDB, Redis, Elasticsearch', 'PostgreSQL, MongoDB, Oracle', 'MySQL, MariaDB, PostgreSQL, Microsoft SQL Server, MongoDB, Redis, Oracle, DynamoDB, Elasticsearch', 'SQLite', 'PostgreSQL, Microsoft SQL Server, SQLite, Oracle', 'MySQL, Elasticsearch', 'MariaDB, Microsoft SQL Server', 'MySQL, MariaDB, PostgreSQL, SQLite, MongoDB, Redis', 'MySQL, MariaDB, PostgreSQL, MongoDB, Oracle', 'MySQL, MariaDB, PostgreSQL, Redis', 'MySQL, MariaDB, PostgreSQL, MongoDB, Redis, Elasticsearch', 'PostgreSQL, SQLite, Redis', 'MySQL, Cassandra, IBM DB2, Couchbase', 'Microsoft SQL Server, SQLite, MongoDB', 'MySQL, MariaDB, PostgreSQL, MongoDB, Redis, Firebase, Cassandra, Elasticsearch', 'PostgreSQL, Microsoft SQL Server, MongoDB, Redis, Oracle, DynamoDB, Elasticsearch', 'PostgreSQL, Couchbase', 'MySQL, DynamoDB, Elasticsearch', 'MySQL, MariaDB, PostgreSQL, SQLite', 'MySQL, MariaDB, PostgreSQL, Microsoft SQL Server, SQLite, MongoDB, Redis, Oracle, Firebase, IBM DB2, Couchbase, Elasticsearch', 'Microsoft SQL Server, Oracle', 'MariaDB, Oracle', 'PostgreSQL, SQLite, MongoDB', 'MySQL, PostgreSQL, Microsoft SQL Server, MongoDB, Oracle', 'MySQL, PostgreSQL, Microsoft SQL Server', 'MySQL, MariaDB, PostgreSQL, SQLite, MongoDB, Redis, Firebase, Elasticsearch', 'MySQL, Microsoft SQL Server, Oracle, Cassandra', 'MySQL, PostgreSQL, Microsoft SQL Server, SQLite, Oracle', 'MySQL, PostgreSQL, MongoDB, Oracle, Elasticsearch', 'Microsoft SQL Server, Firebase', 'MySQL, PostgreSQL, MongoDB', 'MySQL, PostgreSQL, SQLite', 'Oracle, DynamoDB', 'MySQL, MariaDB, PostgreSQL, DynamoDB', 'MySQL, MariaDB, PostgreSQL, Microsoft SQL Server, MongoDB, DynamoDB', 'Redis, Oracle', 'PostgreSQL, Firebase', 'MySQL, PostgreSQL, Microsoft SQL Server, SQLite, Firebase, Cassandra', 'Firebase', 'MySQL, MariaDB, PostgreSQL, Microsoft SQL Server, Oracle', 'Microsoft SQL Server, SQLite', 'MySQL, Firebase', 'PostgreSQL, Microsoft SQL Server, Oracle, IBM DB2, Elasticsearch', 'Microsoft SQL Server', 'MySQL, PostgreSQL, MongoDB, DynamoDB', 'MySQL, MariaDB, PostgreSQL, Redis, Oracle, Elasticsearch', 'IBM DB2', 'MySQL, PostgreSQL, Microsoft SQL Server, SQLite, MongoDB', 'MySQL, PostgreSQL, Microsoft SQL Server, MongoDB, Firebase', 'MongoDB, Redis, Firebase', 'MySQL, DynamoDB', 'MySQL, PostgreSQL, Microsoft SQL Server, Oracle, Elasticsearch', 'MySQL, MariaDB, PostgreSQL', 'MySQL, MariaDB', 'MySQL, MariaDB, PostgreSQL, Microsoft SQL Server, SQLite', 'MySQL, PostgreSQL, DynamoDB', 'MySQL, SQLite, MongoDB', 'MariaDB, Redis, Cassandra, Elasticsearch', 'PostgreSQL, Redis, Elasticsearch', 'MySQL, PostgreSQL, Microsoft SQL Server, Oracle', 'MySQL, PostgreSQL, SQLite, Redis, DynamoDB', 'PostgreSQL, SQLite, MongoDB, Firebase', 'PostgreSQL, Oracle', 'PostgreSQL, MongoDB', 'PostgreSQL, Redis, DynamoDB', 'MySQL, PostgreSQL, MongoDB, Redis, DynamoDB', 'MySQL, MariaDB, PostgreSQL, SQLite, Oracle', 'MySQL, PostgreSQL', 'PostgreSQL, DynamoDB', 'PostgreSQL, Microsoft SQL Server, Firebase', 'Microsoft SQL Server, MongoDB', 'PostgreSQL, Microsoft SQL Server, MongoDB', 'MySQL, MariaDB, PostgreSQL, Microsoft SQL Server, SQLite, Oracle', 'MariaDB, PostgreSQL, SQLite, Oracle', 'MySQL, MariaDB, MongoDB, Redis', 'MySQL', 'PostgreSQL, SQLite', 'MySQL, MariaDB, PostgreSQL, MongoDB', 'MySQL, MariaDB, PostgreSQL, Microsoft SQL Server, Oracle, IBM DB2', 'MySQL, MariaDB, PostgreSQL, Microsoft SQL Server, SQLite, Redis', 'SQLite, MongoDB', 'MySQL, PostgreSQL, Microsoft SQL Server, Firebase']\n",
      "\n",
      "\n",
      "\n",
      "\n",
      "COLUMNA ---->  platforms\n",
      "['Microsoft Windows, Docker, AWS, Google Cloud Platform, Kubernetes', 'GNU/Linux, Microsoft Windows, MacOS, Android, WordPress, Google Cloud Platform, iOS', 'Microsoft Windows, Docker', 'GNU/Linux, Microsoft Windows, Docker, AWS', 'GNU/Linux, MacOS, Docker, AWS, Android, WordPress, iOS', 'MacOS, Docker, Android, iOS', 'GNU/Linux, Docker', 'GNU/Linux, Microsoft Windows, MacOS, WordPress', 'GNU/Linux, Microsoft Windows, MacOS, Docker, AWS, Azure, Microsoft Azure, Google Cloud Platform', 'MacOS, WordPress', 'GNU/Linux, Microsoft Windows, MacOS', 'GNU/Linux, Docker, AWS, Azure, Kubernetes', 'Raspberry Pi', 'GNU/Linux, Microsoft Windows, MacOS, Docker, AWS, Google Cloud Platform', 'GNU/Linux, MacOS, Docker, AWS, Azure, Raspberry Pi', 'GNU/Linux, Microsoft Windows, Azure, Microsoft Azure', 'MacOS, Docker, AWS, Android, Kubernetes', 'GNU/Linux, Microsoft Windows, Docker, Azure, Kubernetes', 'GNU/Linux, Microsoft Windows, Docker, Azure, Android, iOS, Kubernetes', 'Microsoft Windows, Docker, Azure, Microsoft Azure', 'GNU/Linux, AWS', 'MacOS', 'GNU/Linux, Microsoft Windows, MacOS, Docker, AWS', 'GNU/Linux, MacOS, Docker, WordPress', 'MacOS, Docker, AWS, iOS', 'GNU/Linux, Microsoft Windows, MacOS, Docker, AWS, Google Cloud Platform, Kubernetes, Heroku', 'GNU/Linux, MacOS, Docker, AWS', 'GNU/Linux, Microsoft Windows, Android', 'GNU/Linux, Microsoft Windows, MacOS, AWS, Google Cloud Platform', 'Microsoft Windows, MacOS, Docker, AWS', 'Microsoft Windows, Docker, Azure, Android, Microsoft Azure', 'GNU/Linux, Microsoft Windows, MacOS, Docker, Google Cloud Platform, Kubernetes', 'GNU/Linux, Microsoft Windows, Docker, Google Cloud Platform', 'GNU/Linux, Docker, WordPress', 'GNU/Linux, Microsoft Windows, MacOS, Docker, Android, Google Cloud Platform, iOS', 'MacOS, Docker, AWS, Kubernetes', 'GNU/Linux, MacOS', 'MacOS, iOS', 'GNU/Linux, Microsoft Windows, MacOS, Docker, Android, Google Cloud Platform', 'GNU/Linux, Docker, Kubernetes', 'GNU/Linux, Microsoft Windows, Docker, AWS, Azure, Microsoft Azure', 'GNU/Linux, Kubernetes', 'Microsoft Windows, Microsoft Azure, Kubernetes', 'GNU/Linux, Microsoft Windows, MacOS, Docker, Android, WordPress, Google Cloud Platform, iOS', 'Microsoft Windows, MacOS, AWS, Azure, Kubernetes', 'GNU/Linux, Docker, AWS', 'GNU/Linux, Microsoft Windows, Docker, Azure, Microsoft Azure, Kubernetes', 'GNU/Linux, MacOS, Docker, AWS, WordPress, iOS', 'GNU/Linux, Microsoft Windows, Android, iOS, Arduino', 'Microsoft Windows, Docker, AWS', 'GNU/Linux, Microsoft Windows, Docker, Android', 'GNU/Linux, Microsoft Windows, Microsoft Azure', 'GNU/Linux, Microsoft Windows, MacOS, Docker, AWS, Android, Microsoft Azure, Google Cloud Platform, iOS, Kubernetes', 'GNU/Linux, Microsoft Windows, MacOS, AWS, WordPress', 'GNU/Linux, Microsoft Windows, Kubernetes, Heroku', 'MacOS, Docker, AWS, Azure, Kubernetes', 'Microsoft Windows, MacOS, Docker', 'Microsoft Windows, Docker, AWS, Kubernetes', 'GNU/Linux, Microsoft Windows, MacOS, Android, WordPress', 'GNU/Linux, Microsoft Windows, Docker', 'GNU/Linux, Microsoft Windows, AWS', 'GNU/Linux, Docker, AWS, Azure, Android, Raspberry Pi, Kubernetes, Arduino', 'Microsoft Windows, WordPress', 'MacOS, Docker, AWS, Google Cloud Platform', 'GNU/Linux, Microsoft Windows, MacOS, AWS, Heroku', 'GNU/Linux, MacOS, Docker, Azure, Microsoft Azure, Google Cloud Platform, Kubernetes', 'Docker, AWS, Android, iOS', 'AWS', 'MacOS, AWS', 'GNU/Linux, MacOS, Docker, AWS, Android, Kubernetes', 'GNU/Linux, Azure, Arduino', 'GNU/Linux, Microsoft Windows, MacOS, Docker, Microsoft Azure, Google Cloud Platform', 'GNU/Linux, Microsoft Windows, MacOS, Docker, Arduino', 'GNU/Linux, Microsoft Windows, MacOS, Docker, Kubernetes', 'GNU/Linux, Microsoft Windows, Docker, AWS, Android, WordPress', 'Docker, AWS, Microsoft Azure, Kubernetes', 'Microsoft Windows, AWS, Azure, Microsoft Azure', 'MacOS, AWS, Android, iOS', 'GNU/Linux, Docker, AWS, Android', 'Azure', 'GNU/Linux, Microsoft Windows, Docker, AWS, Google Cloud Platform, Kubernetes', 'Microsoft Windows', 'Android, iOS', 'Microsoft Windows, MacOS, Docker, Android', 'Microsoft Windows, AWS', 'GNU/Linux, Docker, AWS, Azure, WordPress, Google Cloud Platform, Kubernetes', 'MacOS, Android, Google Cloud Platform, iOS', 'Microsoft Windows, Docker, Android, Kubernetes', 'Docker', 'Microsoft Windows, MacOS, Android, iOS', 'GNU/Linux, Microsoft Windows, MacOS, Docker, AWS, Android, WordPress, iOS', 'Microsoft Windows, Docker, Android, Microsoft Azure, iOS', 'GNU/Linux, Microsoft Windows, MacOS, Docker, AWS, Azure, Android, Microsoft Azure, Google Cloud Platform, iOS, Kubernetes', 'GNU/Linux, Microsoft Windows, Docker, AWS, Android, Raspberry Pi, WordPress, Google Cloud Platform, Heroku', 'Microsoft Windows, Android', 'GNU/Linux, Microsoft Windows, Docker, Azure, Microsoft Azure', 'GNU/Linux, Microsoft Windows, WordPress', 'Microsoft Windows, MacOS, Docker, Android, iOS, Heroku', 'GNU/Linux, Microsoft Windows, Docker, AWS, Android, iOS', 'MacOS, Android', 'GNU/Linux, AWS, Google Cloud Platform', 'GNU/Linux, Microsoft Windows, Docker, AWS, Android, Arduino', 'GNU/Linux, Microsoft Windows, Docker, Android, iOS', 'Microsoft Windows, MacOS', 'GNU/Linux, Microsoft Windows, Docker, AWS, Kubernetes', 'GNU/Linux, MacOS, Android, iOS', 'GNU/Linux, Microsoft Windows, MacOS, Docker, AWS, Azure, Android, Raspberry Pi, Microsoft Azure, WordPress, iOS, Kubernetes, Arduino', 'GNU/Linux, Microsoft Windows, Docker, AWS, Azure', 'MacOS, Android, iOS', 'GNU/Linux, Docker, Android', 'GNU/Linux, Microsoft Windows, Docker, AWS, Azure, Microsoft Azure, WordPress', 'MacOS, Docker, AWS', 'GNU/Linux, MacOS, Docker', 'GNU/Linux, Microsoft Windows, Docker, WordPress', 'MacOS, AWS, Azure, Android, iOS', 'GNU/Linux, Microsoft Windows, Kubernetes', 'GNU/Linux, Microsoft Windows, Docker, Kubernetes', 'Microsoft Windows, Azure', 'GNU/Linux, Microsoft Windows, Raspberry Pi', 'GNU/Linux, Microsoft Windows, Docker, Microsoft Azure', 'GNU/Linux, MacOS, Docker, AWS, Azure, Android, Google Cloud Platform, iOS', 'GNU/Linux, Microsoft Windows, MacOS, iOS', 'Docker, AWS', 'GNU/Linux, Microsoft Windows, MacOS, Azure, Raspberry Pi, iOS', 'GNU/Linux, Microsoft Windows, MacOS, Docker, AWS, Android, WordPress, Google Cloud Platform', 'GNU/Linux, MacOS, Docker, AWS, Kubernetes', 'Microsoft Azure', 'GNU/Linux, Microsoft Windows, MacOS, AWS', 'GNU/Linux', 'Docker, Android, Kubernetes', 'GNU/Linux, MacOS, AWS, Kubernetes', 'GNU/Linux, Microsoft Windows, MacOS, Docker, AWS, Android, iOS, Kubernetes', 'GNU/Linux, MacOS, Docker, Kubernetes', 'GNU/Linux, MacOS, AWS', 'GNU/Linux, Android', 'MacOS, Docker, AWS, Android, iOS', 'GNU/Linux, Microsoft Windows, Docker, iOS', 'Microsoft Windows, Raspberry Pi, Google Cloud Platform', 'GNU/Linux, Microsoft Windows, AWS, Azure, Microsoft Azure, Google Cloud Platform, Heroku', 'GNU/Linux, MacOS, Docker, Google Cloud Platform, iOS', 'GNU/Linux, Microsoft Windows, MacOS, Docker, Android', 'Microsoft Windows, Android, WordPress, iOS', 'Microsoft Windows, Docker, Kubernetes', 'GNU/Linux, Microsoft Windows']\n",
      "\n",
      "\n",
      "\n",
      "\n",
      "COLUMNA ---->  fav_language\n",
      "['Scala', 'SQL', 'Go', 'R', 'Otro', 'Fox Pro', 'Python', 'Dart', 'Bash/Shell/PowerShell', 'COBOL', 'Java', 'PHP', 'Kotlin', 'C', 'TypeScript', 'Genexus', 'Oracle form', 'Ruby', 'JavaScript', 'Rust', 'Swift', 'C#', 'RPG', 'C++']\n",
      "\n",
      "\n",
      "\n",
      "\n",
      "COLUMNA ---->  least_fav_language\n",
      "['HTML/CSS', 'SQL', 'VBA', 'Objective-C', 'R', 'Fox Pro', 'Python', 'Perl', 'Dart', 'Bash/Shell/PowerShell', 'COBOL', 'Java', 'Spring', 'Assembly', 'PHP', 'Kotlin', 'C', 'TypeScript', 'Genexus', 'Ruby', 'JavaScript', 'C#', 'Oracle Forms', 'RPG', 'C++']\n",
      "\n",
      "\n",
      "\n",
      "\n",
      "COLUMNA ---->  fav_framework\n",
      "['Django', 'JQuery', 'CodeIgniter', 'Angular.js', 'Flask', 'Ruby on Rails', 'Express', 'ASP.NET Core', 'React.js', 'Spring', 'ASP.NET', 'Angular', 'Laravel', 'Vue.js']\n",
      "\n",
      "\n",
      "\n",
      "\n",
      "COLUMNA ---->  least_fav_framework\n",
      "['Django', 'JQuery', 'CodeIgniter', 'Angular.js', 'Flask', 'Vue.js', 'Ruby on Rails', 'Express', 'ASP.NET Core', 'Spring', 'React.js', 'CakePHP', 'ASP.NET', 'Angular', 'Laravel', 'Gastby']\n",
      "\n",
      "\n",
      "\n",
      "\n",
      "COLUMNA ---->  tools\n",
      "['Slack, Trello, Microsoft Team, GitHub', 'Slack, GitHub, Confluence, Google Suite (Docs, Meet, etc), Jira', 'Google Suite (Docs, Meet, etc), Slack, GitHub', 'Google Suite (Docs, Meet, etc), Notion, Slack', 'GitHub, Trello, Google Suite (Docs, Meet, etc), Jira, Notion, Slack', 'Google Suite (Docs, Meet, etc)', 'Google Suite (Docs, Meet, etc), Confluence, Slack, Jira, GitHub, Microsoft Azure', 'Google Suite (Docs, Meet, etc), Slack, GitHub, GitLab', 'Slack, Notion, GitHub, GitLab, Confluence, Google Suite (Docs, Meet, etc), Jira, Microsoft Team', 'Jira, GitHub, Google Suite (Docs, Meet, etc)', 'GitHub, Notion, Slack, Jira', 'Trello, Jira, GitLab', 'GitHub, GitLab, Google Suite (Docs, Meet, etc)', 'GitLab, Microsoft Team, Google Suite (Docs, Meet, etc), GitHub, Jira', 'Trello, GitHub, Jira', 'Slack, GitHub, Jira, Confluence, Google Suite (Docs, Meet, etc)', 'Discord, GitLab, Microsoft Team, GitHub', 'Microsoft Team', 'Facebook Workplace, Jira, GitHub, Google Suite (Docs, Meet, etc), Slack, Confluence', 'Jira, GitLab, Slack, Trello', 'Microsoft Team, GitHub, Discord', 'Confluence, GitLab, Jira, Slack, GitHub', 'GitHub, GitLab, Microsoft Team', 'Trello, Google Suite (Docs, Meet, etc), GitHub', 'Microsoft Team, GitHub, Slack, Google Suite (Docs, Meet, etc), Jira', 'Confluence, Google Suite (Docs, Meet, etc), GitLab, Slack, Jira, GitHub', 'GitHub, Jira, Google Suite (Docs, Meet, etc), Trello, Microsoft Team', 'Jira, Microsoft Team, Slack, Google Suite (Docs, Meet, etc), GitLab, Confluence', 'Microsoft Team, Slack, GitHub, Google Suite (Docs, Meet, etc), Confluence, Jira', 'Slack, GitHub, GitLab, Trello, Microsoft Team', 'Confluence, Trello, Notion, GitHub, Jira, Google Suite (Docs, Meet, etc), Microsoft Azure, Slack', 'Microsoft Team, Microsoft Azure, Slack, Jira', 'Jira, Microsoft Team, Discord, GitHub', 'Notion, Google Suite (Docs, Meet, etc), Confluence, Microsoft Team', 'GitLab, Slack', 'Microsoft Team, GitHub, Jira', 'Confluence, Google Suite (Docs, Meet, etc), GitHub, Jira, Slack', 'GitHub, Slack', 'Trello, Google Suite (Docs, Meet, etc), GitLab, Discord, Notion, GitHub, Jira, Slack', 'GitHub, Google Suite (Docs, Meet, etc), Confluence, Jira', 'GitHub, Jira, Google Suite (Docs, Meet, etc), Slack, Confluence', 'Slack, Jira, Microsoft Team, GitHub', 'Notion, Slack', 'Jira, GitLab, Microsoft Team, Microsoft Azure, Trello, Google Suite (Docs, Meet, etc), GitHub', 'Microsoft Team, Jira, Slack, Confluence, Facebook Workplace, GitHub, Google Suite (Docs, Meet, etc)', 'Confluence, Jira, GitLab, Slack', 'Google Suite (Docs, Meet, etc), Jira, Confluence, GitLab, Slack, GitHub', 'Discord, Trello, Slack, GitHub', 'Jira, Confluence, Microsoft Team, Google Suite (Docs, Meet, etc), Slack, GitHub', 'Jira, Microsoft Team, GitLab, Slack', 'Microsoft Team, Notion', 'Microsoft Team, Jira, Confluence, Microsoft Azure, GitLab, Google Suite (Docs, Meet, etc)', 'Jira, Google Suite (Docs, Meet, etc), Confluence, Slack', 'Notion, Slack, Confluence, GitHub, Discord, GitLab, Trello, Jira', 'Discord, GitHub, Jira, Confluence, Slack', 'GitLab, Google Suite (Docs, Meet, etc)', 'GitHub, Google Suite (Docs, Meet, etc), Discord', 'Microsoft Team, GitLab, Google Suite (Docs, Meet, etc), Trello, Slack, Confluence, GitHub, Jira', 'Confluence, Slack, Microsoft Team, Jira, GitHub, Notion, Facebook Workplace', 'Jira, Google Suite (Docs, Meet, etc), GitLab, Slack, Trello, GitHub', 'GitHub, Microsoft Team, Confluence, Jira, Slack, Google Suite (Docs, Meet, etc), GitLab', 'Jira, Confluence', 'Discord, GitHub, Jira, Google Suite (Docs, Meet, etc)', 'Microsoft Team, GitLab, Jira, Slack, Notion', 'GitLab, Discord, Google Suite (Docs, Meet, etc), Notion, Trello, GitHub, Microsoft Team', 'Jira, Microsoft Azure, Microsoft Team', 'GitHub, Jira, Google Suite (Docs, Meet, etc), Confluence, Slack, Notion', 'Jira, Google Suite (Docs, Meet, etc), Microsoft Team, Slack, GitHub', 'Jira, Slack, Google Suite (Docs, Meet, etc), GitHub', 'Jira, Notion, Slack, GitLab, Google Suite (Docs, Meet, etc)', 'Confluence, GitLab', 'Jira, Google Suite (Docs, Meet, etc)', 'Google Suite (Docs, Meet, etc), GitLab, Slack', 'Notion, Discord, Confluence, GitLab, Google Suite (Docs, Meet, etc), Jira, Trello', 'Google Suite (Docs, Meet, etc), GitLab, Microsoft Team, GitHub', 'Slack, Jira, Confluence, GitHub', 'Trello, GitLab, Confluence, Google Suite (Docs, Meet, etc), Slack, Jira', 'Notion, Microsoft Team, Google Suite (Docs, Meet, etc)', 'Discord, GitHub, Notion', 'GitHub, Microsoft Team', 'Jira, Confluence, GitLab, Slack, Google Suite (Docs, Meet, etc)', 'Microsoft Team, Microsoft Azure, Discord, Notion', 'Google Suite (Docs, Meet, etc), GitHub, Microsoft Team', 'Slack, Confluence, GitHub, Google Suite (Docs, Meet, etc), Jira', 'GitLab, GitHub, Trello', 'Microsoft Team, GitLab, Jira', 'Microsoft Azure, Microsoft Team, Jira, Confluence, Google Suite (Docs, Meet, etc), GitHub, GitLab', 'Google Suite (Docs, Meet, etc), Slack, Confluence, Jira, Microsoft Team, Facebook Workplace, Discord, Trello, Notion, GitHub', 'Jira, Microsoft Team, Discord, GitLab, Microsoft Azure', 'Notion, GitHub, Slack, Google Suite (Docs, Meet, etc), Jira', 'Jira, Google Suite (Docs, Meet, etc), Microsoft Team', 'Discord, Google Suite (Docs, Meet, etc), Trello, GitHub', 'Confluence, Jira, Microsoft Team, GitLab', 'Jira, Google Suite (Docs, Meet, etc), GitHub, Confluence', 'Confluence, Jira, GitLab', 'Slack, Google Suite (Docs, Meet, etc)', 'GitLab, GitHub, Google Suite (Docs, Meet, etc)', 'Slack, Google Suite (Docs, Meet, etc), GitHub', 'GitLab, GitHub, Jira, Google Suite (Docs, Meet, etc), Slack', 'Trello, Slack, Google Suite (Docs, Meet, etc), Notion, GitHub, Jira, Discord', 'Google Suite (Docs, Meet, etc), Microsoft Team, GitLab, Jira, Confluence, Slack', 'Confluence, GitHub, Slack, Jira', 'Microsoft Team, GitHub', 'Notion, Google Suite (Docs, Meet, etc), GitHub, GitLab, Trello, Discord', 'GitLab, Microsoft Team, Google Suite (Docs, Meet, etc)', 'GitLab, Slack, Jira, Google Suite (Docs, Meet, etc), GitHub', 'Google Suite (Docs, Meet, etc), Trello, Discord, Jira, GitHub, Confluence, GitLab', 'Jira, GitHub, Slack, Confluence, Trello, GitLab', 'GitHub, Google Suite (Docs, Meet, etc), Jira', 'Google Suite (Docs, Meet, etc), Confluence, Jira, Slack', 'GitHub, Discord, Trello', 'Google Suite (Docs, Meet, etc), GitHub, Trello, Slack', 'Notion, Trello, Jira, GitHub, Google Suite (Docs, Meet, etc), Discord', 'Jira, Microsoft Team, GitLab', 'Confluence, Jira, Microsoft Team, GitLab, GitHub, Microsoft Azure', 'GitLab, Jira, Microsoft Team', 'GitHub, Google Suite (Docs, Meet, etc), Jira, Slack, GitLab', 'Slack, Jira, Google Suite (Docs, Meet, etc), GitHub', 'Confluence, Microsoft Team, Jira', 'Jira, GitLab, Confluence, Microsoft Team', 'Google Suite (Docs, Meet, etc), Confluence, Microsoft Team, Notion, GitHub, Slack, Discord, Jira, Facebook Workplace', 'Microsoft Team, Jira, Slack, Trello, Confluence', 'GitLab, Google Suite (Docs, Meet, etc), GitHub', 'GitHub, GitLab', 'GitHub, Jira, Slack', 'GitHub, Slack, Trello, GitLab', 'Slack, Notion, Jira, Google Suite (Docs, Meet, etc), GitHub', 'Slack, Trello, GitHub, Confluence', 'Trello, Google Suite (Docs, Meet, etc), Microsoft Team, Jira', 'Jira, Microsoft Team, GitHub, Confluence', 'GitLab, Confluence, Microsoft Azure, Jira, GitHub, Microsoft Team', 'Google Suite (Docs, Meet, etc), GitLab', 'Slack, Google Suite (Docs, Meet, etc), Jira, Notion, GitLab, Microsoft Team', 'Google Suite (Docs, Meet, etc), Trello, GitHub', 'GitLab, Slack, Trello, Confluence, GitHub, Jira, Google Suite (Docs, Meet, etc)', 'Google Suite (Docs, Meet, etc), GitHub', 'Jira, GitLab, Slack', 'Notion, GitHub, Microsoft Team', 'Discord, GitLab, Google Suite (Docs, Meet, etc), Slack, Confluence, Jira', 'Jira, GitHub, Confluence, Slack', 'GitHub, Slack, Confluence, Notion, Facebook Workplace, Jira', 'Jira, Slack, Confluence, Microsoft Team, GitHub, Google Suite (Docs, Meet, etc)', 'Microsoft Team, Google Suite (Docs, Meet, etc), GitLab, Slack, Jira', 'Google Suite (Docs, Meet, etc), Jira, Confluence', 'Notion, Confluence, Slack, Google Suite (Docs, Meet, etc), GitLab, GitHub, Jira', 'Microsoft Azure, Discord, Jira, GitHub, Google Suite (Docs, Meet, etc)', 'Microsoft Azure, Microsoft Team', 'Trello, Confluence, GitHub, Jira, Discord, GitLab, Slack, Microsoft Team', 'GitHub, Trello, Microsoft Team, Notion', 'Slack, Jira, Google Suite (Docs, Meet, etc)', 'Slack, Microsoft Team', 'GitHub, Slack, Notion', 'Slack, GitLab, GitHub, Confluence', 'Google Suite (Docs, Meet, etc), Slack, Trello, Jira, Discord', 'Google Suite (Docs, Meet, etc), Trello', 'Discord, Slack, Notion, Google Suite (Docs, Meet, etc), Jira, Microsoft Team, GitHub', 'Google Suite (Docs, Meet, etc), Microsoft Azure, Slack', 'Google Suite (Docs, Meet, etc), Notion, Slack, Discord, GitHub', 'Trello, GitHub, Google Suite (Docs, Meet, etc)', 'Jira, GitHub, GitLab', 'Slack, Confluence, Google Suite (Docs, Meet, etc), Notion, GitHub, Jira', 'Jira, Google Suite (Docs, Meet, etc), Slack', 'Slack, Jira, Google Suite (Docs, Meet, etc), Microsoft Team, GitLab', 'Google Suite (Docs, Meet, etc), Facebook Workplace, Slack, Discord, Confluence, GitHub', 'Trello, Microsoft Team, Jira, Discord, GitLab, Slack, GitHub', 'Google Suite (Docs, Meet, etc), GitHub, Jira, Trello, Confluence', 'Trello, Microsoft Team', 'Confluence, Jira, GitHub, Microsoft Azure, GitLab, Microsoft Team', 'Jira, Google Suite (Docs, Meet, etc), Slack, GitLab', 'Jira, GitLab, Microsoft Team', 'Jira, GitHub, Microsoft Azure, Facebook Workplace, Confluence, Microsoft Team', 'Slack, Jira, Microsoft Team, GitHub, Google Suite (Docs, Meet, etc)', 'GitLab', 'Google Suite (Docs, Meet, etc), Jira, Slack, GitHub, Confluence, Microsoft Team', 'GitHub, Notion, Trello, Google Suite (Docs, Meet, etc)', 'Confluence, GitLab, Jira, Microsoft Team', 'Notion, GitLab, GitHub', 'Discord, Google Suite (Docs, Meet, etc)', 'Google Suite (Docs, Meet, etc), Discord, GitHub, GitLab, Trello', 'GitLab, Google Suite (Docs, Meet, etc), GitHub, Jira, Trello, Slack, Microsoft Team', 'Google Suite (Docs, Meet, etc), Microsoft Team', 'Google Suite (Docs, Meet, etc), Trello, Jira, Slack', 'Trello, Microsoft Team, Jira, GitLab', 'Slack, GitLab, Confluence, Jira, Google Suite (Docs, Meet, etc)', 'GitLab, Slack, Google Suite (Docs, Meet, etc)', 'GitHub, Slack, Microsoft Team', 'GitHub, Slack, Google Suite (Docs, Meet, etc), GitLab', 'Jira, Microsoft Team, Slack, GitHub, Confluence', 'Jira, Trello, GitHub, Notion, Google Suite (Docs, Meet, etc), Discord', 'Discord', 'GitHub, Slack, Jira, Google Suite (Docs, Meet, etc), Confluence, Facebook Workplace', 'GitLab, Microsoft Team, Jira, Microsoft Azure, Google Suite (Docs, Meet, etc), Trello, GitHub, Slack, Discord, Confluence', 'Confluence, Trello, Slack, GitHub, GitLab, Google Suite (Docs, Meet, etc)', 'GitHub, Confluence, Slack, Google Suite (Docs, Meet, etc), Jira', 'Jira, Google Suite (Docs, Meet, etc), Slack, Notion', 'GitHub, Microsoft Azure, Slack, Notion, Google Suite (Docs, Meet, etc)', 'Confluence, Jira, GitLab, Slack, Google Suite (Docs, Meet, etc), GitHub', 'Slack, Google Suite (Docs, Meet, etc), Jira, GitHub', 'Notion, Google Suite (Docs, Meet, etc), Slack, GitHub, Jira, Discord', 'GitHub, Discord, GitLab, Jira, Confluence, Microsoft Team', 'GitHub', 'Microsoft Team, Jira', 'Microsoft Team, GitHub, Discord, Trello, Notion', 'Discord, GitLab', 'Confluence, Jira, Slack, Google Suite (Docs, Meet, etc), GitHub', 'Microsoft Azure, GitHub, Microsoft Team', 'Jira, Microsoft Team, Slack, Discord, GitLab, Confluence', 'Slack, GitHub, Google Suite (Docs, Meet, etc), Microsoft Team, Jira', 'Microsoft Team, Microsoft Azure', 'Jira, Google Suite (Docs, Meet, etc), GitHub, Slack, Confluence', 'Trello, GitHub', 'Google Suite (Docs, Meet, etc), Slack, Jira, GitHub', 'Jira, GitHub, Confluence', 'Microsoft Team, Facebook Workplace, Slack, Jira, GitHub', 'Microsoft Team, Discord, Notion', 'Slack', 'GitHub, Discord, Slack, Confluence, Trello, GitLab', 'Trello, Confluence, Google Suite (Docs, Meet, etc), GitHub, Microsoft Team, Jira', 'Confluence, GitLab, Microsoft Team', 'Confluence, Jira, Trello, GitLab, GitHub, Notion, Slack', 'Confluence, Slack, Jira, Discord, GitHub, Google Suite (Docs, Meet, etc)', 'Discord, Jira, Trello, GitHub, Slack', 'GitHub, Confluence, Jira, GitLab, Slack, Microsoft Team, Google Suite (Docs, Meet, etc)', 'Google Suite (Docs, Meet, etc), Confluence, Jira, Microsoft Team', 'Confluence, GitHub, Facebook Workplace, Slack, GitLab, Google Suite (Docs, Meet, etc), Jira', 'Confluence, Facebook Workplace, Jira, Google Suite (Docs, Meet, etc), Slack, GitLab', 'Trello, Microsoft Team, GitLab', 'GitLab, Microsoft Team, Google Suite (Docs, Meet, etc), GitHub', 'Jira', 'Notion, Jira, Confluence, GitLab, Discord', 'Jira, Microsoft Team, Google Suite (Docs, Meet, etc)', 'Microsoft Team, Microsoft Azure, GitLab, Jira', 'GitHub, Slack, GitLab, Microsoft Team, Google Suite (Docs, Meet, etc), Microsoft Azure', 'GitLab, Google Suite (Docs, Meet, etc), GitHub, Jira', 'GitHub, Notion', 'Google Suite (Docs, Meet, etc), Notion, Jira, GitHub', 'Jira, GitHub, Google Suite (Docs, Meet, etc), Confluence, GitLab, Slack, Discord', 'Microsoft Team, GitLab', 'Discord, GitHub', 'Microsoft Team, Notion, Google Suite (Docs, Meet, etc)', 'GitLab, Google Suite (Docs, Meet, etc), Jira', 'Microsoft Team, GitHub, Google Suite (Docs, Meet, etc)', 'GitHub, Google Suite (Docs, Meet, etc), Microsoft Team, Jira', 'Google Suite (Docs, Meet, etc), Microsoft Team, Trello', 'GitHub, GitLab, Slack, Jira, Confluence', 'GitLab, GitHub', 'Facebook Workplace, Google Suite (Docs, Meet, etc), Notion, Discord, Slack, GitLab, Confluence, GitHub, Jira', 'GitLab, Jira, GitHub, Microsoft Azure, Trello', 'Google Suite (Docs, Meet, etc), Microsoft Team, Slack, GitHub, Discord, Jira', 'Discord, GitLab, Google Suite (Docs, Meet, etc), Jira, GitHub', 'GitLab, GitHub, Notion', 'GitHub, Google Suite (Docs, Meet, etc)', 'Notion, Google Suite (Docs, Meet, etc), GitHub', 'Microsoft Team, Jira, Google Suite (Docs, Meet, etc)', 'Google Suite (Docs, Meet, etc), Slack, GitHub, Jira, Confluence', 'Microsoft Azure, Microsoft Team, Slack, GitLab', 'Notion, Trello, GitLab', 'Microsoft Team, Jira, Confluence', 'Google Suite (Docs, Meet, etc), GitHub, Trello', 'Slack, Google Suite (Docs, Meet, etc), Jira, GitLab', 'Microsoft Team, Microsoft Azure, Notion, Jira, GitHub', 'GitHub, Microsoft Team, Google Suite (Docs, Meet, etc), Confluence, Jira, GitLab, Microsoft Azure', 'Jira, Slack, GitLab, Confluence, Microsoft Team', 'Microsoft Azure, GitHub, Google Suite (Docs, Meet, etc), Trello, GitLab, Notion, Slack', 'Slack, Google Suite (Docs, Meet, etc), GitLab', 'GitLab, Jira, Microsoft Team, Discord, Slack', 'GitLab, Microsoft Team, Slack', 'GitHub, Jira, Slack, Microsoft Team', 'GitLab, Microsoft Team, Jira', 'Jira, Microsoft Azure, GitHub, Trello, Discord, Microsoft Team, Google Suite (Docs, Meet, etc), Confluence', 'Google Suite (Docs, Meet, etc), Notion, Discord, Slack, Trello, GitHub, Jira', 'GitLab, Notion, Discord', 'Microsoft Team, GitHub, Trello, Jira, Microsoft Azure', 'GitHub, Jira, GitLab', 'Google Suite (Docs, Meet, etc), Slack, Trello, GitHub, Discord', 'Microsoft Team, Trello', 'Microsoft Azure, GitLab, Jira, Notion, GitHub', 'Facebook Workplace, Confluence, Microsoft Team, Slack, GitLab, Discord, Jira, GitHub', 'GitHub, Microsoft Team, Trello', 'Microsoft Team, Microsoft Azure, GitHub', 'Slack, GitLab, Google Suite (Docs, Meet, etc), Microsoft Team, GitHub, Jira', 'Trello, GitLab, Notion', 'Slack, Confluence, Jira, GitHub, Google Suite (Docs, Meet, etc), Facebook Workplace', 'Jira, GitLab, Confluence, Google Suite (Docs, Meet, etc), Microsoft Team, GitHub', 'Jira, GitHub', 'GitHub, Jira', 'Trello, Microsoft Team, Jira', 'GitLab, GitHub, Notion, Discord, Google Suite (Docs, Meet, etc)', 'GitHub, Slack, Google Suite (Docs, Meet, etc)', 'Google Suite (Docs, Meet, etc), GitLab, GitHub', 'Microsoft Azure, Confluence, Microsoft Team, Jira', 'GitHub, Microsoft Team, Jira', 'Slack, GitHub', 'GitHub, Trello', 'GitLab, Microsoft Team, Microsoft Azure, Confluence, Jira, Slack', 'Slack, Confluence, Jira, Microsoft Team, GitLab', 'Google Suite (Docs, Meet, etc), GitHub, Microsoft Team, Notion, GitLab, Jira', 'Trello', 'Discord, GitHub, Google Suite (Docs, Meet, etc)', 'GitHub, Trello, Slack, GitLab', 'Microsoft Team, Google Suite (Docs, Meet, etc)', 'GitLab, Discord, GitHub, Microsoft Team']\n",
      "\n",
      "\n",
      "\n",
      "\n",
      "COLUMNA ---->  use_AI_tools\n",
      "['Google Bard', 'Bing AI, Github Copilot, ChatGPT', 'Github Copilot, Notion AI, ChatGPT', 'Github Copilot, ChatGPT, Google Bard', 'Bing AI, ChatGPT', 'Google Bard, Bing AI, ChatGPT', 'Github Copilot, IntelliJ Assistant ', 'Bing AI, Google Bard, ChatGPT, WolframAlpha, Notion AI', 'Google Bard, ChatGPT, Notion AI', 'ChatGPT, Google Bard, Bing AI, Github Copilot', 'Bing AI, ChatGPT, Notion AI', 'Google Bard, ChatGPT, Notion AI, Bing AI, Github Copilot', 'AiDE', 'Github Copilot, AWS CodeWhisperer, ChatGPT, Google Bard', 'ChatGPT, Google Bard, Github Copilot, Bing AI', 'Github Copilot, Notion AI, AWS CodeWhisperer', 'ChatGPT, Bing AI', 'Github Copilot, ChatGPT', 'ChatGPT, Github Copilot, TabNine', 'Github Copilot', 'ChatGPT, Google Bard, Github Copilot', 'ChatGPT, AWS CodeWhisperer, Github Copilot, Notion AI, Bing AI, Google Bard', 'ChatGPT, Codeium', 'ChatGPT, Genesis, Copilot', 'ChatGPT, Unity Muse', 'ChatGPT, Claude.ai', 'Github Copilot, Notion AI, Google Bard, ChatGPT', 'ChatGPT', 'ChatGPT, Google Bard', 'Bing AI', 'ChatGPT, Bing AI, Google Bard', 'WolframAlpha, Github Copilot', 'ChatGPT, Google Bard, Bing AI', 'ChatGPT, Github Copilot, Notion AI, Bing AI', 'Notion AI', 'Microsoft Copilot', 'Talkai', 'WolframAlpha, ChatGPT, Claude Ai', 'Codeium', 'Github Copilot, WolframAlpha', 'Google Bard, Github Copilot, ChatGPT, Notion AI', 'ChatGPT, Bing AI, Github Copilot', 'ChatGPT, Github Copilot, Google Bard', 'Codium AI', 'ChatGPT, Notion AI, Github Copilot', 'Github Copilot, Bing AI', 'WolframAlpha, ChatGPT', 'Bing AI, AWS CodeWhisperer, ChatGPT', 'ChatGPT, Github Copilot', 'Claude', 'Google Bard, ChatGPT', 'Google Bard, Bing AI, ChatGPT, Claude.ai', 'Bing AI, Github Copilot', 'Notion AI, ChatGPT, Bing AI', 'Google Bard, ChatGPT, Bing AI', 'Google Bard, Google Geminis', 'ChatGPT, Google Bard, CODEGEEX', 'Bing AI, ChatGPT, Github Copilot', 'Notion AI, Github Copilot, ChatGPT', 'Bing AI, ChatGPT, AWS CodeWhisperer, Google Bard']\n",
      "\n",
      "\n",
      "\n",
      "\n",
      "COLUMNA ---->  AI_replace_dev\n",
      "['No', 'Sí', 'Puede ser, pero dentro de muchos años (más de 10)']\n",
      "\n",
      "\n",
      "\n",
      "\n",
      "COLUMNA ---->  layoffs_23_24\n",
      "['No', 'Sí']\n",
      "\n",
      "\n",
      "\n",
      "\n",
      "COLUMNA ---->  working_now\n",
      "['No', 'Sí']\n",
      "\n",
      "\n",
      "\n",
      "\n",
      "COLUMNA ---->  unemployed_duration\n",
      "['3 a 5 meses', 'menos de 3 meses', '6 meses o más']\n",
      "\n",
      "\n",
      "\n",
      "\n",
      "COLUMNA ---->  same_role\n",
      "['No', 'Sí']\n",
      "\n",
      "\n",
      "\n",
      "\n",
      "COLUMNA ---->  current_vs_prev_salary\n",
      "['menor', 'casi igual', 'mayor']\n",
      "\n",
      "\n",
      "\n",
      "\n"
     ]
    }
   ],
   "source": [
    "for i in df.columns:\n",
    "    print(\"COLUMNA ----> \", i)\n",
    "    print(eh.get_column_uniques(df, i))\n",
    "    print(\"\\n\" * 3)"
   ]
  },
  {
   "cell_type": "markdown",
   "id": "1ec91f35-3e69-4b2d-ab77-cdda220c3a77",
   "metadata": {},
   "source": [
    "# code_for_job\n"
   ]
  },
  {
   "cell_type": "code",
   "execution_count": 42,
   "id": "41c78971-1284-462f-b3b1-927ea250575c",
   "metadata": {},
   "outputs": [
    {
     "data": {
      "text/plain": [
       "['No', 'Sí']"
      ]
     },
     "execution_count": 42,
     "metadata": {},
     "output_type": "execute_result"
    }
   ],
   "source": [
    "eh.get_column_uniques(df, \"code_for_job\")"
   ]
  },
  {
   "cell_type": "code",
   "execution_count": 43,
   "id": "a8403fd4-6e98-4f32-b6a6-cc0c7306b39d",
   "metadata": {},
   "outputs": [],
   "source": [
    "r = {\n",
    "    \"Sí\": \"Yes\",\n",
    "}\n",
    "\n",
    "\n",
    "# Apply the replacement\n",
    "eh.replace_column_content(df, \"code_for_job\", r)"
   ]
  },
  {
   "cell_type": "code",
   "execution_count": 44,
   "id": "5a85a27a-d5d5-4555-8a63-9fab4d1c45ff",
   "metadata": {},
   "outputs": [
    {
     "data": {
      "text/plain": [
       "['Yes', 'No']"
      ]
     },
     "execution_count": 44,
     "metadata": {},
     "output_type": "execute_result"
    }
   ],
   "source": [
    "eh.get_column_uniques(df, \"code_for_job\")"
   ]
  },
  {
   "cell_type": "markdown",
   "id": "69cce210-b472-4331-840a-ed1aa1818c50",
   "metadata": {},
   "source": [
    "# IT_exp\n"
   ]
  },
  {
   "cell_type": "code",
   "execution_count": 45,
   "id": "c34eb474-aff1-473b-a553-a828bae241ca",
   "metadata": {},
   "outputs": [
    {
     "data": {
      "text/plain": [
       "['18 a 25 años',\n",
       " '10 a 12 años',\n",
       " '1 a 2 años',\n",
       " '13 a 17 años',\n",
       " '6 a 9 años',\n",
       " 'Menos de 1 año',\n",
       " '3 a 5 años',\n",
       " 'Más de 26 años']"
      ]
     },
     "execution_count": 45,
     "metadata": {},
     "output_type": "execute_result"
    }
   ],
   "source": [
    "eh.get_column_uniques(df, \"IT_exp\")"
   ]
  },
  {
   "cell_type": "code",
   "execution_count": 46,
   "id": "2a30d47a-5a8d-46bf-9dd3-93439758ef38",
   "metadata": {},
   "outputs": [],
   "source": [
    "experience_ranges = {\n",
    "    \"Menos de 1 año\": \"<1 year\",\n",
    "    \"1 a 2 años\": \"1_2 years\",\n",
    "    \"Más de 26 años\": \"26+ years\",\n",
    "    \"18 a 25 años\": \"18_25 years\",\n",
    "    \"13 a 17 años\": \"13_17 years\",\n",
    "    \"3 a 5 años\": \"3_5 years\",\n",
    "    \"10 a 12 años\": \"10_12 years\",\n",
    "    \"6 a 9 años\": \"6_9 years\",\n",
    "}\n",
    "# Apply the replacement\n",
    "eh.replace_column_content(df, \"IT_exp\", experience_ranges)"
   ]
  },
  {
   "cell_type": "code",
   "execution_count": 47,
   "id": "2eb96087-33cc-4a28-acd7-1340a19233a4",
   "metadata": {},
   "outputs": [
    {
     "data": {
      "text/plain": [
       "['<1 year',\n",
       " '26+ years',\n",
       " '18_25 years',\n",
       " '3_5 years',\n",
       " '10_12 years',\n",
       " '1_2 years',\n",
       " '13_17 years',\n",
       " '6_9 years']"
      ]
     },
     "execution_count": 47,
     "metadata": {},
     "output_type": "execute_result"
    }
   ],
   "source": [
    "eh.get_column_uniques(df, \"IT_exp\")"
   ]
  },
  {
   "cell_type": "markdown",
   "id": "c7bfe2c2-c8a2-4d31-ae32-1b152c1b0864",
   "metadata": {},
   "source": [
    "# prof_prog_exp\n"
   ]
  },
  {
   "cell_type": "code",
   "execution_count": 48,
   "id": "dccb40c9-8860-4202-b329-54ad4e5f186f",
   "metadata": {},
   "outputs": [
    {
     "data": {
      "text/plain": [
       "['18 a 25 años',\n",
       " '10 a 12 años',\n",
       " 'más de 26 años',\n",
       " '1 a 2 años',\n",
       " '6 a 9 años',\n",
       " '13 a 17 años',\n",
       " 'Menos de 1 año',\n",
       " '3 a 5 años']"
      ]
     },
     "execution_count": 48,
     "metadata": {},
     "output_type": "execute_result"
    }
   ],
   "source": [
    "eh.get_column_uniques(df, \"prof_prog_exp\")"
   ]
  },
  {
   "cell_type": "code",
   "execution_count": 49,
   "id": "c0f9c999-a782-4b3d-9099-173f6f263f4d",
   "metadata": {},
   "outputs": [],
   "source": [
    "prof_experience_ranges = {\n",
    "    \"Menos de 1 año\": \"<1 year\",\n",
    "    \"1 a 2 años\": \"1_2 years\",\n",
    "    \"18 a 25 años\": \"18_25 years\",\n",
    "    \"13 a 17 años\": \"13_17 years\",\n",
    "    \"más de 26 años\": \"26+ years\",\n",
    "    \"3 a 5 años\": \"3_5 years\",\n",
    "    \"10 a 12 años\": \"10_12 years\",\n",
    "    \"6 a 9 años\": \"6_9 years\",\n",
    "}\n",
    "\n",
    "# Apply the replacement\n",
    "eh.replace_column_content(df, \"prof_prog_exp\", prof_experience_ranges)"
   ]
  },
  {
   "cell_type": "code",
   "execution_count": 50,
   "id": "c812a3ce-6181-4aff-a9a9-cc00cb963e4f",
   "metadata": {},
   "outputs": [
    {
     "data": {
      "text/plain": [
       "['<1 year',\n",
       " '26+ years',\n",
       " '3_5 years',\n",
       " '18_25 years',\n",
       " '10_12 years',\n",
       " '1_2 years',\n",
       " '13_17 years',\n",
       " '6_9 years']"
      ]
     },
     "execution_count": 50,
     "metadata": {},
     "output_type": "execute_result"
    }
   ],
   "source": [
    "eh.get_column_uniques(df, \"prof_prog_exp\")"
   ]
  },
  {
   "cell_type": "markdown",
   "id": "7ee7f0a7-65c6-4611-80c2-2b7d72f0282c",
   "metadata": {},
   "source": [
    "# first_code\n"
   ]
  },
  {
   "cell_type": "code",
   "execution_count": 51,
   "id": "018df106-2660-4b38-ae25-169fb3554c11",
   "metadata": {},
   "outputs": [
    {
     "data": {
      "text/plain": [
       "['14 a 15 años',\n",
       " 'más de 30 años',\n",
       " '16 a 17 años',\n",
       " '24 a 25 años',\n",
       " 'Menos de 10 años',\n",
       " '20 a 21 años',\n",
       " '28 a 29 años',\n",
       " '22 a 23 años',\n",
       " '26 a 27 años',\n",
       " '18 a 19 años',\n",
       " '10 a 11 años',\n",
       " '12 a 13 años']"
      ]
     },
     "execution_count": 51,
     "metadata": {},
     "output_type": "execute_result"
    }
   ],
   "source": [
    "eh.get_column_uniques(df, \"first_code\")"
   ]
  },
  {
   "cell_type": "code",
   "execution_count": 52,
   "id": "6a8455ee-edf6-424f-a416-5a1695f3d10b",
   "metadata": {},
   "outputs": [],
   "source": [
    "first_line_years = {\n",
    "    \"16 a 17 años\": \"16_17 years\",\n",
    "    \"12 a 13 años\": \"12_13 years\",\n",
    "    \"14 a 15 años\": \"14_15 years\",\n",
    "    \"Menos de 10 años\": \"<10 years\",\n",
    "    \"10 a 11 años\": \"10_11 years\",\n",
    "    \"más de 30 años\": \"30+ years\",\n",
    "    \"26 a 27 años\": \"26_27 years\",\n",
    "    \"28 a 29 años\": \"28_29 years\",\n",
    "    \"22 a 23 años\": \"22_23 years\",\n",
    "    \"20 a 21 años\": \"20_21 years\",\n",
    "    \"24 a 25 años\": \"24_25 years\",\n",
    "    \"18 a 19 años\": \"18_19 years\",\n",
    "}\n",
    "# Apply the replacement\n",
    "eh.replace_column_content(df, \"first_code\", first_line_years)"
   ]
  },
  {
   "cell_type": "code",
   "execution_count": 53,
   "id": "28eab531-ed7b-456b-9cdb-79ae4dfb8c06",
   "metadata": {},
   "outputs": [
    {
     "data": {
      "text/plain": [
       "['10_11 years',\n",
       " '12_13 years',\n",
       " '18_19 years',\n",
       " '16_17 years',\n",
       " '28_29 years',\n",
       " '30+ years',\n",
       " '24_25 years',\n",
       " '14_15 years',\n",
       " '20_21 years',\n",
       " '26_27 years',\n",
       " '<10 years',\n",
       " '22_23 years']"
      ]
     },
     "execution_count": 53,
     "metadata": {},
     "output_type": "execute_result"
    }
   ],
   "source": [
    "eh.get_column_uniques(df, \"first_code\")"
   ]
  },
  {
   "cell_type": "markdown",
   "id": "0043f9b5-4b62-4764-968a-92fceb979e26",
   "metadata": {},
   "source": [
    "# formal_edu\n"
   ]
  },
  {
   "cell_type": "code",
   "execution_count": 54,
   "id": "1f2243bb-863b-49c2-b798-f498df11364c",
   "metadata": {},
   "outputs": [
    {
     "data": {
      "text/plain": [
       "['Educación Media',\n",
       " 'Título de Grado (licenciatura, ingeniería, etc.)',\n",
       " 'Doctorado',\n",
       " 'Máster']"
      ]
     },
     "execution_count": 54,
     "metadata": {},
     "output_type": "execute_result"
    }
   ],
   "source": [
    "eh.get_column_uniques(df, \"formal_edu\")"
   ]
  },
  {
   "cell_type": "code",
   "execution_count": 55,
   "id": "3d2b14e2-3347-46ae-906c-8ef826ece326",
   "metadata": {},
   "outputs": [],
   "source": [
    "education_levels = {\n",
    "    \"Educación Media\": \"high_school\",\n",
    "    \"Doctorado\": \"doctorate\",\n",
    "    \"Máster\": \"master\",\n",
    "    \"Título de Grado (licenciatura, ingeniería, etc.) \": \"bachelor_degree\",\n",
    "}"
   ]
  },
  {
   "cell_type": "code",
   "execution_count": 56,
   "id": "95c1c994-c00e-4f87-a1f5-af8c4dc55372",
   "metadata": {},
   "outputs": [],
   "source": [
    "eh.replace_column_content(df, \"formal_edu\", education_levels)"
   ]
  },
  {
   "cell_type": "code",
   "execution_count": 57,
   "id": "bff44775-c058-4c79-b939-bf1b91620bda",
   "metadata": {},
   "outputs": [],
   "source": [
    "df[\"formal_edu\"] = df[\"formal_edu\"].str.replace(\n",
    "    \"Título de Grado (licenciatura, ingeniería, etc.)\", \"Degree\"\n",
    ")"
   ]
  },
  {
   "cell_type": "code",
   "execution_count": 58,
   "id": "f5c738b2-98f8-4e5f-b569-27c4a2cbd007",
   "metadata": {},
   "outputs": [
    {
     "data": {
      "text/plain": [
       "['high_school', 'doctorate', 'Degree', 'master']"
      ]
     },
     "execution_count": 58,
     "metadata": {},
     "output_type": "execute_result"
    }
   ],
   "source": [
    "eh.get_column_uniques(df, \"formal_edu\")"
   ]
  },
  {
   "cell_type": "markdown",
   "id": "582771ff-9150-4b62-8471-732f93ece52f",
   "metadata": {},
   "source": [
    "# formal_edu_importance\n"
   ]
  },
  {
   "cell_type": "code",
   "execution_count": 59,
   "id": "d41930c9-a9a4-475c-9169-030ee45602f3",
   "metadata": {},
   "outputs": [
    {
     "data": {
      "text/plain": [
       "['Más o menos importante',\n",
       " 'Muy importante',\n",
       " 'Bastante importante',\n",
       " 'Crítico',\n",
       " 'No importa, no es necesario']"
      ]
     },
     "execution_count": 59,
     "metadata": {},
     "output_type": "execute_result"
    }
   ],
   "source": [
    "eh.get_column_uniques(df, \"formal_edu_importance\")"
   ]
  },
  {
   "cell_type": "code",
   "execution_count": 60,
   "id": "58de9ef0-e9f1-46ca-9a5b-095e7602aa58",
   "metadata": {},
   "outputs": [],
   "source": [
    "importance_levels = {\n",
    "    \"Bastante importante\": \"quite_important\",\n",
    "    \"Más o menos importante\": \"somewhat_important\",\n",
    "    \"No importa, no es necesario\": \"not_important\",\n",
    "    \"Crítico\": \"critical\",\n",
    "    \"Muy importante\": \"very_important\",\n",
    "}"
   ]
  },
  {
   "cell_type": "code",
   "execution_count": 61,
   "id": "e6ca0cf6-da3a-4055-97d1-356a87f06e93",
   "metadata": {},
   "outputs": [],
   "source": [
    "# Apply the replacement\n",
    "eh.replace_column_content(df, \"formal_edu_importance\", importance_levels)"
   ]
  },
  {
   "cell_type": "markdown",
   "id": "30f9f357-6732-4fd1-9f9e-3230d7a6fefa",
   "metadata": {},
   "source": [
    "# gender\n"
   ]
  },
  {
   "cell_type": "code",
   "execution_count": 62,
   "id": "7cdc93d1-e476-4e29-8867-b11247b7cfa5",
   "metadata": {},
   "outputs": [
    {
     "data": {
      "text/plain": [
       "['Hombre', 'Mujer', 'Prefiero no compartir']"
      ]
     },
     "execution_count": 62,
     "metadata": {},
     "output_type": "execute_result"
    }
   ],
   "source": [
    "eh.get_column_uniques(df, \"gender\")"
   ]
  },
  {
   "cell_type": "code",
   "execution_count": 63,
   "id": "70079447-c2ce-45bf-9b4e-874b8749d7f0",
   "metadata": {},
   "outputs": [],
   "source": [
    "gender_options = {\n",
    "    \"Hombre\": \"male\",\n",
    "    \"Mujer\": \"female\",\n",
    "    \"Prefiero no compartir\": \"prefer_not_to_say\",\n",
    "}"
   ]
  },
  {
   "cell_type": "code",
   "execution_count": 64,
   "id": "29a71248-f4e0-42af-973b-07581a1a576b",
   "metadata": {},
   "outputs": [],
   "source": [
    "# Apply the replacement\n",
    "eh.replace_column_content(df, \"gender\", gender_options)"
   ]
  },
  {
   "cell_type": "code",
   "execution_count": null,
   "id": "797f7d87-6c6e-4ce1-ad71-277d32bd64dd",
   "metadata": {},
   "outputs": [],
   "source": []
  },
  {
   "cell_type": "code",
   "execution_count": null,
   "id": "d290f2d8-102a-4ca8-adf6-90e95c6d23fe",
   "metadata": {},
   "outputs": [],
   "source": []
  },
  {
   "cell_type": "markdown",
   "id": "951155f8-15f0-4800-817b-70c40002d105",
   "metadata": {},
   "source": [
    "# age\n"
   ]
  },
  {
   "cell_type": "code",
   "execution_count": 65,
   "id": "c5877992-9094-417d-8a24-91f3e3ebca9a",
   "metadata": {},
   "outputs": [
    {
     "data": {
      "text/plain": [
       "['45 a 49 años',\n",
       " '30 a 34 años',\n",
       " '25 a 29 años',\n",
       " '35 a 39 años',\n",
       " '20 a 24 años',\n",
       " '15 a 19 años',\n",
       " '55 a 59 años',\n",
       " 'Más de 60 años',\n",
       " '40 a 44 años',\n",
       " '50 a 54 años']"
      ]
     },
     "execution_count": 65,
     "metadata": {},
     "output_type": "execute_result"
    }
   ],
   "source": [
    "eh.get_column_uniques(df, \"age\")"
   ]
  },
  {
   "cell_type": "code",
   "execution_count": 66,
   "id": "449011a0-70b9-4ae1-ac05-94ce87a8ae89",
   "metadata": {},
   "outputs": [],
   "source": [
    "age_ranges = {\n",
    "    \"50 a 54 años\": \"50_54 years\",\n",
    "    \"Más de 60 años\": \"60+ years\",\n",
    "    \"55 a 59 años\": \"55_59 years\",\n",
    "    \"45 a 49 años\": \"45_49 years\",\n",
    "    \"15 a 19 años\": \"15_19 years\",\n",
    "    \"35 a 39 años\": \"35_39 years\",\n",
    "    \"40 a 44 años\": \"40_44 years\",\n",
    "    \"20 a 24 años\": \"20_24 years\",\n",
    "    \"25 a 29 años\": \"25_29 years\",\n",
    "    \"30 a 34 años\": \"30_34 years\",\n",
    "}"
   ]
  },
  {
   "cell_type": "code",
   "execution_count": 67,
   "id": "a658cb76-5754-4aef-a760-346a3f668a4d",
   "metadata": {},
   "outputs": [],
   "source": [
    "# Apply the replacement\n",
    "eh.replace_column_content(df, \"age\", age_ranges)"
   ]
  },
  {
   "cell_type": "code",
   "execution_count": 68,
   "id": "80b41e00-b53b-4de0-bc58-adf31bf0b2f6",
   "metadata": {},
   "outputs": [
    {
     "data": {
      "text/plain": [
       "['50_54 years',\n",
       " '20_24 years',\n",
       " '25_29 years',\n",
       " '30_34 years',\n",
       " '40_44 years',\n",
       " '55_59 years',\n",
       " '35_39 years',\n",
       " '15_19 years',\n",
       " '60+ years',\n",
       " '45_49 years']"
      ]
     },
     "execution_count": 68,
     "metadata": {},
     "output_type": "execute_result"
    }
   ],
   "source": [
    "eh.get_column_uniques(df, \"age\")"
   ]
  },
  {
   "cell_type": "code",
   "execution_count": null,
   "id": "fcc6504c-5d6c-478f-b0dd-928277f6869d",
   "metadata": {},
   "outputs": [],
   "source": []
  },
  {
   "cell_type": "markdown",
   "id": "df69837f-80c7-48b8-b443-6c270ac2cc11",
   "metadata": {},
   "source": [
    "# AI_replace_dev\n"
   ]
  },
  {
   "cell_type": "code",
   "execution_count": 69,
   "id": "6d1e0829-5a36-47ce-9d97-92cc6a20a530",
   "metadata": {},
   "outputs": [
    {
     "data": {
      "text/plain": [
       "['No', 'Sí', 'Puede ser, pero dentro de muchos años (más de 10)']"
      ]
     },
     "execution_count": 69,
     "metadata": {},
     "output_type": "execute_result"
    }
   ],
   "source": [
    "eh.get_column_uniques(df, \"AI_replace_dev\")"
   ]
  },
  {
   "cell_type": "code",
   "execution_count": 70,
   "id": "963ca36d-7811-43e9-ae00-bbdbaf20c062",
   "metadata": {},
   "outputs": [],
   "source": [
    "ai_replace_options = {\n",
    "    \"Sí\": \"yes\",\n",
    "    \"No\": \"no\",\n",
    "    \"Puede ser, pero dentro de muchos años (más de 10)\": \"maybe_in_10+_years\",\n",
    "}"
   ]
  },
  {
   "cell_type": "code",
   "execution_count": 71,
   "id": "f0cbeb8f-623e-47ba-8478-3e040f846c06",
   "metadata": {},
   "outputs": [],
   "source": [
    "df[\"AI_replace_dev\"] = df[\"AI_replace_dev\"].str.replace(\n",
    "    \"Puede ser, pero dentro de muchos años (más de 10)\", \"maybe_in_10+_years\"\n",
    ")"
   ]
  },
  {
   "cell_type": "code",
   "execution_count": 72,
   "id": "f9ac9eaa-1fe7-49a3-b2aa-2d0db495221a",
   "metadata": {},
   "outputs": [
    {
     "data": {
      "text/plain": [
       "['No', 'maybe_in_10+_years', 'Sí']"
      ]
     },
     "execution_count": 72,
     "metadata": {},
     "output_type": "execute_result"
    }
   ],
   "source": [
    "eh.get_column_uniques(df, \"AI_replace_dev\")"
   ]
  },
  {
   "cell_type": "code",
   "execution_count": null,
   "id": "729bcd19-df5c-43f3-8fda-4218433b869c",
   "metadata": {},
   "outputs": [],
   "source": []
  },
  {
   "cell_type": "markdown",
   "id": "5f868bd5-ddf0-43cc-a7f3-344def9ba518",
   "metadata": {},
   "source": [
    "# layoffs_23_24\n"
   ]
  },
  {
   "cell_type": "code",
   "execution_count": 73,
   "id": "5d2a4148-9268-4e37-b76a-6d6676e7ac21",
   "metadata": {},
   "outputs": [
    {
     "data": {
      "text/plain": [
       "['No', 'Sí']"
      ]
     },
     "execution_count": 73,
     "metadata": {},
     "output_type": "execute_result"
    }
   ],
   "source": [
    "eh.get_column_uniques(df, \"layoffs_23_24\")"
   ]
  },
  {
   "cell_type": "code",
   "execution_count": 74,
   "id": "4a81294c-3ede-41f6-a28f-925aff4a58fd",
   "metadata": {},
   "outputs": [],
   "source": [
    "yes_no_options = {\n",
    "    \"Sí\": \"yes\",\n",
    "    \"No\": \"no\",\n",
    "}"
   ]
  },
  {
   "cell_type": "code",
   "execution_count": 75,
   "id": "13819270-3140-4627-97db-7f24ca0566f8",
   "metadata": {},
   "outputs": [],
   "source": [
    "eh.replace_column_content(df, \"layoffs_23_24\", yes_no_options)"
   ]
  },
  {
   "cell_type": "markdown",
   "id": "f75cb1ba-a1f4-4128-8382-9e749c4fe17d",
   "metadata": {},
   "source": [
    "# working_now\n"
   ]
  },
  {
   "cell_type": "code",
   "execution_count": 76,
   "id": "5374d6ed-fd97-4d02-a517-0dd01b51c730",
   "metadata": {},
   "outputs": [
    {
     "data": {
      "text/plain": [
       "['No', 'Sí']"
      ]
     },
     "execution_count": 76,
     "metadata": {},
     "output_type": "execute_result"
    }
   ],
   "source": [
    "eh.get_column_uniques(df, \"working_now\")"
   ]
  },
  {
   "cell_type": "code",
   "execution_count": 77,
   "id": "43b4c847-a5d4-4301-aa99-e3ccea2181b8",
   "metadata": {},
   "outputs": [],
   "source": [
    "eh.replace_column_content(df, \"working_now\", yes_no_options)"
   ]
  },
  {
   "cell_type": "markdown",
   "id": "e307e6aa-89a2-4bc5-b594-f41978e450ea",
   "metadata": {},
   "source": [
    "# unemployed_duration\n"
   ]
  },
  {
   "cell_type": "code",
   "execution_count": 78,
   "id": "7ec0172b-28a1-4ca6-901e-ccad6be92790",
   "metadata": {},
   "outputs": [
    {
     "data": {
      "text/plain": [
       "['3 a 5 meses', 'menos de 3 meses', '6 meses o más']"
      ]
     },
     "execution_count": 78,
     "metadata": {},
     "output_type": "execute_result"
    }
   ],
   "source": [
    "eh.get_column_uniques(df, \"unemployed_duration\")"
   ]
  },
  {
   "cell_type": "code",
   "execution_count": 79,
   "id": "50721eeb-5af3-4ed4-a01c-052045ac9543",
   "metadata": {},
   "outputs": [],
   "source": [
    "unemp_time_ranges = {\n",
    "    \"3 a 5 meses\": \"3_5_months\",\n",
    "    \"6 meses o más\": \"6+_months\",\n",
    "    \"menos de 3 meses\": \"<3_months\",\n",
    "}"
   ]
  },
  {
   "cell_type": "code",
   "execution_count": 80,
   "id": "38a80de4-4f97-4ce1-b633-919b0b7ad664",
   "metadata": {},
   "outputs": [],
   "source": [
    "eh.replace_column_content(df, \"unemployed_duration\", unemp_time_ranges)"
   ]
  },
  {
   "cell_type": "markdown",
   "id": "b4f22a3b-c68a-46ad-8852-104d7e1cdd7d",
   "metadata": {},
   "source": [
    "# same_role\n"
   ]
  },
  {
   "cell_type": "code",
   "execution_count": 81,
   "id": "65f33322-8f8d-46b4-a414-b8fce986657d",
   "metadata": {},
   "outputs": [
    {
     "data": {
      "text/plain": [
       "['No', 'Sí']"
      ]
     },
     "execution_count": 81,
     "metadata": {},
     "output_type": "execute_result"
    }
   ],
   "source": [
    "eh.get_column_uniques(df, \"same_role\")"
   ]
  },
  {
   "cell_type": "code",
   "execution_count": 82,
   "id": "530a1fba-9e30-493c-aa06-d430eadbffdd",
   "metadata": {},
   "outputs": [],
   "source": [
    "eh.replace_column_content(df, \"same_role\", yes_no_options)"
   ]
  },
  {
   "cell_type": "code",
   "execution_count": null,
   "id": "2255028d-d2f8-447e-aae7-e89ab5a23af5",
   "metadata": {},
   "outputs": [],
   "source": []
  },
  {
   "cell_type": "markdown",
   "id": "34c6d117-f139-444a-bc24-e4cd33b9eeca",
   "metadata": {},
   "source": [
    "# current_vs_prev_salary"
   ]
  },
  {
   "cell_type": "code",
   "execution_count": 83,
   "id": "e9481d19-a65c-46df-a1c1-cf2b09aabd3e",
   "metadata": {},
   "outputs": [
    {
     "data": {
      "text/plain": [
       "['menor', 'casi igual', 'mayor']"
      ]
     },
     "execution_count": 83,
     "metadata": {},
     "output_type": "execute_result"
    }
   ],
   "source": [
    "eh.get_column_uniques(df, \"current_vs_prev_salary\")"
   ]
  },
  {
   "cell_type": "code",
   "execution_count": null,
   "id": "69b221e8-551f-44b1-8fec-126baedc42ea",
   "metadata": {},
   "outputs": [],
   "source": []
  },
  {
   "cell_type": "code",
   "execution_count": 84,
   "id": "16e06d6d-6b4b-4ea0-a0b3-dcaaaefc497c",
   "metadata": {},
   "outputs": [],
   "source": [
    "curr_vs_prev_content = {\n",
    "    \"mayor\": \"higher\",\n",
    "    \"menor\": \"lower\",\n",
    "    \"casi igual\": \"almost_equal\",\n",
    "}"
   ]
  },
  {
   "cell_type": "code",
   "execution_count": 85,
   "id": "56efea8d-752a-41c8-ac28-2bce9aa788c1",
   "metadata": {},
   "outputs": [],
   "source": [
    "eh.replace_column_content(df, \"current_vs_prev_salary\", curr_vs_prev_content)"
   ]
  },
  {
   "cell_type": "code",
   "execution_count": 86,
   "id": "a60c8f27-55a7-4d61-bb41-c139634fb5c5",
   "metadata": {},
   "outputs": [
    {
     "data": {
      "text/plain": [
       "Index(['lower', 'higher', 'almost_equal'], dtype='object', name='current_vs_prev_salary')"
      ]
     },
     "execution_count": 86,
     "metadata": {},
     "output_type": "execute_result"
    }
   ],
   "source": [
    "df[\"current_vs_prev_salary\"].value_counts().keys()"
   ]
  },
  {
   "cell_type": "code",
   "execution_count": null,
   "id": "5eb83287-b06f-4582-aa22-5f9155a8bcc9",
   "metadata": {},
   "outputs": [],
   "source": []
  },
  {
   "cell_type": "code",
   "execution_count": null,
   "id": "d9202afe-7e23-4007-835c-7755ee88c21f",
   "metadata": {},
   "outputs": [],
   "source": []
  },
  {
   "cell_type": "code",
   "execution_count": 87,
   "id": "54106daf-de0c-4571-b7be-e419e42a549b",
   "metadata": {},
   "outputs": [],
   "source": [
    "df.to_csv(\"../data/data_fixed.csv\")"
   ]
  },
  {
   "cell_type": "code",
   "execution_count": null,
   "id": "106be2bc-9ddf-417e-bcfc-9b90c5c1449d",
   "metadata": {},
   "outputs": [],
   "source": []
  },
  {
   "cell_type": "code",
   "execution_count": null,
   "id": "e5fc4824-599d-478c-b491-136c285b3d43",
   "metadata": {},
   "outputs": [],
   "source": []
  },
  {
   "cell_type": "code",
   "execution_count": null,
   "id": "477b4ecf-3055-45d2-a0ef-762c47287af5",
   "metadata": {},
   "outputs": [],
   "source": []
  },
  {
   "cell_type": "code",
   "execution_count": null,
   "id": "7eca0715-4668-48b3-a300-92838a4dc166",
   "metadata": {},
   "outputs": [],
   "source": []
  },
  {
   "cell_type": "code",
   "execution_count": null,
   "id": "3a570c27-5b92-4532-8f38-5ec8313dfca6",
   "metadata": {},
   "outputs": [],
   "source": []
  },
  {
   "cell_type": "code",
   "execution_count": null,
   "id": "459cf9fc-6480-48f7-90e4-3846cd180a2a",
   "metadata": {},
   "outputs": [],
   "source": []
  },
  {
   "cell_type": "code",
   "execution_count": null,
   "id": "e165c4eb-f131-42fa-b14e-74b8c270ff63",
   "metadata": {},
   "outputs": [],
   "source": []
  },
  {
   "cell_type": "code",
   "execution_count": null,
   "id": "140d5e36-8226-437f-ba09-3cf53af1e691",
   "metadata": {},
   "outputs": [],
   "source": []
  }
 ],
 "metadata": {
  "kernelspec": {
   "display_name": "Python 3 (ipykernel)",
   "language": "python",
   "name": "python3"
  },
  "language_info": {
   "codemirror_mode": {
    "name": "ipython",
    "version": 3
   },
   "file_extension": ".py",
   "mimetype": "text/x-python",
   "name": "python",
   "nbconvert_exporter": "python",
   "pygments_lexer": "ipython3",
   "version": "3.8.10"
  }
 },
 "nbformat": 4,
 "nbformat_minor": 5
}
