{
 "cells": [
  {
   "cell_type": "code",
   "execution_count": null,
   "id": "6db396f4-e36b-4378-8e31-ea2cababa324",
   "metadata": {},
   "outputs": [],
   "source": [
    "#######################\n",
    "# CONFIG ZONE\n",
    "#######################\n",
    "\n",
    "# Importing Libs\n",
    "import pandas as pd\n",
    "import seaborn as sns\n",
    "\n",
    "import matplotlib.pyplot as plt\n",
    "\n",
    "from collections import Counter\n",
    "import numpy as np\n",
    "\n",
    "# My Tools\n",
    "import milanesas.eda_helper as eh\n",
    "\n",
    "\n",
    "%matplotlib inline\n",
    "\n",
    "# Reseting figure size params.\n",
    "plt.rcParams[\"figure.figsize\"] = [12, 7]\n",
    "# Setting seaborn as default plotting lib.\n",
    "sns.set()\n",
    "sns.set_palette(\"pastel\")"
   ]
  },
  {
   "cell_type": "code",
   "execution_count": 1,
   "id": "e4618c7c-5eae-46ff-a817-9384691bbd79",
   "metadata": {},
   "outputs": [],
   "source": [
    "df = pd.read_excel(\"../data/enc_devs_2024.xlsx\")"
   ]
  },
  {
   "cell_type": "code",
   "execution_count": 2,
   "id": "66ffdba5-7d35-4fd1-9246-b39775a7a4bb",
   "metadata": {},
   "outputs": [
    {
     "name": "stdout",
     "output_type": "stream",
     "text": [
      " # Marca temporal\n",
      " # Modalidad de trabajo\n",
      " # Modalidad de empleo \n",
      " # Puesto / rol\n",
      " # ¿Utilizás habilidades de programación en alguno de los siguientes roles/puestos?\n",
      " # ¿Codificás por trabajo?\n",
      " # Experiencia en TI\n",
      " # Experiencia programando profesionalmente \n",
      " # Primera línea de código en una máquina\n",
      " # ¿Qué nivel te asignaron en tu trabajo?\n",
      " # ¿Cuál considerás que es tu nivel en tu puesto?\n",
      " # Educación Formal\n",
      " # Carreras o especialidades\n",
      " # Importancia educación formal\n",
      " # Género\n",
      " # Edad actual \n",
      " # Salario mensual\n",
      " # Programación, scripting y lenguajes de marcado que usás en tu profesión\n",
      " # Librerías o web frameworks\n",
      " # Otros frameworks, librerías y herramientas\n",
      " # Base de datos\n",
      " # Plataformas\n",
      " # Lenguaje favorito\n",
      " # Lenguaje más odiado o menos favorito\n",
      " # Framework favorito\n",
      " # Framework más odiado o menos favorito\n",
      " # Herramientas\n",
      " # ¿Usás regularmente* alguna de estas herramientas de I.A. para ayudarte en tu proceso de desarrollo?\n",
      " #  ¿Creés que la inteligencia artificial reemplazará al desarrollador?\n",
      " # ¿Fuiste afectado por recortes de personal (lay-offs) en el 2023 o en lo que va del 2024?\n",
      " # ¿Estás trabajando actualmente luego del recorte?\n",
      " # Si estás trabajando ahora, ¿cuánto tiempo después del recorte volviste a trabajar?\n",
      " # Si estás trabajando ahora, ¿lo hacés en el mismo rol que trabajabas antes del recorte?\n",
      " # Si estás trabajando ahora, tu remuneración en tu puesto actual versus la que percibías antes del recorte es:\n"
     ]
    }
   ],
   "source": [
    "for i in df.columns:\n",
    "    print(f\" # {i}\")"
   ]
  },
  {
   "cell_type": "markdown",
   "id": "171993ca-f671-4f5a-936b-5d18b38c1d5e",
   "metadata": {},
   "source": [
    "## Renaming columns.\n",
    "\n"
   ]
  },
  {
   "cell_type": "code",
   "execution_count": 3,
   "id": "00c76d46-e0e6-4b79-93d3-62e9ad22d6c2",
   "metadata": {},
   "outputs": [],
   "source": [
    "new_cols = {\n",
    "    \"Marca temporal\": \"timestamp\",\n",
    "    \"Modalidad de trabajo\": \"work_mode\",\n",
    "    \"Modalidad de empleo \": \"employment_mode\",\n",
    "    \"Puesto / rol\": \"role\",\n",
    "    \"¿Utilizás habilidades de programación en alguno de los siguientes roles/puestos?\": \"prog_skills_in_role\",\n",
    "    \"¿Codificás por trabajo?\": \"code_for_job\",\n",
    "    \"Experiencia en TI\": \"IT_exp\",\n",
    "    \"Experiencia programando profesionalmente \": \"prof_prog_exp\",\n",
    "    \"Primera línea de código en una máquina\": \"first_code\",\n",
    "    \"¿Qué nivel te asignaron en tu trabajo?\": \"assigned_seniority\",\n",
    "    \"¿Cuál considerás que es tu nivel en tu puesto?\": \"self_assessed_seniority\",\n",
    "    \"Educación Formal\": \"formal_edu\",\n",
    "    \"Carreras o especialidades\": \"majors\",\n",
    "    \"Importancia educación formal\": \"formal_edu_importance\",\n",
    "    \"Género\": \"gender\",\n",
    "    \"Edad actual \": \"age\",\n",
    "    \"Salario mensual\": \"monthly_salary\",\n",
    "    \"Programación, scripting y lenguajes de marcado que usás en tu profesión\": \"pro_languages\",\n",
    "    \"Librerías o web frameworks\": \"web_frameworks\",\n",
    "    \"Otros frameworks, librerías y herramientas\": \"other_tools\",\n",
    "    \"Base de datos\": \"databases\",\n",
    "    \"Plataformas\": \"platforms\",\n",
    "    \"Lenguaje favorito\": \"fav_language\",\n",
    "    \"Lenguaje más odiado o menos favorito\": \"least_fav_language\",\n",
    "    \"Framework favorito\": \"fav_framework\",\n",
    "    \"Framework más odiado o menos favorito\": \"least_fav_framework\",\n",
    "    \"Herramientas\": \"tools\",\n",
    "    \"¿Usás regularmente* alguna de estas herramientas de I.A. para ayudarte en tu proceso de desarrollo?\": \"use_AI_tools\",\n",
    "    \" ¿Creés que la inteligencia artificial reemplazará al desarrollador?\": \"AI_replace_dev\",\n",
    "    \"¿Fuiste afectado por recortes de personal (lay-offs) en el 2023 o en lo que va del 2024?\": \"layoffs_23_24\",\n",
    "    \"¿Estás trabajando actualmente luego del recorte?\": \"working_now\",\n",
    "    \"Si estás trabajando ahora, ¿cuánto tiempo después del recorte volviste a trabajar?\": \"unemployed_duration\",\n",
    "    \"Si estás trabajando ahora, ¿lo hacés en el mismo rol que trabajabas antes del recorte?\": \"same_role\",\n",
    "    \"Si estás trabajando ahora, tu remuneración en tu puesto actual versus la que percibías antes del recorte es:\": \"current_vs_prev_salary\",\n",
    "}"
   ]
  },
  {
   "cell_type": "code",
   "execution_count": 4,
   "id": "7490b57e-0570-4073-ab25-d9a7d606c2e5",
   "metadata": {},
   "outputs": [],
   "source": [
    "df = df.drop(\"Marca temporal\", axis=1)"
   ]
  },
  {
   "cell_type": "code",
   "execution_count": 5,
   "id": "963c760a-4ab0-4e79-b992-16ebc9b8a927",
   "metadata": {},
   "outputs": [
    {
     "data": {
      "text/plain": [
       "Index(['Modalidad de trabajo', 'Modalidad de empleo ', 'Puesto / rol',\n",
       "       '¿Utilizás habilidades de programación en alguno de los siguientes roles/puestos?',\n",
       "       '¿Codificás por trabajo?', 'Experiencia en TI',\n",
       "       'Experiencia programando profesionalmente ',\n",
       "       'Primera línea de código en una máquina',\n",
       "       '¿Qué nivel te asignaron en tu trabajo?',\n",
       "       '¿Cuál considerás que es tu nivel en tu puesto?', 'Educación Formal',\n",
       "       'Carreras o especialidades', 'Importancia educación formal', 'Género',\n",
       "       'Edad actual ', 'Salario mensual',\n",
       "       'Programación, scripting y lenguajes de marcado que usás en tu profesión',\n",
       "       'Librerías o web frameworks',\n",
       "       'Otros frameworks, librerías y herramientas', 'Base de datos',\n",
       "       'Plataformas', 'Lenguaje favorito',\n",
       "       'Lenguaje más odiado o menos favorito', 'Framework favorito',\n",
       "       'Framework más odiado o menos favorito', 'Herramientas',\n",
       "       '¿Usás regularmente* alguna de estas herramientas de I.A. para ayudarte en tu proceso de desarrollo?',\n",
       "       ' ¿Creés que la inteligencia artificial reemplazará al desarrollador?',\n",
       "       '¿Fuiste afectado por recortes de personal (lay-offs) en el 2023 o en lo que va del 2024?',\n",
       "       '¿Estás trabajando actualmente luego del recorte?',\n",
       "       'Si estás trabajando ahora, ¿cuánto tiempo después del recorte volviste a trabajar?',\n",
       "       'Si estás trabajando ahora, ¿lo hacés en el mismo rol que trabajabas antes del recorte?',\n",
       "       'Si estás trabajando ahora, tu remuneración en tu puesto actual versus la que percibías antes del recorte es:'],\n",
       "      dtype='object')"
      ]
     },
     "execution_count": 5,
     "metadata": {},
     "output_type": "execute_result"
    }
   ],
   "source": [
    "df.columns"
   ]
  },
  {
   "cell_type": "markdown",
   "id": "cdd812ee-9c4a-4695-b093-e7e4c3be15a7",
   "metadata": {},
   "source": [
    "# New column "
   ]
  },
  {
   "cell_type": "code",
   "execution_count": 6,
   "id": "11b80fc8-bbf0-4bda-a38d-dba8ef4f4fb4",
   "metadata": {},
   "outputs": [],
   "source": [
    "df.rename(columns=new_cols, inplace=True)"
   ]
  },
  {
   "cell_type": "code",
   "execution_count": 7,
   "id": "639cf181-7b5e-46f7-a677-cc1f67963d69",
   "metadata": {},
   "outputs": [
    {
     "data": {
      "text/plain": [
       "Index(['work_mode', 'employment_mode', 'role', 'prog_skills_in_role',\n",
       "       'code_for_job', 'IT_exp', 'prof_prog_exp', 'first_code',\n",
       "       'assigned_seniority', 'self_assessed_seniority', 'formal_edu', 'majors',\n",
       "       'formal_edu_importance', 'gender', 'age', 'monthly_salary',\n",
       "       'pro_languages', 'web_frameworks', 'other_tools', 'databases',\n",
       "       'platforms', 'fav_language', 'least_fav_language', 'fav_framework',\n",
       "       'least_fav_framework', 'tools', 'use_AI_tools', 'AI_replace_dev',\n",
       "       'layoffs_23_24', 'working_now', 'unemployed_duration', 'same_role',\n",
       "       'current_vs_prev_salary'],\n",
       "      dtype='object')"
      ]
     },
     "execution_count": 7,
     "metadata": {},
     "output_type": "execute_result"
    }
   ],
   "source": [
    "df.columns"
   ]
  },
  {
   "cell_type": "code",
   "execution_count": 8,
   "id": "c67a8849-a6fb-4b9d-ac2c-ca61e97010ef",
   "metadata": {},
   "outputs": [
    {
     "name": "stdout",
     "output_type": "stream",
     "text": [
      "Index(['Remoto', 'Presencial', 'Hibrído', 'Ninguna de las anteriores'], dtype='object', name='work_mode')\n",
      "\n",
      "\n",
      "\n",
      "\n",
      "\n",
      "Index(['Empleador local (Paraguay)', 'Empleador del exterior', 'Freelance',\n",
      "       'Empleador local con clientes del exterior'],\n",
      "      dtype='object', name='employment_mode')\n",
      "\n",
      "\n",
      "\n",
      "\n",
      "\n",
      "Index(['Desarrollador full-stack', 'Desarrollador back-end',\n",
      "       'Aplicaciones de escritorio o empresariales', 'Desarrollador mobile',\n",
      "       'Desarrollador front-end', 'Project Leader',\n",
      "       'Desarrollador back-end, Desarrollador front-end, Desarrollador full-stack',\n",
      "       'Desarrollador back-end, Desarrollador front-end, Desarrollador full-stack, Desarrollador mobile',\n",
      "       'QA o testing', 'Desarrollador full-stack, Project Leader',\n",
      "       ...\n",
      "       'Desarrollador back-end, Desarrollador full-stack, Project Leader',\n",
      "       'Desarrollador back-end, Desarrollador full-stack, Administrador de base de datos',\n",
      "       'Arquitecto de soluciones', 'technical leader ',\n",
      "       'Desarrollador back-end, QA o testing, Data Analyst', 'Data Scientist',\n",
      "       'Desarrollador back-end, Desarrollador front-end, Desarrollador full-stack, Desarrollador de sistemas embebidos, Administrador de base de datos, Project Leader, Data Analyst, Data Engineer, UX/UI',\n",
      "       'Desarrollador back-end, Desarrollador front-end, Desarrollador de sistemas embebidos, Aplicaciones de escritorio o empresariales, Project Leader',\n",
      "       'Desarrollador back-end, Desarrollador front-end, Desarrollador full-stack, Desarrollador mobile, Administrador de base de datos',\n",
      "       'Desarrollador back-end, Analista'],\n",
      "      dtype='object', name='role', length=158)\n",
      "\n",
      "\n",
      "\n",
      "\n",
      "\n",
      "Index(['Administrador de sistemas', 'DevOps/DataOps',\n",
      "       'Administrador de sistemas, DevOps/DataOps', 'Diseñador',\n",
      "       'Administrador de sistemas, Educador',\n",
      "       'Administrador de sistemas, Diseñador', 'Educador',\n",
      "       'Investigador científico',\n",
      "       'Administrador de sistemas, DevOps/DataOps, Investigador científico',\n",
      "       'DevOps/DataOps, Investigador científico',\n",
      "       'Administrador de sistemas, Investigador científico, Educador',\n",
      "       'Administrador de sistemas, Investigador científico',\n",
      "       'Administrador de sistemas, DevOps/DataOps, Diseñador',\n",
      "       'DevOps/DataOps, Diseñador',\n",
      "       'Administrador de sistemas, DevOps/DataOps, Educador',\n",
      "       'Investigador científico, Educador', 'DevOps/DataOps, Educador',\n",
      "       'Investigador científico, Diseñador, Educador',\n",
      "       'Administrador de sistemas, DevOps/DataOps, Investigador científico, Diseñador, Educador',\n",
      "       'Administrador de sistemas, Investigador científico, Diseñador',\n",
      "       'Administrador de sistemas, DevOps/DataOps, Investigador científico, Diseñador'],\n",
      "      dtype='object', name='prog_skills_in_role')\n",
      "\n",
      "\n",
      "\n",
      "\n",
      "\n",
      "Index(['Sí', 'No'], dtype='object', name='code_for_job')\n",
      "\n",
      "\n",
      "\n",
      "\n",
      "\n",
      "Index(['6 a 9 años', '10 a 12 años', '3 a 5 años', '13 a 17 años',\n",
      "       '18 a 25 años', '1 a 2 años', 'Más de 26 años', 'Menos de 1 año'],\n",
      "      dtype='object', name='IT_exp')\n",
      "\n",
      "\n",
      "\n",
      "\n",
      "\n",
      "Index(['6 a 9 años', '3 a 5 años', '1 a 2 años', '10 a 12 años',\n",
      "       '13 a 17 años', 'Menos de 1 año', '18 a 25 años', 'más de 26 años'],\n",
      "      dtype='object', name='prof_prog_exp')\n",
      "\n",
      "\n",
      "\n",
      "\n",
      "\n",
      "Index(['Menos de 10 años', '16 a 17 años', '14 a 15 años', '10 a 11 años',\n",
      "       '12 a 13 años', '18 a 19 años', '20 a 21 años', '22 a 23 años',\n",
      "       '24 a 25 años', 'más de 30 años', '26 a 27 años', '28 a 29 años'],\n",
      "      dtype='object', name='first_code')\n",
      "\n",
      "\n",
      "\n",
      "\n",
      "\n",
      "Index(['Senior', 'Mid-senior', 'Junior', 'No aplica a mi lugar de trabajo',\n",
      "       'Principal', 'Staff', 'Trainee'],\n",
      "      dtype='object', name='assigned_seniority')\n",
      "\n",
      "\n",
      "\n",
      "\n",
      "\n",
      "Index(['Senior', 'Mid-senior', 'Junior', 'Principal', 'Staff', 'Desconozco',\n",
      "       'Trainee'],\n",
      "      dtype='object', name='self_assessed_seniority')\n",
      "\n",
      "\n",
      "\n",
      "\n",
      "\n",
      "Index(['Título de Grado (licenciatura, ingeniería, etc.)', 'Educación Media',\n",
      "       'Máster', 'Doctorado'],\n",
      "      dtype='object', name='formal_edu')\n",
      "\n",
      "\n",
      "\n",
      "\n",
      "\n",
      "Index(['Ingeniería en Informática', 'Análisis de Sistemas',\n",
      "       'Programación, Análisis de Sistemas',\n",
      "       'Programación, Análisis de Sistemas, Ingeniería en Informática',\n",
      "       'Programación, Ingeniería en Informática',\n",
      "       'Análisis de Sistemas, Ingeniería en Informática', 'Programación',\n",
      "       'Ninguna', 'Ingeniería en Informática, Otras', 'Otras',\n",
      "       'Ingeniería en Electrónica',\n",
      "       'Programación, Análisis de Sistemas, Otras',\n",
      "       'Programación, Análisis de Sistemas, Diseño Gráfico',\n",
      "       'Programación, Otras',\n",
      "       'Programación, Análisis de Sistemas, Matemáticas', 'Otras ingenerías',\n",
      "       'Análisis de Sistemas, Ingeniería en Informática, Otras',\n",
      "       'Programación, Diseño Gráfico, Otras',\n",
      "       'Programación, Ingeniería en Informática, Otras',\n",
      "       'Programación, Análisis de Sistemas, Ingeniería en Informática, Matemáticas, Otras',\n",
      "       'Programación, Análisis de Sistemas, Ingeniería en Informática, Matemáticas',\n",
      "       'Programación, Análisis de Sistemas, Ingeniería en Informática, Otras',\n",
      "       'Programación, Análisis de Sistemas, Ingeniería Civil',\n",
      "       'Programación, Ingeniería en Electrónica, Matemáticas',\n",
      "       'Ingeniería Eléctrica',\n",
      "       'Programación, Análisis de Sistemas, Ingeniería en Informática, Ingeniería Eléctrica',\n",
      "       'Programación, Ingeniería en Electrónica, Otras',\n",
      "       'Programación, Análisis de Sistemas, Matemáticas, Otras',\n",
      "       'Programación, Análisis de Sistemas, Ingeniería en Informática, Diseño Gráfico',\n",
      "       'Análisis de Sistemas, Ingeniería en Informática, Otras ingenerías',\n",
      "       'Otras ingenerías, Otras',\n",
      "       'Programación, Análisis de Sistemas, Ingeniería en Electrónica, Otras ingenerías, Otras',\n",
      "       'Diseño Gráfico', 'Ingeniería en Informática, Matemáticas',\n",
      "       'Matemáticas, Ninguna', 'Análisis de Sistemas, Ingeniería Civil',\n",
      "       'Programación, Otras ingenerías',\n",
      "       'Programación, Análisis de Sistemas, Ingeniería en Informática, Ingeniería en Electrónica, Diseño Gráfico',\n",
      "       'Programación, Análisis de Sistemas, Ingeniería en Informática, Otras ingenerías',\n",
      "       'Programación, Análisis de Sistemas, Ingeniería en Electrónica'],\n",
      "      dtype='object', name='majors')\n",
      "\n",
      "\n",
      "\n",
      "\n",
      "\n",
      "Index(['Muy importante', 'Más o menos importante', 'Bastante importante',\n",
      "       'No importa, no es necesario', 'Crítico'],\n",
      "      dtype='object', name='formal_edu_importance')\n",
      "\n",
      "\n",
      "\n",
      "\n",
      "\n",
      "Index(['Hombre', 'Mujer', 'Prefiero no compartir'], dtype='object', name='gender')\n",
      "\n",
      "\n",
      "\n",
      "\n",
      "\n",
      "Index(['30 a 34 años', '25 a 29 años', '35 a 39 años', '20 a 24 años',\n",
      "       '40 a 44 años', '45 a 49 años', '50 a 54 años', '15 a 19 años',\n",
      "       'Más de 60 años', '55 a 59 años'],\n",
      "      dtype='object', name='age')\n",
      "\n",
      "\n",
      "\n",
      "\n",
      "\n",
      "Index(['Entre 9.000.001 a 12.000.000 gs', 'Entre 5.000.001 a 7.000.000 gs',\n",
      "       'Entre 7.000.001 a 9.000.000 gs', 'Entre 3.500.001 a 5.000.000 gs',\n",
      "       'Entre 12.000.001 a 15.000.000 gs', 'Entre 15.000.001 a 18.000.000 gs',\n",
      "       'Entre 2.550.308 gs a 3.500.000 gs', 'Entre 18.000.001 a 21.000.000 gs',\n",
      "       'más de 50.000.000 gs', 'Entre 24.000.001 a 27.000.000 gs',\n",
      "       '33.000.001 gs a 40.000.000 gs', '27.000.001 gs a 33.000.000',\n",
      "       'Menos del salario mínimo ( 2.550.307 gs)',\n",
      "       '40.000.001 gs a 50.000.000 gs', 'Entre 21.000.001 a 24.000.000 gs',\n",
      "       'Salario mínimo 2.550.307 gs'],\n",
      "      dtype='object', name='monthly_salary')\n",
      "\n",
      "\n",
      "\n",
      "\n",
      "\n",
      "Index(['Python, SQL', 'JavaScript, PHP, HTML/CSS, SQL',\n",
      "       'JavaScript, TypeScript, Java, HTML/CSS, SQL',\n",
      "       'JavaScript, Java, HTML/CSS, SQL', 'JavaScript, TypeScript, HTML/CSS',\n",
      "       'SQL',\n",
      "       'JavaScript, TypeScript, Java, HTML/CSS, SQL, Bash/Shell/PowerShell',\n",
      "       'JavaScript, TypeScript', 'JavaScript, TypeScript, PHP, HTML/CSS, SQL',\n",
      "       'JavaScript, PHP, HTML/CSS, SQL, Bash/Shell/PowerShell',\n",
      "       ...\n",
      "       'JavaScript, TypeScript, Ruby', 'TypeScript, Python, SQL',\n",
      "       'JavaScript, TypeScript, PHP, Python',\n",
      "       'JavaScript, Java, HTML/CSS, SQL, Bash/Shell/PowerShell, Swift',\n",
      "       'Python, Java, Bash/Shell/PowerShell, Genexus ',\n",
      "       'JavaScript, PHP, Java, SQL', 'Python, Java, Genexus',\n",
      "       'Python, C++, SQL', 'JavaScript, C#',\n",
      "       'JavaScript, HTML/CSS, SQL, Bash/Shell/PowerShell, Oracle Forms, Oracle APEX'],\n",
      "      dtype='object', name='pro_languages', length=278)\n",
      "\n",
      "\n",
      "\n",
      "\n",
      "\n",
      "Index(['React.js', 'Spring', 'JQuery', 'React.js, Django', 'React.js, Express',\n",
      "       'JQuery, Laravel', 'Angular, Spring', 'Laravel', 'React.js, Spring',\n",
      "       'ASP.NET',\n",
      "       ...\n",
      "       'Angular, ASP.NET Core', 'React.js, Angular.js, Express, Django',\n",
      "       'JQuery, Laravel, CakePHP', 'Django, Flask, Laravel',\n",
      "       'React.js, Angular, Angular.js, Vue.js, Spring', 'Angular, Django',\n",
      "       'Vue.js, Django', 'Spring, Django', 'ASP.NET, ASP.NET Core, Flask',\n",
      "       'React.js, ASP.NET, Express'],\n",
      "      dtype='object', name='web_frameworks', length=142)\n",
      "\n",
      "\n",
      "\n",
      "\n",
      "\n",
      "Index(['Node.js', 'Node.js, React Native', 'Node.js, Flutter', 'Flutter',\n",
      "       '.NET, NET Core', 'Pandas', '.NET', 'React Native',\n",
      "       'Node.js, React Native, Flutter', 'Ansible', 'Unity 3D',\n",
      "       '.NET, NET Core, Flutter', 'Node.js, .NET', 'Pandas, Torch/PyTorch',\n",
      "       'Node.js, Pandas, Hadoop', 'Node.js, TensorFlow', '.NET, Flutter',\n",
      "       'Pandas, TensorFlow, Keras, Torch/PyTorch', 'Node.js, Cordova',\n",
      "       'Node.js, Ansible', '.NET, NET Core, Xamarin', 'Node.js, Pandas',\n",
      "       '.NET, Unity 3D', 'Flutter, Cordova',\n",
      "       'Pandas, TensorFlow, Ansible, Keras, Torch/PyTorch',\n",
      "       'Node.js, TensorFlow, Unity 3D, Cordova, Unreal Engine',\n",
      "       '.NET, Pandas, Hadoop', 'React Native, Torch/PyTorch',\n",
      "       'Node.js, NET Core', 'Node.js, Ansible, Puppet',\n",
      "       '.NET, Flutter, Cordova', 'Pandas, Flutter',\n",
      "       'Node.js, Pandas, React Native, Cordova', '.NET, NET Core, Pandas',\n",
      "       'Node.js, .NET, Pandas', 'Chef', 'Hadoop',\n",
      "       'TensorFlow, Flutter, Keras, Torch/PyTorch, Hadoop',\n",
      "       'Node.js, Pandas, TensorFlow, Hadoop, Puppet',\n",
      "       'Node.js, .NET, NET Core', '.NET, NET Core, TensorFlow',\n",
      "       'Node.js, Pandas, TensorFlow, Puppet, Chef',\n",
      "       'Node.js, .NET, NET Core, React Native, Flutter', 'Pandas, TensorFlow',\n",
      "       'NET Core', 'Node.js, Flutter, Cordova',\n",
      "       'Node.js, Pandas, TensorFlow, React Native, Torch/PyTorch',\n",
      "       'Node.js, Pandas, TensorFlow, Flutter, Keras',\n",
      "       'Node.js, Ansible, Puppet, Chef', 'TensorFlow',\n",
      "       'NET Core, TensorFlow, Torch/PyTorch',\n",
      "       'Pandas, Ansible, Torch/PyTorch, Hadoop', '.NET, React Native',\n",
      "       'Pandas, Hadoop', 'Node.js, Pandas, Torch/PyTorch',\n",
      "       'Node.js, Pandas, React Native, Flutter, Cordova', 'Cordova',\n",
      "       'Node.js, .NET, NET Core, Pandas', 'Node.js, Keras',\n",
      "       'Node.js, .NET, NET Core, Flutter', 'Pandas, TensorFlow, Torch/PyTorch',\n",
      "       '.NET, NET Core, Pandas, TensorFlow, Keras, Torch/PyTorch'],\n",
      "      dtype='object', name='other_tools')\n",
      "\n",
      "\n",
      "\n",
      "\n",
      "\n",
      "Index(['PostgreSQL', 'Oracle', 'MySQL', 'PostgreSQL, Oracle',\n",
      "       'MySQL, PostgreSQL', 'Microsoft SQL Server', 'PostgreSQL, MongoDB',\n",
      "       'MySQL, PostgreSQL, Microsoft SQL Server', 'MySQL, MariaDB, PostgreSQL',\n",
      "       'MySQL, MariaDB',\n",
      "       ...\n",
      "       'MariaDB, PostgreSQL, Microsoft SQL Server, SQLite, MongoDB',\n",
      "       'PostgreSQL, Microsoft SQL Server, SQLite, IBM DB2',\n",
      "       'MySQL, MariaDB, PostgreSQL, Microsoft SQL Server, SQLite, MongoDB, Firebase',\n",
      "       'Firebase',\n",
      "       'MySQL, PostgreSQL, Microsoft SQL Server, SQLite, Firebase, Cassandra',\n",
      "       'MySQL, Firebase', 'PostgreSQL, SQLite, MongoDB', 'DynamoDB',\n",
      "       'PostgreSQL, SQLite, Redis',\n",
      "       'MySQL, PostgreSQL, MongoDB, Redis, DynamoDB'],\n",
      "      dtype='object', name='databases', length=141)\n",
      "\n",
      "\n",
      "\n",
      "\n",
      "\n",
      "Index(['Microsoft Windows', 'GNU/Linux, Microsoft Windows',\n",
      "       'GNU/Linux, Microsoft Windows, Docker', 'GNU/Linux', 'MacOS',\n",
      "       'GNU/Linux, Docker, AWS', 'GNU/Linux, Microsoft Windows, AWS',\n",
      "       'GNU/Linux, Microsoft Windows, Docker, AWS',\n",
      "       'GNU/Linux, Microsoft Windows, MacOS', 'GNU/Linux, Docker',\n",
      "       ...\n",
      "       'Raspberry Pi',\n",
      "       'GNU/Linux, Microsoft Windows, Docker, AWS, Android, iOS',\n",
      "       'GNU/Linux, Microsoft Windows, Docker, Azure, Android, iOS, Kubernetes',\n",
      "       'GNU/Linux, Microsoft Windows, MacOS, Docker, AWS, Android, WordPress, iOS',\n",
      "       'MacOS, Docker, AWS, Android, iOS', 'GNU/Linux, Android',\n",
      "       'MacOS, Docker, AWS, iOS',\n",
      "       'GNU/Linux, Microsoft Windows, MacOS, Docker, Android',\n",
      "       'GNU/Linux, Microsoft Windows, Microsoft Azure',\n",
      "       'Microsoft Windows, MacOS, Docker, AWS'],\n",
      "      dtype='object', name='platforms', length=144)\n",
      "\n",
      "\n",
      "\n",
      "\n",
      "\n",
      "Index(['Java', 'Python', 'JavaScript', 'TypeScript', 'SQL', 'PHP', 'C#',\n",
      "       'Dart', 'Ruby', 'Oracle form', 'Otro', 'Fox Pro', 'Go', 'C++', 'Kotlin',\n",
      "       'Bash/Shell/PowerShell', 'Rust', 'Genexus', 'C', 'Scala', 'COBOL',\n",
      "       'Swift', 'RPG', 'R'],\n",
      "      dtype='object', name='fav_language')\n",
      "\n",
      "\n",
      "\n",
      "\n",
      "\n",
      "Index(['Java', 'PHP', 'JavaScript', 'Assembly', 'Genexus', 'Python', 'C#',\n",
      "       'Oracle Forms', 'C', 'Fox Pro', 'HTML/CSS', 'C++', 'COBOL', 'VBA',\n",
      "       'RPG', 'TypeScript', 'Objective-C', 'Ruby', 'Bash/Shell/PowerShell',\n",
      "       'Kotlin', 'SQL', 'Dart', 'R', 'Perl', 'Spring'],\n",
      "      dtype='object', name='least_fav_language')\n",
      "\n",
      "\n",
      "\n",
      "\n",
      "\n",
      "Index(['Spring', 'React.js', 'Django', 'Laravel', 'ASP.NET Core', 'Vue.js',\n",
      "       'Angular', 'Flask', 'Express', 'Ruby on Rails', 'JQuery', 'ASP.NET',\n",
      "       'Angular.js', 'CodeIgniter'],\n",
      "      dtype='object', name='fav_framework')\n",
      "\n",
      "\n",
      "\n",
      "\n",
      "\n",
      "Index(['JQuery', 'Spring', 'Angular', 'Laravel', 'ASP.NET', 'Angular.js',\n",
      "       'ASP.NET Core', 'React.js', 'CodeIgniter', 'Django', 'CakePHP',\n",
      "       'Ruby on Rails', 'Vue.js', 'Flask', 'Express', 'Gastby'],\n",
      "      dtype='object', name='least_fav_framework')\n",
      "\n",
      "\n",
      "\n",
      "\n",
      "\n",
      "Index(['GitHub', 'GitLab', 'Microsoft Team', 'Google Suite (Docs, Meet, etc)',\n",
      "       'Google Suite (Docs, Meet, etc), GitHub', 'Discord, GitHub', 'Discord',\n",
      "       'Microsoft Team, Microsoft Azure', 'Slack, Jira, Confluence, GitHub',\n",
      "       'GitLab, GitHub',\n",
      "       ...\n",
      "       'GitHub, Trello, Microsoft Team, Notion',\n",
      "       'Jira, Microsoft Azure, GitHub, Trello, Discord, Microsoft Team, Google Suite (Docs, Meet, etc), Confluence',\n",
      "       'Confluence, GitLab, Jira, Slack, GitHub',\n",
      "       'Microsoft Team, Jira, Slack, Trello, Confluence',\n",
      "       'Jira, Notion, Slack, GitLab, Google Suite (Docs, Meet, etc)',\n",
      "       'Google Suite (Docs, Meet, etc), Trello',\n",
      "       'Microsoft Team, Jira, Confluence',\n",
      "       'GitLab, Slack, Google Suite (Docs, Meet, etc)',\n",
      "       'Google Suite (Docs, Meet, etc), Slack, Trello, GitHub, Discord',\n",
      "       'GitHub, Slack, Microsoft Team'],\n",
      "      dtype='object', name='tools', length=302)\n",
      "\n",
      "\n",
      "\n",
      "\n",
      "\n",
      "Index(['ChatGPT', 'ChatGPT, Github Copilot', 'Github Copilot, ChatGPT',\n",
      "       'Google Bard, ChatGPT', 'ChatGPT, Bing AI', 'Github Copilot',\n",
      "       'ChatGPT, Google Bard', 'Bing AI, ChatGPT',\n",
      "       'ChatGPT, Github Copilot, Google Bard', 'Bing AI', 'Codeium',\n",
      "       'Notion AI', 'Google Bard', 'Bing AI, ChatGPT, Github Copilot',\n",
      "       'Github Copilot, Bing AI', 'ChatGPT, Google Bard, Bing AI',\n",
      "       'ChatGPT, Bing AI, Google Bard', 'Bing AI, Github Copilot, ChatGPT',\n",
      "       'Notion AI, Github Copilot, ChatGPT',\n",
      "       'Github Copilot, ChatGPT, Google Bard', 'Notion AI, ChatGPT, Bing AI',\n",
      "       'WolframAlpha, ChatGPT', 'Google Bard, ChatGPT, Bing AI',\n",
      "       'Github Copilot, WolframAlpha',\n",
      "       'Github Copilot, Notion AI, Google Bard, ChatGPT',\n",
      "       'Bing AI, Google Bard, ChatGPT, WolframAlpha, Notion AI',\n",
      "       'Bing AI, AWS CodeWhisperer, ChatGPT', 'ChatGPT, Codeium', 'Claude',\n",
      "       'ChatGPT, Notion AI, Github Copilot',\n",
      "       'ChatGPT, Bing AI, Github Copilot', 'WolframAlpha, ChatGPT, Claude Ai',\n",
      "       'WolframAlpha, Github Copilot', 'Codium AI',\n",
      "       'Google Bard, Bing AI, ChatGPT, Claude.ai',\n",
      "       'ChatGPT, Google Bard, Bing AI, Github Copilot',\n",
      "       'Bing AI, Github Copilot',\n",
      "       'Bing AI, ChatGPT, AWS CodeWhisperer, Google Bard',\n",
      "       'Google Bard, Github Copilot, ChatGPT, Notion AI',\n",
      "       'Google Bard, Google Geminis', 'Google Bard, ChatGPT, Notion AI',\n",
      "       'ChatGPT, Github Copilot, Notion AI, Bing AI',\n",
      "       'ChatGPT, Google Bard, Github Copilot', 'AiDE',\n",
      "       'ChatGPT, Genesis, Copilot',\n",
      "       'ChatGPT, Google Bard, Github Copilot, Bing AI',\n",
      "       'Bing AI, ChatGPT, Notion AI', 'ChatGPT, Google Bard, CODEGEEX',\n",
      "       'ChatGPT, Claude.ai', 'ChatGPT, Unity Muse',\n",
      "       'ChatGPT, Github Copilot, TabNine',\n",
      "       'Github Copilot, IntelliJ Assistant ',\n",
      "       'ChatGPT, AWS CodeWhisperer, Github Copilot, Notion AI, Bing AI, Google Bard',\n",
      "       'Microsoft Copilot', 'Google Bard, Bing AI, ChatGPT',\n",
      "       'Github Copilot, Notion AI, ChatGPT',\n",
      "       'Github Copilot, Notion AI, AWS CodeWhisperer',\n",
      "       'Google Bard, ChatGPT, Notion AI, Bing AI, Github Copilot',\n",
      "       'Github Copilot, AWS CodeWhisperer, ChatGPT, Google Bard', 'Talkai'],\n",
      "      dtype='object', name='use_AI_tools')\n",
      "\n",
      "\n",
      "\n",
      "\n",
      "\n",
      "Index(['No', 'Puede ser, pero dentro de muchos años (más de 10)', 'Sí'], dtype='object', name='AI_replace_dev')\n",
      "\n",
      "\n",
      "\n",
      "\n",
      "\n",
      "Index(['No', 'Sí'], dtype='object', name='layoffs_23_24')\n",
      "\n",
      "\n",
      "\n",
      "\n",
      "\n",
      "Index(['Sí', 'No'], dtype='object', name='working_now')\n",
      "\n",
      "\n",
      "\n",
      "\n",
      "\n",
      "Index(['menos de 3 meses', '3 a 5 meses', '6 meses o más'], dtype='object', name='unemployed_duration')\n",
      "\n",
      "\n",
      "\n",
      "\n",
      "\n",
      "Index(['Sí', 'No'], dtype='object', name='same_role')\n",
      "\n",
      "\n",
      "\n",
      "\n",
      "\n",
      "Index(['menor', 'mayor', 'casi igual'], dtype='object', name='current_vs_prev_salary')\n",
      "\n",
      "\n",
      "\n",
      "\n",
      "\n"
     ]
    }
   ],
   "source": [
    "for i in df.columns:\n",
    "    print(df[i].value_counts().keys())\n",
    "    print(\"\\n\" * 4)"
   ]
  },
  {
   "cell_type": "markdown",
   "id": "779a3084-862b-45ff-8695-1dd746f3fa81",
   "metadata": {},
   "source": [
    "## Replace column values.\n",
    "-- Long names or column contents will be replaced."
   ]
  },
  {
   "cell_type": "code",
   "execution_count": 9,
   "id": "49421701-0db5-41d7-b1e2-501b3fddbbda",
   "metadata": {},
   "outputs": [
    {
     "name": "stdout",
     "output_type": "stream",
     "text": [
      "Columna ----->  work_mode\n",
      "Index(['Remoto', 'Presencial', 'Hibrído', 'Ninguna de las anteriores'], dtype='object', name='work_mode')\n",
      "\n",
      "\n",
      "\n",
      "\n",
      "\n",
      "Columna ----->  employment_mode\n",
      "Index(['Empleador local (Paraguay)', 'Empleador del exterior', 'Freelance',\n",
      "       'Empleador local con clientes del exterior'],\n",
      "      dtype='object', name='employment_mode')\n",
      "\n",
      "\n",
      "\n",
      "\n",
      "\n",
      "Columna ----->  role\n",
      "Index(['Desarrollador full-stack', 'Desarrollador back-end',\n",
      "       'Aplicaciones de escritorio o empresariales', 'Desarrollador mobile',\n",
      "       'Desarrollador front-end', 'Project Leader',\n",
      "       'Desarrollador back-end, Desarrollador front-end, Desarrollador full-stack',\n",
      "       'Desarrollador back-end, Desarrollador front-end, Desarrollador full-stack, Desarrollador mobile',\n",
      "       'QA o testing', 'Desarrollador full-stack, Project Leader',\n",
      "       ...\n",
      "       'Desarrollador back-end, Desarrollador full-stack, Project Leader',\n",
      "       'Desarrollador back-end, Desarrollador full-stack, Administrador de base de datos',\n",
      "       'Arquitecto de soluciones', 'technical leader ',\n",
      "       'Desarrollador back-end, QA o testing, Data Analyst', 'Data Scientist',\n",
      "       'Desarrollador back-end, Desarrollador front-end, Desarrollador full-stack, Desarrollador de sistemas embebidos, Administrador de base de datos, Project Leader, Data Analyst, Data Engineer, UX/UI',\n",
      "       'Desarrollador back-end, Desarrollador front-end, Desarrollador de sistemas embebidos, Aplicaciones de escritorio o empresariales, Project Leader',\n",
      "       'Desarrollador back-end, Desarrollador front-end, Desarrollador full-stack, Desarrollador mobile, Administrador de base de datos',\n",
      "       'Desarrollador back-end, Analista'],\n",
      "      dtype='object', name='role', length=158)\n",
      "\n",
      "\n",
      "\n",
      "\n",
      "\n",
      "Columna ----->  prog_skills_in_role\n",
      "Index(['Administrador de sistemas', 'DevOps/DataOps',\n",
      "       'Administrador de sistemas, DevOps/DataOps', 'Diseñador',\n",
      "       'Administrador de sistemas, Educador',\n",
      "       'Administrador de sistemas, Diseñador', 'Educador',\n",
      "       'Investigador científico',\n",
      "       'Administrador de sistemas, DevOps/DataOps, Investigador científico',\n",
      "       'DevOps/DataOps, Investigador científico',\n",
      "       'Administrador de sistemas, Investigador científico, Educador',\n",
      "       'Administrador de sistemas, Investigador científico',\n",
      "       'Administrador de sistemas, DevOps/DataOps, Diseñador',\n",
      "       'DevOps/DataOps, Diseñador',\n",
      "       'Administrador de sistemas, DevOps/DataOps, Educador',\n",
      "       'Investigador científico, Educador', 'DevOps/DataOps, Educador',\n",
      "       'Investigador científico, Diseñador, Educador',\n",
      "       'Administrador de sistemas, DevOps/DataOps, Investigador científico, Diseñador, Educador',\n",
      "       'Administrador de sistemas, Investigador científico, Diseñador',\n",
      "       'Administrador de sistemas, DevOps/DataOps, Investigador científico, Diseñador'],\n",
      "      dtype='object', name='prog_skills_in_role')\n",
      "\n",
      "\n",
      "\n",
      "\n",
      "\n",
      "Columna ----->  code_for_job\n",
      "Index(['Sí', 'No'], dtype='object', name='code_for_job')\n",
      "\n",
      "\n",
      "\n",
      "\n",
      "\n",
      "Columna ----->  IT_exp\n",
      "Index(['6 a 9 años', '10 a 12 años', '3 a 5 años', '13 a 17 años',\n",
      "       '18 a 25 años', '1 a 2 años', 'Más de 26 años', 'Menos de 1 año'],\n",
      "      dtype='object', name='IT_exp')\n",
      "\n",
      "\n",
      "\n",
      "\n",
      "\n",
      "Columna ----->  prof_prog_exp\n",
      "Index(['6 a 9 años', '3 a 5 años', '1 a 2 años', '10 a 12 años',\n",
      "       '13 a 17 años', 'Menos de 1 año', '18 a 25 años', 'más de 26 años'],\n",
      "      dtype='object', name='prof_prog_exp')\n",
      "\n",
      "\n",
      "\n",
      "\n",
      "\n",
      "Columna ----->  first_code\n",
      "Index(['Menos de 10 años', '16 a 17 años', '14 a 15 años', '10 a 11 años',\n",
      "       '12 a 13 años', '18 a 19 años', '20 a 21 años', '22 a 23 años',\n",
      "       '24 a 25 años', 'más de 30 años', '26 a 27 años', '28 a 29 años'],\n",
      "      dtype='object', name='first_code')\n",
      "\n",
      "\n",
      "\n",
      "\n",
      "\n",
      "Columna ----->  assigned_seniority\n",
      "Index(['Senior', 'Mid-senior', 'Junior', 'No aplica a mi lugar de trabajo',\n",
      "       'Principal', 'Staff', 'Trainee'],\n",
      "      dtype='object', name='assigned_seniority')\n",
      "\n",
      "\n",
      "\n",
      "\n",
      "\n",
      "Columna ----->  self_assessed_seniority\n",
      "Index(['Senior', 'Mid-senior', 'Junior', 'Principal', 'Staff', 'Desconozco',\n",
      "       'Trainee'],\n",
      "      dtype='object', name='self_assessed_seniority')\n",
      "\n",
      "\n",
      "\n",
      "\n",
      "\n",
      "Columna ----->  formal_edu\n",
      "Index(['Título de Grado (licenciatura, ingeniería, etc.)', 'Educación Media',\n",
      "       'Máster', 'Doctorado'],\n",
      "      dtype='object', name='formal_edu')\n",
      "\n",
      "\n",
      "\n",
      "\n",
      "\n",
      "Columna ----->  majors\n",
      "Index(['Ingeniería en Informática', 'Análisis de Sistemas',\n",
      "       'Programación, Análisis de Sistemas',\n",
      "       'Programación, Análisis de Sistemas, Ingeniería en Informática',\n",
      "       'Programación, Ingeniería en Informática',\n",
      "       'Análisis de Sistemas, Ingeniería en Informática', 'Programación',\n",
      "       'Ninguna', 'Ingeniería en Informática, Otras', 'Otras',\n",
      "       'Ingeniería en Electrónica',\n",
      "       'Programación, Análisis de Sistemas, Otras',\n",
      "       'Programación, Análisis de Sistemas, Diseño Gráfico',\n",
      "       'Programación, Otras',\n",
      "       'Programación, Análisis de Sistemas, Matemáticas', 'Otras ingenerías',\n",
      "       'Análisis de Sistemas, Ingeniería en Informática, Otras',\n",
      "       'Programación, Diseño Gráfico, Otras',\n",
      "       'Programación, Ingeniería en Informática, Otras',\n",
      "       'Programación, Análisis de Sistemas, Ingeniería en Informática, Matemáticas, Otras',\n",
      "       'Programación, Análisis de Sistemas, Ingeniería en Informática, Matemáticas',\n",
      "       'Programación, Análisis de Sistemas, Ingeniería en Informática, Otras',\n",
      "       'Programación, Análisis de Sistemas, Ingeniería Civil',\n",
      "       'Programación, Ingeniería en Electrónica, Matemáticas',\n",
      "       'Ingeniería Eléctrica',\n",
      "       'Programación, Análisis de Sistemas, Ingeniería en Informática, Ingeniería Eléctrica',\n",
      "       'Programación, Ingeniería en Electrónica, Otras',\n",
      "       'Programación, Análisis de Sistemas, Matemáticas, Otras',\n",
      "       'Programación, Análisis de Sistemas, Ingeniería en Informática, Diseño Gráfico',\n",
      "       'Análisis de Sistemas, Ingeniería en Informática, Otras ingenerías',\n",
      "       'Otras ingenerías, Otras',\n",
      "       'Programación, Análisis de Sistemas, Ingeniería en Electrónica, Otras ingenerías, Otras',\n",
      "       'Diseño Gráfico', 'Ingeniería en Informática, Matemáticas',\n",
      "       'Matemáticas, Ninguna', 'Análisis de Sistemas, Ingeniería Civil',\n",
      "       'Programación, Otras ingenerías',\n",
      "       'Programación, Análisis de Sistemas, Ingeniería en Informática, Ingeniería en Electrónica, Diseño Gráfico',\n",
      "       'Programación, Análisis de Sistemas, Ingeniería en Informática, Otras ingenerías',\n",
      "       'Programación, Análisis de Sistemas, Ingeniería en Electrónica'],\n",
      "      dtype='object', name='majors')\n",
      "\n",
      "\n",
      "\n",
      "\n",
      "\n",
      "Columna ----->  formal_edu_importance\n",
      "Index(['Muy importante', 'Más o menos importante', 'Bastante importante',\n",
      "       'No importa, no es necesario', 'Crítico'],\n",
      "      dtype='object', name='formal_edu_importance')\n",
      "\n",
      "\n",
      "\n",
      "\n",
      "\n",
      "Columna ----->  gender\n",
      "Index(['Hombre', 'Mujer', 'Prefiero no compartir'], dtype='object', name='gender')\n",
      "\n",
      "\n",
      "\n",
      "\n",
      "\n",
      "Columna ----->  age\n",
      "Index(['30 a 34 años', '25 a 29 años', '35 a 39 años', '20 a 24 años',\n",
      "       '40 a 44 años', '45 a 49 años', '50 a 54 años', '15 a 19 años',\n",
      "       'Más de 60 años', '55 a 59 años'],\n",
      "      dtype='object', name='age')\n",
      "\n",
      "\n",
      "\n",
      "\n",
      "\n",
      "Columna ----->  monthly_salary\n",
      "Index(['Entre 9.000.001 a 12.000.000 gs', 'Entre 5.000.001 a 7.000.000 gs',\n",
      "       'Entre 7.000.001 a 9.000.000 gs', 'Entre 3.500.001 a 5.000.000 gs',\n",
      "       'Entre 12.000.001 a 15.000.000 gs', 'Entre 15.000.001 a 18.000.000 gs',\n",
      "       'Entre 2.550.308 gs a 3.500.000 gs', 'Entre 18.000.001 a 21.000.000 gs',\n",
      "       'más de 50.000.000 gs', 'Entre 24.000.001 a 27.000.000 gs',\n",
      "       '33.000.001 gs a 40.000.000 gs', '27.000.001 gs a 33.000.000',\n",
      "       'Menos del salario mínimo ( 2.550.307 gs)',\n",
      "       '40.000.001 gs a 50.000.000 gs', 'Entre 21.000.001 a 24.000.000 gs',\n",
      "       'Salario mínimo 2.550.307 gs'],\n",
      "      dtype='object', name='monthly_salary')\n",
      "\n",
      "\n",
      "\n",
      "\n",
      "\n",
      "Columna ----->  pro_languages\n",
      "Index(['Python, SQL', 'JavaScript, PHP, HTML/CSS, SQL',\n",
      "       'JavaScript, TypeScript, Java, HTML/CSS, SQL',\n",
      "       'JavaScript, Java, HTML/CSS, SQL', 'JavaScript, TypeScript, HTML/CSS',\n",
      "       'SQL',\n",
      "       'JavaScript, TypeScript, Java, HTML/CSS, SQL, Bash/Shell/PowerShell',\n",
      "       'JavaScript, TypeScript', 'JavaScript, TypeScript, PHP, HTML/CSS, SQL',\n",
      "       'JavaScript, PHP, HTML/CSS, SQL, Bash/Shell/PowerShell',\n",
      "       ...\n",
      "       'JavaScript, TypeScript, Ruby', 'TypeScript, Python, SQL',\n",
      "       'JavaScript, TypeScript, PHP, Python',\n",
      "       'JavaScript, Java, HTML/CSS, SQL, Bash/Shell/PowerShell, Swift',\n",
      "       'Python, Java, Bash/Shell/PowerShell, Genexus ',\n",
      "       'JavaScript, PHP, Java, SQL', 'Python, Java, Genexus',\n",
      "       'Python, C++, SQL', 'JavaScript, C#',\n",
      "       'JavaScript, HTML/CSS, SQL, Bash/Shell/PowerShell, Oracle Forms, Oracle APEX'],\n",
      "      dtype='object', name='pro_languages', length=278)\n",
      "\n",
      "\n",
      "\n",
      "\n",
      "\n",
      "Columna ----->  web_frameworks\n",
      "Index(['React.js', 'Spring', 'JQuery', 'React.js, Django', 'React.js, Express',\n",
      "       'JQuery, Laravel', 'Angular, Spring', 'Laravel', 'React.js, Spring',\n",
      "       'ASP.NET',\n",
      "       ...\n",
      "       'Angular, ASP.NET Core', 'React.js, Angular.js, Express, Django',\n",
      "       'JQuery, Laravel, CakePHP', 'Django, Flask, Laravel',\n",
      "       'React.js, Angular, Angular.js, Vue.js, Spring', 'Angular, Django',\n",
      "       'Vue.js, Django', 'Spring, Django', 'ASP.NET, ASP.NET Core, Flask',\n",
      "       'React.js, ASP.NET, Express'],\n",
      "      dtype='object', name='web_frameworks', length=142)\n",
      "\n",
      "\n",
      "\n",
      "\n",
      "\n",
      "Columna ----->  other_tools\n",
      "Index(['Node.js', 'Node.js, React Native', 'Node.js, Flutter', 'Flutter',\n",
      "       '.NET, NET Core', 'Pandas', '.NET', 'React Native',\n",
      "       'Node.js, React Native, Flutter', 'Ansible', 'Unity 3D',\n",
      "       '.NET, NET Core, Flutter', 'Node.js, .NET', 'Pandas, Torch/PyTorch',\n",
      "       'Node.js, Pandas, Hadoop', 'Node.js, TensorFlow', '.NET, Flutter',\n",
      "       'Pandas, TensorFlow, Keras, Torch/PyTorch', 'Node.js, Cordova',\n",
      "       'Node.js, Ansible', '.NET, NET Core, Xamarin', 'Node.js, Pandas',\n",
      "       '.NET, Unity 3D', 'Flutter, Cordova',\n",
      "       'Pandas, TensorFlow, Ansible, Keras, Torch/PyTorch',\n",
      "       'Node.js, TensorFlow, Unity 3D, Cordova, Unreal Engine',\n",
      "       '.NET, Pandas, Hadoop', 'React Native, Torch/PyTorch',\n",
      "       'Node.js, NET Core', 'Node.js, Ansible, Puppet',\n",
      "       '.NET, Flutter, Cordova', 'Pandas, Flutter',\n",
      "       'Node.js, Pandas, React Native, Cordova', '.NET, NET Core, Pandas',\n",
      "       'Node.js, .NET, Pandas', 'Chef', 'Hadoop',\n",
      "       'TensorFlow, Flutter, Keras, Torch/PyTorch, Hadoop',\n",
      "       'Node.js, Pandas, TensorFlow, Hadoop, Puppet',\n",
      "       'Node.js, .NET, NET Core', '.NET, NET Core, TensorFlow',\n",
      "       'Node.js, Pandas, TensorFlow, Puppet, Chef',\n",
      "       'Node.js, .NET, NET Core, React Native, Flutter', 'Pandas, TensorFlow',\n",
      "       'NET Core', 'Node.js, Flutter, Cordova',\n",
      "       'Node.js, Pandas, TensorFlow, React Native, Torch/PyTorch',\n",
      "       'Node.js, Pandas, TensorFlow, Flutter, Keras',\n",
      "       'Node.js, Ansible, Puppet, Chef', 'TensorFlow',\n",
      "       'NET Core, TensorFlow, Torch/PyTorch',\n",
      "       'Pandas, Ansible, Torch/PyTorch, Hadoop', '.NET, React Native',\n",
      "       'Pandas, Hadoop', 'Node.js, Pandas, Torch/PyTorch',\n",
      "       'Node.js, Pandas, React Native, Flutter, Cordova', 'Cordova',\n",
      "       'Node.js, .NET, NET Core, Pandas', 'Node.js, Keras',\n",
      "       'Node.js, .NET, NET Core, Flutter', 'Pandas, TensorFlow, Torch/PyTorch',\n",
      "       '.NET, NET Core, Pandas, TensorFlow, Keras, Torch/PyTorch'],\n",
      "      dtype='object', name='other_tools')\n",
      "\n",
      "\n",
      "\n",
      "\n",
      "\n",
      "Columna ----->  databases\n",
      "Index(['PostgreSQL', 'Oracle', 'MySQL', 'PostgreSQL, Oracle',\n",
      "       'MySQL, PostgreSQL', 'Microsoft SQL Server', 'PostgreSQL, MongoDB',\n",
      "       'MySQL, PostgreSQL, Microsoft SQL Server', 'MySQL, MariaDB, PostgreSQL',\n",
      "       'MySQL, MariaDB',\n",
      "       ...\n",
      "       'MariaDB, PostgreSQL, Microsoft SQL Server, SQLite, MongoDB',\n",
      "       'PostgreSQL, Microsoft SQL Server, SQLite, IBM DB2',\n",
      "       'MySQL, MariaDB, PostgreSQL, Microsoft SQL Server, SQLite, MongoDB, Firebase',\n",
      "       'Firebase',\n",
      "       'MySQL, PostgreSQL, Microsoft SQL Server, SQLite, Firebase, Cassandra',\n",
      "       'MySQL, Firebase', 'PostgreSQL, SQLite, MongoDB', 'DynamoDB',\n",
      "       'PostgreSQL, SQLite, Redis',\n",
      "       'MySQL, PostgreSQL, MongoDB, Redis, DynamoDB'],\n",
      "      dtype='object', name='databases', length=141)\n",
      "\n",
      "\n",
      "\n",
      "\n",
      "\n",
      "Columna ----->  platforms\n",
      "Index(['Microsoft Windows', 'GNU/Linux, Microsoft Windows',\n",
      "       'GNU/Linux, Microsoft Windows, Docker', 'GNU/Linux', 'MacOS',\n",
      "       'GNU/Linux, Docker, AWS', 'GNU/Linux, Microsoft Windows, AWS',\n",
      "       'GNU/Linux, Microsoft Windows, Docker, AWS',\n",
      "       'GNU/Linux, Microsoft Windows, MacOS', 'GNU/Linux, Docker',\n",
      "       ...\n",
      "       'Raspberry Pi',\n",
      "       'GNU/Linux, Microsoft Windows, Docker, AWS, Android, iOS',\n",
      "       'GNU/Linux, Microsoft Windows, Docker, Azure, Android, iOS, Kubernetes',\n",
      "       'GNU/Linux, Microsoft Windows, MacOS, Docker, AWS, Android, WordPress, iOS',\n",
      "       'MacOS, Docker, AWS, Android, iOS', 'GNU/Linux, Android',\n",
      "       'MacOS, Docker, AWS, iOS',\n",
      "       'GNU/Linux, Microsoft Windows, MacOS, Docker, Android',\n",
      "       'GNU/Linux, Microsoft Windows, Microsoft Azure',\n",
      "       'Microsoft Windows, MacOS, Docker, AWS'],\n",
      "      dtype='object', name='platforms', length=144)\n",
      "\n",
      "\n",
      "\n",
      "\n",
      "\n",
      "Columna ----->  fav_language\n",
      "Index(['Java', 'Python', 'JavaScript', 'TypeScript', 'SQL', 'PHP', 'C#',\n",
      "       'Dart', 'Ruby', 'Oracle form', 'Otro', 'Fox Pro', 'Go', 'C++', 'Kotlin',\n",
      "       'Bash/Shell/PowerShell', 'Rust', 'Genexus', 'C', 'Scala', 'COBOL',\n",
      "       'Swift', 'RPG', 'R'],\n",
      "      dtype='object', name='fav_language')\n",
      "\n",
      "\n",
      "\n",
      "\n",
      "\n",
      "Columna ----->  least_fav_language\n",
      "Index(['Java', 'PHP', 'JavaScript', 'Assembly', 'Genexus', 'Python', 'C#',\n",
      "       'Oracle Forms', 'C', 'Fox Pro', 'HTML/CSS', 'C++', 'COBOL', 'VBA',\n",
      "       'RPG', 'TypeScript', 'Objective-C', 'Ruby', 'Bash/Shell/PowerShell',\n",
      "       'Kotlin', 'SQL', 'Dart', 'R', 'Perl', 'Spring'],\n",
      "      dtype='object', name='least_fav_language')\n",
      "\n",
      "\n",
      "\n",
      "\n",
      "\n",
      "Columna ----->  fav_framework\n",
      "Index(['Spring', 'React.js', 'Django', 'Laravel', 'ASP.NET Core', 'Vue.js',\n",
      "       'Angular', 'Flask', 'Express', 'Ruby on Rails', 'JQuery', 'ASP.NET',\n",
      "       'Angular.js', 'CodeIgniter'],\n",
      "      dtype='object', name='fav_framework')\n",
      "\n",
      "\n",
      "\n",
      "\n",
      "\n",
      "Columna ----->  least_fav_framework\n",
      "Index(['JQuery', 'Spring', 'Angular', 'Laravel', 'ASP.NET', 'Angular.js',\n",
      "       'ASP.NET Core', 'React.js', 'CodeIgniter', 'Django', 'CakePHP',\n",
      "       'Ruby on Rails', 'Vue.js', 'Flask', 'Express', 'Gastby'],\n",
      "      dtype='object', name='least_fav_framework')\n",
      "\n",
      "\n",
      "\n",
      "\n",
      "\n",
      "Columna ----->  tools\n",
      "Index(['GitHub', 'GitLab', 'Microsoft Team', 'Google Suite (Docs, Meet, etc)',\n",
      "       'Google Suite (Docs, Meet, etc), GitHub', 'Discord, GitHub', 'Discord',\n",
      "       'Microsoft Team, Microsoft Azure', 'Slack, Jira, Confluence, GitHub',\n",
      "       'GitLab, GitHub',\n",
      "       ...\n",
      "       'GitHub, Trello, Microsoft Team, Notion',\n",
      "       'Jira, Microsoft Azure, GitHub, Trello, Discord, Microsoft Team, Google Suite (Docs, Meet, etc), Confluence',\n",
      "       'Confluence, GitLab, Jira, Slack, GitHub',\n",
      "       'Microsoft Team, Jira, Slack, Trello, Confluence',\n",
      "       'Jira, Notion, Slack, GitLab, Google Suite (Docs, Meet, etc)',\n",
      "       'Google Suite (Docs, Meet, etc), Trello',\n",
      "       'Microsoft Team, Jira, Confluence',\n",
      "       'GitLab, Slack, Google Suite (Docs, Meet, etc)',\n",
      "       'Google Suite (Docs, Meet, etc), Slack, Trello, GitHub, Discord',\n",
      "       'GitHub, Slack, Microsoft Team'],\n",
      "      dtype='object', name='tools', length=302)\n",
      "\n",
      "\n",
      "\n",
      "\n",
      "\n",
      "Columna ----->  use_AI_tools\n",
      "Index(['ChatGPT', 'ChatGPT, Github Copilot', 'Github Copilot, ChatGPT',\n",
      "       'Google Bard, ChatGPT', 'ChatGPT, Bing AI', 'Github Copilot',\n",
      "       'ChatGPT, Google Bard', 'Bing AI, ChatGPT',\n",
      "       'ChatGPT, Github Copilot, Google Bard', 'Bing AI', 'Codeium',\n",
      "       'Notion AI', 'Google Bard', 'Bing AI, ChatGPT, Github Copilot',\n",
      "       'Github Copilot, Bing AI', 'ChatGPT, Google Bard, Bing AI',\n",
      "       'ChatGPT, Bing AI, Google Bard', 'Bing AI, Github Copilot, ChatGPT',\n",
      "       'Notion AI, Github Copilot, ChatGPT',\n",
      "       'Github Copilot, ChatGPT, Google Bard', 'Notion AI, ChatGPT, Bing AI',\n",
      "       'WolframAlpha, ChatGPT', 'Google Bard, ChatGPT, Bing AI',\n",
      "       'Github Copilot, WolframAlpha',\n",
      "       'Github Copilot, Notion AI, Google Bard, ChatGPT',\n",
      "       'Bing AI, Google Bard, ChatGPT, WolframAlpha, Notion AI',\n",
      "       'Bing AI, AWS CodeWhisperer, ChatGPT', 'ChatGPT, Codeium', 'Claude',\n",
      "       'ChatGPT, Notion AI, Github Copilot',\n",
      "       'ChatGPT, Bing AI, Github Copilot', 'WolframAlpha, ChatGPT, Claude Ai',\n",
      "       'WolframAlpha, Github Copilot', 'Codium AI',\n",
      "       'Google Bard, Bing AI, ChatGPT, Claude.ai',\n",
      "       'ChatGPT, Google Bard, Bing AI, Github Copilot',\n",
      "       'Bing AI, Github Copilot',\n",
      "       'Bing AI, ChatGPT, AWS CodeWhisperer, Google Bard',\n",
      "       'Google Bard, Github Copilot, ChatGPT, Notion AI',\n",
      "       'Google Bard, Google Geminis', 'Google Bard, ChatGPT, Notion AI',\n",
      "       'ChatGPT, Github Copilot, Notion AI, Bing AI',\n",
      "       'ChatGPT, Google Bard, Github Copilot', 'AiDE',\n",
      "       'ChatGPT, Genesis, Copilot',\n",
      "       'ChatGPT, Google Bard, Github Copilot, Bing AI',\n",
      "       'Bing AI, ChatGPT, Notion AI', 'ChatGPT, Google Bard, CODEGEEX',\n",
      "       'ChatGPT, Claude.ai', 'ChatGPT, Unity Muse',\n",
      "       'ChatGPT, Github Copilot, TabNine',\n",
      "       'Github Copilot, IntelliJ Assistant ',\n",
      "       'ChatGPT, AWS CodeWhisperer, Github Copilot, Notion AI, Bing AI, Google Bard',\n",
      "       'Microsoft Copilot', 'Google Bard, Bing AI, ChatGPT',\n",
      "       'Github Copilot, Notion AI, ChatGPT',\n",
      "       'Github Copilot, Notion AI, AWS CodeWhisperer',\n",
      "       'Google Bard, ChatGPT, Notion AI, Bing AI, Github Copilot',\n",
      "       'Github Copilot, AWS CodeWhisperer, ChatGPT, Google Bard', 'Talkai'],\n",
      "      dtype='object', name='use_AI_tools')\n",
      "\n",
      "\n",
      "\n",
      "\n",
      "\n",
      "Columna ----->  AI_replace_dev\n",
      "Index(['No', 'Puede ser, pero dentro de muchos años (más de 10)', 'Sí'], dtype='object', name='AI_replace_dev')\n",
      "\n",
      "\n",
      "\n",
      "\n",
      "\n",
      "Columna ----->  layoffs_23_24\n",
      "Index(['No', 'Sí'], dtype='object', name='layoffs_23_24')\n",
      "\n",
      "\n",
      "\n",
      "\n",
      "\n",
      "Columna ----->  working_now\n",
      "Index(['Sí', 'No'], dtype='object', name='working_now')\n",
      "\n",
      "\n",
      "\n",
      "\n",
      "\n",
      "Columna ----->  unemployed_duration\n",
      "Index(['menos de 3 meses', '3 a 5 meses', '6 meses o más'], dtype='object', name='unemployed_duration')\n",
      "\n",
      "\n",
      "\n",
      "\n",
      "\n",
      "Columna ----->  same_role\n",
      "Index(['Sí', 'No'], dtype='object', name='same_role')\n",
      "\n",
      "\n",
      "\n",
      "\n",
      "\n",
      "Columna ----->  current_vs_prev_salary\n",
      "Index(['menor', 'mayor', 'casi igual'], dtype='object', name='current_vs_prev_salary')\n",
      "\n",
      "\n",
      "\n",
      "\n",
      "\n"
     ]
    }
   ],
   "source": [
    "for i in df.columns:\n",
    "    print(\"Columna -----> \", i)\n",
    "    print(df[i].value_counts().keys())\n",
    "\n",
    "    print(\"\\n\" * 4)"
   ]
  },
  {
   "cell_type": "markdown",
   "id": "1a4f4202-ce70-465b-942a-1b1e213fc4a3",
   "metadata": {},
   "source": [
    "## work_mode\n",
    "\n",
    "\n"
   ]
  },
  {
   "cell_type": "code",
   "execution_count": 10,
   "id": "ace7c291-0f48-4000-98a8-44872827e0d3",
   "metadata": {},
   "outputs": [
    {
     "data": {
      "text/plain": [
       "Index(['work_mode', 'employment_mode', 'role', 'prog_skills_in_role',\n",
       "       'code_for_job', 'IT_exp', 'prof_prog_exp', 'first_code',\n",
       "       'assigned_seniority', 'self_assessed_seniority', 'formal_edu', 'majors',\n",
       "       'formal_edu_importance', 'gender', 'age', 'monthly_salary',\n",
       "       'pro_languages', 'web_frameworks', 'other_tools', 'databases',\n",
       "       'platforms', 'fav_language', 'least_fav_language', 'fav_framework',\n",
       "       'least_fav_framework', 'tools', 'use_AI_tools', 'AI_replace_dev',\n",
       "       'layoffs_23_24', 'working_now', 'unemployed_duration', 'same_role',\n",
       "       'current_vs_prev_salary'],\n",
       "      dtype='object')"
      ]
     },
     "execution_count": 10,
     "metadata": {},
     "output_type": "execute_result"
    }
   ],
   "source": [
    "df.columns"
   ]
  },
  {
   "cell_type": "code",
   "execution_count": 11,
   "id": "ac42a934-20fb-47ca-85da-c37b587cd4f3",
   "metadata": {},
   "outputs": [
    {
     "name": "stdout",
     "output_type": "stream",
     "text": [
      "Remoto\n",
      "Presencial\n",
      "Hibrído\n",
      "Ninguna de las anteriores\n"
     ]
    }
   ],
   "source": [
    "for i in df[\"work_mode\"].value_counts().keys():\n",
    "    print(i)"
   ]
  },
  {
   "cell_type": "code",
   "execution_count": 12,
   "id": "87dd70ab-7641-4539-b152-ada54c818208",
   "metadata": {},
   "outputs": [],
   "source": [
    "eh.replace_column_content(\n",
    "    df,\n",
    "    \"work_mode\",\n",
    "    {\n",
    "        \"Remoto\": \"remote\",\n",
    "        \"Presencial\": \"onsite\",\n",
    "        \"Híbrido\": \"hybrid\",\n",
    "        \"Ninguna de las anteriores\": \"none\",\n",
    "    },\n",
    ")"
   ]
  },
  {
   "cell_type": "code",
   "execution_count": 13,
   "id": "9307a7c0-db77-4da1-895a-8b1825f576d7",
   "metadata": {},
   "outputs": [
    {
     "data": {
      "text/plain": [
       "Index(['remote', 'onsite', 'Hibrído', 'none'], dtype='object', name='work_mode')"
      ]
     },
     "execution_count": 13,
     "metadata": {},
     "output_type": "execute_result"
    }
   ],
   "source": [
    "df[\"work_mode\"].value_counts().keys()"
   ]
  },
  {
   "cell_type": "markdown",
   "id": "bf3214c1-c78a-4670-819a-8c0d8d150acf",
   "metadata": {},
   "source": [
    "## employment_mode"
   ]
  },
  {
   "cell_type": "code",
   "execution_count": 14,
   "id": "b844483c-f864-492a-b9ab-4262ea399ed5",
   "metadata": {},
   "outputs": [
    {
     "data": {
      "text/plain": [
       "Index(['work_mode', 'employment_mode', 'role', 'prog_skills_in_role',\n",
       "       'code_for_job', 'IT_exp', 'prof_prog_exp', 'first_code',\n",
       "       'assigned_seniority', 'self_assessed_seniority', 'formal_edu', 'majors',\n",
       "       'formal_edu_importance', 'gender', 'age', 'monthly_salary',\n",
       "       'pro_languages', 'web_frameworks', 'other_tools', 'databases',\n",
       "       'platforms', 'fav_language', 'least_fav_language', 'fav_framework',\n",
       "       'least_fav_framework', 'tools', 'use_AI_tools', 'AI_replace_dev',\n",
       "       'layoffs_23_24', 'working_now', 'unemployed_duration', 'same_role',\n",
       "       'current_vs_prev_salary'],\n",
       "      dtype='object')"
      ]
     },
     "execution_count": 14,
     "metadata": {},
     "output_type": "execute_result"
    }
   ],
   "source": [
    "df.columns"
   ]
  },
  {
   "cell_type": "code",
   "execution_count": 15,
   "id": "b14a5216-a878-4a15-9c30-10d3064099c7",
   "metadata": {},
   "outputs": [
    {
     "data": {
      "text/plain": [
       "Index(['Empleador local (Paraguay)', 'Empleador del exterior', 'Freelance',\n",
       "       'Empleador local con clientes del exterior'],\n",
       "      dtype='object', name='employment_mode')"
      ]
     },
     "execution_count": 15,
     "metadata": {},
     "output_type": "execute_result"
    }
   ],
   "source": [
    "df[\"employment_mode\"].value_counts().keys()"
   ]
  },
  {
   "cell_type": "code",
   "execution_count": 16,
   "id": "a7880e8f-b4ec-4d49-a07b-09b31ec1ce29",
   "metadata": {},
   "outputs": [],
   "source": [
    "eh.replace_column_content(\n",
    "    df,\n",
    "    \"employment_mode\",\n",
    "    {\n",
    "        \"Empleador local (Paraguay)\": \"local_employer\",\n",
    "        \"Empleador del exterior\": \"foreign_employer\",\n",
    "        \"Freelance\": \"freelance\",\n",
    "        \"Empleador local con clientes del exterior\": \"local_with_foreign_clients\",\n",
    "    },\n",
    ")"
   ]
  },
  {
   "cell_type": "markdown",
   "id": "a4643d12-ea46-4982-ba2f-31a8758f18da",
   "metadata": {},
   "source": [
    "## role\n"
   ]
  },
  {
   "cell_type": "code",
   "execution_count": 17,
   "id": "83a953fb-c6b7-4466-819f-80e8e8ef8266",
   "metadata": {},
   "outputs": [
    {
     "data": {
      "text/plain": [
       "Index(['work_mode', 'employment_mode', 'role', 'prog_skills_in_role',\n",
       "       'code_for_job', 'IT_exp', 'prof_prog_exp', 'first_code',\n",
       "       'assigned_seniority', 'self_assessed_seniority', 'formal_edu', 'majors',\n",
       "       'formal_edu_importance', 'gender', 'age', 'monthly_salary',\n",
       "       'pro_languages', 'web_frameworks', 'other_tools', 'databases',\n",
       "       'platforms', 'fav_language', 'least_fav_language', 'fav_framework',\n",
       "       'least_fav_framework', 'tools', 'use_AI_tools', 'AI_replace_dev',\n",
       "       'layoffs_23_24', 'working_now', 'unemployed_duration', 'same_role',\n",
       "       'current_vs_prev_salary'],\n",
       "      dtype='object')"
      ]
     },
     "execution_count": 17,
     "metadata": {},
     "output_type": "execute_result"
    }
   ],
   "source": [
    "df.columns"
   ]
  },
  {
   "cell_type": "code",
   "execution_count": 18,
   "id": "e6d17901-326d-4c6a-ae1e-9e33f5e52042",
   "metadata": {},
   "outputs": [],
   "source": [
    "from collections import Counter"
   ]
  },
  {
   "cell_type": "code",
   "execution_count": 19,
   "id": "6247e28a-a49f-4ac1-bcc0-7c4c63bc7f57",
   "metadata": {},
   "outputs": [],
   "source": [
    "uniques = {}\n",
    "\n",
    "for i in df[\"role\"].str.split(\",\"):\n",
    "    for j in i:\n",
    "        uniques[j.lstrip()] = None"
   ]
  },
  {
   "cell_type": "code",
   "execution_count": 20,
   "id": "00d69908-26f0-4e2f-a061-46b935cc524f",
   "metadata": {},
   "outputs": [
    {
     "name": "stdout",
     "output_type": "stream",
     "text": [
      "Data Engineer\n",
      "Aplicaciones de escritorio o empresariales\n",
      "QA o testing\n",
      "Data Analyst\n",
      "Backend Architect\n",
      "Administrador de base de datos\n",
      "Project Leader\n",
      "Desarrollador full-stack\n",
      "Dev/Ops\n",
      "Desarrollador back-end\n",
      "Desarrollador front-end\n",
      "SRE\n",
      "Análisis y QA tester\n",
      "Data Scientist\n",
      "Especialista Inteligencia Artificial\n",
      "Analista Digital\n",
      "Desarrollador mobile\n",
      "Coordinador de Sistemas\n",
      "Ti\n",
      "Desarrollador de videojuegos\n",
      "Vendedor\n",
      "Support Analyst\n",
      "Arquitecto de Sistemas\n",
      "UX/UI\n",
      "Analista de sistemas\n",
      "Machine Learning Engineer\n",
      "Desarrollador de sistemas embebidos\n",
      "technical leader \n",
      "Arquitecto de soluciones\n",
      "Software Architect\n",
      "Analista TI\n",
      "Referente de comunidad\n",
      "Lider Técnico\n",
      "DBA\n",
      "API Rest\n",
      "Desarrollador de Tableau\n",
      "CRM\n",
      "Desarrollador Cloud\n",
      "Desarrollador de Plataforma\n",
      "team lead \n",
      "Ingeniero Junior Electricista\n",
      "Analista de Calidad \n",
      "Auditor Informatico\n",
      "Platform Engineer \n",
      "Analista / QA\n",
      "Analista\n"
     ]
    }
   ],
   "source": [
    "for i in uniques.keys():\n",
    "    print(i)"
   ]
  },
  {
   "cell_type": "code",
   "execution_count": 21,
   "id": "76f8de13-d3d8-4c16-8229-693b3e9b7847",
   "metadata": {},
   "outputs": [],
   "source": [
    "roles = {\n",
    "    \"Data Engineer\": \"data_eng\",\n",
    "    \"Aplicaciones de escritorio o empresariales\": \"desktop_apps\",\n",
    "    \"QA o testing\": \"qa_testing\",\n",
    "    \"Data Analyst\": \"data_analyst\",\n",
    "    \"Backend Architect\": \"backend_arch\",\n",
    "    \"Administrador de base de datos\": \"db_admin\",\n",
    "    \"Project Leader\": \"proj_lead\",\n",
    "    \"Desarrollador full-stack\": \"full_stack_dev\",\n",
    "    \"Dev/Ops\": \"dev_ops\",\n",
    "    \"Desarrollador back-end\": \"backend_dev\",\n",
    "    \"Desarrollador front-end\": \"frontend_dev\",\n",
    "    \"SRE\": \"sre\",\n",
    "    \"Análisis y QA tester\": \"qa_tester\",\n",
    "    \"Data Scientist\": \"data_sci\",\n",
    "    \"Especialista Inteligencia Artificial\": \"ai_specialist\",\n",
    "    \"Analista Digital\": \"digital_analyst\",\n",
    "    \"Desarrollador mobile\": \"mobile_dev\",\n",
    "    \"Coordinador de Sistemas\": \"sys_coord\",\n",
    "    \"Ti\": \"it\",\n",
    "    \"Desarrollador de videojuegos\": \"game_dev\",\n",
    "    \"Vendedor\": \"sales\",\n",
    "    \"Support Analyst\": \"support_analyst\",\n",
    "    \"Arquitecto de Sistemas\": \"sys_arch\",\n",
    "    \"UX/UI\": \"ux_ui\",\n",
    "    \"Analista de sistemas\": \"sys_analyst\",\n",
    "    \"Machine Learning Engineer\": \"ml_eng\",\n",
    "    \"Desarrollador de sistemas embebidos\": \"embedded_sys_dev\",\n",
    "    \"technical leader\": \"tech_lead\",\n",
    "    \"Arquitecto de soluciones\": \"solution_arch\",\n",
    "    \"Software Architect\": \"software_arch\",\n",
    "    \"Analista TI\": \"it_analyst\",\n",
    "    \"Referente de comunidad\": \"community_lead\",\n",
    "    \"Lider Técnico\": \"tech_lead\",\n",
    "    \"DBA\": \"dba\",\n",
    "    \"API Rest\": \"api_rest\",\n",
    "    \"Desarrollador de Tableau\": \"tableau_dev\",\n",
    "    \"CRM\": \"crm\",\n",
    "    \"Desarrollador Cloud\": \"cloud_dev\",\n",
    "    \"Desarrollador de Plataforma\": \"platform_dev\",\n",
    "    \"team lead\": \"team_lead\",\n",
    "    \"Ingeniero Junior Electricista\": \"jr_electrical_eng\",\n",
    "    \"Analista de Calidad\": \"quality_analyst\",\n",
    "    \"Auditor Informatico\": \"it_auditor\",\n",
    "    \"Platform Engineer\": \"platform_eng\",\n",
    "    \"Analista / QA\": \"analyst_qa\",\n",
    "    \"Analista\": \"analyst\",\n",
    "}"
   ]
  },
  {
   "cell_type": "code",
   "execution_count": 22,
   "id": "b4cf7b97-6448-4171-98b0-5fcefbc07f67",
   "metadata": {},
   "outputs": [],
   "source": [
    "eh.replace_column_content(df, \"role\", roles)"
   ]
  },
  {
   "cell_type": "code",
   "execution_count": 23,
   "id": "1d3005df-2df1-47e9-ba3a-39b0a4a85a0b",
   "metadata": {},
   "outputs": [
    {
     "data": {
      "text/plain": [
       "Index(['full_stack_dev', 'backend_dev', 'desktop_apps', 'mobile_dev',\n",
       "       'frontend_dev', 'proj_lead',\n",
       "       'backend_dev, frontend_dev, full_stack_dev',\n",
       "       'backend_dev, frontend_dev, full_stack_dev, mobile_dev', 'qa_testing',\n",
       "       'full_stack_dev, proj_lead',\n",
       "       ...\n",
       "       'backend_dev, full_stack_dev, proj_lead',\n",
       "       'backend_dev, full_stack_dev, db_admin', 'solution_arch', 'tech_lead ',\n",
       "       'backend_dev, qa_testing, data_analyst', 'data_sci',\n",
       "       'backend_dev, frontend_dev, full_stack_dev, embedded_sys_dev, db_admin, proj_lead, data_analyst, data_eng, ux_ui',\n",
       "       'backend_dev, frontend_dev, embedded_sys_dev, desktop_apps, proj_lead',\n",
       "       'backend_dev, frontend_dev, full_stack_dev, mobile_dev, db_admin',\n",
       "       'backend_dev, analyst'],\n",
       "      dtype='object', name='role', length=158)"
      ]
     },
     "execution_count": 23,
     "metadata": {},
     "output_type": "execute_result"
    }
   ],
   "source": [
    "df[\"role\"].value_counts().keys()"
   ]
  },
  {
   "cell_type": "markdown",
   "id": "f7adce46-876b-45b7-8173-7b8560d02f93",
   "metadata": {},
   "source": [
    "## prog_skills_in_role"
   ]
  },
  {
   "cell_type": "code",
   "execution_count": 24,
   "id": "467a9ae9-8d81-41f4-a800-2beb7b267690",
   "metadata": {},
   "outputs": [
    {
     "data": {
      "text/plain": [
       "Index(['work_mode', 'employment_mode', 'role', 'prog_skills_in_role',\n",
       "       'code_for_job', 'IT_exp', 'prof_prog_exp', 'first_code',\n",
       "       'assigned_seniority', 'self_assessed_seniority', 'formal_edu', 'majors',\n",
       "       'formal_edu_importance', 'gender', 'age', 'monthly_salary',\n",
       "       'pro_languages', 'web_frameworks', 'other_tools', 'databases',\n",
       "       'platforms', 'fav_language', 'least_fav_language', 'fav_framework',\n",
       "       'least_fav_framework', 'tools', 'use_AI_tools', 'AI_replace_dev',\n",
       "       'layoffs_23_24', 'working_now', 'unemployed_duration', 'same_role',\n",
       "       'current_vs_prev_salary'],\n",
       "      dtype='object')"
      ]
     },
     "execution_count": 24,
     "metadata": {},
     "output_type": "execute_result"
    }
   ],
   "source": [
    "df.columns"
   ]
  },
  {
   "cell_type": "code",
   "execution_count": 25,
   "id": "64a33d5a-f7cd-4d6a-b4f5-81a5379fd1d3",
   "metadata": {},
   "outputs": [
    {
     "data": {
      "text/plain": [
       "Index(['Administrador de sistemas', 'DevOps/DataOps',\n",
       "       'Administrador de sistemas, DevOps/DataOps', 'Diseñador',\n",
       "       'Administrador de sistemas, Educador',\n",
       "       'Administrador de sistemas, Diseñador', 'Educador',\n",
       "       'Investigador científico',\n",
       "       'Administrador de sistemas, DevOps/DataOps, Investigador científico',\n",
       "       'DevOps/DataOps, Investigador científico',\n",
       "       'Administrador de sistemas, Investigador científico, Educador',\n",
       "       'Administrador de sistemas, Investigador científico',\n",
       "       'Administrador de sistemas, DevOps/DataOps, Diseñador',\n",
       "       'DevOps/DataOps, Diseñador',\n",
       "       'Administrador de sistemas, DevOps/DataOps, Educador',\n",
       "       'Investigador científico, Educador', 'DevOps/DataOps, Educador',\n",
       "       'Investigador científico, Diseñador, Educador',\n",
       "       'Administrador de sistemas, DevOps/DataOps, Investigador científico, Diseñador, Educador',\n",
       "       'Administrador de sistemas, Investigador científico, Diseñador',\n",
       "       'Administrador de sistemas, DevOps/DataOps, Investigador científico, Diseñador'],\n",
       "      dtype='object', name='prog_skills_in_role')"
      ]
     },
     "execution_count": 25,
     "metadata": {},
     "output_type": "execute_result"
    }
   ],
   "source": [
    "df[\"prog_skills_in_role\"].value_counts().keys()"
   ]
  },
  {
   "cell_type": "code",
   "execution_count": 26,
   "id": "436abea7-6639-4b61-aa4d-0e7f6b8dc9cc",
   "metadata": {},
   "outputs": [
    {
     "name": "stdout",
     "output_type": "stream",
     "text": [
      "Administrador de sistemas\n",
      "Investigador científico\n",
      "DevOps/DataOps\n",
      "Administrador de sistemas\n",
      "Diseñador\n",
      "Investigador científico\n",
      "Educador\n",
      "DevOps/DataOps\n",
      "Investigador científico\n",
      "Administrador de sistemas\n",
      "Investigador científico\n",
      "Diseñador\n",
      "Investigador científico\n",
      "Diseñador\n",
      "Educador\n",
      "Diseñador\n",
      "Administrador de sistemas\n",
      "Administrador de sistemas\n",
      "DevOps/DataOps\n",
      "Investigador científico\n",
      "Administrador de sistemas\n",
      "DevOps/DataOps\n",
      "Diseñador\n",
      "Administrador de sistemas\n",
      "Educador\n",
      "Educador\n",
      "Administrador de sistemas\n",
      "DevOps/DataOps\n",
      "Educador\n",
      "DevOps/DataOps\n",
      "Diseñador\n",
      "Administrador de sistemas\n",
      "DevOps/DataOps\n",
      "Investigador científico\n",
      "Diseñador\n",
      "Administrador de sistemas\n",
      "DevOps/DataOps\n",
      "Investigador científico\n",
      "DevOps/DataOps\n",
      "Educador\n",
      "Administrador de sistemas\n",
      "DevOps/DataOps\n",
      "Investigador científico\n",
      "Diseñador\n",
      "Educador\n",
      "Administrador de sistemas\n",
      "Investigador científico\n",
      "Educador\n"
     ]
    }
   ],
   "source": [
    "for i in eh.get_column_uniques(df, \"prog_skills_in_role\"):\n",
    "    for j in i.split(\",\"):\n",
    "        print(j.lstrip())"
   ]
  },
  {
   "cell_type": "code",
   "execution_count": 27,
   "id": "c7e293b2-729a-4016-ba64-11d1c4120f3d",
   "metadata": {},
   "outputs": [],
   "source": [
    "unique_roles = {\n",
    "    \"Diseñador\": \"designer\",\n",
    "    \"Administrador de sistemas\": \"sys_admin\",\n",
    "    \"Investigador científico\": \"scientific_researcher\",\n",
    "    \"Educador\": \"educator\",\n",
    "    \"DevOps/DataOps\": \"devops_dataops\",\n",
    "}\n",
    "\n",
    "\n",
    "eh.replace_column_content(df, \"prog_skills_in_role\", unique_roles)"
   ]
  },
  {
   "cell_type": "code",
   "execution_count": 28,
   "id": "67fec621-ea16-4ead-bc98-c1e06f57676a",
   "metadata": {},
   "outputs": [
    {
     "data": {
      "text/plain": [
       "['scientific_researcher',\n",
       " 'sys_admin, scientific_researcher',\n",
       " 'scientific_researcher, educator',\n",
       " 'sys_admin, devops_dataops, educator',\n",
       " 'sys_admin, devops_dataops, designer',\n",
       " 'sys_admin',\n",
       " 'sys_admin, scientific_researcher, educator',\n",
       " 'sys_admin, devops_dataops',\n",
       " 'devops_dataops, designer',\n",
       " 'sys_admin, devops_dataops, scientific_researcher',\n",
       " 'sys_admin, devops_dataops, scientific_researcher, designer',\n",
       " 'scientific_researcher, designer, educator',\n",
       " 'designer',\n",
       " 'educator',\n",
       " 'devops_dataops',\n",
       " 'sys_admin, scientific_researcher, designer',\n",
       " 'sys_admin, designer',\n",
       " 'sys_admin, educator',\n",
       " 'devops_dataops, educator',\n",
       " 'devops_dataops, scientific_researcher',\n",
       " 'sys_admin, devops_dataops, scientific_researcher, designer, educator']"
      ]
     },
     "execution_count": 28,
     "metadata": {},
     "output_type": "execute_result"
    }
   ],
   "source": [
    "eh.get_column_uniques(df, \"prog_skills_in_role\")"
   ]
  },
  {
   "cell_type": "markdown",
   "id": "634b72ca-b8d4-4fee-abdc-6f78fbc0ed21",
   "metadata": {},
   "source": [
    "## majors"
   ]
  },
  {
   "cell_type": "code",
   "execution_count": 29,
   "id": "8823a2ce-2212-4df5-a070-180b335ab6ee",
   "metadata": {},
   "outputs": [
    {
     "data": {
      "text/plain": [
       "Index(['work_mode', 'employment_mode', 'role', 'prog_skills_in_role',\n",
       "       'code_for_job', 'IT_exp', 'prof_prog_exp', 'first_code',\n",
       "       'assigned_seniority', 'self_assessed_seniority', 'formal_edu', 'majors',\n",
       "       'formal_edu_importance', 'gender', 'age', 'monthly_salary',\n",
       "       'pro_languages', 'web_frameworks', 'other_tools', 'databases',\n",
       "       'platforms', 'fav_language', 'least_fav_language', 'fav_framework',\n",
       "       'least_fav_framework', 'tools', 'use_AI_tools', 'AI_replace_dev',\n",
       "       'layoffs_23_24', 'working_now', 'unemployed_duration', 'same_role',\n",
       "       'current_vs_prev_salary'],\n",
       "      dtype='object')"
      ]
     },
     "execution_count": 29,
     "metadata": {},
     "output_type": "execute_result"
    }
   ],
   "source": [
    "df.columns"
   ]
  },
  {
   "cell_type": "code",
   "execution_count": 30,
   "id": "40b4e4c7-2976-4652-8c0c-b4dc887fe8a8",
   "metadata": {},
   "outputs": [
    {
     "data": {
      "text/plain": [
       "dict_keys(['Análisis de Sistemas', 'Ingeniería en Informática', 'Otras', 'Programación', 'Ingeniería en Electrónica', 'Matemáticas', 'Ingeniería Civil', 'Otras ingenerías', 'Diseño Gráfico', 'Ninguna', 'Ingeniería Eléctrica'])"
      ]
     },
     "execution_count": 30,
     "metadata": {},
     "output_type": "execute_result"
    }
   ],
   "source": [
    "carr = []\n",
    "for i in eh.get_column_uniques(df, \"majors\"):\n",
    "    for j in i.split(\",\"):\n",
    "        carr.append(j.lstrip())\n",
    "\n",
    "Counter(carr).keys()"
   ]
  },
  {
   "cell_type": "code",
   "execution_count": 31,
   "id": "75ad501a-f4b1-4788-9fd6-25fcf8f089ad",
   "metadata": {},
   "outputs": [],
   "source": [
    "majors_translation = {\n",
    "    \"Programación\": \"programming\",\n",
    "    \"Ingeniería en Electrónica\": \"electronic_engineering\",\n",
    "    \"Matemáticas\": \"mathematics\",\n",
    "    \"Análisis de Sistemas\": \"systems_analysis\",\n",
    "    \"Otras\": \"other\",\n",
    "    \"Ingeniería en Informática\": \"computer_engineering\",\n",
    "    \"Diseño Gráfico\": \"graphic_design\",\n",
    "    \"Ninguna\": \"none\",\n",
    "    \"Otras ingenerías\": \"other_engineering\",\n",
    "    \"Ingeniería Eléctrica\": \"electrical_engineering\",\n",
    "    \"Ingeniería Civil\": \"civil_engineering\",\n",
    "}\n",
    "\n",
    "eh.replace_column_content(df, \"majors\", majors_translation)"
   ]
  },
  {
   "cell_type": "code",
   "execution_count": 32,
   "id": "2229fd2f-8070-4001-8fbf-9e8a35f10b1c",
   "metadata": {},
   "outputs": [
    {
     "data": {
      "text/plain": [
       "['electronic_engineering',\n",
       " 'systems_analysis',\n",
       " 'programming, systems_analysis',\n",
       " 'programming',\n",
       " 'systems_analysis, computer_engineering',\n",
       " 'programming, systems_analysis, electronic_engineering',\n",
       " 'programming, systems_analysis, computer_engineering, graphic_design',\n",
       " 'programming, systems_analysis, computer_engineering, other',\n",
       " 'programming, electronic_engineering, mathematics',\n",
       " 'programming, other',\n",
       " 'systems_analysis, computer_engineering, other ingenerías',\n",
       " 'programming, systems_analysis, electronic_engineering, other ingenerías, other',\n",
       " 'none',\n",
       " 'programming, systems_analysis, mathematics, other',\n",
       " 'other ingenerías, other',\n",
       " 'other',\n",
       " 'systems_analysis, civil_engineering',\n",
       " 'programming, systems_analysis, computer_engineering, electronic_engineering, graphic_design',\n",
       " 'programming, systems_analysis, mathematics',\n",
       " 'programming, computer_engineering, other',\n",
       " 'mathematics, none',\n",
       " 'computer_engineering, mathematics',\n",
       " 'programming, electronic_engineering, other',\n",
       " 'programming, systems_analysis, civil_engineering',\n",
       " 'electrical_engineering',\n",
       " 'programming, graphic_design, other',\n",
       " 'programming, systems_analysis, computer_engineering, mathematics',\n",
       " 'computer_engineering',\n",
       " 'programming, systems_analysis, computer_engineering',\n",
       " 'programming, systems_analysis, computer_engineering, mathematics, other',\n",
       " 'programming, systems_analysis, other',\n",
       " 'programming, computer_engineering',\n",
       " 'programming, other ingenerías',\n",
       " 'computer_engineering, other',\n",
       " 'other ingenerías',\n",
       " 'systems_analysis, computer_engineering, other',\n",
       " 'programming, systems_analysis, computer_engineering, electrical_engineering',\n",
       " 'programming, systems_analysis, computer_engineering, other ingenerías',\n",
       " 'graphic_design',\n",
       " 'programming, systems_analysis, graphic_design']"
      ]
     },
     "execution_count": 32,
     "metadata": {},
     "output_type": "execute_result"
    }
   ],
   "source": [
    "eh.get_column_uniques(df, \"majors\")"
   ]
  },
  {
   "cell_type": "markdown",
   "id": "538d104c-1fea-4019-93c3-e201f49eb1d4",
   "metadata": {},
   "source": [
    "## monthly_salary"
   ]
  },
  {
   "cell_type": "code",
   "execution_count": 33,
   "id": "871374ac-f2d5-4267-8dd5-f13ad03746a7",
   "metadata": {},
   "outputs": [
    {
     "data": {
      "text/plain": [
       "Index(['work_mode', 'employment_mode', 'role', 'prog_skills_in_role',\n",
       "       'code_for_job', 'IT_exp', 'prof_prog_exp', 'first_code',\n",
       "       'assigned_seniority', 'self_assessed_seniority', 'formal_edu', 'majors',\n",
       "       'formal_edu_importance', 'gender', 'age', 'monthly_salary',\n",
       "       'pro_languages', 'web_frameworks', 'other_tools', 'databases',\n",
       "       'platforms', 'fav_language', 'least_fav_language', 'fav_framework',\n",
       "       'least_fav_framework', 'tools', 'use_AI_tools', 'AI_replace_dev',\n",
       "       'layoffs_23_24', 'working_now', 'unemployed_duration', 'same_role',\n",
       "       'current_vs_prev_salary'],\n",
       "      dtype='object')"
      ]
     },
     "execution_count": 33,
     "metadata": {},
     "output_type": "execute_result"
    }
   ],
   "source": [
    "df.columns"
   ]
  },
  {
   "cell_type": "code",
   "execution_count": 34,
   "id": "770c03ad-4a50-4ff6-9107-40f2d1a4afd5",
   "metadata": {},
   "outputs": [
    {
     "data": {
      "text/plain": [
       "Index(['Entre 9.000.001 a 12.000.000 gs', 'Entre 5.000.001 a 7.000.000 gs',\n",
       "       'Entre 7.000.001 a 9.000.000 gs', 'Entre 3.500.001 a 5.000.000 gs',\n",
       "       'Entre 12.000.001 a 15.000.000 gs', 'Entre 15.000.001 a 18.000.000 gs',\n",
       "       'Entre 2.550.308 gs a 3.500.000 gs', 'Entre 18.000.001 a 21.000.000 gs',\n",
       "       'más de 50.000.000 gs', 'Entre 24.000.001 a 27.000.000 gs',\n",
       "       '33.000.001 gs a 40.000.000 gs', '27.000.001 gs a 33.000.000',\n",
       "       'Menos del salario mínimo ( 2.550.307 gs)',\n",
       "       '40.000.001 gs a 50.000.000 gs', 'Entre 21.000.001 a 24.000.000 gs',\n",
       "       'Salario mínimo 2.550.307 gs'],\n",
       "      dtype='object', name='monthly_salary')"
      ]
     },
     "execution_count": 34,
     "metadata": {},
     "output_type": "execute_result"
    }
   ],
   "source": [
    "df[\"monthly_salary\"].value_counts().keys()"
   ]
  },
  {
   "cell_type": "code",
   "execution_count": 35,
   "id": "571b2ec6-1655-4e83-b731-cf3fb8154516",
   "metadata": {},
   "outputs": [],
   "source": [
    "# Strip extra spaces from the column\n",
    "df[\"monthly_salary\"] = df[\"monthly_salary\"].str.strip()\n",
    "\n",
    "\n",
    "salary_ranges = {\n",
    "    \"Entre 9.000.001 a 12.000.000 gs\": \"9M_12M\",\n",
    "    \"Entre 5.000.001 a 7.000.000 gs\": \"5M_7M\",\n",
    "    \"Entre 7.000.001 a 9.000.000 gs\": \"7M_9M\",\n",
    "    \"Entre 3.500.001 a 5.000.000 gs\": \"3.5M_5M\",\n",
    "    \"Entre 12.000.001 a 15.000.000 gs\": \"12M_15M\",\n",
    "    \"Entre 15.000.001 a 18.000.000 gs\": \"15M_18M\",\n",
    "    \"Entre 2.550.308 gs a 3.500.000 gs\": \"2.55M_3.5M\",\n",
    "    \"Entre 18.000.001 a 21.000.000 gs\": \"18M_21M\",\n",
    "    \"más de 50.000.000 gs\": \"50M+\",\n",
    "    \"Entre 24.000.001 a 27.000.000 gs\": \"24M_27M\",\n",
    "    \"33.000.001 gs a 40.000.000 gs\": \"33M_40M\",\n",
    "    \"27.000.001 gs a 33.000.000\": \"27M_33M\",\n",
    "    \"Menos del salario mínimo ( 2.550.307 gs)\": \"<min_wage\",\n",
    "    \"40.000.001 gs a 50.000.000 gs\": \"40M_50M\",\n",
    "    \"Entre 21.000.001 a 24.000.000 gs\": \"21M_24M\",\n",
    "    \"Salario mínimo 2.550.307 gs\": \"min_wage\",\n",
    "}\n",
    "# Apply the replacement\n",
    "eh.replace_column_content(df, \"monthly_salary\", salary_ranges)"
   ]
  },
  {
   "cell_type": "code",
   "execution_count": 36,
   "id": "72280865-d94a-49a8-9492-22b968773bdb",
   "metadata": {},
   "outputs": [
    {
     "data": {
      "text/plain": [
       "Index(['9M_12M', '5M_7M', '7M_9M', '3.5M_5M', '12M_15M', '15M_18M',\n",
       "       '2.55M_3.5M', '18M_21M', '50M+', '24M_27M', '33M_40M', '27M_33M',\n",
       "       'Menos del salario mínimo ( 2.550.307 gs)', '40M_50M', '21M_24M',\n",
       "       'min_wage'],\n",
       "      dtype='object', name='monthly_salary')"
      ]
     },
     "execution_count": 36,
     "metadata": {},
     "output_type": "execute_result"
    }
   ],
   "source": [
    "df[\"monthly_salary\"].value_counts().keys()"
   ]
  },
  {
   "cell_type": "code",
   "execution_count": 37,
   "id": "6e2cf2d8-726a-49df-9c70-676ef1e86620",
   "metadata": {},
   "outputs": [],
   "source": [
    "df[\"monthly_salary\"].replace(\n",
    "    \"Menos del salario mínimo ( 2.550.307 gs)\", \"<min_wage\", inplace=True\n",
    ")"
   ]
  },
  {
   "cell_type": "code",
   "execution_count": 38,
   "id": "d5d032e9-0194-4ec9-94c8-52c423ac0f1b",
   "metadata": {},
   "outputs": [
    {
     "data": {
      "text/plain": [
       "Index(['9M_12M', '5M_7M', '7M_9M', '3.5M_5M', '12M_15M', '15M_18M',\n",
       "       '2.55M_3.5M', '18M_21M', '50M+', '24M_27M', '33M_40M', '27M_33M',\n",
       "       '<min_wage', '40M_50M', '21M_24M', 'min_wage'],\n",
       "      dtype='object', name='monthly_salary')"
      ]
     },
     "execution_count": 38,
     "metadata": {},
     "output_type": "execute_result"
    }
   ],
   "source": [
    "df[\"monthly_salary\"].value_counts().keys()"
   ]
  },
  {
   "cell_type": "code",
   "execution_count": 39,
   "id": "9eb19770-5fed-45e8-b3df-617bb752b3b1",
   "metadata": {},
   "outputs": [
    {
     "name": "stdout",
     "output_type": "stream",
     "text": [
      "monthly_salary\n",
      "9M_12M        57\n",
      "5M_7M         52\n",
      "7M_9M         51\n",
      "3.5M_5M       39\n",
      "12M_15M       35\n",
      "15M_18M       32\n",
      "2.55M_3.5M    30\n",
      "18M_21M       17\n",
      "50M+          17\n",
      "24M_27M       14\n",
      "33M_40M       12\n",
      "27M_33M       10\n",
      "<min_wage      9\n",
      "40M_50M        8\n",
      "21M_24M        8\n",
      "min_wage       3\n",
      "Name: count, dtype: int64\n",
      "============================================================\n",
      "<min_wage\n",
      "50M+\n",
      "40M_50M\n",
      "15M_18M\n",
      "24M_27M\n",
      "min_wage\n",
      "5M_7M\n",
      "33M_40M\n",
      "27M_33M\n",
      "2.55M_3.5M\n",
      "3.5M_5M\n",
      "7M_9M\n",
      "9M_12M\n",
      "21M_24M\n",
      "18M_21M\n",
      "12M_15M\n"
     ]
    }
   ],
   "source": [
    "print(df[\"monthly_salary\"].value_counts())\n",
    "print(\"============================================================\")\n",
    "for i in eh.get_column_uniques(df, \"monthly_salary\"):\n",
    "    print(i)"
   ]
  },
  {
   "cell_type": "code",
   "execution_count": null,
   "id": "509d2257-0229-4fdf-b6b0-2eb587a781a1",
   "metadata": {},
   "outputs": [],
   "source": []
  },
  {
   "cell_type": "markdown",
   "id": "6db94dae-ed4b-4000-ae37-4915def5d58e",
   "metadata": {},
   "source": [
    "# TESTING REPLACEMENT\n",
    "--- column names and values"
   ]
  },
  {
   "cell_type": "code",
   "execution_count": 40,
   "id": "16dc16d3-0e59-4fa2-96fe-30321c46b991",
   "metadata": {},
   "outputs": [
    {
     "name": "stdout",
     "output_type": "stream",
     "text": [
      "COLUMNA ---->  work_mode\n",
      "['remote', 'Hibrído', 'onsite', 'none']\n",
      "\n",
      "\n",
      "\n",
      "\n",
      "COLUMNA ---->  employment_mode\n",
      "['freelance', 'local_with_foreign_clients', 'Empleador local (Paraguay)', 'foreign_employer']\n",
      "\n",
      "\n",
      "\n",
      "\n",
      "COLUMNA ---->  role\n",
      "['full_stack_dev, mobile_dev, dev_ops', 'sys_analyst', 'full_stack_dev, embedded_sys_dev, proj_lead, dev_ops', 'frontend_dev, full_stack_dev, mobile_dev', 'backend_dev, data_eng, dev_ops', 'backend_dev, frontend_dev, full_stack_dev, desktop_apps, db_admin', 'frontend_dev, full_stack_dev, data_eng', 'backend_dev, frontend_dev, full_stack_dev, mobile_dev, db_admin, proj_lead, data_analyst', 'backend_dev, frontend_dev, full_stack_dev, data_analyst', 'data_analyst, data_eng, data_sci', 'backend_dev, proj_lead', 'backend_dev, platform_eng ', 'backend_dev, full_stack_dev, desktop_apps, data_analyst, ai_specialist', 'digital_analyst', 'full_stack_dev, mobile_dev, db_admin', 'backend_dev, team_lead ', 'backend_dev, data_analyst', 'backend_dev, frontend_dev, full_stack_dev, ux_ui', 'backend_dev, frontend_dev, full_stack_dev, desktop_apps, db_admin, dev_ops, sre', 'solution_arch', 'full_stack_dev, db_admin, proj_lead, data_eng, data_sci, dev_ops, ai_specialist', 'sys_coord', 'frontend_dev, ux_ui', 'ux_ui', 'db_admin, data_analyst', 'proj_lead', 'support_analyst', 'data_analyst, data_sci', 'frontend_dev, mobile_dev, qa_testing', 'game_dev', 'backend_dev, frontend_dev, full_stack_dev, mobile_dev, proj_lead', 'desktop_apps, db_admin', 'tech_lead ', 'proj_lead, data_analyst, data_eng, data_sci', 'frontend_dev, data_eng, data_sci', 'backend_dev, full_stack_dev, desktop_apps, db_admin', 'backend_dev', 'backend_dev, qa_testing, data_analyst', 'desktop_apps', 'full_stack_dev, embedded_sys_dev, proj_lead, dev_ops, ux_ui', 'full_stack_dev, qa_testing, db_admin, proj_lead, data_analyst, data_eng, api_rest', 'data_analyst', 'frontend_dev, full_stack_dev, proj_lead', 'db_admin, dev_ops', 'full_stack_dev, data_analyst', 'backend_dev, frontend_dev, full_stack_dev, mobile_dev, db_admin', 'backend_dev, cloud_dev', 'desktop_apps, qa_testing, db_admin', 'backend_dev, frontend_dev, full_stack_dev, desktop_apps, db_admin, data_analyst, data_eng, data_sci, ai_specialist', 'backend_dev, frontend_dev, full_stack_dev, mobile_dev, qa_testing', 'full_stack_dev, embedded_sys_dev, desktop_apps, proj_lead, data_analyst, ux_ui, dba', 'backend_dev, frontend_dev, dev_ops, ai_specialist', 'backend_dev, frontend_dev, embedded_sys_dev, desktop_apps, proj_lead', 'backend_dev, frontend_dev, embedded_sys_dev, desktop_apps', 'full_stack_dev, game_dev', 'frontend_dev, mobile_dev, proj_lead', 'backend_dev, frontend_dev', 'data_analyst, data_eng', 'backend_dev, full_stack_dev, mobile_dev, embedded_sys_dev', 'mobile_dev, community_lead', 'frontend_dev, full_stack_dev, qa_testing, db_admin, ux_ui', 'backend_dev, qa_testing', 'full_stack_dev, desktop_apps, db_admin', 'backend_dev, frontend_dev, full_stack_dev, mobile_dev', 'backend_dev, frontend_dev, desktop_apps, db_admin, data_eng, data_sci, ai_specialist', 'backend_dev, frontend_dev, full_stack_dev, proj_lead', 'data_eng, ai_specialist', 'backend_dev, frontend_dev, full_stack_dev', 'tableau_dev', 'full_stack_dev, db_admin, dev_ops', 'backend_dev, data_eng', 'full_stack_dev, desktop_apps', 'full_stack_dev, proj_lead', 'desktop_apps, db_admin, proj_lead', 'frontend_dev, mobile_dev', 'backend_dev, frontend_dev, full_stack_dev, dev_ops', 'full_stack_dev, mobile_dev, db_admin, proj_lead, dev_ops', 'full_stack_dev, qa_testing', 'backend_dev, frontend_dev, full_stack_dev, crm', 'backend_dev, analyst', 'backend_dev, frontend_dev, full_stack_dev, db_admin, ux_ui', 'qa_testing', 'full_stack_dev, ux_ui', 'quality_analyst ', 'embedded_sys_dev', 'it', 'full_stack_dev, mobile_dev', 'backend_dev, mobile_dev', 'full_stack_dev, embedded_sys_dev, data_eng, dev_ops', 'backend_dev, full_stack_dev, db_admin', 'backend_dev, full_stack_dev, platform_dev', 'frontend_dev', 'mobile_dev, desktop_apps, db_admin', 'backend_dev, frontend_dev, full_stack_dev, qa_testing, proj_lead', 'full_stack_dev, db_admin, data_analyst', 'backend_dev, db_admin', 'it_auditor', 'backend_dev, mobile_dev, desktop_apps', 'backend_arch', 'jr_electrical_eng', 'frontend_dev, game_dev', 'desktop_apps, qa_testing, db_admin, proj_lead', 'full_stack_dev, db_admin', 'full_stack_dev, mobile_dev, desktop_apps, db_admin', 'backend_dev, embedded_sys_dev', 'full_stack_dev, qa_testing, proj_lead, dev_ops, ux_ui, ai_specialist', 'data_sci', 'it_analyst', 'data_sci, ml_eng', 'full_stack_dev', 'mobile_dev', 'db_admin, proj_lead, data_analyst, data_eng, data_sci, ai_specialist', 'desktop_apps, qa_testing, data_analyst', 'backend_dev, db_admin, dev_ops', 'data_analyst, data_eng, data_sci, ai_specialist', 'backend_dev, frontend_dev, mobile_dev, desktop_apps', 'data_eng', 'backend_dev, proj_lead, dev_ops', 'backend_dev, full_stack_dev, proj_lead', 'software_arch', 'backend_dev, full_stack_dev, desktop_apps, qa_testing, dev_ops', 'qa_testing, ux_ui', 'qa_tester', 'qa_testing, db_admin', 'backend_dev, frontend_dev, proj_lead', 'backend_dev, frontend_dev, full_stack_dev, embedded_sys_dev, db_admin, proj_lead, data_analyst, data_eng, ux_ui', 'analyst_qa', 'backend_dev, desktop_apps', 'frontend_dev, proj_lead', 'backend_dev, frontend_dev, qa_testing, data_analyst', 'backend_dev, frontend_dev, mobile_dev', 'full_stack_dev, data_eng', 'backend_dev, frontend_dev, full_stack_dev, db_admin, proj_lead', 'backend_dev, frontend_dev, full_stack_dev, desktop_apps, db_admin, data_analyst, data_eng, data_sci, dev_ops, ux_ui', 'full_stack_dev, data_analyst, data_eng', 'desktop_apps, proj_lead, sys_analyst', 'proj_lead, data_analyst', 'backend_dev, dev_ops, sys_arch', 'backend_dev, dev_ops', 'backend_dev, embedded_sys_dev, desktop_apps, proj_lead', 'mobile_dev, proj_lead', 'backend_dev, frontend_dev, desktop_apps', 'db_admin', 'backend_dev, full_stack_dev, desktop_apps, db_admin, proj_lead, dev_ops', 'backend_dev, frontend_dev, desktop_apps, qa_testing, db_admin', 'frontend_dev, data_analyst, ux_ui', 'backend_dev, full_stack_dev', 'full_stack_dev, db_admin, ai_specialist, sales', 'backend_dev, db_admin, proj_lead', 'backend_dev, desktop_apps, qa_testing, db_admin, proj_lead', 'full_stack_dev, dev_ops', 'frontend_dev, full_stack_dev', 'dev_ops', 'backend_dev, full_stack_dev, desktop_apps, dev_ops', 'backend_dev, frontend_dev, qa_testing', 'backend_dev, frontend_dev, full_stack_dev, db_admin', 'backend_dev, frontend_dev, embedded_sys_dev, desktop_apps, db_admin, data_analyst', 'tech_lead']\n",
      "\n",
      "\n",
      "\n",
      "\n",
      "COLUMNA ---->  prog_skills_in_role\n",
      "['scientific_researcher', 'sys_admin, scientific_researcher', 'scientific_researcher, educator', 'sys_admin, devops_dataops, educator', 'sys_admin, devops_dataops, designer', 'sys_admin', 'sys_admin, scientific_researcher, educator', 'sys_admin, devops_dataops', 'devops_dataops, designer', 'sys_admin, devops_dataops, scientific_researcher', 'sys_admin, devops_dataops, scientific_researcher, designer', 'scientific_researcher, designer, educator', 'designer', 'educator', 'devops_dataops', 'sys_admin, scientific_researcher, designer', 'sys_admin, designer', 'sys_admin, educator', 'devops_dataops, educator', 'devops_dataops, scientific_researcher', 'sys_admin, devops_dataops, scientific_researcher, designer, educator']\n",
      "\n",
      "\n",
      "\n",
      "\n",
      "COLUMNA ---->  code_for_job\n",
      "['No', 'Sí']\n",
      "\n",
      "\n",
      "\n",
      "\n",
      "COLUMNA ---->  IT_exp\n",
      "['Más de 26 años', '3 a 5 años', 'Menos de 1 año', '13 a 17 años', '6 a 9 años', '18 a 25 años', '10 a 12 años', '1 a 2 años']\n",
      "\n",
      "\n",
      "\n",
      "\n",
      "COLUMNA ---->  prof_prog_exp\n",
      "['más de 26 años', '3 a 5 años', '10 a 12 años', 'Menos de 1 año', '6 a 9 años', '18 a 25 años', '13 a 17 años', '1 a 2 años']\n",
      "\n",
      "\n",
      "\n",
      "\n",
      "COLUMNA ---->  first_code\n",
      "['más de 30 años', '18 a 19 años', '26 a 27 años', '22 a 23 años', '10 a 11 años', '14 a 15 años', '16 a 17 años', '28 a 29 años', '24 a 25 años', 'Menos de 10 años', '20 a 21 años', '12 a 13 años']\n",
      "\n",
      "\n",
      "\n",
      "\n",
      "COLUMNA ---->  assigned_seniority\n",
      "['Staff', 'Junior', 'Trainee', 'Principal', 'Mid-senior', 'Senior', 'No aplica a mi lugar de trabajo']\n",
      "\n",
      "\n",
      "\n",
      "\n",
      "COLUMNA ---->  self_assessed_seniority\n",
      "['Staff', 'Junior', 'Trainee', 'Principal', 'Desconozco', 'Mid-senior', 'Senior']\n",
      "\n",
      "\n",
      "\n",
      "\n",
      "COLUMNA ---->  formal_edu\n",
      "['Título de Grado (licenciatura, ingeniería, etc.)', 'Doctorado', 'Educación Media', 'Máster']\n",
      "\n",
      "\n",
      "\n",
      "\n",
      "COLUMNA ---->  majors\n",
      "['electronic_engineering', 'systems_analysis', 'programming, systems_analysis', 'programming', 'systems_analysis, computer_engineering', 'programming, systems_analysis, electronic_engineering', 'programming, systems_analysis, computer_engineering, graphic_design', 'programming, systems_analysis, computer_engineering, other', 'programming, electronic_engineering, mathematics', 'programming, other', 'systems_analysis, computer_engineering, other ingenerías', 'programming, systems_analysis, electronic_engineering, other ingenerías, other', 'none', 'programming, systems_analysis, mathematics, other', 'other ingenerías, other', 'other', 'systems_analysis, civil_engineering', 'programming, systems_analysis, computer_engineering, electronic_engineering, graphic_design', 'programming, systems_analysis, mathematics', 'programming, computer_engineering, other', 'mathematics, none', 'computer_engineering, mathematics', 'programming, electronic_engineering, other', 'programming, systems_analysis, civil_engineering', 'electrical_engineering', 'programming, graphic_design, other', 'programming, systems_analysis, computer_engineering, mathematics', 'computer_engineering', 'programming, systems_analysis, computer_engineering', 'programming, systems_analysis, computer_engineering, mathematics, other', 'programming, systems_analysis, other', 'programming, computer_engineering', 'programming, other ingenerías', 'computer_engineering, other', 'other ingenerías', 'systems_analysis, computer_engineering, other', 'programming, systems_analysis, computer_engineering, electrical_engineering', 'programming, systems_analysis, computer_engineering, other ingenerías', 'graphic_design', 'programming, systems_analysis, graphic_design']\n",
      "\n",
      "\n",
      "\n",
      "\n",
      "COLUMNA ---->  formal_edu_importance\n",
      "['Crítico', 'Más o menos importante', 'Bastante importante', 'Muy importante', 'No importa, no es necesario']\n",
      "\n",
      "\n",
      "\n",
      "\n",
      "COLUMNA ---->  gender\n",
      "['Mujer', 'Prefiero no compartir', 'Hombre']\n",
      "\n",
      "\n",
      "\n",
      "\n",
      "COLUMNA ---->  age\n",
      "['Más de 60 años', '30 a 34 años', '55 a 59 años', '15 a 19 años', '50 a 54 años', '20 a 24 años', '40 a 44 años', '35 a 39 años', '25 a 29 años', '45 a 49 años']\n",
      "\n",
      "\n",
      "\n",
      "\n",
      "COLUMNA ---->  monthly_salary\n",
      "['<min_wage', '50M+', '40M_50M', '15M_18M', '24M_27M', 'min_wage', '5M_7M', '33M_40M', '27M_33M', '2.55M_3.5M', '3.5M_5M', '7M_9M', '9M_12M', '21M_24M', '18M_21M', '12M_15M']\n",
      "\n",
      "\n",
      "\n",
      "\n",
      "COLUMNA ---->  pro_languages\n",
      "['Python, C++', 'JavaScript, Java, SQL', 'SQL, RPG, Abap', 'JavaScript, TypeScript, Python, HTML/CSS', 'JavaScript, Python, Java, HTML/CSS, SQL', 'JavaScript, TypeScript, Python, Java', 'Python, Ruby, Go, Bash/Shell/PowerShell', 'JavaScript, Python, Java, HTML/CSS, SQL, Fox Pro', 'Python, C++, SQL', 'JavaScript, TypeScript, Python, Java, C, HTML/CSS, SQL, Bash/Shell/PowerShell', 'JavaScript, TypeScript, Python, Java, C++, HTML/CSS, SQL', 'TypeScript, HTML/CSS', 'JavaScript, Java, HTML/CSS, SQL', 'JavaScript, TypeScript, PHP, Java, HTML/CSS, SQL', 'JavaScript, Python, Java, SQL', 'JavaScript, HTML/CSS, SQL, Oracle Forms, Oracle APEX', 'Python, Java, C#, HTML/CSS, SQL, Oracle Forms, Fox Pro, COBOL, RPG, ', 'TypeScript, Java, HTML/CSS, SQL, Dart', 'SQL', 'JavaScript, C#, HTML/CSS, SQL, Bash/Shell/PowerShell, Dart', 'JavaScript', 'Python, R', 'JavaScript, Python, Java, C#, SQL, PL/SQL', 'PHP, Oracle Forms', 'JavaScript, HTML/CSS, SQL, Oracle Forms, Oracle Apex', 'JavaScript, TypeScript, Java, HTML/CSS, SQL, Bash/Shell/PowerShell, Oracle Forms, Fox Pro', 'JavaScript, PHP, Bash/Shell/PowerShell', 'Swift', 'Kotlin', 'Python, Ruby, SQL, Bash/Shell/PowerShell', 'JavaScript, TypeScript, SQL', 'C#, SQL, Oracle Forms', 'Java, SQL, Bash/Shell/PowerShell', 'Java, SQL, Oracle Forms', 'TypeScript, PHP, Java, HTML/CSS, VBA, Fox Pro', 'JavaScript, TypeScript, PHP, Python, Java, SQL', 'Python, HTML/CSS, XML', 'JavaScript, TypeScript, C#, HTML/CSS, SQL, Bash/Shell/PowerShell', 'JavaScript, PHP, HTML/CSS, SQL, Dart', 'JavaScript, TypeScript, Python, Ruby, HTML/CSS, SQL', 'JavaScript, TypeScript, Python, Java, C++, Go, SQL, Bash/Shell/PowerShell, Rust', 'PHP, Java, SQL', 'JavaScript, HTML/CSS, SQL, PL/SQL', 'Java, C, C#, Go, Bash/Shell/PowerShell, Objective-C', 'JavaScript, TypeScript, Java, Kotlin, HTML/CSS, SQL, Bash/Shell/PowerShell', 'JavaScript, PHP, Python, HTML/CSS, SQL', 'JavaScript, TypeScript, Python, Java, SQL', 'JavaScript, TypeScript, PHP, HTML/CSS, SQL, Dart', 'JavaScript, Python, Java, C#, SQL', 'JavaScript, Python, Oracle Forms, ORACLE APEX, ORACLE PLSQL', 'JavaScript, PHP, Python, HTML/CSS, SQL, Bash/Shell/PowerShell', 'JavaScript, Java, HTML/CSS, SQL, Scala', 'Java, Oracle Forms', 'SQL, Genexus, Fox Pro, COBOL', 'Python, C++, SQL, VBA, Genexus, Fox Pro', 'JavaScript, TypeScript, Ruby', 'JavaScript, TypeScript', 'JavaScript, PHP, HTML/CSS, SQL, Bash/Shell/PowerShell, Dart', 'PHP, HTML/CSS, SQL', 'JavaScript, PHP, C#', 'JavaScript, TypeScript, Python, HTML/CSS, SQL, Bash/Shell/PowerShell', 'Python, Kotlin, SQL, Dart', 'Java, Kotlin, C#, SQL, Oracle Forms, Genexus', 'Python, SQL, R, VBA', 'JavaScript, Java, SQL, Bash/Shell/PowerShell', 'SQL, VBA', 'JavaScript, TypeScript, C#, VBA', 'JavaScript, TypeScript, Java, HTML/CSS, SQL', 'JavaScript, PHP, Python, Java, C, C#, C++, HTML/CSS, SQL, Bash/Shell/PowerShell, Perl, VBA, Oracle Forms, Fox Pro', 'PHP, SQL, Dart', 'JavaScript, Python, Java, Oracle Forms', 'JavaScript, SQL, PL/SQL', 'JavaScript, PHP, Python, SQL, Bash/Shell/PowerShell, Dart', 'JavaScript, TypeScript, Go, HTML/CSS, Bash/Shell/PowerShell', 'JavaScript, C#, HTML/CSS, SQL', 'JavaScript, TypeScript, Python, HTML/CSS, SQL, Bash/Shell/PowerShell, Swift', 'Java, HTML/CSS, SQL, Bash/Shell/PowerShell, Oracle Forms', 'JavaScript, TypeScript, PHP, C#, HTML/CSS, SQL, Dart, Powerbuilder', 'Python, Java, Bash/Shell/PowerShell, Genexus ', 'SQL, Bash/Shell/PowerShell, Yammel', 'Lenguaje o comandos scripteado en python ', 'JavaScript, TypeScript, PHP, HTML/CSS, SQL', 'JavaScript, PHP, Python, HTML/CSS, SQL, Google AppSheets', 'Java, Kotlin, SQL, Bash/Shell/PowerShell, Swift', 'JavaScript, PHP, Java, Kotlin, HTML/CSS, SQL, Bash/Shell/PowerShell, ', 'JavaScript, TypeScript, PHP, Java, C#, HTML/CSS, SQL', 'JavaScript, TypeScript, Java, Go, HTML/CSS, SQL, Bash/Shell/PowerShell', 'Python, Go, Dart', 'JavaScript, TypeScript, Java, C#, SQL', 'JavaScript, TypeScript, PHP, Python, Ruby, Java, C++, Go, HTML/CSS, SQL, Bash/Shell/PowerShell, VBA, Oracle Forms, Fox Pro', 'Oracle Forms', 'JavaScript, HTML/CSS, SQL', 'TypeScript, Java, HTML/CSS, SQL', 'JavaScript, TypeScript, Java, Scala, Groovy', 'JavaScript, PHP, Python, Java, C, C#, HTML/CSS, SQL, Bash/Shell/PowerShell, VBA', 'TypeScript, Dart', 'JavaScript, TypeScript, PHP, Python', 'JavaScript, C#', 'JavaScript, PHP, Python, C#, C++, HTML/CSS, SQL', 'JavaScript, TypeScript, PHP, Python, Java, C, C++, Go, HTML/CSS, SQL, Bash/Shell/PowerShell, VBA, Oracle Forms', 'SQL, X++', 'SQL, Oracle Forms', 'Python, SQL, M', 'Python, HTML/CSS', 'JavaScript, TypeScript, Python, Java, C#, HTML/CSS, SQL, Bash/Shell/PowerShell', 'C#, HTML/CSS, SQL, Dart', 'JavaScript, TypeScript, Python, Java, C#, SQL, Bash/Shell/PowerShell', 'Java, SQL', 'Python, HTML/CSS, SQL, Bash/Shell/PowerShell, React', 'JavaScript, TypeScript, Python, Ruby, Java, C, C++, SQL, Bash/Shell/PowerShell, Objective-C, Perl', 'JavaScript, HTML/CSS, SQL, Bash/Shell/PowerShell, Dart', 'JavaScript, TypeScript, HTML/CSS, Bash/Shell/PowerShell', 'JavaScript, PHP, HTML/CSS, SQL, Bash/Shell/PowerShell', 'JavaScript, PHP, Java, HTML/CSS, SQL', 'Python, Java, HTML/CSS, SQL', 'JavaScript, PHP, Java, SQL, Oracle Forms', 'C#', 'JavaScript, SQL, Pascal/Delphi', 'JavaScript, PHP, SQL, Fox Pro', 'JavaScript, Python, Java, Go, HTML/CSS, SQL, Bash/Shell/PowerShell', 'Java, HTML/CSS, SQL, Oracle Forms', 'JavaScript, TypeScript, Python, HTML/CSS, Dart', 'Java, SQL, Xquery', 'JavaScript, TypeScript, Python, SQL, Bash/Shell/PowerShell', 'JavaScript, Python, HTML/CSS, SQL', 'Python, SQL, R, Scala', 'JavaScript, TypeScript, Java, HTML/CSS, SQL, Bash/Shell/PowerShell', 'JavaScript, TypeScript, Java, Kotlin, Swift', 'PHP, HTML/CSS, SQL, Bash/Shell/PowerShell, VBA', 'JavaScript, Python, C', 'JavaScript, Python, C++, HTML/CSS', 'JavaScript, TypeScript, Python, HTML/CSS, SQL', 'JavaScript, Python, Java, HTML/CSS, SQL, Bash/Shell/PowerShell', 'JavaScript, PHP, Java, HTML/CSS, SQL, Bash/Shell/PowerShell', 'C#, SQL, VBA', 'PHP, SQL', 'JavaScript, Ruby, C++, HTML/CSS, SQL', 'JavaScript, TypeScript, Kotlin, Swift', 'JavaScript, Ruby, HTML/CSS, SQL', 'JavaScript, TypeScript, C#, SQL', 'JavaScript, Bash/Shell/PowerShell', 'JavaScript, Python, C#, HTML/CSS, SQL', 'JavaScript, SQL', 'JavaScript, TypeScript, Ruby, HTML/CSS', 'JavaScript, PHP, HTML/CSS, SQL, LUA', 'JavaScript, PHP, Python, Java, HTML/CSS, SQL, Bash/Shell/PowerShell, Dart, VBA, Oracle Forms', 'JavaScript, TypeScript, Python, Java, Kotlin, C#, Go, HTML/CSS, SQL, Bash/Shell/PowerShell, Swift, Objective-C', 'JavaScript, Java, HTML/CSS, Genexus', 'JavaScript, TypeScript, PHP, Java, HTML/CSS, SQL, Bash/Shell/PowerShell, Dart', 'JavaScript, TypeScript, PHP, Python, HTML/CSS, SQL', 'Java, HTML/CSS, SQL, Genexus, Power Builder', 'Python, Genexus', 'JavaScript, TypeScript, Python, Java, HTML/CSS, SQL, Bash/Shell/PowerShell', 'JavaScript, Ruby, Java, HTML/CSS, SQL', 'JavaScript, TypeScript, Python, C, C#, C++, Go, SQL, Assembly, R, Rust, Perl', 'Python, SQL, PSQL', 'JavaScript, Java, HTML/CSS, SQL, Bash/Shell/PowerShell', 'JavaScript, TypeScript, Java', 'JavaScript, Java, Kotlin, HTML/CSS, Swift, Dart', 'Python', 'Python, Kotlin, Oracle Forms, Fox Pro', 'Java, Dart', 'JavaScript, Java, HTML/CSS, SQL, Oracle Forms, PLSQL', 'JavaScript, TypeScript, Kotlin, SQL, Dart, Oracle Forms', 'Python, SQL', 'JavaScript, TypeScript, PHP, Python, Kotlin, HTML/CSS, SQL, Bash/Shell/PowerShell, Swift, Dart', 'JavaScript, TypeScript, HTML/CSS, SQL', 'JavaScript, Java, HTML/CSS, SQL, Bash/Shell/PowerShell, Swift', 'TypeScript, Python, Java, HTML/CSS, SQL, Scala', 'JavaScript, PHP, Kotlin, HTML/CSS, SQL', 'JavaScript, Java', 'JavaScript, Python, Java, HTML/CSS, SQL, R', 'JavaScript, TypeScript, Java, C#, HTML/CSS, SQL', 'JavaScript, PHP, Java, SQL, Dart', 'JavaScript, C++, HTML/CSS, SQL, R', 'JavaScript, Python, Java, Bash/Shell/PowerShell', 'JavaScript, TypeScript, Terraform', 'JavaScript, Dart', 'Java', 'JavaScript, PHP, Java, SQL', 'JavaScript, TypeScript, PHP, Dart', 'SQL, Delphi', 'JavaScript, TypeScript, PHP, Python, Java, HTML/CSS, SQL, Bash/Shell/PowerShell', 'Java, HTML/CSS', 'JavaScript, Python, Java, C#, HTML/CSS', 'Python, C++, Bash/Shell/PowerShell', 'JavaScript, TypeScript, PHP, HTML/CSS', 'JavaScript, PHP, Python, Java, C#, C++, HTML/CSS, SQL, Bash/Shell/PowerShell', 'PHP, Python, HTML/CSS, SQL, Oracle Forms, Oracle Apex', 'Python, Java, Bash/Shell/PowerShell, Scala, Groovy', 'JavaScript, Java, C, C++, HTML/CSS, SQL, Bash/Shell/PowerShell', 'JavaScript, Python, SQL', 'JavaScript, Python, Java, C#, HTML/CSS, SQL, VBA', 'Ruby, SQL, Bash/Shell/PowerShell', 'JavaScript, TypeScript, PHP, HTML/CSS, SQL, RPG', 'JavaScript, Java, HTML/CSS', 'JavaScript, Ruby, Java, HTML/CSS, SQL, Bash/Shell/PowerShell', 'TypeScript, Python, SQL', 'JavaScript, PHP, HTML/CSS', 'JavaScript, HTML/CSS, SQL, Bash/Shell/PowerShell, Oracle Forms, Oracle APEX', 'TypeScript', 'JavaScript, PHP, SQL', 'TypeScript, Python, C#, HTML/CSS, SQL, Bash/Shell/PowerShell', 'JavaScript, PHP, HTML/CSS, SQL', 'Python, C, SQL, R, Fox Pro', 'Java, Kotlin, Swift', 'Python, SQL, Bash/Shell/PowerShell, Scala', 'JavaScript, TypeScript, Python, HTML/CSS, SQL, Dart', 'JavaScript, Python, Kotlin, HTML/CSS, SQL', 'Python, HTML/CSS, SQL, Oracle Forms', 'Python, C, HTML/CSS, SQL, R', 'Java, SQL, Fox Pro', 'JavaScript, TypeScript, HTML/CSS', 'JavaScript, TypeScript, Python, Java, HTML/CSS, Bash/Shell/PowerShell', 'Java, SQL, Bash/Shell/PowerShell, Oracle Forms', 'Python, SQL, Oracle Forms', 'JavaScript, TypeScript, PHP, Java, HTML/CSS, SQL, Bash/Shell/PowerShell, Fox Pro, COBOL', 'JavaScript, TypeScript, HTML/CSS, SQL, Bash/Shell/PowerShell', 'Java, HTML/CSS, SQL', 'JavaScript, TypeScript, Python, SQL', 'JavaScript, Java, Scala', 'PHP, SQL, ', 'JavaScript, Python, SQL, Bash/Shell/PowerShell', 'SQL, Oracle Forms, Vb .net', 'JavaScript, TypeScript, Python', 'JavaScript, TypeScript, Python, Go, HTML/CSS, SQL, Bash/Shell/PowerShell, v', 'PHP, Java, HTML/CSS, SQL', 'Python, SQL, Bash/Shell/PowerShell', 'Python, Java, Genexus', 'JavaScript, TypeScript, Python, Java, HTML/CSS, SQL, Swift, Dart', 'Dart', 'JavaScript, Python, HTML/CSS', 'Python, SQL, VBA, Yaml', 'JavaScript, TypeScript, Ruby, SQL', 'JavaScript, Python, Java, C#, SQL, Bash/Shell/PowerShell', 'TypeScript, Python, SQL, Bash/Shell/PowerShell', 'JavaScript, TypeScript, PHP, Java, HTML/CSS, Swift, Dart', 'JavaScript, C#, HTML/CSS, SQL, R', 'PHP, Python, Java, SQL, Fox Pro', 'JavaScript, Python, Ruby, HTML/CSS, Bash/Shell/PowerShell', 'JavaScript, Python, Java, SQL, Bash/Shell/PowerShell', 'JavaScript, TypeScript, C#, HTML/CSS, SQL, Dart', 'JavaScript, Python', 'JavaScript, Python, Java, HTML/CSS, SQL, Bash/Shell/PowerShell, Oracle Forms', 'Python, Java, HTML/CSS', 'Java, C#, SQL', 'Java, C#, SQL, Bash/Shell/PowerShell, Fox Pro', 'JavaScript, Python, Java, HTML/CSS, SQL, Genexus, RPG', 'JavaScript, TypeScript, Java, Dart', 'TypeScript, Python, Java, HTML/CSS, SQL, Bash/Shell/PowerShell', 'Java, Kotlin, C#, HTML/CSS, SQL', 'JavaScript, PHP, SQL, COBOL, Visual básic net ', 'JavaScript, Java, C#, SQL', 'JavaScript, TypeScript, Java, HTML/CSS', 'JavaScript, Java, HTML/CSS, Bash/Shell/PowerShell', 'JavaScript, Python, HTML/CSS, SQL, Bash/Shell/PowerShell', 'JavaScript, TypeScript, PHP, HTML/CSS, SQL, Bash/Shell/PowerShell, Assembly, Rust', 'JavaScript, HTML/CSS', 'Python, SQL, R', 'JavaScript, TypeScript, PHP, Python, Ruby, Java, Kotlin, C, HTML/CSS, SQL, Bash/Shell/PowerShell, Fox Pro, COBOL', 'JavaScript, PHP, Python, Java, HTML/CSS, SQL', 'JavaScript, TypeScript, PHP, Java, Kotlin, HTML/CSS, SQL, Bash/Shell/PowerShell', 'JavaScript, Python, Java, HTML/CSS, SQL, Dart, Oracle Forms, Genexus', 'TypeScript, HTML/CSS, Dart', 'PHP, C#, SQL, LUA', 'JavaScript, TypeScript, Python, HTML/CSS, SQL, Bash/Shell/PowerShell, Elixir ', 'JavaScript, C, C++, SQL, Bash/Shell/PowerShell, Dart, Pascal', 'C#, SQL', 'JavaScript, Ruby, SQL, Bash/Shell/PowerShell', 'Java, SQL, Abap', 'VBA, Power builder', 'PHP, Python, C++, HTML/CSS, COBOL', 'Java, Kotlin, Swift, Dart', 'JavaScript, TypeScript, PHP, Python, HTML/CSS', 'JavaScript, TypeScript, PHP, Java, HTML/CSS, SQL, Bash/Shell/PowerShell', 'Fox Pro', 'TypeScript, Python, Bash/Shell/PowerShell, Scala', 'JavaScript, TypeScript, PHP, HTML/CSS, Bash/Shell/PowerShell']\n",
      "\n",
      "\n",
      "\n",
      "\n",
      "COLUMNA ---->  web_frameworks\n",
      "['React.js, JQuery, Spring', 'React.js, Express, Symfony', 'React.js, ASP.NET, Express', 'Angular, Angular.js, Spring', 'Angular, JQuery, Vue.js, Django, Laravel, Ruby on Rails, Gatsby', 'JQuery, ASP.NET', 'Angular.js, JQuery', 'Django', 'Angular, JQuery, ASP.NET, ASP.NET Core, Django', 'Angular, ASP.NET, ASP.NET Core', 'Angular.js, JQuery, ASP.NET, ASP.NET Core, Flask', 'React.js, JQuery, Express', 'JQuery', 'Angular, Angular.js, ASP.NET, ASP.NET Core', 'Vue.js, Django', 'Angular, JQuery, Spring', 'Vue.js', 'Express, Django', 'React.js, ASP.NET, ASP.NET Core, Vue.js, Spring, Laravel', 'Angular.js, JQuery, ASP.NET, ASP.NET Core, Spring', 'Angular, Angular.js, JQuery, Spring', 'React.js, JQuery, Express, Django', 'Angular, Angular.js, JQuery, Spring, Django', 'React.js, Angular, Angular.js, JQuery, Django, Laravel', 'ASP.NET, Spring, Django', 'Angular, JQuery, Express, Vue.js, Spring', 'Angular', 'Spring, Symfony', 'React.js, Express, Laravel', 'Vue.js, Ruby on Rails', 'React.js, Angular.js, JQuery, Vue.js, Django, Flask, Laravel, Ruby on Rails', 'JQuery, Spring, Django', 'ASP.NET Core', 'JQuery, ASP.NET, ASP.NET Core', 'Angular, Django', 'JQuery, Express', 'React.js, Angular, Angular.js, JQuery, ASP.NET, ASP.NET Core, Spring', 'React.js, Express, Spring, Django, Flask, Laravel', 'Angular, ASP.NET Core', 'Spring, CodeIgniter', 'React.js, Angular, Angular.js, Express, Django, Flask', 'JQuery, Vue.js, Spring, Laravel, CakePHP', 'React.js, JQuery, Express, Vue.js, Ruby on Rails', 'React.js, Angular, JQuery, Laravel, Symfony', 'ASP.NET, ASP.NET Core, Vue.js', 'React.js, Express, Flask', 'React.js, Express, Ruby on Rails', 'Angular, Laravel', 'React.js, Angular, Flask', 'JQuery, Spring', 'ASP.NET, ASP.NET Core', 'React.js, Angular, Angular.js', 'JQuery, Django', 'Vue.js, Laravel', 'React.js, JQuery, Express, Laravel, CodeIgniter', 'React.js, Angular, JQuery, ASP.NET, Express, Vue.js, Spring, Django, Flask, Laravel', 'React.js, Express, Spring, Laravel', 'JQuery, ASP.NET, ASP.NET Core, Spring', 'Angular, Express', 'React.js, Angular, Angular.js, Django, Flask, Laravel', 'Django, Flask, Laravel', 'React.js, ASP.NET, Django, Laravel', 'Ruby on Rails', 'ASP.NET', 'React.js, Angular, Angular.js, JQuery, Express, Vue.js, Spring, Flask', 'React.js, Angular.js, Django', 'React.js, ASP.NET, ASP.NET Core', 'Angular, Angular.js, JQuery, Vue.js, Spring, Django, Laravel, Symfony, CodeIgniter', 'React.js, Express', 'JQuery, Vue.js, Laravel', 'React.js, Angular.js, JQuery, Vue.js, Spring, Django, CodeIgniter', 'JQuery, Laravel, CakePHP', 'JQuery, Laravel, Ruby on Rails', 'Laravel, CodeIgniter', 'React.js, Angular.js, ASP.NET', 'Angular, Angular.js, JQuery', 'Laravel', 'Symfony', 'JQuery, Vue.js, Laravel, Symfony', 'React.js, JQuery, Express, Laravel, CakePHP', 'ASP.NET, Express, ASP.NET Core, Vue.js', 'React.js, Express, Vue.js, Flask', 'React.js, Express, Django, Flask', 'React.js, Express, Spring, Django, Flask', 'React.js, Ruby on Rails', 'Django, Flask', 'React.js, Angular.js, JQuery, Django', 'Angular, Vue.js, Django, Laravel', 'React.js, Angular, JQuery, Express, Spring, Laravel, Symfony, CodeIgniter', 'React.js, Angular, Express', 'JQuery, Django, Laravel', 'React.js', 'Spring, Laravel', 'React.js, Angular', 'ASP.NET, ASP.NET Core, Spring, Django, Flask', 'Angular.js, JQuery, Spring', 'Express, Vue.js', 'React.js, Express, Vue.js, Django', 'Express, Spring', 'JQuery, Vue.js, Laravel, CodeIgniter', 'React.js, Gatsby', 'JQuery, Laravel, CodeIgniter', 'Django, CakePHP', 'React.js, Angular.js, Spring', 'React.js, JQuery', 'React.js, Django, Flask', 'React.js, Angular, Angular.js, Spring', 'React.js, Django', 'Flask', 'Angular.js, JQuery, Vue.js, Laravel', 'React.js, Angular, Angular.js, JQuery, Vue.js, Django, Flask', 'Angular, Angular.js', 'Angular.js, Spring, Django', 'React.js, Express, Django', 'React.js, JQuery, ASP.NET, ASP.NET Core, Vue.js, Spring, Django, Flask', 'JQuery, ASP.NET, ASP.NET Core, Vue.js', 'ASP.NET, ASP.NET Core, Flask', 'JQuery, Express, Vue.js, Laravel', 'React.js, ASP.NET Core', 'React.js, Angular.js, Laravel', 'Spring, Django', 'Angular, Spring', 'React.js, Angular, Angular.js, JQuery, Spring', 'Spring, Django, Flask, Laravel', 'Spring', 'ASP.NET Core, Spring', 'React.js, Flask, Laravel', 'CakePHP', 'React.js, Angular, Angular.js, Vue.js, Spring', 'React.js, Angular.js, Express, Django', 'ASP.NET, ASP.NET Core, Spring', 'React.js, Angular, Spring', 'Angular.js, Spring', 'Vue.js, Spring', 'Spring, Django, Flask, Ruby on Rails', 'JQuery, Laravel', 'React.js, Spring', 'JQuery, Flask, Ruby on Rails', 'JQuery, Ruby on Rails', 'React.js, Laravel', 'React.js, JQuery, Vue.js, Spring, Laravel, CodeIgniter', 'Express']\n",
      "\n",
      "\n",
      "\n",
      "\n",
      "COLUMNA ---->  other_tools\n",
      "['Node.js, Flutter', 'Node.js, Pandas, React Native, Flutter, Cordova', 'Node.js, Pandas, TensorFlow, Hadoop, Puppet', 'Pandas, Ansible, Torch/PyTorch, Hadoop', 'TensorFlow, Flutter, Keras, Torch/PyTorch, Hadoop', 'Pandas, TensorFlow', 'Node.js, Pandas', '.NET, NET Core', '.NET, Pandas, Hadoop', 'Node.js, Ansible', 'Pandas, TensorFlow, Keras, Torch/PyTorch', 'Pandas', '.NET, NET Core, Flutter', 'Cordova', 'Node.js, Ansible, Puppet', 'Node.js, TensorFlow, Unity 3D, Cordova, Unreal Engine', '.NET, NET Core, Pandas, TensorFlow, Keras, Torch/PyTorch', 'Pandas, Torch/PyTorch', '.NET, Flutter', 'Node.js, Ansible, Puppet, Chef', 'React Native', 'Pandas, TensorFlow, Ansible, Keras, Torch/PyTorch', 'Node.js, Flutter, Cordova', '.NET, Unity 3D', 'Node.js, .NET', 'Pandas, TensorFlow, Torch/PyTorch', 'Ansible', 'Node.js, NET Core', '.NET, Flutter, Cordova', 'NET Core, TensorFlow, Torch/PyTorch', 'Node.js, .NET, NET Core, Pandas', 'Node.js, TensorFlow', 'Unity 3D', 'Node.js, React Native, Flutter', 'Node.js', 'React Native, Torch/PyTorch', '.NET, NET Core, Pandas', 'Flutter', 'Node.js, .NET, NET Core', 'Node.js, Keras', 'Node.js, React Native', 'Chef', 'TensorFlow', 'Node.js, Pandas, Hadoop', 'Flutter, Cordova', '.NET, React Native', '.NET', 'Pandas, Hadoop', 'Pandas, Flutter', 'Node.js, Cordova', 'Node.js, Pandas, TensorFlow, React Native, Torch/PyTorch', 'Node.js, .NET, Pandas', 'NET Core', 'Node.js, Pandas, TensorFlow, Puppet, Chef', '.NET, NET Core, TensorFlow', '.NET, NET Core, Xamarin', 'Node.js, .NET, NET Core, Flutter', 'Node.js, Pandas, TensorFlow, Flutter, Keras', 'Node.js, Pandas, Torch/PyTorch', 'Hadoop', 'Node.js, .NET, NET Core, React Native, Flutter', 'Node.js, Pandas, React Native, Cordova']\n",
      "\n",
      "\n",
      "\n",
      "\n",
      "COLUMNA ---->  databases\n",
      "['IBM DB2', 'PostgreSQL, Microsoft SQL Server', 'MySQL, PostgreSQL', 'MySQL, Cassandra, IBM DB2, Couchbase', 'MySQL, MariaDB, PostgreSQL, SQLite, MongoDB, Redis', 'Microsoft SQL Server, SQLite', 'MySQL, MariaDB, PostgreSQL, Microsoft SQL Server, MongoDB, DynamoDB', 'MySQL, MariaDB, PostgreSQL, SQLite, MongoDB, Redis, Firebase, Elasticsearch', 'MySQL, DynamoDB', 'Microsoft SQL Server', 'MySQL, PostgreSQL, Microsoft SQL Server, Oracle, Elasticsearch', 'Microsoft SQL Server, Oracle, IBM DB2', 'MySQL, MariaDB, MongoDB', 'MySQL, PostgreSQL, MongoDB, Oracle', 'Firebase', 'MySQL, PostgreSQL, MongoDB, DynamoDB', 'Microsoft SQL Server, Firebase', 'PostgreSQL, Redis, Oracle, Elasticsearch', 'PostgreSQL, Microsoft SQL Server, Oracle', 'MySQL, PostgreSQL, Redis', 'MySQL, MariaDB, PostgreSQL, Microsoft SQL Server, SQLite', 'MySQL, PostgreSQL, MongoDB, Redis', 'PostgreSQL, MongoDB, Oracle', 'PostgreSQL, Redis, IBM DB2', 'MySQL, MariaDB, PostgreSQL, Microsoft SQL Server, Oracle, IBM DB2', 'MySQL, MariaDB, PostgreSQL, SQLite, MongoDB, Elasticsearch', 'MySQL, MongoDB', 'MySQL, MariaDB, PostgreSQL, Microsoft SQL Server, SQLite, Oracle', 'MySQL, MariaDB, PostgreSQL, Oracle, DynamoDB', 'MySQL, PostgreSQL, SQLite, Elasticsearch', 'PostgreSQL, SQLite, MongoDB, Firebase', 'MySQL, PostgreSQL, Microsoft SQL Server, Oracle', 'MySQL, MariaDB, MongoDB, Firebase', 'MariaDB, PostgreSQL, SQLite, Oracle', 'MySQL, MariaDB, PostgreSQL, SQLite, Firebase', 'MySQL, MariaDB, PostgreSQL, Redis', 'MariaDB', 'MySQL, PostgreSQL, Microsoft SQL Server, MongoDB, Oracle', 'MySQL, MariaDB, PostgreSQL, SQLite, Oracle', 'Oracle', 'MariaDB, PostgreSQL, Microsoft SQL Server', 'PostgreSQL, Firebase', 'MySQL, MariaDB, PostgreSQL, Microsoft SQL Server, SQLite, MongoDB, Firebase', 'MySQL, Microsoft SQL Server, Oracle', 'PostgreSQL, MongoDB, Redis, Oracle', 'MySQL, MariaDB, PostgreSQL, Microsoft SQL Server, SQLite, MongoDB, Oracle, DynamoDB', 'MySQL, MariaDB, SQLite', 'MySQL, Microsoft SQL Server, SQLite', 'PostgreSQL, MongoDB, Redis', 'SQLite', 'MySQL, MariaDB, PostgreSQL, Microsoft SQL Server, MongoDB, Redis, Oracle, DynamoDB, Elasticsearch', 'MariaDB, Oracle', 'DynamoDB', 'PostgreSQL, MongoDB, Redis, Elasticsearch', 'MySQL, MariaDB, PostgreSQL, Microsoft SQL Server', 'MySQL, MariaDB, PostgreSQL', 'PostgreSQL, MongoDB', 'MariaDB, PostgreSQL, Microsoft SQL Server, SQLite, MongoDB', 'MySQL, MariaDB, PostgreSQL, Microsoft SQL Server, SQLite, MongoDB, Redis, Oracle, IBM DB2, Elasticsearch', 'PostgreSQL, SQLite, MongoDB, Redis, Firebase, Couchbase', 'Microsoft SQL Server, SQLite, MongoDB', 'MySQL, Firebase', 'MySQL', 'PostgreSQL, Microsoft SQL Server, MongoDB, Redis, Oracle, DynamoDB, Elasticsearch', 'PostgreSQL, Oracle, Firebase, Elasticsearch', 'Oracle, DynamoDB', 'MySQL, MariaDB, SQLite, MongoDB, Oracle', 'MySQL, SQLite, MongoDB', 'SQLite, Oracle', 'PostgreSQL, Microsoft SQL Server, SQLite, Oracle', 'MySQL, PostgreSQL, SQLite, Firebase', 'MySQL, DynamoDB, Elasticsearch', 'MySQL, PostgreSQL, MongoDB', 'PostgreSQL, Microsoft SQL Server, MongoDB', 'MySQL, MariaDB, MongoDB, Redis', 'MySQL, PostgreSQL, SQLite, MongoDB, Firebase, Cassandra', 'Microsoft SQL Server, Oracle', 'MySQL, MariaDB, PostgreSQL, MongoDB', 'PostgreSQL, Redis', 'PostgreSQL, SQLite', 'MySQL, PostgreSQL, Microsoft SQL Server, SQLite, MongoDB', 'MariaDB, PostgreSQL', 'MySQL, Elasticsearch', 'MySQL, MariaDB, PostgreSQL, SQLite, MongoDB, Firebase', 'PostgreSQL, SQLite, MongoDB, Redis, Oracle, Firebase', 'PostgreSQL, SQLite, Redis', 'SQLite, MongoDB', 'MySQL, PostgreSQL, MongoDB, Redis, DynamoDB', 'PostgreSQL, Microsoft SQL Server, SQLite, MongoDB, Redis', 'MySQL, MariaDB, PostgreSQL, DynamoDB', 'MySQL, PostgreSQL, Microsoft SQL Server, Firebase', 'MySQL, MariaDB, PostgreSQL, Redis, Oracle, Elasticsearch', 'MySQL, PostgreSQL, SQLite, MongoDB', 'MySQL, MariaDB, Microsoft SQL Server', 'PostgreSQL, Oracle', 'MySQL, MariaDB, PostgreSQL, Microsoft SQL Server, SQLite, Redis', 'MySQL, PostgreSQL, IBM DB2', 'PostgreSQL, IBM DB2', 'MySQL, MariaDB, PostgreSQL, MongoDB, Redis, Elasticsearch', 'MySQL, PostgreSQL, SQLite, Redis, DynamoDB', 'MySQL, Microsoft SQL Server', 'MySQL, PostgreSQL, SQLite, MongoDB, Redis', 'MySQL, MariaDB, PostgreSQL, Microsoft SQL Server, Redis', 'MySQL, PostgreSQL, MongoDB, Oracle, Elasticsearch', 'MySQL, MariaDB, PostgreSQL, SQLite, MongoDB', 'MySQL, MariaDB, PostgreSQL, Microsoft SQL Server, Oracle', 'PostgreSQL, SQLite, IBM DB2', 'PostgreSQL, Redis, DynamoDB', 'MySQL, PostgreSQL, Microsoft SQL Server, MongoDB, Firebase', 'MySQL, PostgreSQL, Microsoft SQL Server, SQLite, Firebase, Cassandra', 'PostgreSQL, Microsoft SQL Server, Oracle, IBM DB2, Elasticsearch', 'MySQL, PostgreSQL, Microsoft SQL Server', 'PostgreSQL, SQLite, MongoDB', 'PostgreSQL, Microsoft SQL Server, SQLite, MongoDB, Elasticsearch', 'MySQL, MariaDB, PostgreSQL, Microsoft SQL Server, SQLite, MongoDB, Redis, Oracle, Firebase, IBM DB2, Elasticsearch', 'MySQL, PostgreSQL, SQLite, MongoDB, Firebase', 'MySQL, MariaDB, PostgreSQL, Microsoft SQL Server, Redis, Oracle, Firebase, Elasticsearch', 'MongoDB', 'MySQL, MariaDB, PostgreSQL, MongoDB, Oracle', 'MySQL, Oracle', 'PostgreSQL, Microsoft SQL Server, SQLite, IBM DB2', 'PostgreSQL, Microsoft SQL Server, Firebase', 'PostgreSQL, Redis, Elasticsearch', 'MySQL, MariaDB, PostgreSQL, MongoDB, Redis, Firebase, Cassandra, Elasticsearch', 'MySQL, Microsoft SQL Server, Oracle, Cassandra', 'MySQL, PostgreSQL, SQLite', 'MySQL, Microsoft SQL Server, IBM DB2', 'Microsoft SQL Server, MongoDB', 'MySQL, PostgreSQL, Oracle', 'MariaDB, Microsoft SQL Server', 'MySQL, MariaDB, PostgreSQL, Microsoft SQL Server, SQLite, MongoDB, Redis, Oracle, Firebase, IBM DB2, Couchbase, Elasticsearch', 'MariaDB, Redis, Cassandra, Elasticsearch', 'MySQL, MariaDB, PostgreSQL, SQLite', 'PostgreSQL', 'MySQL, MariaDB', 'PostgreSQL, DynamoDB', 'MySQL, PostgreSQL, Microsoft SQL Server, SQLite, Oracle', 'MySQL, PostgreSQL, DynamoDB', 'MongoDB, Redis, Firebase', 'Redis, Oracle', 'PostgreSQL, Couchbase']\n",
      "\n",
      "\n",
      "\n",
      "\n",
      "COLUMNA ---->  platforms\n",
      "['GNU/Linux, Microsoft Windows, Docker, Azure, Microsoft Azure, Kubernetes', 'MacOS, WordPress', 'GNU/Linux, Microsoft Windows, Azure, Microsoft Azure', 'GNU/Linux, Docker', 'GNU/Linux, Microsoft Windows, Docker, AWS, Google Cloud Platform, Kubernetes', 'GNU/Linux, Microsoft Windows, Docker, AWS, Azure, Microsoft Azure, WordPress', 'Microsoft Windows, MacOS, Docker, AWS', 'Microsoft Windows, MacOS, Docker', 'Docker', 'Microsoft Windows, WordPress', 'GNU/Linux, Microsoft Windows, Docker, Azure, Kubernetes', 'Docker, Android, Kubernetes', 'GNU/Linux, Microsoft Windows, MacOS, AWS, Heroku', 'GNU/Linux, Microsoft Windows, Docker, Microsoft Azure', 'GNU/Linux, Docker, Android', 'GNU/Linux, Microsoft Windows, Docker, AWS, Android, Raspberry Pi, WordPress, Google Cloud Platform, Heroku', 'GNU/Linux, Microsoft Windows, MacOS, AWS, WordPress', 'GNU/Linux, Microsoft Windows, Docker, Google Cloud Platform', 'GNU/Linux, Microsoft Windows, MacOS, Android, WordPress', 'Microsoft Windows, MacOS', 'GNU/Linux, Docker, AWS, Azure, Android, Raspberry Pi, Kubernetes, Arduino', 'GNU/Linux, Microsoft Windows, MacOS, Docker, Android, Google Cloud Platform', 'GNU/Linux, Docker, Kubernetes', 'Microsoft Windows, Raspberry Pi, Google Cloud Platform', 'GNU/Linux, Microsoft Windows, Microsoft Azure', 'GNU/Linux, Microsoft Windows, Docker, Android, iOS', 'GNU/Linux, Microsoft Windows', 'GNU/Linux, Docker, WordPress', 'GNU/Linux, MacOS, AWS', 'GNU/Linux, Microsoft Windows, MacOS, Docker, AWS, Android, iOS, Kubernetes', 'MacOS, Android', 'GNU/Linux, Microsoft Windows, Docker, AWS, Android, Arduino', 'MacOS, Docker, AWS, Google Cloud Platform', 'Microsoft Windows, Docker', 'Microsoft Windows, Docker, Azure, Android, Microsoft Azure', 'GNU/Linux, Microsoft Windows, MacOS', 'GNU/Linux, Microsoft Windows, Docker, AWS', 'GNU/Linux, Microsoft Windows, MacOS, Docker, Android, WordPress, Google Cloud Platform, iOS', 'GNU/Linux, MacOS, Docker, AWS, Android, WordPress, iOS', 'MacOS, Docker, AWS', 'GNU/Linux, Microsoft Windows, AWS, Azure, Microsoft Azure, Google Cloud Platform, Heroku', 'GNU/Linux, Azure, Arduino', 'Raspberry Pi', 'GNU/Linux, Microsoft Windows, MacOS, Android, WordPress, Google Cloud Platform, iOS', 'MacOS, Docker, AWS, Android, iOS', 'MacOS', 'Docker, AWS, Microsoft Azure, Kubernetes', 'MacOS, Android, iOS', 'GNU/Linux, Microsoft Windows, Android, iOS, Arduino', 'GNU/Linux, Microsoft Windows, MacOS, Docker, AWS, Azure, Android, Raspberry Pi, Microsoft Azure, WordPress, iOS, Kubernetes, Arduino', 'GNU/Linux, Docker, AWS', 'Microsoft Windows, Docker, AWS', 'GNU/Linux, Microsoft Windows, WordPress', 'Microsoft Windows, Microsoft Azure, Kubernetes', 'Microsoft Windows, AWS, Azure, Microsoft Azure', 'GNU/Linux, Microsoft Windows, MacOS, Docker, AWS, Azure, Android, Microsoft Azure, Google Cloud Platform, iOS, Kubernetes', 'MacOS, iOS', 'Microsoft Windows, Azure', 'GNU/Linux, Docker, AWS, Android', 'GNU/Linux, Microsoft Windows, MacOS, Docker, Arduino', 'GNU/Linux, Android', 'GNU/Linux, MacOS, Docker, AWS, Azure, Android, Google Cloud Platform, iOS', 'Microsoft Windows, Docker, Kubernetes', 'GNU/Linux, Microsoft Windows, Raspberry Pi', 'GNU/Linux, Microsoft Windows, Kubernetes, Heroku', 'GNU/Linux, Microsoft Windows, MacOS, Docker, AWS, Android, Microsoft Azure, Google Cloud Platform, iOS, Kubernetes', 'MacOS, AWS', 'Microsoft Azure', 'GNU/Linux, MacOS, Docker, WordPress', 'Microsoft Windows, Docker, AWS, Google Cloud Platform, Kubernetes', 'Microsoft Windows, AWS', 'GNU/Linux, Docker, AWS, Azure, WordPress, Google Cloud Platform, Kubernetes', 'GNU/Linux, Microsoft Windows, Kubernetes', 'GNU/Linux, Microsoft Windows, MacOS, WordPress', 'Docker, AWS', 'GNU/Linux, Microsoft Windows, MacOS, Docker, Microsoft Azure, Google Cloud Platform', 'Microsoft Windows, MacOS, Android, iOS', 'MacOS, Docker, Android, iOS', 'GNU/Linux, Microsoft Windows, Docker, AWS, Azure', 'Microsoft Windows, MacOS, AWS, Azure, Kubernetes', 'GNU/Linux, Microsoft Windows, MacOS, Azure, Raspberry Pi, iOS', 'GNU/Linux, Microsoft Windows, MacOS, Docker, AWS', 'Microsoft Windows, Docker, Android, Kubernetes', 'GNU/Linux, Microsoft Windows, Docker, Android', 'Microsoft Windows, MacOS, Docker, Android, iOS, Heroku', 'MacOS, Docker, AWS, iOS', 'GNU/Linux, MacOS, Android, iOS', 'MacOS, Docker, AWS, Kubernetes', 'Microsoft Windows, Android', 'GNU/Linux, Microsoft Windows, Docker, AWS, Azure, Microsoft Azure', 'GNU/Linux, Microsoft Windows, MacOS, Docker, AWS, Android, WordPress, Google Cloud Platform', 'Android, iOS', 'GNU/Linux, MacOS, Docker, AWS, Android, Kubernetes', 'GNU/Linux', 'GNU/Linux, MacOS, Docker, AWS, Azure, Raspberry Pi', 'GNU/Linux, Microsoft Windows, Docker, Azure, Android, iOS, Kubernetes', 'Microsoft Windows, Docker, AWS, Kubernetes', 'GNU/Linux, Microsoft Windows, MacOS, Docker, AWS, Google Cloud Platform, Kubernetes, Heroku', 'GNU/Linux, MacOS, Docker, Kubernetes', 'GNU/Linux, AWS, Google Cloud Platform', 'GNU/Linux, Microsoft Windows, MacOS, Docker, Android', 'GNU/Linux, Microsoft Windows, Docker, iOS', 'GNU/Linux, Docker, AWS, Azure, Kubernetes', 'GNU/Linux, Microsoft Windows, MacOS, Docker, AWS, Azure, Microsoft Azure, Google Cloud Platform', 'GNU/Linux, Microsoft Windows, MacOS, AWS, Google Cloud Platform', 'GNU/Linux, MacOS, Docker, Azure, Microsoft Azure, Google Cloud Platform, Kubernetes', 'GNU/Linux, Microsoft Windows, MacOS, Docker, AWS, Google Cloud Platform', 'GNU/Linux, Microsoft Windows, AWS', 'GNU/Linux, Microsoft Windows, Docker, AWS, Android, iOS', 'GNU/Linux, Microsoft Windows, Docker, Kubernetes', 'Microsoft Windows, Docker, Azure, Microsoft Azure', 'GNU/Linux, MacOS, Docker, AWS', 'GNU/Linux, Microsoft Windows, Android', 'GNU/Linux, MacOS, Docker, Google Cloud Platform, iOS', 'GNU/Linux, Microsoft Windows, Docker', 'GNU/Linux, Kubernetes', 'GNU/Linux, MacOS', 'GNU/Linux, MacOS, Docker, AWS, WordPress, iOS', 'Microsoft Windows', 'GNU/Linux, MacOS, Docker, AWS, Kubernetes', 'MacOS, AWS, Android, iOS', 'GNU/Linux, Microsoft Windows, MacOS, Docker, Google Cloud Platform, Kubernetes', 'GNU/Linux, Microsoft Windows, MacOS, Docker, Android, Google Cloud Platform, iOS', 'GNU/Linux, Microsoft Windows, Docker, AWS, Kubernetes', 'GNU/Linux, Microsoft Windows, MacOS, iOS', 'GNU/Linux, AWS', 'GNU/Linux, MacOS, AWS, Kubernetes', 'GNU/Linux, Microsoft Windows, Docker, WordPress', 'MacOS, Docker, AWS, Azure, Kubernetes', 'Azure', 'Microsoft Windows, Docker, Android, Microsoft Azure, iOS', 'GNU/Linux, Microsoft Windows, MacOS, AWS', 'GNU/Linux, Microsoft Windows, Docker, Azure, Microsoft Azure', 'MacOS, Docker, AWS, Android, Kubernetes', 'GNU/Linux, Microsoft Windows, MacOS, Docker, AWS, Android, WordPress, iOS', 'MacOS, AWS, Azure, Android, iOS', 'AWS', 'Microsoft Windows, Android, WordPress, iOS', 'Docker, AWS, Android, iOS', 'GNU/Linux, Microsoft Windows, MacOS, Docker, Kubernetes', 'GNU/Linux, MacOS, Docker', 'GNU/Linux, Microsoft Windows, Docker, AWS, Android, WordPress', 'Microsoft Windows, MacOS, Docker, Android', 'MacOS, Android, Google Cloud Platform, iOS']\n",
      "\n",
      "\n",
      "\n",
      "\n",
      "COLUMNA ---->  fav_language\n",
      "['Dart', 'C++', 'Python', 'SQL', 'JavaScript', 'C', 'Otro', 'R', 'Swift', 'Kotlin', 'Go', 'Genexus', 'Oracle form', 'Java', 'Scala', 'C#', 'Rust', 'Ruby', 'TypeScript', 'Bash/Shell/PowerShell', 'COBOL', 'PHP', 'Fox Pro', 'RPG']\n",
      "\n",
      "\n",
      "\n",
      "\n",
      "COLUMNA ---->  least_fav_language\n",
      "['HTML/CSS', 'Dart', 'C++', 'Python', 'Oracle Forms', 'SQL', 'JavaScript', 'C', 'R', 'Kotlin', 'Genexus', 'VBA', 'Java', 'C#', 'Spring', 'Perl', 'Objective-C', 'Ruby', 'TypeScript', 'Bash/Shell/PowerShell', 'COBOL', 'Assembly', 'PHP', 'Fox Pro', 'RPG']\n",
      "\n",
      "\n",
      "\n",
      "\n",
      "COLUMNA ---->  fav_framework\n",
      "['Django', 'ASP.NET', 'Spring', 'Flask', 'Laravel', 'React.js', 'ASP.NET Core', 'CodeIgniter', 'JQuery', 'Express', 'Ruby on Rails', 'Angular.js', 'Angular', 'Vue.js']\n",
      "\n",
      "\n",
      "\n",
      "\n",
      "COLUMNA ---->  least_fav_framework\n",
      "['Django', 'ASP.NET', 'Angular', 'Spring', 'Flask', 'Laravel', 'React.js', 'ASP.NET Core', 'CodeIgniter', 'CakePHP', 'Angular.js', 'JQuery', 'Express', 'Gastby', 'Ruby on Rails', 'Vue.js']\n",
      "\n",
      "\n",
      "\n",
      "\n",
      "COLUMNA ---->  tools\n",
      "['Google Suite (Docs, Meet, etc), Trello, GitHub', 'Discord, GitLab, Microsoft Team, GitHub', 'Trello, Google Suite (Docs, Meet, etc), GitLab, Discord, Notion, GitHub, Jira, Slack', 'GitLab, GitHub, Google Suite (Docs, Meet, etc)', 'GitLab, Microsoft Team, Jira, Microsoft Azure, Google Suite (Docs, Meet, etc), Trello, GitHub, Slack, Discord, Confluence', 'GitLab, Microsoft Team, Jira', 'Google Suite (Docs, Meet, etc), GitHub, Microsoft Team', 'Jira, Microsoft Team, GitLab', 'Microsoft Team, Jira, Slack, Trello, Confluence', 'Slack, Confluence, Jira, Microsoft Team, GitLab', 'GitLab, Discord, Google Suite (Docs, Meet, etc), Notion, Trello, GitHub, Microsoft Team', 'Google Suite (Docs, Meet, etc), GitLab, GitHub', 'Microsoft Team, Slack, GitHub, Google Suite (Docs, Meet, etc), Confluence, Jira', 'GitHub, Notion, Slack, Jira', 'GitHub, Microsoft Team, Jira', 'Slack, Confluence, Google Suite (Docs, Meet, etc), Notion, GitHub, Jira', 'GitHub, GitLab, Slack, Jira, Confluence', 'Microsoft Team, Facebook Workplace, Slack, Jira, GitHub', 'Google Suite (Docs, Meet, etc), GitHub, Trello', 'GitHub, Slack, Trello, GitLab', 'GitLab, Slack', 'GitHub, Discord, GitLab, Jira, Confluence, Microsoft Team', 'Notion, Google Suite (Docs, Meet, etc), GitHub', 'Trello, Confluence, Google Suite (Docs, Meet, etc), GitHub, Microsoft Team, Jira', 'Google Suite (Docs, Meet, etc), Jira, Confluence', 'Trello, Slack, Google Suite (Docs, Meet, etc), Notion, GitHub, Jira, Discord', 'GitHub, Confluence, Slack, Google Suite (Docs, Meet, etc), Jira', 'Trello, Google Suite (Docs, Meet, etc), Microsoft Team, Jira', 'Slack, GitHub, Google Suite (Docs, Meet, etc), Microsoft Team, Jira', 'Discord, GitHub, Jira, Google Suite (Docs, Meet, etc)', 'Jira, Slack, Confluence, Microsoft Team, GitHub, Google Suite (Docs, Meet, etc)', 'Google Suite (Docs, Meet, etc), Slack, GitHub', 'Jira, Microsoft Team, Discord, GitLab, Microsoft Azure', 'Confluence, Jira, GitLab, Slack, Google Suite (Docs, Meet, etc), GitHub', 'Microsoft Azure, Discord, Jira, GitHub, Google Suite (Docs, Meet, etc)', 'Trello, GitHub, Jira', 'GitLab, Microsoft Team, Slack', 'Google Suite (Docs, Meet, etc), Slack, Confluence, Jira, Microsoft Team, Facebook Workplace, Discord, Trello, Notion, GitHub', 'Microsoft Team, Notion', 'Slack, Confluence, Jira, GitHub, Google Suite (Docs, Meet, etc), Facebook Workplace', 'Google Suite (Docs, Meet, etc), Confluence, Microsoft Team, Notion, GitHub, Slack, Discord, Jira, Facebook Workplace', 'Slack, Microsoft Team', 'Jira, GitHub, GitLab', 'Slack, Notion, GitHub, GitLab, Confluence, Google Suite (Docs, Meet, etc), Jira, Microsoft Team', 'Trello, Microsoft Team, Jira, Discord, GitLab, Slack, GitHub', 'GitHub, Microsoft Team, Trello', 'Notion, Google Suite (Docs, Meet, etc), GitHub, GitLab, Trello, Discord', 'Notion, GitLab, GitHub', 'Confluence, GitLab', 'GitHub, Google Suite (Docs, Meet, etc), Confluence, Jira', 'GitLab, Jira, Microsoft Team', 'Confluence, Jira, GitLab', 'Slack, Google Suite (Docs, Meet, etc)', 'GitHub, Microsoft Team, Confluence, Jira, Slack, Google Suite (Docs, Meet, etc), GitLab', 'Slack, GitHub, Confluence, Google Suite (Docs, Meet, etc), Jira', 'Jira, Google Suite (Docs, Meet, etc), Confluence, Slack', 'Microsoft Azure, GitHub, Microsoft Team', 'Notion, Microsoft Team, Google Suite (Docs, Meet, etc)', 'Jira, Google Suite (Docs, Meet, etc), Slack', 'GitHub, Slack, Google Suite (Docs, Meet, etc)', 'Confluence, Jira, Microsoft Team, GitLab, GitHub, Microsoft Azure', 'Trello, Microsoft Team', 'Google Suite (Docs, Meet, etc), Confluence, Jira, Slack', 'GitHub, Slack, Google Suite (Docs, Meet, etc), GitLab', 'GitHub, GitLab, Google Suite (Docs, Meet, etc)', 'Google Suite (Docs, Meet, etc), GitHub, Microsoft Team, Notion, GitLab, Jira', 'GitHub, Trello, Microsoft Team, Notion', 'Confluence, Facebook Workplace, Jira, Google Suite (Docs, Meet, etc), Slack, GitLab', 'Jira, GitHub, Slack, Confluence, Trello, GitLab', 'GitHub, Jira, Slack, Microsoft Team', 'Discord, Google Suite (Docs, Meet, etc)', 'Discord, Slack, Notion, Google Suite (Docs, Meet, etc), Jira, Microsoft Team, GitHub', 'Discord, GitHub', 'Notion, Google Suite (Docs, Meet, etc), Slack, GitHub, Jira, Discord', 'Slack, Google Suite (Docs, Meet, etc), Jira, GitHub', 'GitLab, Google Suite (Docs, Meet, etc)', 'GitHub, Trello, Slack, GitLab', 'GitHub, Trello', 'Microsoft Team, Google Suite (Docs, Meet, etc), GitLab, Slack, Jira', 'Confluence, Google Suite (Docs, Meet, etc), GitHub, Jira, Slack', 'Google Suite (Docs, Meet, etc), Notion, Jira, GitHub', 'Confluence, Google Suite (Docs, Meet, etc), GitLab, Slack, Jira, GitHub', 'Confluence, Trello, Slack, GitHub, GitLab, Google Suite (Docs, Meet, etc)', 'GitHub, Discord, Trello', 'GitLab, Microsoft Team, Google Suite (Docs, Meet, etc), GitHub', 'Jira, Slack, Google Suite (Docs, Meet, etc), GitHub', 'Google Suite (Docs, Meet, etc), Slack, Jira, GitHub', 'Jira, GitHub, Microsoft Azure, Facebook Workplace, Confluence, Microsoft Team', 'Slack, GitHub, Jira, Confluence, Google Suite (Docs, Meet, etc)', 'Slack, Google Suite (Docs, Meet, etc), GitLab', 'Slack, Google Suite (Docs, Meet, etc), Jira, GitLab', 'Google Suite (Docs, Meet, etc), Microsoft Azure, Slack', 'Microsoft Azure, Microsoft Team, Slack, GitLab', 'Notion, Slack', 'Jira, Confluence, Microsoft Team, Google Suite (Docs, Meet, etc), Slack, GitHub', 'Slack, Jira, Microsoft Team, GitHub', 'GitLab, Discord, GitHub, Microsoft Team', 'GitLab, Slack, Jira, Google Suite (Docs, Meet, etc), GitHub', 'GitLab', 'Microsoft Team, Discord, Notion', 'GitHub, Jira, Google Suite (Docs, Meet, etc), Slack, Confluence', 'GitHub, Google Suite (Docs, Meet, etc), Jira', 'Google Suite (Docs, Meet, etc), Microsoft Team, Slack, GitHub, Discord, Jira', 'Google Suite (Docs, Meet, etc), Jira, Confluence, GitLab, Slack, GitHub', 'Google Suite (Docs, Meet, etc), Slack, Trello, GitHub, Discord', 'GitHub, Google Suite (Docs, Meet, etc)', 'Microsoft Azure, Microsoft Team, Jira, Confluence, Google Suite (Docs, Meet, etc), GitHub, GitLab', 'Microsoft Team, Microsoft Azure, Slack, Jira', 'Microsoft Azure, Confluence, Microsoft Team, Jira', 'Microsoft Team, Google Suite (Docs, Meet, etc)', 'GitLab, GitHub, Notion', 'Jira, Microsoft Team, Slack, GitHub, Confluence', 'Trello, Microsoft Team, Jira, GitLab', 'Confluence, GitLab, Jira, Microsoft Team', 'Slack, Google Suite (Docs, Meet, etc), Jira, Notion, GitLab, Microsoft Team', 'Microsoft Team', 'Google Suite (Docs, Meet, etc), Notion, Discord, Slack, Trello, GitHub, Jira', 'Confluence, Jira, GitHub, Microsoft Azure, GitLab, Microsoft Team', 'Slack, Jira, Google Suite (Docs, Meet, etc), GitHub', 'Slack, Jira, Microsoft Team, GitHub, Google Suite (Docs, Meet, etc)', 'Google Suite (Docs, Meet, etc), Trello, Discord, Jira, GitHub, Confluence, GitLab', 'Trello, Microsoft Team, GitLab', 'GitLab, Microsoft Team, Microsoft Azure, Confluence, Jira, Slack', 'Google Suite (Docs, Meet, etc), Notion, Slack, Discord, GitHub', 'Jira, Microsoft Team, GitLab, Slack', 'Jira, GitLab, Confluence, Microsoft Team', 'Google Suite (Docs, Meet, etc), Trello, Jira, Slack', 'Microsoft Team, Notion, Google Suite (Docs, Meet, etc)', 'Google Suite (Docs, Meet, etc), Notion, Slack', 'Microsoft Azure, GitHub, Google Suite (Docs, Meet, etc), Trello, GitLab, Notion, Slack', 'Jira, Google Suite (Docs, Meet, etc), GitLab, Slack, Trello, GitHub', 'GitHub, Microsoft Team, Google Suite (Docs, Meet, etc), Confluence, Jira, GitLab, Microsoft Azure', 'Jira, GitLab, Microsoft Team, Microsoft Azure, Trello, Google Suite (Docs, Meet, etc), GitHub', 'Discord, GitLab', 'Notion, GitHub, Slack, Google Suite (Docs, Meet, etc), Jira', 'GitHub, Confluence, Jira, GitLab, Slack, Microsoft Team, Google Suite (Docs, Meet, etc)', 'GitHub, Slack, Microsoft Team', 'Jira, Slack, GitLab, Confluence, Microsoft Team', 'GitHub, Microsoft Team', 'Microsoft Team, GitHub, Discord, Trello, Notion', 'GitLab, GitHub, Jira, Google Suite (Docs, Meet, etc), Slack', 'Jira, Microsoft Team, Slack, Discord, GitLab, Confluence', 'Jira, GitHub, Google Suite (Docs, Meet, etc), Confluence, GitLab, Slack, Discord', 'Microsoft Team, GitLab', 'Trello, GitHub, Google Suite (Docs, Meet, etc)', 'GitHub, Jira, Google Suite (Docs, Meet, etc), Trello, Microsoft Team', 'Slack, Google Suite (Docs, Meet, etc), GitHub', 'Jira, Microsoft Azure, GitHub, Trello, Discord, Microsoft Team, Google Suite (Docs, Meet, etc), Confluence', 'Trello', 'Discord, GitLab, Google Suite (Docs, Meet, etc), Jira, GitHub', 'Confluence, Trello, Notion, GitHub, Jira, Google Suite (Docs, Meet, etc), Microsoft Azure, Slack', 'GitLab, Slack, Google Suite (Docs, Meet, etc)', 'GitLab, Microsoft Team, Google Suite (Docs, Meet, etc)', 'Jira, Confluence', 'GitHub, Slack', 'Trello, Confluence, GitHub, Jira, Discord, GitLab, Slack, Microsoft Team', 'GitLab, Google Suite (Docs, Meet, etc), Jira', 'Jira, GitHub, Confluence, Slack', 'Google Suite (Docs, Meet, etc), GitHub, Trello, Slack', 'Google Suite (Docs, Meet, etc), Slack, Trello, Jira, Discord', 'Google Suite (Docs, Meet, etc), GitHub, Jira, Trello, Confluence', 'Microsoft Team, Microsoft Azure, GitLab, Jira', 'Google Suite (Docs, Meet, etc), Jira, Slack, GitHub, Confluence, Microsoft Team', 'GitHub, Trello, Google Suite (Docs, Meet, etc), Jira, Notion, Slack', 'Slack, GitLab, GitHub, Confluence', 'Microsoft Team, GitHub, Google Suite (Docs, Meet, etc)', 'GitHub, Jira, Google Suite (Docs, Meet, etc), Confluence, Slack, Notion', 'GitLab, Slack, Trello, Confluence, GitHub, Jira, Google Suite (Docs, Meet, etc)', 'Jira, Google Suite (Docs, Meet, etc), Microsoft Team', 'Microsoft Team, GitHub, Discord', 'Jira, Trello, GitHub, Notion, Google Suite (Docs, Meet, etc), Discord', 'Notion, Slack, Confluence, GitHub, Discord, GitLab, Trello, Jira', 'Google Suite (Docs, Meet, etc), Microsoft Team, Trello', 'Discord, GitHub, Jira, Confluence, Slack', 'GitHub', 'Microsoft Team, GitLab, Jira', 'Slack, GitLab, Google Suite (Docs, Meet, etc), Microsoft Team, GitHub, Jira', 'Jira, Google Suite (Docs, Meet, etc), Slack, GitLab', 'Google Suite (Docs, Meet, etc), Discord, GitHub, GitLab, Trello', 'GitHub, Google Suite (Docs, Meet, etc), Microsoft Team, Jira', 'Jira, Microsoft Team, Slack, Google Suite (Docs, Meet, etc), GitLab, Confluence', 'Discord, GitHub, Google Suite (Docs, Meet, etc)', 'Jira, Notion, Slack, GitLab, Google Suite (Docs, Meet, etc)', 'Microsoft Team, Microsoft Azure, Discord, Notion', 'GitHub, Notion, Trello, Google Suite (Docs, Meet, etc)', 'GitLab, Google Suite (Docs, Meet, etc), GitHub', 'Microsoft Team, Jira, Slack, Confluence, Facebook Workplace, GitHub, Google Suite (Docs, Meet, etc)', 'Jira, GitHub', 'Trello, GitLab, Notion', 'Jira, Google Suite (Docs, Meet, etc), Microsoft Team, Slack, GitHub', 'Slack, GitHub', 'Confluence, Jira, Slack, Google Suite (Docs, Meet, etc), GitHub', 'Notion, Confluence, Slack, Google Suite (Docs, Meet, etc), GitLab, GitHub, Jira', 'Jira, Google Suite (Docs, Meet, etc), Slack, Notion', 'Slack, Jira, Google Suite (Docs, Meet, etc), Microsoft Team, GitLab', 'Microsoft Team, GitLab, Jira, Slack, Notion', 'Facebook Workplace, Confluence, Microsoft Team, Slack, GitLab, Discord, Jira, GitHub', 'Notion, GitHub, Microsoft Team', 'Confluence, Jira, Microsoft Team, GitLab', 'GitLab, Google Suite (Docs, Meet, etc), GitHub, Jira', 'Trello, Jira, GitLab', 'Microsoft Team, Microsoft Azure, Notion, Jira, GitHub', 'Google Suite (Docs, Meet, etc), Confluence, Slack, Jira, GitHub, Microsoft Azure', 'Notion, Trello, Jira, GitHub, Google Suite (Docs, Meet, etc), Discord', 'Slack, Jira, Google Suite (Docs, Meet, etc)', 'Microsoft Team, Jira', 'GitLab, Confluence, Microsoft Azure, Jira, GitHub, Microsoft Team', 'Confluence, Jira, Trello, GitLab, GitHub, Notion, Slack', 'Jira, GitLab, Slack', 'Google Suite (Docs, Meet, etc), GitLab', 'Notion, Discord, Confluence, GitLab, Google Suite (Docs, Meet, etc), Jira, Trello', 'GitLab, Microsoft Team, Google Suite (Docs, Meet, etc), GitHub, Jira', 'Confluence, GitLab, Microsoft Team', 'GitHub, Microsoft Azure, Slack, Notion, Google Suite (Docs, Meet, etc)', 'GitHub, GitLab', 'Microsoft Team, GitHub', 'Microsoft Team, Jira, Confluence', 'Jira, Microsoft Azure, Microsoft Team', 'Slack, Jira, Confluence, GitHub', 'Google Suite (Docs, Meet, etc), GitLab, Microsoft Team, GitHub', 'Trello, Google Suite (Docs, Meet, etc), GitHub', 'Jira, GitLab, Confluence, Google Suite (Docs, Meet, etc), Microsoft Team, GitHub', 'Microsoft Team, GitHub, Slack, Google Suite (Docs, Meet, etc), Jira', 'Slack', 'GitHub, Slack, GitLab, Microsoft Team, Google Suite (Docs, Meet, etc), Microsoft Azure', 'Jira, Microsoft Team, GitHub, Confluence', 'Google Suite (Docs, Meet, etc), Microsoft Team, GitLab, Jira, Confluence, Slack', 'Microsoft Azure, Microsoft Team', 'Slack, Confluence, GitHub, Google Suite (Docs, Meet, etc), Jira', 'Microsoft Team, Microsoft Azure, GitHub', 'GitHub, Discord, Slack, Confluence, Trello, GitLab', 'Confluence, GitHub, Slack, Jira', 'Notion, Google Suite (Docs, Meet, etc), Confluence, Microsoft Team', 'GitHub, Slack, Notion', 'Jira, Microsoft Team, Google Suite (Docs, Meet, etc)', 'Discord, Google Suite (Docs, Meet, etc), Trello, GitHub', 'GitLab, Jira, GitHub, Microsoft Azure, Trello', 'Jira', 'Confluence, GitHub, Facebook Workplace, Slack, GitLab, Google Suite (Docs, Meet, etc), Jira', 'Google Suite (Docs, Meet, etc), Microsoft Team', 'Microsoft Team, Microsoft Azure', 'Discord, Jira, Trello, GitHub, Slack', 'Jira, Google Suite (Docs, Meet, etc), GitHub, Slack, Confluence', 'Confluence, Slack, Microsoft Team, Jira, GitHub, Notion, Facebook Workplace', 'GitLab, Notion, Discord', 'GitHub, Notion', 'GitHub, Jira', 'Google Suite (Docs, Meet, etc), Slack, GitHub, GitLab', 'Slack, Notion, Jira, Google Suite (Docs, Meet, etc), GitHub', 'GitHub, GitLab, Microsoft Team', 'Discord, Trello, Slack, GitHub', 'Jira, Confluence, GitLab, Slack, Google Suite (Docs, Meet, etc)', 'Jira, GitHub, Confluence', 'Google Suite (Docs, Meet, etc), Trello', 'Microsoft Team, GitHub, Trello, Jira, Microsoft Azure', 'GitHub, Slack, Confluence, Notion, Facebook Workplace, Jira', 'Slack, GitHub, GitLab, Trello, Microsoft Team', 'Microsoft Team, GitLab, Google Suite (Docs, Meet, etc), Trello, Slack, Confluence, GitHub, Jira', 'Facebook Workplace, Google Suite (Docs, Meet, etc), Notion, Discord, Slack, GitLab, Confluence, GitHub, Jira', 'Google Suite (Docs, Meet, etc)', 'GitHub, Google Suite (Docs, Meet, etc), Discord', 'Microsoft Team, Trello', 'GitLab, Google Suite (Docs, Meet, etc), GitHub, Jira, Trello, Slack, Microsoft Team', 'Confluence, Slack, Jira, Discord, GitHub, Google Suite (Docs, Meet, etc)', 'Facebook Workplace, Jira, GitHub, Google Suite (Docs, Meet, etc), Slack, Confluence', 'Discord', 'Google Suite (Docs, Meet, etc), Confluence, Jira, Microsoft Team', 'Jira, GitLab, Slack, Trello', 'Notion, Jira, Confluence, GitLab, Discord', 'Slack, GitLab, Confluence, Jira, Google Suite (Docs, Meet, etc)', 'Confluence, GitLab, Jira, Slack, GitHub', 'Microsoft Team, Jira, Google Suite (Docs, Meet, etc)', 'Google Suite (Docs, Meet, etc), GitHub', 'Trello, GitLab, Confluence, Google Suite (Docs, Meet, etc), Slack, Jira', 'GitHub, Slack, Jira, Google Suite (Docs, Meet, etc), Confluence, Facebook Workplace', 'Jira, Google Suite (Docs, Meet, etc)', 'Slack, Trello, Microsoft Team, GitHub', 'GitLab, GitHub', 'Discord, GitHub, Notion', 'Confluence, Microsoft Team, Jira', 'Jira, Google Suite (Docs, Meet, etc), GitHub, Confluence', 'Google Suite (Docs, Meet, etc), Facebook Workplace, Slack, Discord, Confluence, GitHub', 'Google Suite (Docs, Meet, etc), GitLab, Slack', 'GitLab, GitHub, Notion, Discord, Google Suite (Docs, Meet, etc)', 'Microsoft Team, Jira, Confluence, Microsoft Azure, GitLab, Google Suite (Docs, Meet, etc)', 'Microsoft Team, GitHub, Jira', 'GitLab, Jira, Microsoft Team, Discord, Slack', 'GitHub, Jira, Slack', 'GitHub, Jira, GitLab', 'Jira, GitHub, Google Suite (Docs, Meet, etc)', 'GitHub, Google Suite (Docs, Meet, etc), Jira, Slack, GitLab', 'Microsoft Azure, GitLab, Jira, Notion, GitHub', 'Discord, GitLab, Google Suite (Docs, Meet, etc), Slack, Confluence, Jira', 'Confluence, Jira, GitLab, Slack', 'Google Suite (Docs, Meet, etc), Slack, GitHub, Jira, Confluence', 'Jira, Microsoft Team, Discord, GitHub', 'Trello, GitHub', 'GitLab, GitHub, Trello', 'Notion, Trello, GitLab', 'Trello, Microsoft Team, Jira', 'Slack, Trello, GitHub, Confluence', 'Jira, GitLab, Microsoft Team']\n",
      "\n",
      "\n",
      "\n",
      "\n",
      "COLUMNA ---->  use_AI_tools\n",
      "['Notion AI', 'AiDE', 'ChatGPT, AWS CodeWhisperer, Github Copilot, Notion AI, Bing AI, Google Bard', 'ChatGPT, Github Copilot, Notion AI, Bing AI', 'Bing AI, ChatGPT, Github Copilot', 'Codeium', 'Github Copilot, ChatGPT', 'ChatGPT, Github Copilot, Google Bard', 'Bing AI', 'Bing AI, Google Bard, ChatGPT, WolframAlpha, Notion AI', 'ChatGPT, Github Copilot', 'Notion AI, Github Copilot, ChatGPT', 'Claude', 'WolframAlpha, ChatGPT', 'ChatGPT, Bing AI, Google Bard', 'ChatGPT', 'ChatGPT, Google Bard, Github Copilot, Bing AI', 'Github Copilot, AWS CodeWhisperer, ChatGPT, Google Bard', 'ChatGPT, Bing AI, Github Copilot', 'Google Bard, Github Copilot, ChatGPT, Notion AI', 'Codium AI', 'ChatGPT, Google Bard, Bing AI, Github Copilot', 'Github Copilot, IntelliJ Assistant ', 'Github Copilot', 'ChatGPT, Genesis, Copilot', 'Bing AI, ChatGPT', 'ChatGPT, Unity Muse', 'ChatGPT, Google Bard, Github Copilot', 'Bing AI, Github Copilot', 'Github Copilot, ChatGPT, Google Bard', 'ChatGPT, Google Bard, CODEGEEX', 'Google Bard, ChatGPT, Bing AI', 'Google Bard', 'Google Bard, Bing AI, ChatGPT', 'Github Copilot, Notion AI, AWS CodeWhisperer', 'ChatGPT, Claude.ai', 'ChatGPT, Github Copilot, TabNine', 'Github Copilot, WolframAlpha', 'Talkai', 'Google Bard, Bing AI, ChatGPT, Claude.ai', 'ChatGPT, Google Bard', 'Bing AI, Github Copilot, ChatGPT', 'ChatGPT, Codeium', 'Bing AI, ChatGPT, AWS CodeWhisperer, Google Bard', 'Microsoft Copilot', 'Github Copilot, Notion AI, Google Bard, ChatGPT', 'Google Bard, ChatGPT, Notion AI', 'Google Bard, ChatGPT, Notion AI, Bing AI, Github Copilot', 'Bing AI, AWS CodeWhisperer, ChatGPT', 'WolframAlpha, Github Copilot', 'Github Copilot, Notion AI, ChatGPT', 'ChatGPT, Bing AI', 'Notion AI, ChatGPT, Bing AI', 'ChatGPT, Notion AI, Github Copilot', 'WolframAlpha, ChatGPT, Claude Ai', 'Github Copilot, Bing AI', 'ChatGPT, Google Bard, Bing AI', 'Google Bard, Google Geminis', 'Bing AI, ChatGPT, Notion AI', 'Google Bard, ChatGPT']\n",
      "\n",
      "\n",
      "\n",
      "\n",
      "COLUMNA ---->  AI_replace_dev\n",
      "['No', 'Sí', 'Puede ser, pero dentro de muchos años (más de 10)']\n",
      "\n",
      "\n",
      "\n",
      "\n",
      "COLUMNA ---->  layoffs_23_24\n",
      "['No', 'Sí']\n",
      "\n",
      "\n",
      "\n",
      "\n",
      "COLUMNA ---->  working_now\n",
      "['No', 'Sí']\n",
      "\n",
      "\n",
      "\n",
      "\n",
      "COLUMNA ---->  unemployed_duration\n",
      "['3 a 5 meses', '6 meses o más', 'menos de 3 meses']\n",
      "\n",
      "\n",
      "\n",
      "\n",
      "COLUMNA ---->  same_role\n",
      "['No', 'Sí']\n",
      "\n",
      "\n",
      "\n",
      "\n",
      "COLUMNA ---->  current_vs_prev_salary\n",
      "['casi igual', 'menor', 'mayor']\n",
      "\n",
      "\n",
      "\n",
      "\n"
     ]
    }
   ],
   "source": [
    "for i in df.columns:\n",
    "    print(\"COLUMNA ----> \", i)\n",
    "    print(eh.get_column_uniques(df, i))\n",
    "    print(\"\\n\" * 3)"
   ]
  },
  {
   "cell_type": "markdown",
   "id": "1ec91f35-3e69-4b2d-ab77-cdda220c3a77",
   "metadata": {},
   "source": [
    "# code_for_job\n"
   ]
  },
  {
   "cell_type": "code",
   "execution_count": 41,
   "id": "41c78971-1284-462f-b3b1-927ea250575c",
   "metadata": {},
   "outputs": [
    {
     "data": {
      "text/plain": [
       "['No', 'Sí']"
      ]
     },
     "execution_count": 41,
     "metadata": {},
     "output_type": "execute_result"
    }
   ],
   "source": [
    "eh.get_column_uniques(df, \"code_for_job\")"
   ]
  },
  {
   "cell_type": "code",
   "execution_count": 42,
   "id": "a8403fd4-6e98-4f32-b6a6-cc0c7306b39d",
   "metadata": {},
   "outputs": [],
   "source": [
    "r = {\n",
    "    \"Sí\": \"Yes\",\n",
    "}\n",
    "\n",
    "\n",
    "# Apply the replacement\n",
    "eh.replace_column_content(df, \"code_for_job\", r)"
   ]
  },
  {
   "cell_type": "code",
   "execution_count": 43,
   "id": "5a85a27a-d5d5-4555-8a63-9fab4d1c45ff",
   "metadata": {},
   "outputs": [
    {
     "data": {
      "text/plain": [
       "['Yes', 'No']"
      ]
     },
     "execution_count": 43,
     "metadata": {},
     "output_type": "execute_result"
    }
   ],
   "source": [
    "eh.get_column_uniques(df, \"code_for_job\")"
   ]
  },
  {
   "cell_type": "markdown",
   "id": "69cce210-b472-4331-840a-ed1aa1818c50",
   "metadata": {},
   "source": [
    "# IT_exp\n"
   ]
  },
  {
   "cell_type": "code",
   "execution_count": 44,
   "id": "c34eb474-aff1-473b-a553-a828bae241ca",
   "metadata": {},
   "outputs": [
    {
     "data": {
      "text/plain": [
       "['Más de 26 años',\n",
       " '3 a 5 años',\n",
       " 'Menos de 1 año',\n",
       " '13 a 17 años',\n",
       " '6 a 9 años',\n",
       " '18 a 25 años',\n",
       " '10 a 12 años',\n",
       " '1 a 2 años']"
      ]
     },
     "execution_count": 44,
     "metadata": {},
     "output_type": "execute_result"
    }
   ],
   "source": [
    "eh.get_column_uniques(df, \"IT_exp\")"
   ]
  },
  {
   "cell_type": "code",
   "execution_count": 45,
   "id": "2a30d47a-5a8d-46bf-9dd3-93439758ef38",
   "metadata": {},
   "outputs": [],
   "source": [
    "experience_ranges = {\n",
    "    \"Menos de 1 año\": \"<1 year\",\n",
    "    \"1 a 2 años\": \"1_2 years\",\n",
    "    \"Más de 26 años\": \"26+ years\",\n",
    "    \"18 a 25 años\": \"18_25 years\",\n",
    "    \"13 a 17 años\": \"13_17 years\",\n",
    "    \"3 a 5 años\": \"3_5 years\",\n",
    "    \"10 a 12 años\": \"10_12 years\",\n",
    "    \"6 a 9 años\": \"6_9 years\",\n",
    "}\n",
    "# Apply the replacement\n",
    "eh.replace_column_content(df, \"IT_exp\", experience_ranges)"
   ]
  },
  {
   "cell_type": "code",
   "execution_count": 46,
   "id": "2eb96087-33cc-4a28-acd7-1340a19233a4",
   "metadata": {},
   "outputs": [
    {
     "data": {
      "text/plain": [
       "['13_17 years',\n",
       " '10_12 years',\n",
       " '26+ years',\n",
       " '1_2 years',\n",
       " '<1 year',\n",
       " '18_25 years',\n",
       " '3_5 years',\n",
       " '6_9 years']"
      ]
     },
     "execution_count": 46,
     "metadata": {},
     "output_type": "execute_result"
    }
   ],
   "source": [
    "eh.get_column_uniques(df, \"IT_exp\")"
   ]
  },
  {
   "cell_type": "markdown",
   "id": "c7bfe2c2-c8a2-4d31-ae32-1b152c1b0864",
   "metadata": {},
   "source": [
    "# prof_prog_exp\n"
   ]
  },
  {
   "cell_type": "code",
   "execution_count": 47,
   "id": "dccb40c9-8860-4202-b329-54ad4e5f186f",
   "metadata": {},
   "outputs": [
    {
     "data": {
      "text/plain": [
       "['más de 26 años',\n",
       " '3 a 5 años',\n",
       " '10 a 12 años',\n",
       " 'Menos de 1 año',\n",
       " '6 a 9 años',\n",
       " '18 a 25 años',\n",
       " '13 a 17 años',\n",
       " '1 a 2 años']"
      ]
     },
     "execution_count": 47,
     "metadata": {},
     "output_type": "execute_result"
    }
   ],
   "source": [
    "eh.get_column_uniques(df, \"prof_prog_exp\")"
   ]
  },
  {
   "cell_type": "code",
   "execution_count": 48,
   "id": "c0f9c999-a782-4b3d-9099-173f6f263f4d",
   "metadata": {},
   "outputs": [],
   "source": [
    "prof_experience_ranges = {\n",
    "    \"Menos de 1 año\": \"<1 year\",\n",
    "    \"1 a 2 años\": \"1_2 years\",\n",
    "    \"18 a 25 años\": \"18_25 years\",\n",
    "    \"13 a 17 años\": \"13_17 years\",\n",
    "    \"más de 26 años\": \"26+ years\",\n",
    "    \"3 a 5 años\": \"3_5 years\",\n",
    "    \"10 a 12 años\": \"10_12 years\",\n",
    "    \"6 a 9 años\": \"6_9 years\",\n",
    "}\n",
    "\n",
    "# Apply the replacement\n",
    "eh.replace_column_content(df, \"prof_prog_exp\", prof_experience_ranges)"
   ]
  },
  {
   "cell_type": "code",
   "execution_count": 49,
   "id": "c812a3ce-6181-4aff-a9a9-cc00cb963e4f",
   "metadata": {},
   "outputs": [
    {
     "data": {
      "text/plain": [
       "['13_17 years',\n",
       " '10_12 years',\n",
       " '26+ years',\n",
       " '1_2 years',\n",
       " '<1 year',\n",
       " '18_25 years',\n",
       " '3_5 years',\n",
       " '6_9 years']"
      ]
     },
     "execution_count": 49,
     "metadata": {},
     "output_type": "execute_result"
    }
   ],
   "source": [
    "eh.get_column_uniques(df, \"prof_prog_exp\")"
   ]
  },
  {
   "cell_type": "markdown",
   "id": "7ee7f0a7-65c6-4611-80c2-2b7d72f0282c",
   "metadata": {},
   "source": [
    "# first_code\n"
   ]
  },
  {
   "cell_type": "code",
   "execution_count": 50,
   "id": "018df106-2660-4b38-ae25-169fb3554c11",
   "metadata": {},
   "outputs": [
    {
     "data": {
      "text/plain": [
       "['más de 30 años',\n",
       " '18 a 19 años',\n",
       " '26 a 27 años',\n",
       " '22 a 23 años',\n",
       " '10 a 11 años',\n",
       " '14 a 15 años',\n",
       " '16 a 17 años',\n",
       " '28 a 29 años',\n",
       " '24 a 25 años',\n",
       " 'Menos de 10 años',\n",
       " '20 a 21 años',\n",
       " '12 a 13 años']"
      ]
     },
     "execution_count": 50,
     "metadata": {},
     "output_type": "execute_result"
    }
   ],
   "source": [
    "eh.get_column_uniques(df, \"first_code\")"
   ]
  },
  {
   "cell_type": "code",
   "execution_count": 51,
   "id": "6a8455ee-edf6-424f-a416-5a1695f3d10b",
   "metadata": {},
   "outputs": [],
   "source": [
    "first_line_years = {\n",
    "    \"16 a 17 años\": \"16_17 years\",\n",
    "    \"12 a 13 años\": \"12_13 years\",\n",
    "    \"14 a 15 años\": \"14_15 years\",\n",
    "    \"Menos de 10 años\": \"<10 years\",\n",
    "    \"10 a 11 años\": \"10_11 years\",\n",
    "    \"más de 30 años\": \"30+ years\",\n",
    "    \"26 a 27 años\": \"26_27 years\",\n",
    "    \"28 a 29 años\": \"28_29 years\",\n",
    "    \"22 a 23 años\": \"22_23 years\",\n",
    "    \"20 a 21 años\": \"20_21 years\",\n",
    "    \"24 a 25 años\": \"24_25 years\",\n",
    "    \"18 a 19 años\": \"18_19 years\",\n",
    "}\n",
    "# Apply the replacement\n",
    "eh.replace_column_content(df, \"first_code\", first_line_years)"
   ]
  },
  {
   "cell_type": "code",
   "execution_count": 52,
   "id": "28eab531-ed7b-456b-9cdb-79ae4dfb8c06",
   "metadata": {},
   "outputs": [
    {
     "data": {
      "text/plain": [
       "['18_19 years',\n",
       " '12_13 years',\n",
       " '16_17 years',\n",
       " '10_11 years',\n",
       " '<10 years',\n",
       " '14_15 years',\n",
       " '24_25 years',\n",
       " '26_27 years',\n",
       " '28_29 years',\n",
       " '20_21 years',\n",
       " '30+ years',\n",
       " '22_23 years']"
      ]
     },
     "execution_count": 52,
     "metadata": {},
     "output_type": "execute_result"
    }
   ],
   "source": [
    "eh.get_column_uniques(df, \"first_code\")"
   ]
  },
  {
   "cell_type": "markdown",
   "id": "0043f9b5-4b62-4764-968a-92fceb979e26",
   "metadata": {},
   "source": [
    "# formal_edu\n"
   ]
  },
  {
   "cell_type": "code",
   "execution_count": 53,
   "id": "1f2243bb-863b-49c2-b798-f498df11364c",
   "metadata": {},
   "outputs": [
    {
     "data": {
      "text/plain": [
       "['Título de Grado (licenciatura, ingeniería, etc.)',\n",
       " 'Doctorado',\n",
       " 'Educación Media',\n",
       " 'Máster']"
      ]
     },
     "execution_count": 53,
     "metadata": {},
     "output_type": "execute_result"
    }
   ],
   "source": [
    "eh.get_column_uniques(df, \"formal_edu\")"
   ]
  },
  {
   "cell_type": "code",
   "execution_count": 54,
   "id": "3d2b14e2-3347-46ae-906c-8ef826ece326",
   "metadata": {},
   "outputs": [],
   "source": [
    "education_levels = {\n",
    "    \"Educación Media\": \"high_school\",\n",
    "    \"Doctorado\": \"doctorate\",\n",
    "    \"Máster\": \"master\",\n",
    "    \"Título de Grado (licenciatura, ingeniería, etc.)\": \"bachelor_degree\",\n",
    "}"
   ]
  },
  {
   "cell_type": "code",
   "execution_count": 55,
   "id": "95c1c994-c00e-4f87-a1f5-af8c4dc55372",
   "metadata": {},
   "outputs": [],
   "source": [
    "eh.replace_column_content(df, \"formal_edu\", education_levels)"
   ]
  },
  {
   "cell_type": "markdown",
   "id": "582771ff-9150-4b62-8471-732f93ece52f",
   "metadata": {},
   "source": [
    "# formal_edu_importance\n"
   ]
  },
  {
   "cell_type": "code",
   "execution_count": 56,
   "id": "d41930c9-a9a4-475c-9169-030ee45602f3",
   "metadata": {},
   "outputs": [
    {
     "data": {
      "text/plain": [
       "['Crítico',\n",
       " 'Más o menos importante',\n",
       " 'Bastante importante',\n",
       " 'Muy importante',\n",
       " 'No importa, no es necesario']"
      ]
     },
     "execution_count": 56,
     "metadata": {},
     "output_type": "execute_result"
    }
   ],
   "source": [
    "eh.get_column_uniques(df, \"formal_edu_importance\")"
   ]
  },
  {
   "cell_type": "code",
   "execution_count": 57,
   "id": "58de9ef0-e9f1-46ca-9a5b-095e7602aa58",
   "metadata": {},
   "outputs": [],
   "source": [
    "importance_levels = {\n",
    "    \"Bastante importante\": \"quite_important\",\n",
    "    \"Más o menos importante\": \"somewhat_important\",\n",
    "    \"No importa, no es necesario\": \"not_important\",\n",
    "    \"Crítico\": \"critical\",\n",
    "    \"Muy importante\": \"very_important\",\n",
    "}"
   ]
  },
  {
   "cell_type": "code",
   "execution_count": 58,
   "id": "e6ca0cf6-da3a-4055-97d1-356a87f06e93",
   "metadata": {},
   "outputs": [],
   "source": [
    "# Apply the replacement\n",
    "eh.replace_column_content(df, \"formal_edu_importance\", importance_levels)"
   ]
  },
  {
   "cell_type": "markdown",
   "id": "30f9f357-6732-4fd1-9f9e-3230d7a6fefa",
   "metadata": {},
   "source": [
    "# gender\n"
   ]
  },
  {
   "cell_type": "code",
   "execution_count": 59,
   "id": "7cdc93d1-e476-4e29-8867-b11247b7cfa5",
   "metadata": {},
   "outputs": [
    {
     "data": {
      "text/plain": [
       "['Mujer', 'Prefiero no compartir', 'Hombre']"
      ]
     },
     "execution_count": 59,
     "metadata": {},
     "output_type": "execute_result"
    }
   ],
   "source": [
    "eh.get_column_uniques(df, \"gender\")"
   ]
  },
  {
   "cell_type": "code",
   "execution_count": 60,
   "id": "70079447-c2ce-45bf-9b4e-874b8749d7f0",
   "metadata": {},
   "outputs": [],
   "source": [
    "gender_options = {\n",
    "    \"Hombre\": \"male\",\n",
    "    \"Mujer\": \"female\",\n",
    "    \"Prefiero no compartir\": \"prefer_not_to_say\",\n",
    "}"
   ]
  },
  {
   "cell_type": "code",
   "execution_count": 61,
   "id": "29a71248-f4e0-42af-973b-07581a1a576b",
   "metadata": {},
   "outputs": [],
   "source": [
    "# Apply the replacement\n",
    "eh.replace_column_content(df, \"gender\", gender_options)"
   ]
  },
  {
   "cell_type": "code",
   "execution_count": null,
   "id": "797f7d87-6c6e-4ce1-ad71-277d32bd64dd",
   "metadata": {},
   "outputs": [],
   "source": []
  },
  {
   "cell_type": "code",
   "execution_count": null,
   "id": "d290f2d8-102a-4ca8-adf6-90e95c6d23fe",
   "metadata": {},
   "outputs": [],
   "source": []
  },
  {
   "cell_type": "markdown",
   "id": "951155f8-15f0-4800-817b-70c40002d105",
   "metadata": {},
   "source": [
    "# age\n"
   ]
  },
  {
   "cell_type": "code",
   "execution_count": 62,
   "id": "c5877992-9094-417d-8a24-91f3e3ebca9a",
   "metadata": {},
   "outputs": [
    {
     "data": {
      "text/plain": [
       "['Más de 60 años',\n",
       " '30 a 34 años',\n",
       " '55 a 59 años',\n",
       " '15 a 19 años',\n",
       " '50 a 54 años',\n",
       " '20 a 24 años',\n",
       " '40 a 44 años',\n",
       " '35 a 39 años',\n",
       " '25 a 29 años',\n",
       " '45 a 49 años']"
      ]
     },
     "execution_count": 62,
     "metadata": {},
     "output_type": "execute_result"
    }
   ],
   "source": [
    "eh.get_column_uniques(df, \"age\")"
   ]
  },
  {
   "cell_type": "code",
   "execution_count": 63,
   "id": "449011a0-70b9-4ae1-ac05-94ce87a8ae89",
   "metadata": {},
   "outputs": [],
   "source": [
    "age_ranges = {\n",
    "    \"50 a 54 años\": \"50_54 years\",\n",
    "    \"Más de 60 años\": \"60+ years\",\n",
    "    \"55 a 59 años\": \"55_59 years\",\n",
    "    \"45 a 49 años\": \"45_49 years\",\n",
    "    \"15 a 19 años\": \"15_19 years\",\n",
    "    \"35 a 39 años\": \"35_39 years\",\n",
    "    \"40 a 44 años\": \"40_44 years\",\n",
    "    \"20 a 24 años\": \"20_24 years\",\n",
    "    \"25 a 29 años\": \"25_29 years\",\n",
    "    \"30 a 34 años\": \"30_34 years\",\n",
    "}"
   ]
  },
  {
   "cell_type": "code",
   "execution_count": 64,
   "id": "a658cb76-5754-4aef-a760-346a3f668a4d",
   "metadata": {},
   "outputs": [],
   "source": [
    "# Apply the replacement\n",
    "eh.replace_column_content(df, \"age\", age_ranges)"
   ]
  },
  {
   "cell_type": "code",
   "execution_count": 65,
   "id": "80b41e00-b53b-4de0-bc58-adf31bf0b2f6",
   "metadata": {},
   "outputs": [
    {
     "data": {
      "text/plain": [
       "['20_24 years',\n",
       " '50_54 years',\n",
       " '30_34 years',\n",
       " '55_59 years',\n",
       " '15_19 years',\n",
       " '35_39 years',\n",
       " '45_49 years',\n",
       " '60+ years',\n",
       " '40_44 years',\n",
       " '25_29 years']"
      ]
     },
     "execution_count": 65,
     "metadata": {},
     "output_type": "execute_result"
    }
   ],
   "source": [
    "eh.get_column_uniques(df, \"age\")"
   ]
  },
  {
   "cell_type": "code",
   "execution_count": null,
   "id": "fcc6504c-5d6c-478f-b0dd-928277f6869d",
   "metadata": {},
   "outputs": [],
   "source": []
  },
  {
   "cell_type": "markdown",
   "id": "df69837f-80c7-48b8-b443-6c270ac2cc11",
   "metadata": {},
   "source": [
    "# AI_replace_dev\n"
   ]
  },
  {
   "cell_type": "code",
   "execution_count": 66,
   "id": "6d1e0829-5a36-47ce-9d97-92cc6a20a530",
   "metadata": {},
   "outputs": [
    {
     "data": {
      "text/plain": [
       "['No', 'Sí', 'Puede ser, pero dentro de muchos años (más de 10)']"
      ]
     },
     "execution_count": 66,
     "metadata": {},
     "output_type": "execute_result"
    }
   ],
   "source": [
    "eh.get_column_uniques(df, \"AI_replace_dev\")"
   ]
  },
  {
   "cell_type": "code",
   "execution_count": 67,
   "id": "963ca36d-7811-43e9-ae00-bbdbaf20c062",
   "metadata": {},
   "outputs": [],
   "source": [
    "ai_replace_options = {\n",
    "    \"Sí\": \"yes\",\n",
    "    \"No\": \"no\",\n",
    "    \"Puede ser, pero dentro de muchos años (más de 10)\": \"maybe_in_10+_years\",\n",
    "}"
   ]
  },
  {
   "cell_type": "code",
   "execution_count": 68,
   "id": "f0cbeb8f-623e-47ba-8478-3e040f846c06",
   "metadata": {},
   "outputs": [],
   "source": [
    "eh.replace_column_content(df, \"AI_replace_dev\", ai_replace_options)"
   ]
  },
  {
   "cell_type": "code",
   "execution_count": null,
   "id": "729bcd19-df5c-43f3-8fda-4218433b869c",
   "metadata": {},
   "outputs": [],
   "source": []
  },
  {
   "cell_type": "markdown",
   "id": "5f868bd5-ddf0-43cc-a7f3-344def9ba518",
   "metadata": {},
   "source": [
    "# layoffs_23_24\n"
   ]
  },
  {
   "cell_type": "code",
   "execution_count": 69,
   "id": "5d2a4148-9268-4e37-b76a-6d6676e7ac21",
   "metadata": {},
   "outputs": [
    {
     "data": {
      "text/plain": [
       "['No', 'Sí']"
      ]
     },
     "execution_count": 69,
     "metadata": {},
     "output_type": "execute_result"
    }
   ],
   "source": [
    "eh.get_column_uniques(df, \"layoffs_23_24\")"
   ]
  },
  {
   "cell_type": "code",
   "execution_count": 70,
   "id": "4a81294c-3ede-41f6-a28f-925aff4a58fd",
   "metadata": {},
   "outputs": [],
   "source": [
    "yes_no_options = {\n",
    "    \"Sí\": \"yes\",\n",
    "    \"No\": \"no\",\n",
    "}"
   ]
  },
  {
   "cell_type": "code",
   "execution_count": 71,
   "id": "13819270-3140-4627-97db-7f24ca0566f8",
   "metadata": {},
   "outputs": [],
   "source": [
    "eh.replace_column_content(df, \"layoffs_23_24\", yes_no_options)"
   ]
  },
  {
   "cell_type": "markdown",
   "id": "f75cb1ba-a1f4-4128-8382-9e749c4fe17d",
   "metadata": {},
   "source": [
    "# working_now\n"
   ]
  },
  {
   "cell_type": "code",
   "execution_count": 72,
   "id": "5374d6ed-fd97-4d02-a517-0dd01b51c730",
   "metadata": {},
   "outputs": [
    {
     "data": {
      "text/plain": [
       "['No', 'Sí']"
      ]
     },
     "execution_count": 72,
     "metadata": {},
     "output_type": "execute_result"
    }
   ],
   "source": [
    "eh.get_column_uniques(df, \"working_now\")"
   ]
  },
  {
   "cell_type": "code",
   "execution_count": 73,
   "id": "43b4c847-a5d4-4301-aa99-e3ccea2181b8",
   "metadata": {},
   "outputs": [],
   "source": [
    "eh.replace_column_content(df, \"working_now\", yes_no_options)"
   ]
  },
  {
   "cell_type": "markdown",
   "id": "e307e6aa-89a2-4bc5-b594-f41978e450ea",
   "metadata": {},
   "source": [
    "# unemployed_duration\n"
   ]
  },
  {
   "cell_type": "code",
   "execution_count": 74,
   "id": "7ec0172b-28a1-4ca6-901e-ccad6be92790",
   "metadata": {},
   "outputs": [
    {
     "data": {
      "text/plain": [
       "['3 a 5 meses', '6 meses o más', 'menos de 3 meses']"
      ]
     },
     "execution_count": 74,
     "metadata": {},
     "output_type": "execute_result"
    }
   ],
   "source": [
    "eh.get_column_uniques(df, \"unemployed_duration\")"
   ]
  },
  {
   "cell_type": "code",
   "execution_count": 75,
   "id": "50721eeb-5af3-4ed4-a01c-052045ac9543",
   "metadata": {},
   "outputs": [],
   "source": [
    "unemp_time_ranges = {\n",
    "    \"3 a 5 meses\": \"3_5_months\",\n",
    "    \"6 meses o más\": \"6+_months\",\n",
    "    \"menos de 3 meses\": \"<3_months\",\n",
    "}"
   ]
  },
  {
   "cell_type": "code",
   "execution_count": 76,
   "id": "38a80de4-4f97-4ce1-b633-919b0b7ad664",
   "metadata": {},
   "outputs": [],
   "source": [
    "eh.replace_column_content(df, \"unemployed_duration\", unemp_time_ranges)"
   ]
  },
  {
   "cell_type": "markdown",
   "id": "b4f22a3b-c68a-46ad-8852-104d7e1cdd7d",
   "metadata": {},
   "source": [
    "# same_role\n"
   ]
  },
  {
   "cell_type": "code",
   "execution_count": 77,
   "id": "65f33322-8f8d-46b4-a414-b8fce986657d",
   "metadata": {},
   "outputs": [
    {
     "data": {
      "text/plain": [
       "['No', 'Sí']"
      ]
     },
     "execution_count": 77,
     "metadata": {},
     "output_type": "execute_result"
    }
   ],
   "source": [
    "eh.get_column_uniques(df, \"same_role\")"
   ]
  },
  {
   "cell_type": "code",
   "execution_count": 78,
   "id": "530a1fba-9e30-493c-aa06-d430eadbffdd",
   "metadata": {},
   "outputs": [],
   "source": [
    "eh.replace_column_content(df, \"same_role\", yes_no_options)"
   ]
  },
  {
   "cell_type": "code",
   "execution_count": null,
   "id": "2255028d-d2f8-447e-aae7-e89ab5a23af5",
   "metadata": {},
   "outputs": [],
   "source": []
  },
  {
   "cell_type": "markdown",
   "id": "34c6d117-f139-444a-bc24-e4cd33b9eeca",
   "metadata": {},
   "source": [
    "# current_vs_prev_salary"
   ]
  },
  {
   "cell_type": "code",
   "execution_count": 79,
   "id": "e9481d19-a65c-46df-a1c1-cf2b09aabd3e",
   "metadata": {},
   "outputs": [
    {
     "data": {
      "text/plain": [
       "['casi igual', 'menor', 'mayor']"
      ]
     },
     "execution_count": 79,
     "metadata": {},
     "output_type": "execute_result"
    }
   ],
   "source": [
    "eh.get_column_uniques(df, \"current_vs_prev_salary\")"
   ]
  },
  {
   "cell_type": "code",
   "execution_count": null,
   "id": "69b221e8-551f-44b1-8fec-126baedc42ea",
   "metadata": {},
   "outputs": [],
   "source": []
  },
  {
   "cell_type": "code",
   "execution_count": 80,
   "id": "16e06d6d-6b4b-4ea0-a0b3-dcaaaefc497c",
   "metadata": {},
   "outputs": [],
   "source": [
    "curr_vs_prev_content = {\n",
    "    \"mayor\": \"higher\",\n",
    "    \"menor\": \"lower\",\n",
    "    \"casi igual\": \"almost_equal\",\n",
    "}"
   ]
  },
  {
   "cell_type": "code",
   "execution_count": 81,
   "id": "56efea8d-752a-41c8-ac28-2bce9aa788c1",
   "metadata": {},
   "outputs": [],
   "source": [
    "eh.replace_column_content(df, \"current_vs_prev_salary\", curr_vs_prev_content)"
   ]
  },
  {
   "cell_type": "code",
   "execution_count": 82,
   "id": "a60c8f27-55a7-4d61-bb41-c139634fb5c5",
   "metadata": {},
   "outputs": [
    {
     "data": {
      "text/plain": [
       "Index(['lower', 'higher', 'almost_equal'], dtype='object', name='current_vs_prev_salary')"
      ]
     },
     "execution_count": 82,
     "metadata": {},
     "output_type": "execute_result"
    }
   ],
   "source": [
    "df[\"current_vs_prev_salary\"].value_counts().keys()"
   ]
  },
  {
   "cell_type": "code",
   "execution_count": null,
   "id": "5eb83287-b06f-4582-aa22-5f9155a8bcc9",
   "metadata": {},
   "outputs": [],
   "source": []
  },
  {
   "cell_type": "code",
   "execution_count": null,
   "id": "d9202afe-7e23-4007-835c-7755ee88c21f",
   "metadata": {},
   "outputs": [],
   "source": []
  },
  {
   "cell_type": "code",
   "execution_count": null,
   "id": "54106daf-de0c-4571-b7be-e419e42a549b",
   "metadata": {},
   "outputs": [],
   "source": []
  },
  {
   "cell_type": "code",
   "execution_count": null,
   "id": "106be2bc-9ddf-417e-bcfc-9b90c5c1449d",
   "metadata": {},
   "outputs": [],
   "source": []
  },
  {
   "cell_type": "code",
   "execution_count": null,
   "id": "e5fc4824-599d-478c-b491-136c285b3d43",
   "metadata": {},
   "outputs": [],
   "source": []
  },
  {
   "cell_type": "code",
   "execution_count": null,
   "id": "477b4ecf-3055-45d2-a0ef-762c47287af5",
   "metadata": {},
   "outputs": [],
   "source": []
  },
  {
   "cell_type": "code",
   "execution_count": null,
   "id": "7eca0715-4668-48b3-a300-92838a4dc166",
   "metadata": {},
   "outputs": [],
   "source": []
  }
 ],
 "metadata": {
  "kernelspec": {
   "display_name": "Python 3 (ipykernel)",
   "language": "python",
   "name": "python3"
  },
  "language_info": {
   "codemirror_mode": {
    "name": "ipython",
    "version": 3
   },
   "file_extension": ".py",
   "mimetype": "text/x-python",
   "name": "python",
   "nbconvert_exporter": "python",
   "pygments_lexer": "ipython3",
   "version": "3.8.10"
  }
 },
 "nbformat": 4,
 "nbformat_minor": 5
}
