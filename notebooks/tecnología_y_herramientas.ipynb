{
 "cells": [
  {
   "cell_type": "code",
   "execution_count": 1,
   "id": "5c2ff166-cc00-4e4e-b37a-b7a1083e45e6",
   "metadata": {},
   "outputs": [],
   "source": [
    "#######################\n",
    "# CONFIG ZONE\n",
    "#######################\n",
    "\n",
    "# Importing Libs\n",
    "import pandas as pd\n",
    "import seaborn as sns\n",
    "\n",
    "import matplotlib.pyplot as plt\n",
    "\n",
    "from collections import Counter\n",
    "import numpy as np\n",
    "\n",
    "# My Tools\n",
    "import milanesas.eda_helper as eh\n",
    "from tools.helpers import (\n",
    "    get_column_uniques,\n",
    "    get_column_uniques_count,\n",
    "    plot_grouped_by_category_barh_charts,\n",
    "    barh_chart_unique_values,\n",
    "    print_unique_normalized_values_by_group,\n",
    "    make_vertical_grouped_chart,\n",
    ")\n",
    "\n",
    "\n",
    "%matplotlib inline\n",
    "\n",
    "# Reseting figure size params.\n",
    "plt.rcParams[\"figure.figsize\"] = [12, 7]\n",
    "# Setting seaborn as default plotting lib.\n",
    "sns.set()\n",
    "sns.set_palette(\"pastel\")"
   ]
  },
  {
   "cell_type": "code",
   "execution_count": 2,
   "id": "aa6eaee3-fcdf-4ce6-9bdf-0a1a8300fc67",
   "metadata": {},
   "outputs": [],
   "source": [
    "df = pd.read_csv(\"../data/data_fixed.csv\")"
   ]
  },
  {
   "cell_type": "code",
   "execution_count": 3,
   "id": "113215ba-4071-470d-b840-17149351a601",
   "metadata": {},
   "outputs": [
    {
     "name": "stdout",
     "output_type": "stream",
     "text": [
      "work_mode\n",
      "employment_mode\n",
      "role\n",
      "prog_skills_in_role\n",
      "code_for_job\n",
      "IT_exp\n",
      "prof_prog_exp\n",
      "first_code\n",
      "assigned_seniority\n",
      "self_assessed_seniority\n",
      "formal_edu\n",
      "majors\n",
      "formal_edu_importance\n",
      "gender\n",
      "age\n",
      "monthly_salary\n",
      "pro_languages\n",
      "web_frameworks\n",
      "other_tools\n",
      "databases\n",
      "platforms\n",
      "fav_language\n",
      "least_fav_language\n",
      "fav_framework\n",
      "least_fav_framework\n",
      "tools\n",
      "use_AI_tools\n",
      "AI_replace_dev\n",
      "layoffs_23_24\n",
      "working_now\n",
      "unemployed_duration\n",
      "same_role\n",
      "current_vs_prev_salary\n"
     ]
    }
   ],
   "source": [
    "df = df.drop(\"Unnamed: 0\", axis=1)\n",
    "for i in df.columns:\n",
    "    print(i)"
   ]
  },
  {
   "cell_type": "markdown",
   "id": "d159e34e-135b-4d99-8d7f-ccbcc8970246",
   "metadata": {},
   "source": [
    "### 4. **Technology and Tools Usage**\n",
    "   - Programación, scripting y lenguajes de marcado que usás en tu profesión\n",
    "   - Librerías o web frameworks\n",
    "   - Otros frameworks, librerías y herramientas\n",
    "   - Base de datos\n",
    "   - Plataformas\n",
    "   - Lenguaje favorito\n",
    "   - Lenguaje más odiado o menos favorito\n",
    "   - Framework favorito\n",
    "   - Framework más odiado o menos favorito\n",
    "   - Herramientas\n"
   ]
  },
  {
   "cell_type": "code",
   "execution_count": null,
   "id": "700339b4-6339-49cb-8c2e-3dca12d43219",
   "metadata": {},
   "outputs": [],
   "source": []
  }
 ],
 "metadata": {
  "kernelspec": {
   "display_name": "Python 3 (ipykernel)",
   "language": "python",
   "name": "python3"
  },
  "language_info": {
   "codemirror_mode": {
    "name": "ipython",
    "version": 3
   },
   "file_extension": ".py",
   "mimetype": "text/x-python",
   "name": "python",
   "nbconvert_exporter": "python",
   "pygments_lexer": "ipython3",
   "version": "3.8.10"
  }
 },
 "nbformat": 4,
 "nbformat_minor": 5
}
